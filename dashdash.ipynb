{
 "cells": [
  {
   "cell_type": "code",
   "execution_count": 1,
   "id": "bf3c78a5-afee-4725-b0d7-96ea8801e5e2",
   "metadata": {},
   "outputs": [],
   "source": [
    "import numpy as np\n",
    "import pandas as pd\n",
    "import plotly.express as px\n",
    "import plotly.io as pio\n",
    "\n",
    "pd.options.plotting.backend = \"plotly\"\n",
    "pio.templates.default = \"plotly_white\"\n",
    "\n",
    "\n",
    "import json\n",
    "import requests\n",
    "import pickle\n",
    "\n"
   ]
  },
  {
   "cell_type": "code",
   "execution_count": 17,
   "id": "e85b2487-3c7b-402d-a39e-4959c3b4b1ca",
   "metadata": {},
   "outputs": [],
   "source": [
    "df = pd.read_csv(\"https://raw.githubusercontent.com/guebin/DV2023/main/posts/NYCTaxi.csv\").assign(\n",
    "    log_trip_duration = lambda df: np.log(df.trip_duration),\n",
    "    pickup_datetime = lambda df: df.pickup_datetime.apply(pd.to_datetime),\n",
    "    dropoff_datetime = lambda df: df.dropoff_datetime.apply(pd.to_datetime),\n",
    "    dist = lambda df: np.sqrt((df.pickup_latitude-df.dropoff_latitude)**2 + (df.pickup_longitude-df.dropoff_longitude)**2),\n",
    "    #---#\n",
    "    vendor_id = lambda df: df.vendor_id.map({1:'A',2:'B'})\n",
    ").assign(\n",
    "    speed = lambda df: df.dist / df.trip_duration,\n",
    "    pickup_hour = lambda df: df.pickup_datetime.dt.hour,\n",
    "    dropoff_hour = lambda df: df.dropoff_datetime.dt.hour,\n",
    "    dayofweek = lambda df: df.pickup_datetime.dt.dayofweek\n",
    ")\n",
    "df_small = df[::100].reset_index(drop=True)"
   ]
  },
  {
   "cell_type": "code",
   "execution_count": 18,
   "id": "a168335d-e138-44ce-8f75-3c38a8a9caec",
   "metadata": {},
   "outputs": [
    {
     "data": {
      "application/vnd.plotly.v1+json": {
       "config": {
        "plotlyServerURL": "https://plot.ly"
       },
       "data": [
        {
         "coloraxis": "coloraxis",
         "histfunc": "sum",
         "hovertemplate": "pickup_hour=%{x}<br>dayofweek=%{y}<br>sum of speed_mean=%{z}<extra></extra>",
         "name": "",
         "nbinsx": 24,
         "nbinsy": 7,
         "type": "histogram2d",
         "x": [
          0,
          0,
          0,
          0,
          0,
          0,
          0,
          1,
          1,
          1,
          1,
          1,
          1,
          1,
          2,
          2,
          2,
          2,
          2,
          2,
          2,
          3,
          3,
          3,
          3,
          3,
          3,
          3,
          4,
          4,
          4,
          4,
          4,
          4,
          4,
          5,
          5,
          5,
          5,
          5,
          5,
          5,
          6,
          6,
          6,
          6,
          6,
          6,
          6,
          7,
          7,
          7,
          7,
          7,
          7,
          7,
          8,
          8,
          8,
          8,
          8,
          8,
          8,
          9,
          9,
          9,
          9,
          9,
          9,
          9,
          10,
          10,
          10,
          10,
          10,
          10,
          10,
          11,
          11,
          11,
          11,
          11,
          11,
          11,
          12,
          12,
          12,
          12,
          12,
          12,
          12,
          13,
          13,
          13,
          13,
          13,
          13,
          13,
          14,
          14,
          14,
          14,
          14,
          14,
          14,
          15,
          15,
          15,
          15,
          15,
          15,
          15,
          16,
          16,
          16,
          16,
          16,
          16,
          16,
          17,
          17,
          17,
          17,
          17,
          17,
          17,
          18,
          18,
          18,
          18,
          18,
          18,
          18,
          19,
          19,
          19,
          19,
          19,
          19,
          19,
          20,
          20,
          20,
          20,
          20,
          20,
          20,
          21,
          21,
          21,
          21,
          21,
          21,
          21,
          22,
          22,
          22,
          22,
          22,
          22,
          22,
          23,
          23,
          23,
          23,
          23,
          23,
          23
         ],
         "xaxis": "x",
         "xbingroup": "x",
         "y": [
          "월",
          "화",
          "수",
          "목",
          "금",
          "토",
          "일",
          "월",
          "화",
          "수",
          "목",
          "금",
          "토",
          "일",
          "월",
          "화",
          "수",
          "목",
          "금",
          "토",
          "일",
          "월",
          "화",
          "수",
          "목",
          "금",
          "토",
          "일",
          "월",
          "화",
          "수",
          "목",
          "금",
          "토",
          "일",
          "월",
          "화",
          "수",
          "목",
          "금",
          "토",
          "일",
          "월",
          "화",
          "수",
          "목",
          "금",
          "토",
          "일",
          "월",
          "화",
          "수",
          "목",
          "금",
          "토",
          "일",
          "월",
          "화",
          "수",
          "목",
          "금",
          "토",
          "일",
          "월",
          "화",
          "수",
          "목",
          "금",
          "토",
          "일",
          "월",
          "화",
          "수",
          "목",
          "금",
          "토",
          "일",
          "월",
          "화",
          "수",
          "목",
          "금",
          "토",
          "일",
          "월",
          "화",
          "수",
          "목",
          "금",
          "토",
          "일",
          "월",
          "화",
          "수",
          "목",
          "금",
          "토",
          "일",
          "월",
          "화",
          "수",
          "목",
          "금",
          "토",
          "일",
          "월",
          "화",
          "수",
          "목",
          "금",
          "토",
          "일",
          "월",
          "화",
          "수",
          "목",
          "금",
          "토",
          "일",
          "월",
          "화",
          "수",
          "목",
          "금",
          "토",
          "일",
          "월",
          "화",
          "수",
          "목",
          "금",
          "토",
          "일",
          "월",
          "화",
          "수",
          "목",
          "금",
          "토",
          "일",
          "월",
          "화",
          "수",
          "목",
          "금",
          "토",
          "일",
          "월",
          "화",
          "수",
          "목",
          "금",
          "토",
          "일",
          "월",
          "화",
          "수",
          "목",
          "금",
          "토",
          "일",
          "월",
          "화",
          "수",
          "목",
          "금",
          "토",
          "일"
         ],
         "yaxis": "y",
         "ybingroup": "y",
         "z": [
          6.192500620581454e-05,
          5.449040166377657e-05,
          6.116378568153915e-05,
          5.184038313132204e-05,
          4.889898395295332e-05,
          4.57447448153166e-05,
          4.867451265381591e-05,
          7.01657870423287e-05,
          5.371153739926472e-05,
          5.95080286367072e-05,
          5.431164883830948e-05,
          4.808840856559643e-05,
          4.3779793536928186e-05,
          4.5558581960528345e-05,
          4.722024947464294e-05,
          5.9327518000189613e-05,
          6.558620712482186e-05,
          6.564506227576916e-05,
          4.878273252150626e-05,
          4.813530120600683e-05,
          5.371833554638321e-05,
          5.831838054486283e-05,
          6.501232110857415e-05,
          6.827551865012208e-05,
          6.256305382134688e-05,
          6.34974889800912e-05,
          5.3113156583687176e-05,
          4.7426951540305794e-05,
          7.501200117229855e-05,
          6.09770720963975e-05,
          5.361846347616713e-05,
          6.557612348720275e-05,
          6.419844452350097e-05,
          5.36954428774924e-05,
          5.4501276502573515e-05,
          7.271806607809553e-05,
          7.368294268979752e-05,
          6.279575915660333e-05,
          6.734676487404748e-05,
          8.213525549634397e-05,
          5.789639394612405e-05,
          7.543749941217084e-05,
          5.82080690005862e-05,
          5.296087558310268e-05,
          5.598712473866864e-05,
          5.566553665245741e-05,
          5.5162509076601056e-05,
          6.295669093404916e-05,
          7.952472316751356e-05,
          4.4350735375279734e-05,
          4.014571412064587e-05,
          4.077717937393523e-05,
          3.8891036987676096e-05,
          4.3339251930531036e-05,
          5.823198976572878e-05,
          7.760794422122645e-05,
          3.511552334477387e-05,
          3.0239910535490427e-05,
          3.2903688520327856e-05,
          3.194733733068311e-05,
          3.3304999075313214e-05,
          6.329730608490566e-05,
          5.849479587077e-05,
          2.997742168251701e-05,
          3.0295735687408936e-05,
          3.105778192517575e-05,
          3.058161299605332e-05,
          3.012557127048596e-05,
          4.538403845477675e-05,
          4.551503691452916e-05,
          3.654893760953111e-05,
          2.8788144332399327e-05,
          3.096250909762546e-05,
          2.841971807469577e-05,
          3.592488451595608e-05,
          4.287566907836539e-05,
          4.465601215456055e-05,
          3.567971201801838e-05,
          3.1401137001383755e-05,
          2.885125706597703e-05,
          3.139054878128309e-05,
          3.0718583299376126e-05,
          4.012185557659054e-05,
          4.5688966332788196e-05,
          3.68351958924078e-05,
          3.1082537741861597e-05,
          2.8356901691793332e-05,
          2.8072220637437904e-05,
          2.9427012774861235e-05,
          3.8568061286522577e-05,
          4.496255086996648e-05,
          3.626739408054189e-05,
          3.2717081723126535e-05,
          3.2183704895910935e-05,
          2.912536814022494e-05,
          3.454598391083255e-05,
          3.334539954204504e-05,
          4.084005371383958e-05,
          3.700353060885671e-05,
          3.3209439857716466e-05,
          3.2657360092844285e-05,
          3.0483574952789655e-05,
          3.4045488976107045e-05,
          3.817735599696121e-05,
          3.917105541083395e-05,
          3.416021507732824e-05,
          3.0926922714119265e-05,
          3.2385313596706385e-05,
          3.0482516889906108e-05,
          3.080162213079083e-05,
          3.546830176689362e-05,
          3.898352553179462e-05,
          3.6374777610569375e-05,
          3.490920149655713e-05,
          3.513650692732357e-05,
          3.2536089830653354e-05,
          3.485311718234654e-05,
          3.670828647599709e-05,
          3.6765405788468567e-05,
          3.837000687649857e-05,
          3.651160551548555e-05,
          3.260243838756182e-05,
          3.190937308395514e-05,
          3.449227456730189e-05,
          3.648929023122584e-05,
          4.2969895700655737e-05,
          3.687521512933487e-05,
          3.5197765617747696e-05,
          3.426938006584745e-05,
          3.5171677707915996e-05,
          3.7718419409648606e-05,
          3.583103523861355e-05,
          3.965857969296879e-05,
          4.324538929618186e-05,
          4.084229687121748e-05,
          3.800713880661725e-05,
          3.666518614712408e-05,
          3.553449344350005e-05,
          3.315983385198783e-05,
          4.4004188079270204e-05,
          4.7472294372555685e-05,
          4.420867847885844e-05,
          4.463905911483369e-05,
          4.115466120544063e-05,
          4.0243374440793287e-05,
          3.5949554491412764e-05,
          4.622882864080493e-05,
          4.6841728151185616e-05,
          4.604553865445799e-05,
          4.373551959756939e-05,
          4.285079309064918e-05,
          4.145330173617502e-05,
          3.945642365833438e-05,
          5.028697201841166e-05,
          5.075381481080666e-05,
          4.6374251298536607e-05,
          4.390793462441752e-05,
          4.454546790905556e-05,
          3.966782648108991e-05,
          4.101380586816511e-05,
          5.1209161076426195e-05,
          5.8369953650412785e-05,
          5.0336294998193645e-05,
          4.721072678728939e-05,
          4.862714201534865e-05,
          4.0172727931235506e-05,
          3.869980757776298e-05,
          5.785112782340353e-05
         ]
        }
       ],
       "layout": {
        "autosize": true,
        "coloraxis": {
         "colorbar": {
          "title": {
           "text": "평균속력"
          }
         },
         "colorscale": [
          [
           0,
           "#0d0887"
          ],
          [
           0.1111111111111111,
           "#46039f"
          ],
          [
           0.2222222222222222,
           "#7201a8"
          ],
          [
           0.3333333333333333,
           "#9c179e"
          ],
          [
           0.4444444444444444,
           "#bd3786"
          ],
          [
           0.5555555555555556,
           "#d8576b"
          ],
          [
           0.6666666666666666,
           "#ed7953"
          ],
          [
           0.7777777777777778,
           "#fb9f3a"
          ],
          [
           0.8888888888888888,
           "#fdca26"
          ],
          [
           1,
           "#f0f921"
          ]
         ]
        },
        "legend": {
         "tracegroupgap": 0
        },
        "margin": {
         "t": 60
        },
        "template": {
         "data": {
          "bar": [
           {
            "error_x": {
             "color": "#2a3f5f"
            },
            "error_y": {
             "color": "#2a3f5f"
            },
            "marker": {
             "line": {
              "color": "white",
              "width": 0.5
             },
             "pattern": {
              "fillmode": "overlay",
              "size": 10,
              "solidity": 0.2
             }
            },
            "type": "bar"
           }
          ],
          "barpolar": [
           {
            "marker": {
             "line": {
              "color": "white",
              "width": 0.5
             },
             "pattern": {
              "fillmode": "overlay",
              "size": 10,
              "solidity": 0.2
             }
            },
            "type": "barpolar"
           }
          ],
          "carpet": [
           {
            "aaxis": {
             "endlinecolor": "#2a3f5f",
             "gridcolor": "#C8D4E3",
             "linecolor": "#C8D4E3",
             "minorgridcolor": "#C8D4E3",
             "startlinecolor": "#2a3f5f"
            },
            "baxis": {
             "endlinecolor": "#2a3f5f",
             "gridcolor": "#C8D4E3",
             "linecolor": "#C8D4E3",
             "minorgridcolor": "#C8D4E3",
             "startlinecolor": "#2a3f5f"
            },
            "type": "carpet"
           }
          ],
          "choropleth": [
           {
            "colorbar": {
             "outlinewidth": 0,
             "ticks": ""
            },
            "type": "choropleth"
           }
          ],
          "contour": [
           {
            "colorbar": {
             "outlinewidth": 0,
             "ticks": ""
            },
            "colorscale": [
             [
              0,
              "#0d0887"
             ],
             [
              0.1111111111111111,
              "#46039f"
             ],
             [
              0.2222222222222222,
              "#7201a8"
             ],
             [
              0.3333333333333333,
              "#9c179e"
             ],
             [
              0.4444444444444444,
              "#bd3786"
             ],
             [
              0.5555555555555556,
              "#d8576b"
             ],
             [
              0.6666666666666666,
              "#ed7953"
             ],
             [
              0.7777777777777778,
              "#fb9f3a"
             ],
             [
              0.8888888888888888,
              "#fdca26"
             ],
             [
              1,
              "#f0f921"
             ]
            ],
            "type": "contour"
           }
          ],
          "contourcarpet": [
           {
            "colorbar": {
             "outlinewidth": 0,
             "ticks": ""
            },
            "type": "contourcarpet"
           }
          ],
          "heatmap": [
           {
            "colorbar": {
             "outlinewidth": 0,
             "ticks": ""
            },
            "colorscale": [
             [
              0,
              "#0d0887"
             ],
             [
              0.1111111111111111,
              "#46039f"
             ],
             [
              0.2222222222222222,
              "#7201a8"
             ],
             [
              0.3333333333333333,
              "#9c179e"
             ],
             [
              0.4444444444444444,
              "#bd3786"
             ],
             [
              0.5555555555555556,
              "#d8576b"
             ],
             [
              0.6666666666666666,
              "#ed7953"
             ],
             [
              0.7777777777777778,
              "#fb9f3a"
             ],
             [
              0.8888888888888888,
              "#fdca26"
             ],
             [
              1,
              "#f0f921"
             ]
            ],
            "type": "heatmap"
           }
          ],
          "heatmapgl": [
           {
            "colorbar": {
             "outlinewidth": 0,
             "ticks": ""
            },
            "colorscale": [
             [
              0,
              "#0d0887"
             ],
             [
              0.1111111111111111,
              "#46039f"
             ],
             [
              0.2222222222222222,
              "#7201a8"
             ],
             [
              0.3333333333333333,
              "#9c179e"
             ],
             [
              0.4444444444444444,
              "#bd3786"
             ],
             [
              0.5555555555555556,
              "#d8576b"
             ],
             [
              0.6666666666666666,
              "#ed7953"
             ],
             [
              0.7777777777777778,
              "#fb9f3a"
             ],
             [
              0.8888888888888888,
              "#fdca26"
             ],
             [
              1,
              "#f0f921"
             ]
            ],
            "type": "heatmapgl"
           }
          ],
          "histogram": [
           {
            "marker": {
             "pattern": {
              "fillmode": "overlay",
              "size": 10,
              "solidity": 0.2
             }
            },
            "type": "histogram"
           }
          ],
          "histogram2d": [
           {
            "colorbar": {
             "outlinewidth": 0,
             "ticks": ""
            },
            "colorscale": [
             [
              0,
              "#0d0887"
             ],
             [
              0.1111111111111111,
              "#46039f"
             ],
             [
              0.2222222222222222,
              "#7201a8"
             ],
             [
              0.3333333333333333,
              "#9c179e"
             ],
             [
              0.4444444444444444,
              "#bd3786"
             ],
             [
              0.5555555555555556,
              "#d8576b"
             ],
             [
              0.6666666666666666,
              "#ed7953"
             ],
             [
              0.7777777777777778,
              "#fb9f3a"
             ],
             [
              0.8888888888888888,
              "#fdca26"
             ],
             [
              1,
              "#f0f921"
             ]
            ],
            "type": "histogram2d"
           }
          ],
          "histogram2dcontour": [
           {
            "colorbar": {
             "outlinewidth": 0,
             "ticks": ""
            },
            "colorscale": [
             [
              0,
              "#0d0887"
             ],
             [
              0.1111111111111111,
              "#46039f"
             ],
             [
              0.2222222222222222,
              "#7201a8"
             ],
             [
              0.3333333333333333,
              "#9c179e"
             ],
             [
              0.4444444444444444,
              "#bd3786"
             ],
             [
              0.5555555555555556,
              "#d8576b"
             ],
             [
              0.6666666666666666,
              "#ed7953"
             ],
             [
              0.7777777777777778,
              "#fb9f3a"
             ],
             [
              0.8888888888888888,
              "#fdca26"
             ],
             [
              1,
              "#f0f921"
             ]
            ],
            "type": "histogram2dcontour"
           }
          ],
          "mesh3d": [
           {
            "colorbar": {
             "outlinewidth": 0,
             "ticks": ""
            },
            "type": "mesh3d"
           }
          ],
          "parcoords": [
           {
            "line": {
             "colorbar": {
              "outlinewidth": 0,
              "ticks": ""
             }
            },
            "type": "parcoords"
           }
          ],
          "pie": [
           {
            "automargin": true,
            "type": "pie"
           }
          ],
          "scatter": [
           {
            "fillpattern": {
             "fillmode": "overlay",
             "size": 10,
             "solidity": 0.2
            },
            "type": "scatter"
           }
          ],
          "scatter3d": [
           {
            "line": {
             "colorbar": {
              "outlinewidth": 0,
              "ticks": ""
             }
            },
            "marker": {
             "colorbar": {
              "outlinewidth": 0,
              "ticks": ""
             }
            },
            "type": "scatter3d"
           }
          ],
          "scattercarpet": [
           {
            "marker": {
             "colorbar": {
              "outlinewidth": 0,
              "ticks": ""
             }
            },
            "type": "scattercarpet"
           }
          ],
          "scattergeo": [
           {
            "marker": {
             "colorbar": {
              "outlinewidth": 0,
              "ticks": ""
             }
            },
            "type": "scattergeo"
           }
          ],
          "scattergl": [
           {
            "marker": {
             "colorbar": {
              "outlinewidth": 0,
              "ticks": ""
             }
            },
            "type": "scattergl"
           }
          ],
          "scattermapbox": [
           {
            "marker": {
             "colorbar": {
              "outlinewidth": 0,
              "ticks": ""
             }
            },
            "type": "scattermapbox"
           }
          ],
          "scatterpolar": [
           {
            "marker": {
             "colorbar": {
              "outlinewidth": 0,
              "ticks": ""
             }
            },
            "type": "scatterpolar"
           }
          ],
          "scatterpolargl": [
           {
            "marker": {
             "colorbar": {
              "outlinewidth": 0,
              "ticks": ""
             }
            },
            "type": "scatterpolargl"
           }
          ],
          "scatterternary": [
           {
            "marker": {
             "colorbar": {
              "outlinewidth": 0,
              "ticks": ""
             }
            },
            "type": "scatterternary"
           }
          ],
          "surface": [
           {
            "colorbar": {
             "outlinewidth": 0,
             "ticks": ""
            },
            "colorscale": [
             [
              0,
              "#0d0887"
             ],
             [
              0.1111111111111111,
              "#46039f"
             ],
             [
              0.2222222222222222,
              "#7201a8"
             ],
             [
              0.3333333333333333,
              "#9c179e"
             ],
             [
              0.4444444444444444,
              "#bd3786"
             ],
             [
              0.5555555555555556,
              "#d8576b"
             ],
             [
              0.6666666666666666,
              "#ed7953"
             ],
             [
              0.7777777777777778,
              "#fb9f3a"
             ],
             [
              0.8888888888888888,
              "#fdca26"
             ],
             [
              1,
              "#f0f921"
             ]
            ],
            "type": "surface"
           }
          ],
          "table": [
           {
            "cells": {
             "fill": {
              "color": "#EBF0F8"
             },
             "line": {
              "color": "white"
             }
            },
            "header": {
             "fill": {
              "color": "#C8D4E3"
             },
             "line": {
              "color": "white"
             }
            },
            "type": "table"
           }
          ]
         },
         "layout": {
          "annotationdefaults": {
           "arrowcolor": "#2a3f5f",
           "arrowhead": 0,
           "arrowwidth": 1
          },
          "autotypenumbers": "strict",
          "coloraxis": {
           "colorbar": {
            "outlinewidth": 0,
            "ticks": ""
           }
          },
          "colorscale": {
           "diverging": [
            [
             0,
             "#8e0152"
            ],
            [
             0.1,
             "#c51b7d"
            ],
            [
             0.2,
             "#de77ae"
            ],
            [
             0.3,
             "#f1b6da"
            ],
            [
             0.4,
             "#fde0ef"
            ],
            [
             0.5,
             "#f7f7f7"
            ],
            [
             0.6,
             "#e6f5d0"
            ],
            [
             0.7,
             "#b8e186"
            ],
            [
             0.8,
             "#7fbc41"
            ],
            [
             0.9,
             "#4d9221"
            ],
            [
             1,
             "#276419"
            ]
           ],
           "sequential": [
            [
             0,
             "#0d0887"
            ],
            [
             0.1111111111111111,
             "#46039f"
            ],
            [
             0.2222222222222222,
             "#7201a8"
            ],
            [
             0.3333333333333333,
             "#9c179e"
            ],
            [
             0.4444444444444444,
             "#bd3786"
            ],
            [
             0.5555555555555556,
             "#d8576b"
            ],
            [
             0.6666666666666666,
             "#ed7953"
            ],
            [
             0.7777777777777778,
             "#fb9f3a"
            ],
            [
             0.8888888888888888,
             "#fdca26"
            ],
            [
             1,
             "#f0f921"
            ]
           ],
           "sequentialminus": [
            [
             0,
             "#0d0887"
            ],
            [
             0.1111111111111111,
             "#46039f"
            ],
            [
             0.2222222222222222,
             "#7201a8"
            ],
            [
             0.3333333333333333,
             "#9c179e"
            ],
            [
             0.4444444444444444,
             "#bd3786"
            ],
            [
             0.5555555555555556,
             "#d8576b"
            ],
            [
             0.6666666666666666,
             "#ed7953"
            ],
            [
             0.7777777777777778,
             "#fb9f3a"
            ],
            [
             0.8888888888888888,
             "#fdca26"
            ],
            [
             1,
             "#f0f921"
            ]
           ]
          },
          "colorway": [
           "#636efa",
           "#EF553B",
           "#00cc96",
           "#ab63fa",
           "#FFA15A",
           "#19d3f3",
           "#FF6692",
           "#B6E880",
           "#FF97FF",
           "#FECB52"
          ],
          "font": {
           "color": "#2a3f5f"
          },
          "geo": {
           "bgcolor": "white",
           "lakecolor": "white",
           "landcolor": "white",
           "showlakes": true,
           "showland": true,
           "subunitcolor": "#C8D4E3"
          },
          "hoverlabel": {
           "align": "left"
          },
          "hovermode": "closest",
          "mapbox": {
           "style": "light"
          },
          "paper_bgcolor": "white",
          "plot_bgcolor": "white",
          "polar": {
           "angularaxis": {
            "gridcolor": "#EBF0F8",
            "linecolor": "#EBF0F8",
            "ticks": ""
           },
           "bgcolor": "white",
           "radialaxis": {
            "gridcolor": "#EBF0F8",
            "linecolor": "#EBF0F8",
            "ticks": ""
           }
          },
          "scene": {
           "xaxis": {
            "backgroundcolor": "white",
            "gridcolor": "#DFE8F3",
            "gridwidth": 2,
            "linecolor": "#EBF0F8",
            "showbackground": true,
            "ticks": "",
            "zerolinecolor": "#EBF0F8"
           },
           "yaxis": {
            "backgroundcolor": "white",
            "gridcolor": "#DFE8F3",
            "gridwidth": 2,
            "linecolor": "#EBF0F8",
            "showbackground": true,
            "ticks": "",
            "zerolinecolor": "#EBF0F8"
           },
           "zaxis": {
            "backgroundcolor": "white",
            "gridcolor": "#DFE8F3",
            "gridwidth": 2,
            "linecolor": "#EBF0F8",
            "showbackground": true,
            "ticks": "",
            "zerolinecolor": "#EBF0F8"
           }
          },
          "shapedefaults": {
           "line": {
            "color": "#2a3f5f"
           }
          },
          "ternary": {
           "aaxis": {
            "gridcolor": "#DFE8F3",
            "linecolor": "#A2B1C6",
            "ticks": ""
           },
           "baxis": {
            "gridcolor": "#DFE8F3",
            "linecolor": "#A2B1C6",
            "ticks": ""
           },
           "bgcolor": "white",
           "caxis": {
            "gridcolor": "#DFE8F3",
            "linecolor": "#A2B1C6",
            "ticks": ""
           }
          },
          "title": {
           "x": 0.05
          },
          "xaxis": {
           "automargin": true,
           "gridcolor": "#EBF0F8",
           "linecolor": "#EBF0F8",
           "ticks": "",
           "title": {
            "standoff": 15
           },
           "zerolinecolor": "#EBF0F8",
           "zerolinewidth": 2
          },
          "yaxis": {
           "automargin": true,
           "gridcolor": "#EBF0F8",
           "linecolor": "#EBF0F8",
           "ticks": "",
           "title": {
            "standoff": 15
           },
           "zerolinecolor": "#EBF0F8",
           "zerolinewidth": 2
          }
         }
        },
        "xaxis": {
         "anchor": "y",
         "autorange": true,
         "domain": [
          0,
          1
         ],
         "range": [
          -0.5,
          23.5
         ],
         "title": {
          "text": "pickup 시간"
         },
         "type": "linear"
        },
        "yaxis": {
         "anchor": "x",
         "autorange": true,
         "domain": [
          0,
          1
         ],
         "range": [
          -0.5,
          6.5
         ],
         "title": {
          "text": "요일"
         },
         "type": "category"
        }
       }
      },
      "image/png": "[encoded data removed]",
      "text/html": [
       "<div>                            <div id=\"f1680ef5-c3b5-4420-8dc4-34117afdcd91\" class=\"plotly-graph-div\" style=\"height:450px; width:100%;\"></div>            <script type=\"text/javascript\">                require([\"plotly\"], function(Plotly) {                    window.PLOTLYENV=window.PLOTLYENV || {};                                    if (document.getElementById(\"f1680ef5-c3b5-4420-8dc4-34117afdcd91\")) {                    Plotly.newPlot(                        \"f1680ef5-c3b5-4420-8dc4-34117afdcd91\",                        [{\"coloraxis\":\"coloraxis\",\"histfunc\":\"sum\",\"hovertemplate\":\"pickup_hour=%{x}\\u003cbr\\u003edayofweek=%{y}\\u003cbr\\u003esum of speed_mean=%{z}\\u003cextra\\u003e\\u003c\\u002fextra\\u003e\",\"name\":\"\",\"nbinsx\":24,\"nbinsy\":7,\"x\":[0,0,0,0,0,0,0,1,1,1,1,1,1,1,2,2,2,2,2,2,2,3,3,3,3,3,3,3,4,4,4,4,4,4,4,5,5,5,5,5,5,5,6,6,6,6,6,6,6,7,7,7,7,7,7,7,8,8,8,8,8,8,8,9,9,9,9,9,9,9,10,10,10,10,10,10,10,11,11,11,11,11,11,11,12,12,12,12,12,12,12,13,13,13,13,13,13,13,14,14,14,14,14,14,14,15,15,15,15,15,15,15,16,16,16,16,16,16,16,17,17,17,17,17,17,17,18,18,18,18,18,18,18,19,19,19,19,19,19,19,20,20,20,20,20,20,20,21,21,21,21,21,21,21,22,22,22,22,22,22,22,23,23,23,23,23,23,23],\"xaxis\":\"x\",\"xbingroup\":\"x\",\"y\":[\"\\uc6d4\",\"\\ud654\",\"\\uc218\",\"\\ubaa9\",\"\\uae08\",\"\\ud1a0\",\"\\uc77c\",\"\\uc6d4\",\"\\ud654\",\"\\uc218\",\"\\ubaa9\",\"\\uae08\",\"\\ud1a0\",\"\\uc77c\",\"\\uc6d4\",\"\\ud654\",\"\\uc218\",\"\\ubaa9\",\"\\uae08\",\"\\ud1a0\",\"\\uc77c\",\"\\uc6d4\",\"\\ud654\",\"\\uc218\",\"\\ubaa9\",\"\\uae08\",\"\\ud1a0\",\"\\uc77c\",\"\\uc6d4\",\"\\ud654\",\"\\uc218\",\"\\ubaa9\",\"\\uae08\",\"\\ud1a0\",\"\\uc77c\",\"\\uc6d4\",\"\\ud654\",\"\\uc218\",\"\\ubaa9\",\"\\uae08\",\"\\ud1a0\",\"\\uc77c\",\"\\uc6d4\",\"\\ud654\",\"\\uc218\",\"\\ubaa9\",\"\\uae08\",\"\\ud1a0\",\"\\uc77c\",\"\\uc6d4\",\"\\ud654\",\"\\uc218\",\"\\ubaa9\",\"\\uae08\",\"\\ud1a0\",\"\\uc77c\",\"\\uc6d4\",\"\\ud654\",\"\\uc218\",\"\\ubaa9\",\"\\uae08\",\"\\ud1a0\",\"\\uc77c\",\"\\uc6d4\",\"\\ud654\",\"\\uc218\",\"\\ubaa9\",\"\\uae08\",\"\\ud1a0\",\"\\uc77c\",\"\\uc6d4\",\"\\ud654\",\"\\uc218\",\"\\ubaa9\",\"\\uae08\",\"\\ud1a0\",\"\\uc77c\",\"\\uc6d4\",\"\\ud654\",\"\\uc218\",\"\\ubaa9\",\"\\uae08\",\"\\ud1a0\",\"\\uc77c\",\"\\uc6d4\",\"\\ud654\",\"\\uc218\",\"\\ubaa9\",\"\\uae08\",\"\\ud1a0\",\"\\uc77c\",\"\\uc6d4\",\"\\ud654\",\"\\uc218\",\"\\ubaa9\",\"\\uae08\",\"\\ud1a0\",\"\\uc77c\",\"\\uc6d4\",\"\\ud654\",\"\\uc218\",\"\\ubaa9\",\"\\uae08\",\"\\ud1a0\",\"\\uc77c\",\"\\uc6d4\",\"\\ud654\",\"\\uc218\",\"\\ubaa9\",\"\\uae08\",\"\\ud1a0\",\"\\uc77c\",\"\\uc6d4\",\"\\ud654\",\"\\uc218\",\"\\ubaa9\",\"\\uae08\",\"\\ud1a0\",\"\\uc77c\",\"\\uc6d4\",\"\\ud654\",\"\\uc218\",\"\\ubaa9\",\"\\uae08\",\"\\ud1a0\",\"\\uc77c\",\"\\uc6d4\",\"\\ud654\",\"\\uc218\",\"\\ubaa9\",\"\\uae08\",\"\\ud1a0\",\"\\uc77c\",\"\\uc6d4\",\"\\ud654\",\"\\uc218\",\"\\ubaa9\",\"\\uae08\",\"\\ud1a0\",\"\\uc77c\",\"\\uc6d4\",\"\\ud654\",\"\\uc218\",\"\\ubaa9\",\"\\uae08\",\"\\ud1a0\",\"\\uc77c\",\"\\uc6d4\",\"\\ud654\",\"\\uc218\",\"\\ubaa9\",\"\\uae08\",\"\\ud1a0\",\"\\uc77c\",\"\\uc6d4\",\"\\ud654\",\"\\uc218\",\"\\ubaa9\",\"\\uae08\",\"\\ud1a0\",\"\\uc77c\",\"\\uc6d4\",\"\\ud654\",\"\\uc218\",\"\\ubaa9\",\"\\uae08\",\"\\ud1a0\",\"\\uc77c\"],\"yaxis\":\"y\",\"ybingroup\":\"y\",\"z\":[6.192500620581454e-05,5.449040166377657e-05,6.116378568153915e-05,5.184038313132204e-05,4.889898395295332e-05,4.57447448153166e-05,4.867451265381591e-05,7.01657870423287e-05,5.371153739926472e-05,5.95080286367072e-05,5.431164883830948e-05,4.808840856559643e-05,4.3779793536928186e-05,4.5558581960528345e-05,4.722024947464294e-05,5.9327518000189613e-05,6.558620712482186e-05,6.564506227576916e-05,4.878273252150626e-05,4.813530120600683e-05,5.371833554638321e-05,5.831838054486283e-05,6.501232110857415e-05,6.827551865012208e-05,6.256305382134688e-05,6.34974889800912e-05,5.3113156583687176e-05,4.7426951540305794e-05,7.501200117229855e-05,6.09770720963975e-05,5.361846347616713e-05,6.557612348720275e-05,6.419844452350097e-05,5.36954428774924e-05,5.4501276502573515e-05,7.271806607809553e-05,7.368294268979752e-05,6.279575915660333e-05,6.734676487404748e-05,8.213525549634397e-05,5.789639394612405e-05,7.543749941217084e-05,5.82080690005862e-05,5.296087558310268e-05,5.598712473866864e-05,5.566553665245741e-05,5.5162509076601056e-05,6.295669093404916e-05,7.952472316751356e-05,4.4350735375279734e-05,4.014571412064587e-05,4.077717937393523e-05,3.8891036987676096e-05,4.3339251930531036e-05,5.823198976572878e-05,7.760794422122645e-05,3.511552334477387e-05,3.0239910535490427e-05,3.2903688520327856e-05,3.194733733068311e-05,3.3304999075313214e-05,6.329730608490566e-05,5.849479587077e-05,2.997742168251701e-05,3.0295735687408936e-05,3.105778192517575e-05,3.058161299605332e-05,3.012557127048596e-05,4.538403845477675e-05,4.551503691452916e-05,3.654893760953111e-05,2.8788144332399327e-05,3.096250909762546e-05,2.841971807469577e-05,3.592488451595608e-05,4.287566907836539e-05,4.465601215456055e-05,3.567971201801838e-05,3.1401137001383755e-05,2.885125706597703e-05,3.139054878128309e-05,3.0718583299376126e-05,4.012185557659054e-05,4.5688966332788196e-05,3.68351958924078e-05,3.1082537741861597e-05,2.8356901691793332e-05,2.8072220637437904e-05,2.9427012774861235e-05,3.8568061286522577e-05,4.496255086996648e-05,3.626739408054189e-05,3.2717081723126535e-05,3.2183704895910935e-05,2.912536814022494e-05,3.454598391083255e-05,3.334539954204504e-05,4.084005371383958e-05,3.700353060885671e-05,3.3209439857716466e-05,3.2657360092844285e-05,3.0483574952789655e-05,3.4045488976107045e-05,3.817735599696121e-05,3.917105541083395e-05,3.416021507732824e-05,3.0926922714119265e-05,3.2385313596706385e-05,3.0482516889906108e-05,3.080162213079083e-05,3.546830176689362e-05,3.898352553179462e-05,3.6374777610569375e-05,3.490920149655713e-05,3.513650692732357e-05,3.2536089830653354e-05,3.485311718234654e-05,3.670828647599709e-05,3.6765405788468567e-05,3.837000687649857e-05,3.651160551548555e-05,3.260243838756182e-05,3.190937308395514e-05,3.449227456730189e-05,3.648929023122584e-05,4.2969895700655737e-05,3.687521512933487e-05,3.5197765617747696e-05,3.426938006584745e-05,3.5171677707915996e-05,3.7718419409648606e-05,3.583103523861355e-05,3.965857969296879e-05,4.324538929618186e-05,4.084229687121748e-05,3.800713880661725e-05,3.666518614712408e-05,3.553449344350005e-05,3.315983385198783e-05,4.4004188079270204e-05,4.7472294372555685e-05,4.420867847885844e-05,4.463905911483369e-05,4.115466120544063e-05,4.0243374440793287e-05,3.5949554491412764e-05,4.622882864080493e-05,4.6841728151185616e-05,4.604553865445799e-05,4.373551959756939e-05,4.285079309064918e-05,4.145330173617502e-05,3.945642365833438e-05,5.028697201841166e-05,5.075381481080666e-05,4.6374251298536607e-05,4.390793462441752e-05,4.454546790905556e-05,3.966782648108991e-05,4.101380586816511e-05,5.1209161076426195e-05,5.8369953650412785e-05,5.0336294998193645e-05,4.721072678728939e-05,4.862714201534865e-05,4.0172727931235506e-05,3.869980757776298e-05,5.785112782340353e-05],\"type\":\"histogram2d\"}],                        {\"template\":{\"data\":{\"histogram2dcontour\":[{\"type\":\"histogram2dcontour\",\"colorbar\":{\"outlinewidth\":0,\"ticks\":\"\"},\"colorscale\":[[0.0,\"#0d0887\"],[0.1111111111111111,\"#46039f\"],[0.2222222222222222,\"#7201a8\"],[0.3333333333333333,\"#9c179e\"],[0.4444444444444444,\"#bd3786\"],[0.5555555555555556,\"#d8576b\"],[0.6666666666666666,\"#ed7953\"],[0.7777777777777778,\"#fb9f3a\"],[0.8888888888888888,\"#fdca26\"],[1.0,\"#f0f921\"]]}],\"choropleth\":[{\"type\":\"choropleth\",\"colorbar\":{\"outlinewidth\":0,\"ticks\":\"\"}}],\"histogram2d\":[{\"type\":\"histogram2d\",\"colorbar\":{\"outlinewidth\":0,\"ticks\":\"\"},\"colorscale\":[[0.0,\"#0d0887\"],[0.1111111111111111,\"#46039f\"],[0.2222222222222222,\"#7201a8\"],[0.3333333333333333,\"#9c179e\"],[0.4444444444444444,\"#bd3786\"],[0.5555555555555556,\"#d8576b\"],[0.6666666666666666,\"#ed7953\"],[0.7777777777777778,\"#fb9f3a\"],[0.8888888888888888,\"#fdca26\"],[1.0,\"#f0f921\"]]}],\"heatmap\":[{\"type\":\"heatmap\",\"colorbar\":{\"outlinewidth\":0,\"ticks\":\"\"},\"colorscale\":[[0.0,\"#0d0887\"],[0.1111111111111111,\"#46039f\"],[0.2222222222222222,\"#7201a8\"],[0.3333333333333333,\"#9c179e\"],[0.4444444444444444,\"#bd3786\"],[0.5555555555555556,\"#d8576b\"],[0.6666666666666666,\"#ed7953\"],[0.7777777777777778,\"#fb9f3a\"],[0.8888888888888888,\"#fdca26\"],[1.0,\"#f0f921\"]]}],\"heatmapgl\":[{\"type\":\"heatmapgl\",\"colorbar\":{\"outlinewidth\":0,\"ticks\":\"\"},\"colorscale\":[[0.0,\"#0d0887\"],[0.1111111111111111,\"#46039f\"],[0.2222222222222222,\"#7201a8\"],[0.3333333333333333,\"#9c179e\"],[0.4444444444444444,\"#bd3786\"],[0.5555555555555556,\"#d8576b\"],[0.6666666666666666,\"#ed7953\"],[0.7777777777777778,\"#fb9f3a\"],[0.8888888888888888,\"#fdca26\"],[1.0,\"#f0f921\"]]}],\"contourcarpet\":[{\"type\":\"contourcarpet\",\"colorbar\":{\"outlinewidth\":0,\"ticks\":\"\"}}],\"contour\":[{\"type\":\"contour\",\"colorbar\":{\"outlinewidth\":0,\"ticks\":\"\"},\"colorscale\":[[0.0,\"#0d0887\"],[0.1111111111111111,\"#46039f\"],[0.2222222222222222,\"#7201a8\"],[0.3333333333333333,\"#9c179e\"],[0.4444444444444444,\"#bd3786\"],[0.5555555555555556,\"#d8576b\"],[0.6666666666666666,\"#ed7953\"],[0.7777777777777778,\"#fb9f3a\"],[0.8888888888888888,\"#fdca26\"],[1.0,\"#f0f921\"]]}],\"surface\":[{\"type\":\"surface\",\"colorbar\":{\"outlinewidth\":0,\"ticks\":\"\"},\"colorscale\":[[0.0,\"#0d0887\"],[0.1111111111111111,\"#46039f\"],[0.2222222222222222,\"#7201a8\"],[0.3333333333333333,\"#9c179e\"],[0.4444444444444444,\"#bd3786\"],[0.5555555555555556,\"#d8576b\"],[0.6666666666666666,\"#ed7953\"],[0.7777777777777778,\"#fb9f3a\"],[0.8888888888888888,\"#fdca26\"],[1.0,\"#f0f921\"]]}],\"mesh3d\":[{\"type\":\"mesh3d\",\"colorbar\":{\"outlinewidth\":0,\"ticks\":\"\"}}],\"scatter\":[{\"fillpattern\":{\"fillmode\":\"overlay\",\"size\":10,\"solidity\":0.2},\"type\":\"scatter\"}],\"parcoords\":[{\"type\":\"parcoords\",\"line\":{\"colorbar\":{\"outlinewidth\":0,\"ticks\":\"\"}}}],\"scatterpolargl\":[{\"type\":\"scatterpolargl\",\"marker\":{\"colorbar\":{\"outlinewidth\":0,\"ticks\":\"\"}}}],\"bar\":[{\"error_x\":{\"color\":\"#2a3f5f\"},\"error_y\":{\"color\":\"#2a3f5f\"},\"marker\":{\"line\":{\"color\":\"white\",\"width\":0.5},\"pattern\":{\"fillmode\":\"overlay\",\"size\":10,\"solidity\":0.2}},\"type\":\"bar\"}],\"scattergeo\":[{\"type\":\"scattergeo\",\"marker\":{\"colorbar\":{\"outlinewidth\":0,\"ticks\":\"\"}}}],\"scatterpolar\":[{\"type\":\"scatterpolar\",\"marker\":{\"colorbar\":{\"outlinewidth\":0,\"ticks\":\"\"}}}],\"histogram\":[{\"marker\":{\"pattern\":{\"fillmode\":\"overlay\",\"size\":10,\"solidity\":0.2}},\"type\":\"histogram\"}],\"scattergl\":[{\"type\":\"scattergl\",\"marker\":{\"colorbar\":{\"outlinewidth\":0,\"ticks\":\"\"}}}],\"scatter3d\":[{\"type\":\"scatter3d\",\"line\":{\"colorbar\":{\"outlinewidth\":0,\"ticks\":\"\"}},\"marker\":{\"colorbar\":{\"outlinewidth\":0,\"ticks\":\"\"}}}],\"scattermapbox\":[{\"type\":\"scattermapbox\",\"marker\":{\"colorbar\":{\"outlinewidth\":0,\"ticks\":\"\"}}}],\"scatterternary\":[{\"type\":\"scatterternary\",\"marker\":{\"colorbar\":{\"outlinewidth\":0,\"ticks\":\"\"}}}],\"scattercarpet\":[{\"type\":\"scattercarpet\",\"marker\":{\"colorbar\":{\"outlinewidth\":0,\"ticks\":\"\"}}}],\"carpet\":[{\"aaxis\":{\"endlinecolor\":\"#2a3f5f\",\"gridcolor\":\"#C8D4E3\",\"linecolor\":\"#C8D4E3\",\"minorgridcolor\":\"#C8D4E3\",\"startlinecolor\":\"#2a3f5f\"},\"baxis\":{\"endlinecolor\":\"#2a3f5f\",\"gridcolor\":\"#C8D4E3\",\"linecolor\":\"#C8D4E3\",\"minorgridcolor\":\"#C8D4E3\",\"startlinecolor\":\"#2a3f5f\"},\"type\":\"carpet\"}],\"table\":[{\"cells\":{\"fill\":{\"color\":\"#EBF0F8\"},\"line\":{\"color\":\"white\"}},\"header\":{\"fill\":{\"color\":\"#C8D4E3\"},\"line\":{\"color\":\"white\"}},\"type\":\"table\"}],\"barpolar\":[{\"marker\":{\"line\":{\"color\":\"white\",\"width\":0.5},\"pattern\":{\"fillmode\":\"overlay\",\"size\":10,\"solidity\":0.2}},\"type\":\"barpolar\"}],\"pie\":[{\"automargin\":true,\"type\":\"pie\"}]},\"layout\":{\"autotypenumbers\":\"strict\",\"colorway\":[\"#636efa\",\"#EF553B\",\"#00cc96\",\"#ab63fa\",\"#FFA15A\",\"#19d3f3\",\"#FF6692\",\"#B6E880\",\"#FF97FF\",\"#FECB52\"],\"font\":{\"color\":\"#2a3f5f\"},\"hovermode\":\"closest\",\"hoverlabel\":{\"align\":\"left\"},\"paper_bgcolor\":\"white\",\"plot_bgcolor\":\"white\",\"polar\":{\"bgcolor\":\"white\",\"angularaxis\":{\"gridcolor\":\"#EBF0F8\",\"linecolor\":\"#EBF0F8\",\"ticks\":\"\"},\"radialaxis\":{\"gridcolor\":\"#EBF0F8\",\"linecolor\":\"#EBF0F8\",\"ticks\":\"\"}},\"ternary\":{\"bgcolor\":\"white\",\"aaxis\":{\"gridcolor\":\"#DFE8F3\",\"linecolor\":\"#A2B1C6\",\"ticks\":\"\"},\"baxis\":{\"gridcolor\":\"#DFE8F3\",\"linecolor\":\"#A2B1C6\",\"ticks\":\"\"},\"caxis\":{\"gridcolor\":\"#DFE8F3\",\"linecolor\":\"#A2B1C6\",\"ticks\":\"\"}},\"coloraxis\":{\"colorbar\":{\"outlinewidth\":0,\"ticks\":\"\"}},\"colorscale\":{\"sequential\":[[0.0,\"#0d0887\"],[0.1111111111111111,\"#46039f\"],[0.2222222222222222,\"#7201a8\"],[0.3333333333333333,\"#9c179e\"],[0.4444444444444444,\"#bd3786\"],[0.5555555555555556,\"#d8576b\"],[0.6666666666666666,\"#ed7953\"],[0.7777777777777778,\"#fb9f3a\"],[0.8888888888888888,\"#fdca26\"],[1.0,\"#f0f921\"]],\"sequentialminus\":[[0.0,\"#0d0887\"],[0.1111111111111111,\"#46039f\"],[0.2222222222222222,\"#7201a8\"],[0.3333333333333333,\"#9c179e\"],[0.4444444444444444,\"#bd3786\"],[0.5555555555555556,\"#d8576b\"],[0.6666666666666666,\"#ed7953\"],[0.7777777777777778,\"#fb9f3a\"],[0.8888888888888888,\"#fdca26\"],[1.0,\"#f0f921\"]],\"diverging\":[[0,\"#8e0152\"],[0.1,\"#c51b7d\"],[0.2,\"#de77ae\"],[0.3,\"#f1b6da\"],[0.4,\"#fde0ef\"],[0.5,\"#f7f7f7\"],[0.6,\"#e6f5d0\"],[0.7,\"#b8e186\"],[0.8,\"#7fbc41\"],[0.9,\"#4d9221\"],[1,\"#276419\"]]},\"xaxis\":{\"gridcolor\":\"#EBF0F8\",\"linecolor\":\"#EBF0F8\",\"ticks\":\"\",\"title\":{\"standoff\":15},\"zerolinecolor\":\"#EBF0F8\",\"automargin\":true,\"zerolinewidth\":2},\"yaxis\":{\"gridcolor\":\"#EBF0F8\",\"linecolor\":\"#EBF0F8\",\"ticks\":\"\",\"title\":{\"standoff\":15},\"zerolinecolor\":\"#EBF0F8\",\"automargin\":true,\"zerolinewidth\":2},\"scene\":{\"xaxis\":{\"backgroundcolor\":\"white\",\"gridcolor\":\"#DFE8F3\",\"linecolor\":\"#EBF0F8\",\"showbackground\":true,\"ticks\":\"\",\"zerolinecolor\":\"#EBF0F8\",\"gridwidth\":2},\"yaxis\":{\"backgroundcolor\":\"white\",\"gridcolor\":\"#DFE8F3\",\"linecolor\":\"#EBF0F8\",\"showbackground\":true,\"ticks\":\"\",\"zerolinecolor\":\"#EBF0F8\",\"gridwidth\":2},\"zaxis\":{\"backgroundcolor\":\"white\",\"gridcolor\":\"#DFE8F3\",\"linecolor\":\"#EBF0F8\",\"showbackground\":true,\"ticks\":\"\",\"zerolinecolor\":\"#EBF0F8\",\"gridwidth\":2}},\"shapedefaults\":{\"line\":{\"color\":\"#2a3f5f\"}},\"annotationdefaults\":{\"arrowcolor\":\"#2a3f5f\",\"arrowhead\":0,\"arrowwidth\":1},\"geo\":{\"bgcolor\":\"white\",\"landcolor\":\"white\",\"subunitcolor\":\"#C8D4E3\",\"showland\":true,\"showlakes\":true,\"lakecolor\":\"white\"},\"title\":{\"x\":0.05},\"mapbox\":{\"style\":\"light\"}}},\"xaxis\":{\"anchor\":\"y\",\"domain\":[0.0,1.0],\"title\":{\"text\":\"pickup \\uc2dc\\uac04\"}},\"yaxis\":{\"anchor\":\"x\",\"domain\":[0.0,1.0],\"title\":{\"text\":\"\\uc694\\uc77c\"}},\"coloraxis\":{\"colorbar\":{\"title\":{\"text\":\"\\ud3c9\\uade0\\uc18d\\ub825\"}},\"colorscale\":[[0.0,\"#0d0887\"],[0.1111111111111111,\"#46039f\"],[0.2222222222222222,\"#7201a8\"],[0.3333333333333333,\"#9c179e\"],[0.4444444444444444,\"#bd3786\"],[0.5555555555555556,\"#d8576b\"],[0.6666666666666666,\"#ed7953\"],[0.7777777777777778,\"#fb9f3a\"],[0.8888888888888888,\"#fdca26\"],[1.0,\"#f0f921\"]]},\"legend\":{\"tracegroupgap\":0},\"margin\":{\"t\":60},\"height\":450},                        {\"responsive\": true}                    ).then(function(){\n",
       "                            \n",
       "var gd = document.getElementById('f1680ef5-c3b5-4420-8dc4-34117afdcd91');\n",
       "var x = new MutationObserver(function (mutations, observer) {{\n",
       "        var display = window.getComputedStyle(gd).display;\n",
       "        if (!display || display === 'none') {{\n",
       "            console.log([gd, 'removed!']);\n",
       "            Plotly.purge(gd);\n",
       "            observer.disconnect();\n",
       "        }}\n",
       "}});\n",
       "\n",
       "// Listen for the removal of the full notebook cells\n",
       "var notebookContainer = gd.closest('#notebook-container');\n",
       "if (notebookContainer) {{\n",
       "    x.observe(notebookContainer, {childList: true});\n",
       "}}\n",
       "\n",
       "// Listen for the clearing of the current output cell\n",
       "var outputEl = gd.closest('.output');\n",
       "if (outputEl) {{\n",
       "    x.observe(outputEl, {childList: true});\n",
       "}}\n",
       "\n",
       "                        })                };                });            </script>        </div>"
      ]
     },
     "metadata": {},
     "output_type": "display_data"
    }
   ],
   "source": [
    "tidydata = df.pivot_table(\n",
    "    index='pickup_hour',\n",
    "    columns='dayofweek',\n",
    "    values='speed',\n",
    "    aggfunc= 'mean'\n",
    "    ).stack().reset_index().rename({0:'speed_mean'},axis=1)\\\n",
    ".set_index(['pickup_hour','speed_mean']).apply(lambda x: x.replace({0:'월',1:'화',2:'수',3:'목',4:'금',5:'토',6:'일'})).reset_index()\n",
    "px.density_heatmap(\n",
    "    data_frame=tidydata,\n",
    "    x='pickup_hour',\n",
    "    y='dayofweek',\n",
    "    z='speed_mean',\n",
    "    nbinsx=24,\n",
    "    nbinsy=7,\n",
    "    height=450\n",
    ").update_layout(coloraxis_colorbar=dict(\n",
    "    title=\"평균속력\"),xaxis=dict(title='pickup 시간'),yaxis=dict(title='요일'))"
   ]
  },
  {
   "cell_type": "code",
   "execution_count": 19,
   "id": "54274e90-d579-488b-b59f-a63125571ee5",
   "metadata": {},
   "outputs": [
    {
     "data": {
      "application/vnd.plotly.v1+json": {
       "config": {
        "plotlyServerURL": "https://plot.ly"
       },
       "data": [
        {
         "coloraxis": "coloraxis",
         "histfunc": "sum",
         "hovertemplate": "pickup_hour=%{x}<br>dayofweek=%{y}<br>sum of dist_mean=%{z}<extra></extra>",
         "name": "",
         "nbinsx": 24,
         "nbinsy": 7,
         "type": "histogram2d",
         "x": [
          0,
          0,
          0,
          0,
          0,
          0,
          0,
          1,
          1,
          1,
          1,
          1,
          1,
          1,
          2,
          2,
          2,
          2,
          2,
          2,
          2,
          3,
          3,
          3,
          3,
          3,
          3,
          3,
          4,
          4,
          4,
          4,
          4,
          4,
          4,
          5,
          5,
          5,
          5,
          5,
          5,
          5,
          6,
          6,
          6,
          6,
          6,
          6,
          6,
          7,
          7,
          7,
          7,
          7,
          7,
          7,
          8,
          8,
          8,
          8,
          8,
          8,
          8,
          9,
          9,
          9,
          9,
          9,
          9,
          9,
          10,
          10,
          10,
          10,
          10,
          10,
          10,
          11,
          11,
          11,
          11,
          11,
          11,
          11,
          12,
          12,
          12,
          12,
          12,
          12,
          12,
          13,
          13,
          13,
          13,
          13,
          13,
          13,
          14,
          14,
          14,
          14,
          14,
          14,
          14,
          15,
          15,
          15,
          15,
          15,
          15,
          15,
          16,
          16,
          16,
          16,
          16,
          16,
          16,
          17,
          17,
          17,
          17,
          17,
          17,
          17,
          18,
          18,
          18,
          18,
          18,
          18,
          18,
          19,
          19,
          19,
          19,
          19,
          19,
          19,
          20,
          20,
          20,
          20,
          20,
          20,
          20,
          21,
          21,
          21,
          21,
          21,
          21,
          21,
          22,
          22,
          22,
          22,
          22,
          22,
          22,
          23,
          23,
          23,
          23,
          23,
          23,
          23
         ],
         "xaxis": "x",
         "xbingroup": "x",
         "y": [
          "월",
          "화",
          "수",
          "목",
          "금",
          "토",
          "일",
          "월",
          "화",
          "수",
          "목",
          "금",
          "토",
          "일",
          "월",
          "화",
          "수",
          "목",
          "금",
          "토",
          "일",
          "월",
          "화",
          "수",
          "목",
          "금",
          "토",
          "일",
          "월",
          "화",
          "수",
          "목",
          "금",
          "토",
          "일",
          "월",
          "화",
          "수",
          "목",
          "금",
          "토",
          "일",
          "월",
          "화",
          "수",
          "목",
          "금",
          "토",
          "일",
          "월",
          "화",
          "수",
          "목",
          "금",
          "토",
          "일",
          "월",
          "화",
          "수",
          "목",
          "금",
          "토",
          "일",
          "월",
          "화",
          "수",
          "목",
          "금",
          "토",
          "일",
          "월",
          "화",
          "수",
          "목",
          "금",
          "토",
          "일",
          "월",
          "화",
          "수",
          "목",
          "금",
          "토",
          "일",
          "월",
          "화",
          "수",
          "목",
          "금",
          "토",
          "일",
          "월",
          "화",
          "수",
          "목",
          "금",
          "토",
          "일",
          "월",
          "화",
          "수",
          "목",
          "금",
          "토",
          "일",
          "월",
          "화",
          "수",
          "목",
          "금",
          "토",
          "일",
          "월",
          "화",
          "수",
          "목",
          "금",
          "토",
          "일",
          "월",
          "화",
          "수",
          "목",
          "금",
          "토",
          "일",
          "월",
          "화",
          "수",
          "목",
          "금",
          "토",
          "일",
          "월",
          "화",
          "수",
          "목",
          "금",
          "토",
          "일",
          "월",
          "화",
          "수",
          "목",
          "금",
          "토",
          "일",
          "월",
          "화",
          "수",
          "목",
          "금",
          "토",
          "일",
          "월",
          "화",
          "수",
          "목",
          "금",
          "토",
          "일",
          "월",
          "화",
          "수",
          "목",
          "금",
          "토",
          "일"
         ],
         "yaxis": "y",
         "ybingroup": "y",
         "z": [
          0.03715809838079698,
          0.04549263088199272,
          0.06189425076297976,
          0.04370735751553739,
          0.03941914483917277,
          0.036707167535579545,
          0.039962176173149275,
          0.05200302769060466,
          0.026491866724439015,
          0.039073634201646286,
          0.0417765374180669,
          0.041799452835402005,
          0.03566950941170107,
          0.0384030605806378,
          0.03454166059277303,
          0.05237136448088479,
          0.04027817512479525,
          0.046409338050018074,
          0.02747939721328583,
          0.0380489921489175,
          0.03932604021053794,
          0.05596315189409232,
          0.042291832373646004,
          0.045001889217295234,
          0.05493347173018719,
          0.04467300794711169,
          0.03696210181836352,
          0.037395030232690134,
          0.07063039696986095,
          0.03189731490250098,
          0.02712641035763739,
          0.061569806741913605,
          0.06040430813029304,
          0.04587911863822203,
          0.03617073372297567,
          0.06426270786989556,
          0.052113797374228325,
          0.04090444437849963,
          0.046512677925574106,
          0.07023081911325425,
          0.04823124935776199,
          0.0819519990101009,
          0.034490535452775584,
          0.03625948497196739,
          0.03554282147884122,
          0.05250827412143831,
          0.038559495853808044,
          0.04423147111534784,
          0.08455383063086612,
          0.032737782045627016,
          0.036995698246546305,
          0.026562429760155624,
          0.03531027339163442,
          0.036675286599085095,
          0.03502778652413812,
          0.07728771678955991,
          0.03271897536089555,
          0.026760267886113808,
          0.028137832185748304,
          0.029133885897888828,
          0.032616090198524406,
          0.05684438361280244,
          0.040662783558606266,
          0.022300252808707045,
          0.027077751296383516,
          0.028848291392458557,
          0.029901509572592543,
          0.022036573919088698,
          0.02883829437172897,
          0.02651724954324167,
          0.036457711731007814,
          0.026826090075304745,
          0.03436772147280834,
          0.027772390194162014,
          0.0390431164668389,
          0.03135331752009965,
          0.024978445983095104,
          0.03259913640889305,
          0.034316439823832576,
          0.028384887815572114,
          0.02858396613665924,
          0.030196453798128214,
          0.029968986432524772,
          0.035339142705562855,
          0.03791273701584093,
          0.03498805312265091,
          0.029861333110209855,
          0.02919986838270981,
          0.02723147055623086,
          0.030354061779279694,
          0.04011498662915437,
          0.031148218766055,
          0.035544501630472854,
          0.03094931538110388,
          0.0317612270262194,
          0.03293566054375842,
          0.02574892204102297,
          0.03072317013788322,
          0.03073260549089396,
          0.03838823500419107,
          0.04105512493816869,
          0.03471946142251515,
          0.043647154028390374,
          0.03185745950220361,
          0.039420942718037456,
          0.03561671744114983,
          0.02821292607678347,
          0.030896039734749265,
          0.03516035201971669,
          0.03415901588979847,
          0.03626576223452341,
          0.041070572515632585,
          0.045856793688758724,
          0.03586750914515103,
          0.0383327715434659,
          0.032241751574696526,
          0.03676054346801498,
          0.031655929237335456,
          0.041828181994856564,
          0.03489709547473452,
          0.03883433324239985,
          0.0440284327758578,
          0.028428726680918188,
          0.03317075478918968,
          0.03446797731080265,
          0.04344609099751088,
          0.03206766072125966,
          0.02572514272219912,
          0.034202250485253306,
          0.030790591800766605,
          0.027736605265520214,
          0.03424314095287038,
          0.031280398092728846,
          0.030931047636591467,
          0.033088420498453834,
          0.033418178249557354,
          0.0276523888329859,
          0.0327639608191616,
          0.026601148073475155,
          0.033589561605802655,
          0.03478322182868066,
          0.036793867026316575,
          0.037728969952857336,
          0.03442330713780692,
          0.03269130293295594,
          0.029834599637768515,
          0.042991760551657536,
          0.03504153532967092,
          0.03320750581322103,
          0.04105665766647581,
          0.0468108838653546,
          0.03259886897954823,
          0.028572862569402776,
          0.04127852982142265,
          0.039807563106260796,
          0.03796506613207811,
          0.03501931863015318,
          0.03680314709375805,
          0.03289081100831811,
          0.034023159026747324,
          0.03989386796977483,
          0.041753717014843476,
          0.0441184974197329,
          0.04053196598643651,
          0.04528582049448872,
          0.0341054864926265,
          0.03508011042417724,
          0.04541865114558133
         ]
        }
       ],
       "layout": {
        "autosize": true,
        "coloraxis": {
         "colorbar": {
          "title": {
           "text": "평균이동거리"
          }
         },
         "colorscale": [
          [
           0,
           "#0d0887"
          ],
          [
           0.1111111111111111,
           "#46039f"
          ],
          [
           0.2222222222222222,
           "#7201a8"
          ],
          [
           0.3333333333333333,
           "#9c179e"
          ],
          [
           0.4444444444444444,
           "#bd3786"
          ],
          [
           0.5555555555555556,
           "#d8576b"
          ],
          [
           0.6666666666666666,
           "#ed7953"
          ],
          [
           0.7777777777777778,
           "#fb9f3a"
          ],
          [
           0.8888888888888888,
           "#fdca26"
          ],
          [
           1,
           "#f0f921"
          ]
         ]
        },
        "legend": {
         "tracegroupgap": 0
        },
        "margin": {
         "t": 60
        },
        "template": {
         "data": {
          "bar": [
           {
            "error_x": {
             "color": "#2a3f5f"
            },
            "error_y": {
             "color": "#2a3f5f"
            },
            "marker": {
             "line": {
              "color": "white",
              "width": 0.5
             },
             "pattern": {
              "fillmode": "overlay",
              "size": 10,
              "solidity": 0.2
             }
            },
            "type": "bar"
           }
          ],
          "barpolar": [
           {
            "marker": {
             "line": {
              "color": "white",
              "width": 0.5
             },
             "pattern": {
              "fillmode": "overlay",
              "size": 10,
              "solidity": 0.2
             }
            },
            "type": "barpolar"
           }
          ],
          "carpet": [
           {
            "aaxis": {
             "endlinecolor": "#2a3f5f",
             "gridcolor": "#C8D4E3",
             "linecolor": "#C8D4E3",
             "minorgridcolor": "#C8D4E3",
             "startlinecolor": "#2a3f5f"
            },
            "baxis": {
             "endlinecolor": "#2a3f5f",
             "gridcolor": "#C8D4E3",
             "linecolor": "#C8D4E3",
             "minorgridcolor": "#C8D4E3",
             "startlinecolor": "#2a3f5f"
            },
            "type": "carpet"
           }
          ],
          "choropleth": [
           {
            "colorbar": {
             "outlinewidth": 0,
             "ticks": ""
            },
            "type": "choropleth"
           }
          ],
          "contour": [
           {
            "colorbar": {
             "outlinewidth": 0,
             "ticks": ""
            },
            "colorscale": [
             [
              0,
              "#0d0887"
             ],
             [
              0.1111111111111111,
              "#46039f"
             ],
             [
              0.2222222222222222,
              "#7201a8"
             ],
             [
              0.3333333333333333,
              "#9c179e"
             ],
             [
              0.4444444444444444,
              "#bd3786"
             ],
             [
              0.5555555555555556,
              "#d8576b"
             ],
             [
              0.6666666666666666,
              "#ed7953"
             ],
             [
              0.7777777777777778,
              "#fb9f3a"
             ],
             [
              0.8888888888888888,
              "#fdca26"
             ],
             [
              1,
              "#f0f921"
             ]
            ],
            "type": "contour"
           }
          ],
          "contourcarpet": [
           {
            "colorbar": {
             "outlinewidth": 0,
             "ticks": ""
            },
            "type": "contourcarpet"
           }
          ],
          "heatmap": [
           {
            "colorbar": {
             "outlinewidth": 0,
             "ticks": ""
            },
            "colorscale": [
             [
              0,
              "#0d0887"
             ],
             [
              0.1111111111111111,
              "#46039f"
             ],
             [
              0.2222222222222222,
              "#7201a8"
             ],
             [
              0.3333333333333333,
              "#9c179e"
             ],
             [
              0.4444444444444444,
              "#bd3786"
             ],
             [
              0.5555555555555556,
              "#d8576b"
             ],
             [
              0.6666666666666666,
              "#ed7953"
             ],
             [
              0.7777777777777778,
              "#fb9f3a"
             ],
             [
              0.8888888888888888,
              "#fdca26"
             ],
             [
              1,
              "#f0f921"
             ]
            ],
            "type": "heatmap"
           }
          ],
          "heatmapgl": [
           {
            "colorbar": {
             "outlinewidth": 0,
             "ticks": ""
            },
            "colorscale": [
             [
              0,
              "#0d0887"
             ],
             [
              0.1111111111111111,
              "#46039f"
             ],
             [
              0.2222222222222222,
              "#7201a8"
             ],
             [
              0.3333333333333333,
              "#9c179e"
             ],
             [
              0.4444444444444444,
              "#bd3786"
             ],
             [
              0.5555555555555556,
              "#d8576b"
             ],
             [
              0.6666666666666666,
              "#ed7953"
             ],
             [
              0.7777777777777778,
              "#fb9f3a"
             ],
             [
              0.8888888888888888,
              "#fdca26"
             ],
             [
              1,
              "#f0f921"
             ]
            ],
            "type": "heatmapgl"
           }
          ],
          "histogram": [
           {
            "marker": {
             "pattern": {
              "fillmode": "overlay",
              "size": 10,
              "solidity": 0.2
             }
            },
            "type": "histogram"
           }
          ],
          "histogram2d": [
           {
            "colorbar": {
             "outlinewidth": 0,
             "ticks": ""
            },
            "colorscale": [
             [
              0,
              "#0d0887"
             ],
             [
              0.1111111111111111,
              "#46039f"
             ],
             [
              0.2222222222222222,
              "#7201a8"
             ],
             [
              0.3333333333333333,
              "#9c179e"
             ],
             [
              0.4444444444444444,
              "#bd3786"
             ],
             [
              0.5555555555555556,
              "#d8576b"
             ],
             [
              0.6666666666666666,
              "#ed7953"
             ],
             [
              0.7777777777777778,
              "#fb9f3a"
             ],
             [
              0.8888888888888888,
              "#fdca26"
             ],
             [
              1,
              "#f0f921"
             ]
            ],
            "type": "histogram2d"
           }
          ],
          "histogram2dcontour": [
           {
            "colorbar": {
             "outlinewidth": 0,
             "ticks": ""
            },
            "colorscale": [
             [
              0,
              "#0d0887"
             ],
             [
              0.1111111111111111,
              "#46039f"
             ],
             [
              0.2222222222222222,
              "#7201a8"
             ],
             [
              0.3333333333333333,
              "#9c179e"
             ],
             [
              0.4444444444444444,
              "#bd3786"
             ],
             [
              0.5555555555555556,
              "#d8576b"
             ],
             [
              0.6666666666666666,
              "#ed7953"
             ],
             [
              0.7777777777777778,
              "#fb9f3a"
             ],
             [
              0.8888888888888888,
              "#fdca26"
             ],
             [
              1,
              "#f0f921"
             ]
            ],
            "type": "histogram2dcontour"
           }
          ],
          "mesh3d": [
           {
            "colorbar": {
             "outlinewidth": 0,
             "ticks": ""
            },
            "type": "mesh3d"
           }
          ],
          "parcoords": [
           {
            "line": {
             "colorbar": {
              "outlinewidth": 0,
              "ticks": ""
             }
            },
            "type": "parcoords"
           }
          ],
          "pie": [
           {
            "automargin": true,
            "type": "pie"
           }
          ],
          "scatter": [
           {
            "fillpattern": {
             "fillmode": "overlay",
             "size": 10,
             "solidity": 0.2
            },
            "type": "scatter"
           }
          ],
          "scatter3d": [
           {
            "line": {
             "colorbar": {
              "outlinewidth": 0,
              "ticks": ""
             }
            },
            "marker": {
             "colorbar": {
              "outlinewidth": 0,
              "ticks": ""
             }
            },
            "type": "scatter3d"
           }
          ],
          "scattercarpet": [
           {
            "marker": {
             "colorbar": {
              "outlinewidth": 0,
              "ticks": ""
             }
            },
            "type": "scattercarpet"
           }
          ],
          "scattergeo": [
           {
            "marker": {
             "colorbar": {
              "outlinewidth": 0,
              "ticks": ""
             }
            },
            "type": "scattergeo"
           }
          ],
          "scattergl": [
           {
            "marker": {
             "colorbar": {
              "outlinewidth": 0,
              "ticks": ""
             }
            },
            "type": "scattergl"
           }
          ],
          "scattermapbox": [
           {
            "marker": {
             "colorbar": {
              "outlinewidth": 0,
              "ticks": ""
             }
            },
            "type": "scattermapbox"
           }
          ],
          "scatterpolar": [
           {
            "marker": {
             "colorbar": {
              "outlinewidth": 0,
              "ticks": ""
             }
            },
            "type": "scatterpolar"
           }
          ],
          "scatterpolargl": [
           {
            "marker": {
             "colorbar": {
              "outlinewidth": 0,
              "ticks": ""
             }
            },
            "type": "scatterpolargl"
           }
          ],
          "scatterternary": [
           {
            "marker": {
             "colorbar": {
              "outlinewidth": 0,
              "ticks": ""
             }
            },
            "type": "scatterternary"
           }
          ],
          "surface": [
           {
            "colorbar": {
             "outlinewidth": 0,
             "ticks": ""
            },
            "colorscale": [
             [
              0,
              "#0d0887"
             ],
             [
              0.1111111111111111,
              "#46039f"
             ],
             [
              0.2222222222222222,
              "#7201a8"
             ],
             [
              0.3333333333333333,
              "#9c179e"
             ],
             [
              0.4444444444444444,
              "#bd3786"
             ],
             [
              0.5555555555555556,
              "#d8576b"
             ],
             [
              0.6666666666666666,
              "#ed7953"
             ],
             [
              0.7777777777777778,
              "#fb9f3a"
             ],
             [
              0.8888888888888888,
              "#fdca26"
             ],
             [
              1,
              "#f0f921"
             ]
            ],
            "type": "surface"
           }
          ],
          "table": [
           {
            "cells": {
             "fill": {
              "color": "#EBF0F8"
             },
             "line": {
              "color": "white"
             }
            },
            "header": {
             "fill": {
              "color": "#C8D4E3"
             },
             "line": {
              "color": "white"
             }
            },
            "type": "table"
           }
          ]
         },
         "layout": {
          "annotationdefaults": {
           "arrowcolor": "#2a3f5f",
           "arrowhead": 0,
           "arrowwidth": 1
          },
          "autotypenumbers": "strict",
          "coloraxis": {
           "colorbar": {
            "outlinewidth": 0,
            "ticks": ""
           }
          },
          "colorscale": {
           "diverging": [
            [
             0,
             "#8e0152"
            ],
            [
             0.1,
             "#c51b7d"
            ],
            [
             0.2,
             "#de77ae"
            ],
            [
             0.3,
             "#f1b6da"
            ],
            [
             0.4,
             "#fde0ef"
            ],
            [
             0.5,
             "#f7f7f7"
            ],
            [
             0.6,
             "#e6f5d0"
            ],
            [
             0.7,
             "#b8e186"
            ],
            [
             0.8,
             "#7fbc41"
            ],
            [
             0.9,
             "#4d9221"
            ],
            [
             1,
             "#276419"
            ]
           ],
           "sequential": [
            [
             0,
             "#0d0887"
            ],
            [
             0.1111111111111111,
             "#46039f"
            ],
            [
             0.2222222222222222,
             "#7201a8"
            ],
            [
             0.3333333333333333,
             "#9c179e"
            ],
            [
             0.4444444444444444,
             "#bd3786"
            ],
            [
             0.5555555555555556,
             "#d8576b"
            ],
            [
             0.6666666666666666,
             "#ed7953"
            ],
            [
             0.7777777777777778,
             "#fb9f3a"
            ],
            [
             0.8888888888888888,
             "#fdca26"
            ],
            [
             1,
             "#f0f921"
            ]
           ],
           "sequentialminus": [
            [
             0,
             "#0d0887"
            ],
            [
             0.1111111111111111,
             "#46039f"
            ],
            [
             0.2222222222222222,
             "#7201a8"
            ],
            [
             0.3333333333333333,
             "#9c179e"
            ],
            [
             0.4444444444444444,
             "#bd3786"
            ],
            [
             0.5555555555555556,
             "#d8576b"
            ],
            [
             0.6666666666666666,
             "#ed7953"
            ],
            [
             0.7777777777777778,
             "#fb9f3a"
            ],
            [
             0.8888888888888888,
             "#fdca26"
            ],
            [
             1,
             "#f0f921"
            ]
           ]
          },
          "colorway": [
           "#636efa",
           "#EF553B",
           "#00cc96",
           "#ab63fa",
           "#FFA15A",
           "#19d3f3",
           "#FF6692",
           "#B6E880",
           "#FF97FF",
           "#FECB52"
          ],
          "font": {
           "color": "#2a3f5f"
          },
          "geo": {
           "bgcolor": "white",
           "lakecolor": "white",
           "landcolor": "white",
           "showlakes": true,
           "showland": true,
           "subunitcolor": "#C8D4E3"
          },
          "hoverlabel": {
           "align": "left"
          },
          "hovermode": "closest",
          "mapbox": {
           "style": "light"
          },
          "paper_bgcolor": "white",
          "plot_bgcolor": "white",
          "polar": {
           "angularaxis": {
            "gridcolor": "#EBF0F8",
            "linecolor": "#EBF0F8",
            "ticks": ""
           },
           "bgcolor": "white",
           "radialaxis": {
            "gridcolor": "#EBF0F8",
            "linecolor": "#EBF0F8",
            "ticks": ""
           }
          },
          "scene": {
           "xaxis": {
            "backgroundcolor": "white",
            "gridcolor": "#DFE8F3",
            "gridwidth": 2,
            "linecolor": "#EBF0F8",
            "showbackground": true,
            "ticks": "",
            "zerolinecolor": "#EBF0F8"
           },
           "yaxis": {
            "backgroundcolor": "white",
            "gridcolor": "#DFE8F3",
            "gridwidth": 2,
            "linecolor": "#EBF0F8",
            "showbackground": true,
            "ticks": "",
            "zerolinecolor": "#EBF0F8"
           },
           "zaxis": {
            "backgroundcolor": "white",
            "gridcolor": "#DFE8F3",
            "gridwidth": 2,
            "linecolor": "#EBF0F8",
            "showbackground": true,
            "ticks": "",
            "zerolinecolor": "#EBF0F8"
           }
          },
          "shapedefaults": {
           "line": {
            "color": "#2a3f5f"
           }
          },
          "ternary": {
           "aaxis": {
            "gridcolor": "#DFE8F3",
            "linecolor": "#A2B1C6",
            "ticks": ""
           },
           "baxis": {
            "gridcolor": "#DFE8F3",
            "linecolor": "#A2B1C6",
            "ticks": ""
           },
           "bgcolor": "white",
           "caxis": {
            "gridcolor": "#DFE8F3",
            "linecolor": "#A2B1C6",
            "ticks": ""
           }
          },
          "title": {
           "x": 0.05
          },
          "xaxis": {
           "automargin": true,
           "gridcolor": "#EBF0F8",
           "linecolor": "#EBF0F8",
           "ticks": "",
           "title": {
            "standoff": 15
           },
           "zerolinecolor": "#EBF0F8",
           "zerolinewidth": 2
          },
          "yaxis": {
           "automargin": true,
           "gridcolor": "#EBF0F8",
           "linecolor": "#EBF0F8",
           "ticks": "",
           "title": {
            "standoff": 15
           },
           "zerolinecolor": "#EBF0F8",
           "zerolinewidth": 2
          }
         }
        },
        "xaxis": {
         "anchor": "y",
         "autorange": true,
         "domain": [
          0,
          1
         ],
         "range": [
          -0.5,
          23.5
         ],
         "title": {
          "text": "pickup 시간"
         },
         "type": "linear"
        },
        "yaxis": {
         "anchor": "x",
         "autorange": true,
         "domain": [
          0,
          1
         ],
         "range": [
          -0.5,
          6.5
         ],
         "title": {
          "text": "요일"
         },
         "type": "category"
        }
       }
      },
      "image/png": "[encoded data removed]",
      "text/html": [
       "<div>                            <div id=\"4d3a8997-9080-47da-8f60-f45a0cdf745b\" class=\"plotly-graph-div\" style=\"height:450px; width:100%;\"></div>            <script type=\"text/javascript\">                require([\"plotly\"], function(Plotly) {                    window.PLOTLYENV=window.PLOTLYENV || {};                                    if (document.getElementById(\"4d3a8997-9080-47da-8f60-f45a0cdf745b\")) {                    Plotly.newPlot(                        \"4d3a8997-9080-47da-8f60-f45a0cdf745b\",                        [{\"coloraxis\":\"coloraxis\",\"histfunc\":\"sum\",\"hovertemplate\":\"pickup_hour=%{x}\\u003cbr\\u003edayofweek=%{y}\\u003cbr\\u003esum of dist_mean=%{z}\\u003cextra\\u003e\\u003c\\u002fextra\\u003e\",\"name\":\"\",\"nbinsx\":24,\"nbinsy\":7,\"x\":[0,0,0,0,0,0,0,1,1,1,1,1,1,1,2,2,2,2,2,2,2,3,3,3,3,3,3,3,4,4,4,4,4,4,4,5,5,5,5,5,5,5,6,6,6,6,6,6,6,7,7,7,7,7,7,7,8,8,8,8,8,8,8,9,9,9,9,9,9,9,10,10,10,10,10,10,10,11,11,11,11,11,11,11,12,12,12,12,12,12,12,13,13,13,13,13,13,13,14,14,14,14,14,14,14,15,15,15,15,15,15,15,16,16,16,16,16,16,16,17,17,17,17,17,17,17,18,18,18,18,18,18,18,19,19,19,19,19,19,19,20,20,20,20,20,20,20,21,21,21,21,21,21,21,22,22,22,22,22,22,22,23,23,23,23,23,23,23],\"xaxis\":\"x\",\"xbingroup\":\"x\",\"y\":[\"\\uc6d4\",\"\\ud654\",\"\\uc218\",\"\\ubaa9\",\"\\uae08\",\"\\ud1a0\",\"\\uc77c\",\"\\uc6d4\",\"\\ud654\",\"\\uc218\",\"\\ubaa9\",\"\\uae08\",\"\\ud1a0\",\"\\uc77c\",\"\\uc6d4\",\"\\ud654\",\"\\uc218\",\"\\ubaa9\",\"\\uae08\",\"\\ud1a0\",\"\\uc77c\",\"\\uc6d4\",\"\\ud654\",\"\\uc218\",\"\\ubaa9\",\"\\uae08\",\"\\ud1a0\",\"\\uc77c\",\"\\uc6d4\",\"\\ud654\",\"\\uc218\",\"\\ubaa9\",\"\\uae08\",\"\\ud1a0\",\"\\uc77c\",\"\\uc6d4\",\"\\ud654\",\"\\uc218\",\"\\ubaa9\",\"\\uae08\",\"\\ud1a0\",\"\\uc77c\",\"\\uc6d4\",\"\\ud654\",\"\\uc218\",\"\\ubaa9\",\"\\uae08\",\"\\ud1a0\",\"\\uc77c\",\"\\uc6d4\",\"\\ud654\",\"\\uc218\",\"\\ubaa9\",\"\\uae08\",\"\\ud1a0\",\"\\uc77c\",\"\\uc6d4\",\"\\ud654\",\"\\uc218\",\"\\ubaa9\",\"\\uae08\",\"\\ud1a0\",\"\\uc77c\",\"\\uc6d4\",\"\\ud654\",\"\\uc218\",\"\\ubaa9\",\"\\uae08\",\"\\ud1a0\",\"\\uc77c\",\"\\uc6d4\",\"\\ud654\",\"\\uc218\",\"\\ubaa9\",\"\\uae08\",\"\\ud1a0\",\"\\uc77c\",\"\\uc6d4\",\"\\ud654\",\"\\uc218\",\"\\ubaa9\",\"\\uae08\",\"\\ud1a0\",\"\\uc77c\",\"\\uc6d4\",\"\\ud654\",\"\\uc218\",\"\\ubaa9\",\"\\uae08\",\"\\ud1a0\",\"\\uc77c\",\"\\uc6d4\",\"\\ud654\",\"\\uc218\",\"\\ubaa9\",\"\\uae08\",\"\\ud1a0\",\"\\uc77c\",\"\\uc6d4\",\"\\ud654\",\"\\uc218\",\"\\ubaa9\",\"\\uae08\",\"\\ud1a0\",\"\\uc77c\",\"\\uc6d4\",\"\\ud654\",\"\\uc218\",\"\\ubaa9\",\"\\uae08\",\"\\ud1a0\",\"\\uc77c\",\"\\uc6d4\",\"\\ud654\",\"\\uc218\",\"\\ubaa9\",\"\\uae08\",\"\\ud1a0\",\"\\uc77c\",\"\\uc6d4\",\"\\ud654\",\"\\uc218\",\"\\ubaa9\",\"\\uae08\",\"\\ud1a0\",\"\\uc77c\",\"\\uc6d4\",\"\\ud654\",\"\\uc218\",\"\\ubaa9\",\"\\uae08\",\"\\ud1a0\",\"\\uc77c\",\"\\uc6d4\",\"\\ud654\",\"\\uc218\",\"\\ubaa9\",\"\\uae08\",\"\\ud1a0\",\"\\uc77c\",\"\\uc6d4\",\"\\ud654\",\"\\uc218\",\"\\ubaa9\",\"\\uae08\",\"\\ud1a0\",\"\\uc77c\",\"\\uc6d4\",\"\\ud654\",\"\\uc218\",\"\\ubaa9\",\"\\uae08\",\"\\ud1a0\",\"\\uc77c\",\"\\uc6d4\",\"\\ud654\",\"\\uc218\",\"\\ubaa9\",\"\\uae08\",\"\\ud1a0\",\"\\uc77c\",\"\\uc6d4\",\"\\ud654\",\"\\uc218\",\"\\ubaa9\",\"\\uae08\",\"\\ud1a0\",\"\\uc77c\"],\"yaxis\":\"y\",\"ybingroup\":\"y\",\"z\":[0.03715809838079698,0.04549263088199272,0.06189425076297976,0.04370735751553739,0.03941914483917277,0.036707167535579545,0.039962176173149275,0.05200302769060466,0.026491866724439015,0.039073634201646286,0.0417765374180669,0.041799452835402005,0.03566950941170107,0.0384030605806378,0.03454166059277303,0.05237136448088479,0.04027817512479525,0.046409338050018074,0.02747939721328583,0.0380489921489175,0.03932604021053794,0.05596315189409232,0.042291832373646004,0.045001889217295234,0.05493347173018719,0.04467300794711169,0.03696210181836352,0.037395030232690134,0.07063039696986095,0.03189731490250098,0.02712641035763739,0.061569806741913605,0.06040430813029304,0.04587911863822203,0.03617073372297567,0.06426270786989556,0.052113797374228325,0.04090444437849963,0.046512677925574106,0.07023081911325425,0.04823124935776199,0.0819519990101009,0.034490535452775584,0.03625948497196739,0.03554282147884122,0.05250827412143831,0.038559495853808044,0.04423147111534784,0.08455383063086612,0.032737782045627016,0.036995698246546305,0.026562429760155624,0.03531027339163442,0.036675286599085095,0.03502778652413812,0.07728771678955991,0.03271897536089555,0.026760267886113808,0.028137832185748304,0.029133885897888828,0.032616090198524406,0.05684438361280244,0.040662783558606266,0.022300252808707045,0.027077751296383516,0.028848291392458557,0.029901509572592543,0.022036573919088698,0.02883829437172897,0.02651724954324167,0.036457711731007814,0.026826090075304745,0.03436772147280834,0.027772390194162014,0.0390431164668389,0.03135331752009965,0.024978445983095104,0.03259913640889305,0.034316439823832576,0.028384887815572114,0.02858396613665924,0.030196453798128214,0.029968986432524772,0.035339142705562855,0.03791273701584093,0.03498805312265091,0.029861333110209855,0.02919986838270981,0.02723147055623086,0.030354061779279694,0.04011498662915437,0.031148218766055,0.035544501630472854,0.03094931538110388,0.0317612270262194,0.03293566054375842,0.02574892204102297,0.03072317013788322,0.03073260549089396,0.03838823500419107,0.04105512493816869,0.03471946142251515,0.043647154028390374,0.03185745950220361,0.039420942718037456,0.03561671744114983,0.02821292607678347,0.030896039734749265,0.03516035201971669,0.03415901588979847,0.03626576223452341,0.041070572515632585,0.045856793688758724,0.03586750914515103,0.0383327715434659,0.032241751574696526,0.03676054346801498,0.031655929237335456,0.041828181994856564,0.03489709547473452,0.03883433324239985,0.0440284327758578,0.028428726680918188,0.03317075478918968,0.03446797731080265,0.04344609099751088,0.03206766072125966,0.02572514272219912,0.034202250485253306,0.030790591800766605,0.027736605265520214,0.03424314095287038,0.031280398092728846,0.030931047636591467,0.033088420498453834,0.033418178249557354,0.0276523888329859,0.0327639608191616,0.026601148073475155,0.033589561605802655,0.03478322182868066,0.036793867026316575,0.037728969952857336,0.03442330713780692,0.03269130293295594,0.029834599637768515,0.042991760551657536,0.03504153532967092,0.03320750581322103,0.04105665766647581,0.0468108838653546,0.03259886897954823,0.028572862569402776,0.04127852982142265,0.039807563106260796,0.03796506613207811,0.03501931863015318,0.03680314709375805,0.03289081100831811,0.034023159026747324,0.03989386796977483,0.041753717014843476,0.0441184974197329,0.04053196598643651,0.04528582049448872,0.0341054864926265,0.03508011042417724,0.04541865114558133],\"type\":\"histogram2d\"}],                        {\"template\":{\"data\":{\"histogram2dcontour\":[{\"type\":\"histogram2dcontour\",\"colorbar\":{\"outlinewidth\":0,\"ticks\":\"\"},\"colorscale\":[[0.0,\"#0d0887\"],[0.1111111111111111,\"#46039f\"],[0.2222222222222222,\"#7201a8\"],[0.3333333333333333,\"#9c179e\"],[0.4444444444444444,\"#bd3786\"],[0.5555555555555556,\"#d8576b\"],[0.6666666666666666,\"#ed7953\"],[0.7777777777777778,\"#fb9f3a\"],[0.8888888888888888,\"#fdca26\"],[1.0,\"#f0f921\"]]}],\"choropleth\":[{\"type\":\"choropleth\",\"colorbar\":{\"outlinewidth\":0,\"ticks\":\"\"}}],\"histogram2d\":[{\"type\":\"histogram2d\",\"colorbar\":{\"outlinewidth\":0,\"ticks\":\"\"},\"colorscale\":[[0.0,\"#0d0887\"],[0.1111111111111111,\"#46039f\"],[0.2222222222222222,\"#7201a8\"],[0.3333333333333333,\"#9c179e\"],[0.4444444444444444,\"#bd3786\"],[0.5555555555555556,\"#d8576b\"],[0.6666666666666666,\"#ed7953\"],[0.7777777777777778,\"#fb9f3a\"],[0.8888888888888888,\"#fdca26\"],[1.0,\"#f0f921\"]]}],\"heatmap\":[{\"type\":\"heatmap\",\"colorbar\":{\"outlinewidth\":0,\"ticks\":\"\"},\"colorscale\":[[0.0,\"#0d0887\"],[0.1111111111111111,\"#46039f\"],[0.2222222222222222,\"#7201a8\"],[0.3333333333333333,\"#9c179e\"],[0.4444444444444444,\"#bd3786\"],[0.5555555555555556,\"#d8576b\"],[0.6666666666666666,\"#ed7953\"],[0.7777777777777778,\"#fb9f3a\"],[0.8888888888888888,\"#fdca26\"],[1.0,\"#f0f921\"]]}],\"heatmapgl\":[{\"type\":\"heatmapgl\",\"colorbar\":{\"outlinewidth\":0,\"ticks\":\"\"},\"colorscale\":[[0.0,\"#0d0887\"],[0.1111111111111111,\"#46039f\"],[0.2222222222222222,\"#7201a8\"],[0.3333333333333333,\"#9c179e\"],[0.4444444444444444,\"#bd3786\"],[0.5555555555555556,\"#d8576b\"],[0.6666666666666666,\"#ed7953\"],[0.7777777777777778,\"#fb9f3a\"],[0.8888888888888888,\"#fdca26\"],[1.0,\"#f0f921\"]]}],\"contourcarpet\":[{\"type\":\"contourcarpet\",\"colorbar\":{\"outlinewidth\":0,\"ticks\":\"\"}}],\"contour\":[{\"type\":\"contour\",\"colorbar\":{\"outlinewidth\":0,\"ticks\":\"\"},\"colorscale\":[[0.0,\"#0d0887\"],[0.1111111111111111,\"#46039f\"],[0.2222222222222222,\"#7201a8\"],[0.3333333333333333,\"#9c179e\"],[0.4444444444444444,\"#bd3786\"],[0.5555555555555556,\"#d8576b\"],[0.6666666666666666,\"#ed7953\"],[0.7777777777777778,\"#fb9f3a\"],[0.8888888888888888,\"#fdca26\"],[1.0,\"#f0f921\"]]}],\"surface\":[{\"type\":\"surface\",\"colorbar\":{\"outlinewidth\":0,\"ticks\":\"\"},\"colorscale\":[[0.0,\"#0d0887\"],[0.1111111111111111,\"#46039f\"],[0.2222222222222222,\"#7201a8\"],[0.3333333333333333,\"#9c179e\"],[0.4444444444444444,\"#bd3786\"],[0.5555555555555556,\"#d8576b\"],[0.6666666666666666,\"#ed7953\"],[0.7777777777777778,\"#fb9f3a\"],[0.8888888888888888,\"#fdca26\"],[1.0,\"#f0f921\"]]}],\"mesh3d\":[{\"type\":\"mesh3d\",\"colorbar\":{\"outlinewidth\":0,\"ticks\":\"\"}}],\"scatter\":[{\"fillpattern\":{\"fillmode\":\"overlay\",\"size\":10,\"solidity\":0.2},\"type\":\"scatter\"}],\"parcoords\":[{\"type\":\"parcoords\",\"line\":{\"colorbar\":{\"outlinewidth\":0,\"ticks\":\"\"}}}],\"scatterpolargl\":[{\"type\":\"scatterpolargl\",\"marker\":{\"colorbar\":{\"outlinewidth\":0,\"ticks\":\"\"}}}],\"bar\":[{\"error_x\":{\"color\":\"#2a3f5f\"},\"error_y\":{\"color\":\"#2a3f5f\"},\"marker\":{\"line\":{\"color\":\"white\",\"width\":0.5},\"pattern\":{\"fillmode\":\"overlay\",\"size\":10,\"solidity\":0.2}},\"type\":\"bar\"}],\"scattergeo\":[{\"type\":\"scattergeo\",\"marker\":{\"colorbar\":{\"outlinewidth\":0,\"ticks\":\"\"}}}],\"scatterpolar\":[{\"type\":\"scatterpolar\",\"marker\":{\"colorbar\":{\"outlinewidth\":0,\"ticks\":\"\"}}}],\"histogram\":[{\"marker\":{\"pattern\":{\"fillmode\":\"overlay\",\"size\":10,\"solidity\":0.2}},\"type\":\"histogram\"}],\"scattergl\":[{\"type\":\"scattergl\",\"marker\":{\"colorbar\":{\"outlinewidth\":0,\"ticks\":\"\"}}}],\"scatter3d\":[{\"type\":\"scatter3d\",\"line\":{\"colorbar\":{\"outlinewidth\":0,\"ticks\":\"\"}},\"marker\":{\"colorbar\":{\"outlinewidth\":0,\"ticks\":\"\"}}}],\"scattermapbox\":[{\"type\":\"scattermapbox\",\"marker\":{\"colorbar\":{\"outlinewidth\":0,\"ticks\":\"\"}}}],\"scatterternary\":[{\"type\":\"scatterternary\",\"marker\":{\"colorbar\":{\"outlinewidth\":0,\"ticks\":\"\"}}}],\"scattercarpet\":[{\"type\":\"scattercarpet\",\"marker\":{\"colorbar\":{\"outlinewidth\":0,\"ticks\":\"\"}}}],\"carpet\":[{\"aaxis\":{\"endlinecolor\":\"#2a3f5f\",\"gridcolor\":\"#C8D4E3\",\"linecolor\":\"#C8D4E3\",\"minorgridcolor\":\"#C8D4E3\",\"startlinecolor\":\"#2a3f5f\"},\"baxis\":{\"endlinecolor\":\"#2a3f5f\",\"gridcolor\":\"#C8D4E3\",\"linecolor\":\"#C8D4E3\",\"minorgridcolor\":\"#C8D4E3\",\"startlinecolor\":\"#2a3f5f\"},\"type\":\"carpet\"}],\"table\":[{\"cells\":{\"fill\":{\"color\":\"#EBF0F8\"},\"line\":{\"color\":\"white\"}},\"header\":{\"fill\":{\"color\":\"#C8D4E3\"},\"line\":{\"color\":\"white\"}},\"type\":\"table\"}],\"barpolar\":[{\"marker\":{\"line\":{\"color\":\"white\",\"width\":0.5},\"pattern\":{\"fillmode\":\"overlay\",\"size\":10,\"solidity\":0.2}},\"type\":\"barpolar\"}],\"pie\":[{\"automargin\":true,\"type\":\"pie\"}]},\"layout\":{\"autotypenumbers\":\"strict\",\"colorway\":[\"#636efa\",\"#EF553B\",\"#00cc96\",\"#ab63fa\",\"#FFA15A\",\"#19d3f3\",\"#FF6692\",\"#B6E880\",\"#FF97FF\",\"#FECB52\"],\"font\":{\"color\":\"#2a3f5f\"},\"hovermode\":\"closest\",\"hoverlabel\":{\"align\":\"left\"},\"paper_bgcolor\":\"white\",\"plot_bgcolor\":\"white\",\"polar\":{\"bgcolor\":\"white\",\"angularaxis\":{\"gridcolor\":\"#EBF0F8\",\"linecolor\":\"#EBF0F8\",\"ticks\":\"\"},\"radialaxis\":{\"gridcolor\":\"#EBF0F8\",\"linecolor\":\"#EBF0F8\",\"ticks\":\"\"}},\"ternary\":{\"bgcolor\":\"white\",\"aaxis\":{\"gridcolor\":\"#DFE8F3\",\"linecolor\":\"#A2B1C6\",\"ticks\":\"\"},\"baxis\":{\"gridcolor\":\"#DFE8F3\",\"linecolor\":\"#A2B1C6\",\"ticks\":\"\"},\"caxis\":{\"gridcolor\":\"#DFE8F3\",\"linecolor\":\"#A2B1C6\",\"ticks\":\"\"}},\"coloraxis\":{\"colorbar\":{\"outlinewidth\":0,\"ticks\":\"\"}},\"colorscale\":{\"sequential\":[[0.0,\"#0d0887\"],[0.1111111111111111,\"#46039f\"],[0.2222222222222222,\"#7201a8\"],[0.3333333333333333,\"#9c179e\"],[0.4444444444444444,\"#bd3786\"],[0.5555555555555556,\"#d8576b\"],[0.6666666666666666,\"#ed7953\"],[0.7777777777777778,\"#fb9f3a\"],[0.8888888888888888,\"#fdca26\"],[1.0,\"#f0f921\"]],\"sequentialminus\":[[0.0,\"#0d0887\"],[0.1111111111111111,\"#46039f\"],[0.2222222222222222,\"#7201a8\"],[0.3333333333333333,\"#9c179e\"],[0.4444444444444444,\"#bd3786\"],[0.5555555555555556,\"#d8576b\"],[0.6666666666666666,\"#ed7953\"],[0.7777777777777778,\"#fb9f3a\"],[0.8888888888888888,\"#fdca26\"],[1.0,\"#f0f921\"]],\"diverging\":[[0,\"#8e0152\"],[0.1,\"#c51b7d\"],[0.2,\"#de77ae\"],[0.3,\"#f1b6da\"],[0.4,\"#fde0ef\"],[0.5,\"#f7f7f7\"],[0.6,\"#e6f5d0\"],[0.7,\"#b8e186\"],[0.8,\"#7fbc41\"],[0.9,\"#4d9221\"],[1,\"#276419\"]]},\"xaxis\":{\"gridcolor\":\"#EBF0F8\",\"linecolor\":\"#EBF0F8\",\"ticks\":\"\",\"title\":{\"standoff\":15},\"zerolinecolor\":\"#EBF0F8\",\"automargin\":true,\"zerolinewidth\":2},\"yaxis\":{\"gridcolor\":\"#EBF0F8\",\"linecolor\":\"#EBF0F8\",\"ticks\":\"\",\"title\":{\"standoff\":15},\"zerolinecolor\":\"#EBF0F8\",\"automargin\":true,\"zerolinewidth\":2},\"scene\":{\"xaxis\":{\"backgroundcolor\":\"white\",\"gridcolor\":\"#DFE8F3\",\"linecolor\":\"#EBF0F8\",\"showbackground\":true,\"ticks\":\"\",\"zerolinecolor\":\"#EBF0F8\",\"gridwidth\":2},\"yaxis\":{\"backgroundcolor\":\"white\",\"gridcolor\":\"#DFE8F3\",\"linecolor\":\"#EBF0F8\",\"showbackground\":true,\"ticks\":\"\",\"zerolinecolor\":\"#EBF0F8\",\"gridwidth\":2},\"zaxis\":{\"backgroundcolor\":\"white\",\"gridcolor\":\"#DFE8F3\",\"linecolor\":\"#EBF0F8\",\"showbackground\":true,\"ticks\":\"\",\"zerolinecolor\":\"#EBF0F8\",\"gridwidth\":2}},\"shapedefaults\":{\"line\":{\"color\":\"#2a3f5f\"}},\"annotationdefaults\":{\"arrowcolor\":\"#2a3f5f\",\"arrowhead\":0,\"arrowwidth\":1},\"geo\":{\"bgcolor\":\"white\",\"landcolor\":\"white\",\"subunitcolor\":\"#C8D4E3\",\"showland\":true,\"showlakes\":true,\"lakecolor\":\"white\"},\"title\":{\"x\":0.05},\"mapbox\":{\"style\":\"light\"}}},\"xaxis\":{\"anchor\":\"y\",\"domain\":[0.0,1.0],\"title\":{\"text\":\"pickup \\uc2dc\\uac04\"}},\"yaxis\":{\"anchor\":\"x\",\"domain\":[0.0,1.0],\"title\":{\"text\":\"\\uc694\\uc77c\"}},\"coloraxis\":{\"colorbar\":{\"title\":{\"text\":\"\\ud3c9\\uade0\\uc774\\ub3d9\\uac70\\ub9ac\"}},\"colorscale\":[[0.0,\"#0d0887\"],[0.1111111111111111,\"#46039f\"],[0.2222222222222222,\"#7201a8\"],[0.3333333333333333,\"#9c179e\"],[0.4444444444444444,\"#bd3786\"],[0.5555555555555556,\"#d8576b\"],[0.6666666666666666,\"#ed7953\"],[0.7777777777777778,\"#fb9f3a\"],[0.8888888888888888,\"#fdca26\"],[1.0,\"#f0f921\"]]},\"legend\":{\"tracegroupgap\":0},\"margin\":{\"t\":60},\"height\":450},                        {\"responsive\": true}                    ).then(function(){\n",
       "                            \n",
       "var gd = document.getElementById('4d3a8997-9080-47da-8f60-f45a0cdf745b');\n",
       "var x = new MutationObserver(function (mutations, observer) {{\n",
       "        var display = window.getComputedStyle(gd).display;\n",
       "        if (!display || display === 'none') {{\n",
       "            console.log([gd, 'removed!']);\n",
       "            Plotly.purge(gd);\n",
       "            observer.disconnect();\n",
       "        }}\n",
       "}});\n",
       "\n",
       "// Listen for the removal of the full notebook cells\n",
       "var notebookContainer = gd.closest('#notebook-container');\n",
       "if (notebookContainer) {{\n",
       "    x.observe(notebookContainer, {childList: true});\n",
       "}}\n",
       "\n",
       "// Listen for the clearing of the current output cell\n",
       "var outputEl = gd.closest('.output');\n",
       "if (outputEl) {{\n",
       "    x.observe(outputEl, {childList: true});\n",
       "}}\n",
       "\n",
       "                        })                };                });            </script>        </div>"
      ]
     },
     "metadata": {},
     "output_type": "display_data"
    }
   ],
   "source": [
    "tidydata = df.pivot_table(\n",
    "    index = 'pickup_hour',\n",
    "    columns = 'dayofweek',\n",
    "    values = 'dist',\n",
    "    aggfunc = 'mean'\n",
    ").stack().reset_index().rename({0:'dist_mean'},axis=1)\\\n",
    ".set_index(['pickup_hour','dist_mean']).apply(lambda x: x.replace({0:'월',1:'화',2:'수',3:'목',4:'금',5:'토',6:'일'})).reset_index()\n",
    "px.density_heatmap(\n",
    "    data_frame=tidydata,\n",
    "    x='pickup_hour',\n",
    "    y='dayofweek',\n",
    "    z='dist_mean',\n",
    "    nbinsx=24,\n",
    "    nbinsy=7,\n",
    "    height=450\n",
    ").update_layout(coloraxis_colorbar=dict(\n",
    "    title=\"평균이동거리\"),xaxis=dict(title='pickup 시간'),yaxis=dict(title='요일'))"
   ]
  },
  {
   "cell_type": "code",
   "execution_count": 5,
   "id": "b46717c4-df5f-4360-a93b-9257551f5792",
   "metadata": {},
   "outputs": [],
   "source": []
  },
  {
   "cell_type": "code",
   "execution_count": 15,
   "id": "50662458-345b-4cbe-9324-8834730ea18d",
   "metadata": {},
   "outputs": [
    {
     "name": "stderr",
     "output_type": "stream",
     "text": [
      "/root/anaconda3/envs/dv2023/lib/python3.10/site-packages/plotly/express/_core.py:2044: FutureWarning:\n",
      "\n",
      "The default of observed=False is deprecated and will be changed to True in a future version of pandas. Pass observed=False to retain current behavior or observed=True to adopt the future default and silence this warning.\n",
      "\n",
      "/root/anaconda3/envs/dv2023/lib/python3.10/site-packages/plotly/express/_core.py:2044: FutureWarning:\n",
      "\n",
      "The default of observed=False is deprecated and will be changed to True in a future version of pandas. Pass observed=False to retain current behavior or observed=True to adopt the future default and silence this warning.\n",
      "\n"
     ]
    },
    {
     "data": {
      "application/vnd.plotly.v1+json": {
       "config": {
        "plotlyServerURL": "https://plot.ly"
       },
       "data": [
        {
         "hovertemplate": "평균속력=매우느림<br>id=id1891478<br>latitude=%{lat}<br>longitude=%{lon}<extra></extra>",
         "lat": [
          40.75983047485352,
          40.75983047485352
         ],
         "legendgroup": "매우느림",
         "line": {
          "color": "#636efa",
          "width": 1
         },
         "lon": [
          -73.97090148925781,
          -73.97090148925781
         ],
         "mode": "lines",
         "name": "매우느림 (pickup/dropoff)",
         "opacity": 0.8,
         "showlegend": true,
         "subplot": "mapbox",
         "type": "scattermapbox"
        },
        {
         "hovertemplate": "평균속력=매우느림<br>id=id1395947<br>latitude=%{lat}<br>longitude=%{lon}<extra></extra>",
         "lat": [
          40.78168487548828,
          40.781299591064446
         ],
         "legendgroup": "매우느림",
         "line": {
          "color": "#636efa",
          "width": 1
         },
         "lon": [
          -73.98113250732422,
          -73.981201171875
         ],
         "mode": "lines",
         "name": "매우느림 (pickup/dropoff)",
         "opacity": 0.8,
         "showlegend": false,
         "subplot": "mapbox",
         "type": "scattermapbox"
        },
        {
         "hovertemplate": "평균속력=매우느림<br>id=id0616736<br>latitude=%{lat}<br>longitude=%{lon}<extra></extra>",
         "lat": [
          40.763519287109375,
          40.761749267578125
         ],
         "legendgroup": "매우느림",
         "line": {
          "color": "#636efa",
          "width": 1
         },
         "lon": [
          -73.96932220458984,
          -73.97138977050781
         ],
         "mode": "lines",
         "name": "매우느림 (pickup/dropoff)",
         "opacity": 0.8,
         "showlegend": false,
         "subplot": "mapbox",
         "type": "scattermapbox"
        },
        {
         "hovertemplate": "평균속력=매우느림<br>id=id1509328<br>latitude=%{lat}<br>longitude=%{lon}<extra></extra>",
         "lat": [
          40.74432373046875,
          40.74211883544922
         ],
         "legendgroup": "매우느림",
         "line": {
          "color": "#636efa",
          "width": 1
         },
         "lon": [
          -73.98423767089844,
          -73.97466278076173
         ],
         "mode": "lines",
         "name": "매우느림 (pickup/dropoff)",
         "opacity": 0.8,
         "showlegend": false,
         "subplot": "mapbox",
         "type": "scattermapbox"
        },
        {
         "hovertemplate": "평균속력=매우느림<br>id=id3407848<br>latitude=%{lat}<br>longitude=%{lon}<extra></extra>",
         "lat": [
          40.70718383789063,
          40.70901870727539
         ],
         "legendgroup": "매우느림",
         "line": {
          "color": "#636efa",
          "width": 1
         },
         "lon": [
          -74.01651763916014,
          -74.0118637084961
         ],
         "mode": "lines",
         "name": "매우느림 (pickup/dropoff)",
         "opacity": 0.8,
         "showlegend": false,
         "subplot": "mapbox",
         "type": "scattermapbox"
        },
        {
         "hovertemplate": "평균속력=매우느림<br>id=id1485571<br>latitude=%{lat}<br>longitude=%{lon}<extra></extra>",
         "lat": [
          40.77154159545898,
          40.77495956420898
         ],
         "legendgroup": "매우느림",
         "line": {
          "color": "#636efa",
          "width": 1
         },
         "lon": [
          -73.9818115234375,
          -73.98088073730467
         ],
         "mode": "lines",
         "name": "매우느림 (pickup/dropoff)",
         "opacity": 0.8,
         "showlegend": false,
         "subplot": "mapbox",
         "type": "scattermapbox"
        },
        {
         "hovertemplate": "평균속력=매우느림<br>id=id0179765<br>latitude=%{lat}<br>longitude=%{lon}<extra></extra>",
         "lat": [
          40.72530364990234,
          40.71965026855469
         ],
         "legendgroup": "매우느림",
         "line": {
          "color": "#636efa",
          "width": 1
         },
         "lon": [
          -73.9925537109375,
          -73.9946060180664
         ],
         "mode": "lines",
         "name": "매우느림 (pickup/dropoff)",
         "opacity": 0.8,
         "showlegend": false,
         "subplot": "mapbox",
         "type": "scattermapbox"
        },
        {
         "hovertemplate": "평균속력=매우느림<br>id=id0500836<br>latitude=%{lat}<br>longitude=%{lon}<extra></extra>",
         "lat": [
          40.75623321533203,
          40.734371185302734
         ],
         "legendgroup": "매우느림",
         "line": {
          "color": "#636efa",
          "width": 1
         },
         "lon": [
          -73.99331665039062,
          -73.98973846435547
         ],
         "mode": "lines",
         "name": "매우느림 (pickup/dropoff)",
         "opacity": 0.8,
         "showlegend": false,
         "subplot": "mapbox",
         "type": "scattermapbox"
        },
        {
         "hovertemplate": "평균속력=매우느림<br>id=id1727712<br>latitude=%{lat}<br>longitude=%{lon}<extra></extra>",
         "lat": [
          40.739540100097656,
          40.735721588134766
         ],
         "legendgroup": "매우느림",
         "line": {
          "color": "#636efa",
          "width": 1
         },
         "lon": [
          -73.98706817626953,
          -73.98265838623048
         ],
         "mode": "lines",
         "name": "매우느림 (pickup/dropoff)",
         "opacity": 0.8,
         "showlegend": false,
         "subplot": "mapbox",
         "type": "scattermapbox"
        },
        {
         "hovertemplate": "평균속력=매우느림<br>id=id3810822<br>latitude=%{lat}<br>longitude=%{lon}<extra></extra>",
         "lat": [
          40.73308181762695,
          40.730018615722656
         ],
         "legendgroup": "매우느림",
         "line": {
          "color": "#636efa",
          "width": 1
         },
         "lon": [
          -74.00662231445312,
          -74.00050354003906
         ],
         "mode": "lines",
         "name": "매우느림 (pickup/dropoff)",
         "opacity": 0.8,
         "showlegend": false,
         "subplot": "mapbox",
         "type": "scattermapbox"
        },
        {
         "hovertemplate": "평균속력=매우느림<br>id=id3547943<br>latitude=%{lat}<br>longitude=%{lon}<extra></extra>",
         "lat": [
          40.776123046875,
          40.77534103393555
         ],
         "legendgroup": "매우느림",
         "line": {
          "color": "#636efa",
          "width": 1
         },
         "lon": [
          -73.96235656738281,
          -73.96501922607422
         ],
         "mode": "lines",
         "name": "매우느림 (pickup/dropoff)",
         "opacity": 0.8,
         "showlegend": false,
         "subplot": "mapbox",
         "type": "scattermapbox"
        },
        {
         "hovertemplate": "평균속력=매우느림<br>id=id2882780<br>latitude=%{lat}<br>longitude=%{lon}<extra></extra>",
         "lat": [
          40.746826171875,
          40.777099609375
         ],
         "legendgroup": "매우느림",
         "line": {
          "color": "#636efa",
          "width": 1
         },
         "lon": [
          -73.99005889892578,
          -73.97775268554686
         ],
         "mode": "lines",
         "name": "매우느림 (pickup/dropoff)",
         "opacity": 0.8,
         "showlegend": false,
         "subplot": "mapbox",
         "type": "scattermapbox"
        },
        {
         "hovertemplate": "평균속력=매우느림<br>id=id0092643<br>latitude=%{lat}<br>longitude=%{lon}<extra></extra>",
         "lat": [
          40.74184036254882,
          40.74722671508789
         ],
         "legendgroup": "매우느림",
         "line": {
          "color": "#636efa",
          "width": 1
         },
         "lon": [
          -74.0008773803711,
          -73.9910430908203
         ],
         "mode": "lines",
         "name": "매우느림 (pickup/dropoff)",
         "opacity": 0.8,
         "showlegend": false,
         "subplot": "mapbox",
         "type": "scattermapbox"
        },
        {
         "hovertemplate": "평균속력=매우느림<br>id=id0797253<br>latitude=%{lat}<br>longitude=%{lon}<extra></extra>",
         "lat": [
          40.7467155456543,
          40.75249862670898
         ],
         "legendgroup": "매우느림",
         "line": {
          "color": "#636efa",
          "width": 1
         },
         "lon": [
          -73.98993682861328,
          -73.97853851318358
         ],
         "mode": "lines",
         "name": "매우느림 (pickup/dropoff)",
         "opacity": 0.8,
         "showlegend": false,
         "subplot": "mapbox",
         "type": "scattermapbox"
        },
        {
         "hovertemplate": "평균속력=매우느림<br>id=id3758654<br>latitude=%{lat}<br>longitude=%{lon}<extra></extra>",
         "lat": [
          40.72259521484375,
          40.72389602661133
         ],
         "legendgroup": "매우느림",
         "line": {
          "color": "#636efa",
          "width": 1
         },
         "lon": [
          -74.00528717041014,
          -74.00457000732422
         ],
         "mode": "lines",
         "name": "매우느림 (pickup/dropoff)",
         "opacity": 0.8,
         "showlegend": false,
         "subplot": "mapbox",
         "type": "scattermapbox"
        },
        {
         "hovertemplate": "평균속력=매우느림<br>id=id3572411<br>latitude=%{lat}<br>longitude=%{lon}<extra></extra>",
         "lat": [
          40.76140594482422,
          40.76454162597656
         ],
         "legendgroup": "매우느림",
         "line": {
          "color": "#636efa",
          "width": 1
         },
         "lon": [
          -73.97090911865233,
          -73.97366333007811
         ],
         "mode": "lines",
         "name": "매우느림 (pickup/dropoff)",
         "opacity": 0.8,
         "showlegend": false,
         "subplot": "mapbox",
         "type": "scattermapbox"
        },
        {
         "hovertemplate": "평균속력=매우느림<br>id=id1710393<br>latitude=%{lat}<br>longitude=%{lon}<extra></extra>",
         "lat": [
          40.744140625,
          40.74169921875
         ],
         "legendgroup": "매우느림",
         "line": {
          "color": "#636efa",
          "width": 1
         },
         "lon": [
          -73.97913360595702,
          -73.97492218017578
         ],
         "mode": "lines",
         "name": "매우느림 (pickup/dropoff)",
         "opacity": 0.8,
         "showlegend": false,
         "subplot": "mapbox",
         "type": "scattermapbox"
        },
        {
         "hovertemplate": "평균속력=매우느림<br>id=id2113737<br>latitude=%{lat}<br>longitude=%{lon}<extra></extra>",
         "lat": [
          40.78596115112305,
          40.77871322631836
         ],
         "legendgroup": "매우느림",
         "line": {
          "color": "#636efa",
          "width": 1
         },
         "lon": [
          -73.97699737548828,
          -73.9814453125
         ],
         "mode": "lines",
         "name": "매우느림 (pickup/dropoff)",
         "opacity": 0.8,
         "showlegend": false,
         "subplot": "mapbox",
         "type": "scattermapbox"
        },
        {
         "hovertemplate": "평균속력=매우느림<br>id=id0297795<br>latitude=%{lat}<br>longitude=%{lon}<extra></extra>",
         "lat": [
          40.794048309326165,
          40.79790878295898
         ],
         "legendgroup": "매우느림",
         "line": {
          "color": "#636efa",
          "width": 1
         },
         "lon": [
          -73.97196960449217,
          -73.97329711914062
         ],
         "mode": "lines",
         "name": "매우느림 (pickup/dropoff)",
         "opacity": 0.8,
         "showlegend": false,
         "subplot": "mapbox",
         "type": "scattermapbox"
        },
        {
         "hovertemplate": "평균속력=매우느림<br>id=id1062824<br>latitude=%{lat}<br>longitude=%{lon}<extra></extra>",
         "lat": [
          40.76639175415039,
          40.75261306762695
         ],
         "legendgroup": "매우느림",
         "line": {
          "color": "#636efa",
          "width": 1
         },
         "lon": [
          -73.96286010742188,
          -73.98545074462889
         ],
         "mode": "lines",
         "name": "매우느림 (pickup/dropoff)",
         "opacity": 0.8,
         "showlegend": false,
         "subplot": "mapbox",
         "type": "scattermapbox"
        },
        {
         "hovertemplate": "평균속력=매우느림<br>id=id1625242<br>latitude=%{lat}<br>longitude=%{lon}<extra></extra>",
         "lat": [
          40.73777770996094,
          40.74677658081056
         ],
         "legendgroup": "매우느림",
         "line": {
          "color": "#636efa",
          "width": 1
         },
         "lon": [
          -73.99762725830078,
          -74.00828552246092
         ],
         "mode": "lines",
         "name": "매우느림 (pickup/dropoff)",
         "opacity": 0.8,
         "showlegend": false,
         "subplot": "mapbox",
         "type": "scattermapbox"
        },
        {
         "hovertemplate": "평균속력=매우느림<br>id=id3281834<br>latitude=%{lat}<br>longitude=%{lon}<extra></extra>",
         "lat": [
          40.7393684387207,
          40.74413299560546
         ],
         "legendgroup": "매우느림",
         "line": {
          "color": "#636efa",
          "width": 1
         },
         "lon": [
          -74.00737762451173,
          -74.00689697265625
         ],
         "mode": "lines",
         "name": "매우느림 (pickup/dropoff)",
         "opacity": 0.8,
         "showlegend": false,
         "subplot": "mapbox",
         "type": "scattermapbox"
        },
        {
         "hovertemplate": "평균속력=매우느림<br>id=id2916371<br>latitude=%{lat}<br>longitude=%{lon}<extra></extra>",
         "lat": [
          40.7324447631836,
          40.7302360534668
         ],
         "legendgroup": "매우느림",
         "line": {
          "color": "#636efa",
          "width": 1
         },
         "lon": [
          -74.00647735595702,
          -73.99922180175781
         ],
         "mode": "lines",
         "name": "매우느림 (pickup/dropoff)",
         "opacity": 0.8,
         "showlegend": false,
         "subplot": "mapbox",
         "type": "scattermapbox"
        },
        {
         "hovertemplate": "평균속력=매우느림<br>id=id0120497<br>latitude=%{lat}<br>longitude=%{lon}<extra></extra>",
         "lat": [
          40.74240493774414,
          40.72117233276367
         ],
         "legendgroup": "매우느림",
         "line": {
          "color": "#636efa",
          "width": 1
         },
         "lon": [
          -74.00107574462889,
          -73.98760986328125
         ],
         "mode": "lines",
         "name": "매우느림 (pickup/dropoff)",
         "opacity": 0.8,
         "showlegend": false,
         "subplot": "mapbox",
         "type": "scattermapbox"
        },
        {
         "hovertemplate": "평균속력=매우느림<br>id=id2054788<br>latitude=%{lat}<br>longitude=%{lon}<extra></extra>",
         "lat": [
          40.76290130615234,
          40.74275970458984
         ],
         "legendgroup": "매우느림",
         "line": {
          "color": "#636efa",
          "width": 1
         },
         "lon": [
          -73.98320770263672,
          -73.97737884521484
         ],
         "mode": "lines",
         "name": "매우느림 (pickup/dropoff)",
         "opacity": 0.8,
         "showlegend": false,
         "subplot": "mapbox",
         "type": "scattermapbox"
        },
        {
         "hovertemplate": "평균속력=매우느림<br>id=id3888107<br>latitude=%{lat}<br>longitude=%{lon}<extra></extra>",
         "lat": [
          40.757469177246094,
          40.771968841552734
         ],
         "legendgroup": "매우느림",
         "line": {
          "color": "#636efa",
          "width": 1
         },
         "lon": [
          -73.96942901611328,
          -73.9827423095703
         ],
         "mode": "lines",
         "name": "매우느림 (pickup/dropoff)",
         "opacity": 0.8,
         "showlegend": false,
         "subplot": "mapbox",
         "type": "scattermapbox"
        },
        {
         "hovertemplate": "평균속력=매우느림<br>id=id3094934<br>latitude=%{lat}<br>longitude=%{lon}<extra></extra>",
         "lat": [
          40.72243118286133,
          40.76266860961913
         ],
         "legendgroup": "매우느림",
         "line": {
          "color": "#636efa",
          "width": 1
         },
         "lon": [
          -73.98615264892578,
          -73.98597717285155
         ],
         "mode": "lines",
         "name": "매우느림 (pickup/dropoff)",
         "opacity": 0.8,
         "showlegend": false,
         "subplot": "mapbox",
         "type": "scattermapbox"
        },
        {
         "hovertemplate": "평균속력=매우느림<br>id=id0833022<br>latitude=%{lat}<br>longitude=%{lon}<extra></extra>",
         "lat": [
          40.79840850830078,
          40.79058837890625
         ],
         "legendgroup": "매우느림",
         "line": {
          "color": "#636efa",
          "width": 1
         },
         "lon": [
          -73.95243072509764,
          -73.949951171875
         ],
         "mode": "lines",
         "name": "매우느림 (pickup/dropoff)",
         "opacity": 0.8,
         "showlegend": false,
         "subplot": "mapbox",
         "type": "scattermapbox"
        },
        {
         "hovertemplate": "평균속력=매우느림<br>id=id3579875<br>latitude=%{lat}<br>longitude=%{lon}<extra></extra>",
         "lat": [
          40.76341247558594,
          40.71963119506836
         ],
         "legendgroup": "매우느림",
         "line": {
          "color": "#636efa",
          "width": 1
         },
         "lon": [
          -73.98194122314453,
          -73.99542999267578
         ],
         "mode": "lines",
         "name": "매우느림 (pickup/dropoff)",
         "opacity": 0.8,
         "showlegend": false,
         "subplot": "mapbox",
         "type": "scattermapbox"
        },
        {
         "hovertemplate": "평균속력=매우느림<br>id=id3508248<br>latitude=%{lat}<br>longitude=%{lon}<extra></extra>",
         "lat": [
          40.74380493164063,
          40.75000762939453
         ],
         "legendgroup": "매우느림",
         "line": {
          "color": "#636efa",
          "width": 1
         },
         "lon": [
          -73.98795318603516,
          -73.99179077148438
         ],
         "mode": "lines",
         "name": "매우느림 (pickup/dropoff)",
         "opacity": 0.8,
         "showlegend": false,
         "subplot": "mapbox",
         "type": "scattermapbox"
        },
        {
         "hovertemplate": "평균속력=매우느림<br>id=id1927858<br>latitude=%{lat}<br>longitude=%{lon}<extra></extra>",
         "lat": [
          40.74729537963867,
          40.761695861816406
         ],
         "legendgroup": "매우느림",
         "line": {
          "color": "#636efa",
          "width": 1
         },
         "lon": [
          -73.98175048828125,
          -74.00177764892578
         ],
         "mode": "lines",
         "name": "매우느림 (pickup/dropoff)",
         "opacity": 0.8,
         "showlegend": false,
         "subplot": "mapbox",
         "type": "scattermapbox"
        },
        {
         "hovertemplate": "평균속력=매우느림<br>id=id0833453<br>latitude=%{lat}<br>longitude=%{lon}<extra></extra>",
         "lat": [
          40.72234725952149,
          40.74566268920898
         ],
         "legendgroup": "매우느림",
         "line": {
          "color": "#636efa",
          "width": 1
         },
         "lon": [
          -73.99722290039062,
          -73.98463439941406
         ],
         "mode": "lines",
         "name": "매우느림 (pickup/dropoff)",
         "opacity": 0.8,
         "showlegend": false,
         "subplot": "mapbox",
         "type": "scattermapbox"
        },
        {
         "hovertemplate": "평균속력=매우느림<br>id=id0503659<br>latitude=%{lat}<br>longitude=%{lon}<extra></extra>",
         "lat": [
          40.78450012207031,
          40.804832458496094
         ],
         "legendgroup": "매우느림",
         "line": {
          "color": "#636efa",
          "width": 1
         },
         "lon": [
          -73.95220947265625,
          -73.96610260009764
         ],
         "mode": "lines",
         "name": "매우느림 (pickup/dropoff)",
         "opacity": 0.8,
         "showlegend": false,
         "subplot": "mapbox",
         "type": "scattermapbox"
        },
        {
         "hovertemplate": "평균속력=매우느림<br>id=id0261033<br>latitude=%{lat}<br>longitude=%{lon}<extra></extra>",
         "lat": [
          40.773868560791016,
          40.75505065917969
         ],
         "legendgroup": "매우느림",
         "line": {
          "color": "#636efa",
          "width": 1
         },
         "lon": [
          -73.98236846923827,
          -73.97960662841797
         ],
         "mode": "lines",
         "name": "매우느림 (pickup/dropoff)",
         "opacity": 0.8,
         "showlegend": false,
         "subplot": "mapbox",
         "type": "scattermapbox"
        },
        {
         "hovertemplate": "평균속력=매우느림<br>id=id2002463<br>latitude=%{lat}<br>longitude=%{lon}<extra></extra>",
         "lat": [
          40.7683982849121,
          40.7793083190918
         ],
         "legendgroup": "매우느림",
         "line": {
          "color": "#636efa",
          "width": 1
         },
         "lon": [
          -73.9656524658203,
          -73.96006774902342
         ],
         "mode": "lines",
         "name": "매우느림 (pickup/dropoff)",
         "opacity": 0.8,
         "showlegend": false,
         "subplot": "mapbox",
         "type": "scattermapbox"
        },
        {
         "hovertemplate": "평균속력=매우느림<br>id=id0660195<br>latitude=%{lat}<br>longitude=%{lon}<extra></extra>",
         "lat": [
          40.77922821044922,
          40.746257781982415
         ],
         "legendgroup": "매우느림",
         "line": {
          "color": "#636efa",
          "width": 1
         },
         "lon": [
          -73.95587921142578,
          -73.98580169677734
         ],
         "mode": "lines",
         "name": "매우느림 (pickup/dropoff)",
         "opacity": 0.8,
         "showlegend": false,
         "subplot": "mapbox",
         "type": "scattermapbox"
        },
        {
         "hovertemplate": "평균속력=매우느림<br>id=id1986470<br>latitude=%{lat}<br>longitude=%{lon}<extra></extra>",
         "lat": [
          40.75796890258789,
          40.743770599365234
         ],
         "legendgroup": "매우느림",
         "line": {
          "color": "#636efa",
          "width": 1
         },
         "lon": [
          -73.98609161376953,
          -73.98335266113281
         ],
         "mode": "lines",
         "name": "매우느림 (pickup/dropoff)",
         "opacity": 0.8,
         "showlegend": false,
         "subplot": "mapbox",
         "type": "scattermapbox"
        },
        {
         "hovertemplate": "평균속력=조금느림<br>id=id0767292<br>latitude=%{lat}<br>longitude=%{lon}<extra></extra>",
         "lat": [
          40.74156188964844,
          40.75085067749024
         ],
         "legendgroup": "조금느림",
         "line": {
          "color": "#EF553B",
          "width": 1
         },
         "lon": [
          -73.993896484375,
          -73.97830963134764
         ],
         "mode": "lines",
         "name": "조금느림 (pickup/dropoff)",
         "opacity": 0.8,
         "showlegend": true,
         "subplot": "mapbox",
         "type": "scattermapbox"
        },
        {
         "hovertemplate": "평균속력=조금느림<br>id=id0303696<br>latitude=%{lat}<br>longitude=%{lon}<extra></extra>",
         "lat": [
          40.76424789428711,
          40.763145446777344
         ],
         "legendgroup": "조금느림",
         "line": {
          "color": "#EF553B",
          "width": 1
         },
         "lon": [
          -73.95646667480467,
          -73.96985626220702
         ],
         "mode": "lines",
         "name": "조금느림 (pickup/dropoff)",
         "opacity": 0.8,
         "showlegend": false,
         "subplot": "mapbox",
         "type": "scattermapbox"
        },
        {
         "hovertemplate": "평균속력=조금느림<br>id=id1423063<br>latitude=%{lat}<br>longitude=%{lon}<extra></extra>",
         "lat": [
          40.777053833007805,
          40.76767349243164
         ],
         "legendgroup": "조금느림",
         "line": {
          "color": "#EF553B",
          "width": 1
         },
         "lon": [
          -73.98257446289062,
          -73.98075866699219
         ],
         "mode": "lines",
         "name": "조금느림 (pickup/dropoff)",
         "opacity": 0.8,
         "showlegend": false,
         "subplot": "mapbox",
         "type": "scattermapbox"
        },
        {
         "hovertemplate": "평균속력=조금느림<br>id=id2203238<br>latitude=%{lat}<br>longitude=%{lon}<extra></extra>",
         "lat": [
          40.730010986328125,
          40.73989868164063
         ],
         "legendgroup": "조금느림",
         "line": {
          "color": "#EF553B",
          "width": 1
         },
         "lon": [
          -73.9792709350586,
          -73.98174285888672
         ],
         "mode": "lines",
         "name": "조금느림 (pickup/dropoff)",
         "opacity": 0.8,
         "showlegend": false,
         "subplot": "mapbox",
         "type": "scattermapbox"
        },
        {
         "hovertemplate": "평균속력=조금느림<br>id=id3083921<br>latitude=%{lat}<br>longitude=%{lon}<extra></extra>",
         "lat": [
          40.763973236083984,
          40.76081848144531
         ],
         "legendgroup": "조금느림",
         "line": {
          "color": "#EF553B",
          "width": 1
         },
         "lon": [
          -73.99028778076173,
          -73.97960662841797
         ],
         "mode": "lines",
         "name": "조금느림 (pickup/dropoff)",
         "opacity": 0.8,
         "showlegend": false,
         "subplot": "mapbox",
         "type": "scattermapbox"
        },
        {
         "hovertemplate": "평균속력=조금느림<br>id=id0597402<br>latitude=%{lat}<br>longitude=%{lon}<extra></extra>",
         "lat": [
          40.760250091552734,
          40.79518127441406
         ],
         "legendgroup": "조금느림",
         "line": {
          "color": "#EF553B",
          "width": 1
         },
         "lon": [
          -73.96861267089844,
          -73.96575927734375
         ],
         "mode": "lines",
         "name": "조금느림 (pickup/dropoff)",
         "opacity": 0.8,
         "showlegend": false,
         "subplot": "mapbox",
         "type": "scattermapbox"
        },
        {
         "hovertemplate": "평균속력=조금느림<br>id=id1944291<br>latitude=%{lat}<br>longitude=%{lon}<extra></extra>",
         "lat": [
          40.74981689453125,
          40.756885528564446
         ],
         "legendgroup": "조금느림",
         "line": {
          "color": "#EF553B",
          "width": 1
         },
         "lon": [
          -73.99140167236328,
          -73.9898910522461
         ],
         "mode": "lines",
         "name": "조금느림 (pickup/dropoff)",
         "opacity": 0.8,
         "showlegend": false,
         "subplot": "mapbox",
         "type": "scattermapbox"
        },
        {
         "hovertemplate": "평균속력=조금느림<br>id=id2587483<br>latitude=%{lat}<br>longitude=%{lon}<extra></extra>",
         "lat": [
          40.78707885742188,
          40.79246139526367
         ],
         "legendgroup": "조금느림",
         "line": {
          "color": "#EF553B",
          "width": 1
         },
         "lon": [
          -73.95390319824217,
          -73.94084167480467
         ],
         "mode": "lines",
         "name": "조금느림 (pickup/dropoff)",
         "opacity": 0.8,
         "showlegend": false,
         "subplot": "mapbox",
         "type": "scattermapbox"
        },
        {
         "hovertemplate": "평균속력=조금느림<br>id=id3485263<br>latitude=%{lat}<br>longitude=%{lon}<extra></extra>",
         "lat": [
          40.7226448059082,
          40.73473739624024
         ],
         "legendgroup": "조금느림",
         "line": {
          "color": "#EF553B",
          "width": 1
         },
         "lon": [
          -73.98736572265625,
          -74.0038833618164
         ],
         "mode": "lines",
         "name": "조금느림 (pickup/dropoff)",
         "opacity": 0.8,
         "showlegend": false,
         "subplot": "mapbox",
         "type": "scattermapbox"
        },
        {
         "hovertemplate": "평균속력=조금느림<br>id=id2210145<br>latitude=%{lat}<br>longitude=%{lon}<extra></extra>",
         "lat": [
          40.75053024291992,
          40.75751876831056
         ],
         "legendgroup": "조금느림",
         "line": {
          "color": "#EF553B",
          "width": 1
         },
         "lon": [
          -73.98738098144531,
          -73.98204803466798
         ],
         "mode": "lines",
         "name": "조금느림 (pickup/dropoff)",
         "opacity": 0.8,
         "showlegend": false,
         "subplot": "mapbox",
         "type": "scattermapbox"
        },
        {
         "hovertemplate": "평균속력=조금느림<br>id=id3796079<br>latitude=%{lat}<br>longitude=%{lon}<extra></extra>",
         "lat": [
          40.74673461914063,
          40.7509651184082
         ],
         "legendgroup": "조금느림",
         "line": {
          "color": "#EF553B",
          "width": 1
         },
         "lon": [
          -73.97140502929686,
          -73.97477722167967
         ],
         "mode": "lines",
         "name": "조금느림 (pickup/dropoff)",
         "opacity": 0.8,
         "showlegend": false,
         "subplot": "mapbox",
         "type": "scattermapbox"
        },
        {
         "hovertemplate": "평균속력=조금느림<br>id=id2533481<br>latitude=%{lat}<br>longitude=%{lon}<extra></extra>",
         "lat": [
          40.73553085327149,
          40.76554107666016
         ],
         "legendgroup": "조금느림",
         "line": {
          "color": "#EF553B",
          "width": 1
         },
         "lon": [
          -73.98988342285155,
          -73.97640228271484
         ],
         "mode": "lines",
         "name": "조금느림 (pickup/dropoff)",
         "opacity": 0.8,
         "showlegend": false,
         "subplot": "mapbox",
         "type": "scattermapbox"
        },
        {
         "hovertemplate": "평균속력=조금느림<br>id=id2237068<br>latitude=%{lat}<br>longitude=%{lon}<extra></extra>",
         "lat": [
          40.744510650634766,
          40.7564582824707
         ],
         "legendgroup": "조금느림",
         "line": {
          "color": "#EF553B",
          "width": 1
         },
         "lon": [
          -73.98111724853516,
          -74.00170135498048
         ],
         "mode": "lines",
         "name": "조금느림 (pickup/dropoff)",
         "opacity": 0.8,
         "showlegend": false,
         "subplot": "mapbox",
         "type": "scattermapbox"
        },
        {
         "hovertemplate": "평균속력=조금느림<br>id=id1635353<br>latitude=%{lat}<br>longitude=%{lon}<extra></extra>",
         "lat": [
          40.75918960571289,
          40.7098503112793
         ],
         "legendgroup": "조금느림",
         "line": {
          "color": "#EF553B",
          "width": 1
         },
         "lon": [
          -73.98509216308595,
          -73.96215057373048
         ],
         "mode": "lines",
         "name": "조금느림 (pickup/dropoff)",
         "opacity": 0.8,
         "showlegend": false,
         "subplot": "mapbox",
         "type": "scattermapbox"
        },
        {
         "hovertemplate": "평균속력=조금느림<br>id=id1365460<br>latitude=%{lat}<br>longitude=%{lon}<extra></extra>",
         "lat": [
          40.76905059814453,
          40.7630615234375
         ],
         "legendgroup": "조금느림",
         "line": {
          "color": "#EF553B",
          "width": 1
         },
         "lon": [
          -73.98491668701173,
          -73.97570037841797
         ],
         "mode": "lines",
         "name": "조금느림 (pickup/dropoff)",
         "opacity": 0.8,
         "showlegend": false,
         "subplot": "mapbox",
         "type": "scattermapbox"
        },
        {
         "hovertemplate": "평균속력=조금느림<br>id=id3611226<br>latitude=%{lat}<br>longitude=%{lon}<extra></extra>",
         "lat": [
          40.76215744018555,
          40.74748611450195
         ],
         "legendgroup": "조금느림",
         "line": {
          "color": "#EF553B",
          "width": 1
         },
         "lon": [
          -73.98597717285155,
          -73.97697448730467
         ],
         "mode": "lines",
         "name": "조금느림 (pickup/dropoff)",
         "opacity": 0.8,
         "showlegend": false,
         "subplot": "mapbox",
         "type": "scattermapbox"
        },
        {
         "hovertemplate": "평균속력=조금느림<br>id=id1018348<br>latitude=%{lat}<br>longitude=%{lon}<extra></extra>",
         "lat": [
          40.74530792236328,
          40.74227523803711
         ],
         "legendgroup": "조금느림",
         "line": {
          "color": "#EF553B",
          "width": 1
         },
         "lon": [
          -74.00784301757811,
          -73.98967742919923
         ],
         "mode": "lines",
         "name": "조금느림 (pickup/dropoff)",
         "opacity": 0.8,
         "showlegend": false,
         "subplot": "mapbox",
         "type": "scattermapbox"
        },
        {
         "hovertemplate": "평균속력=조금느림<br>id=id1160561<br>latitude=%{lat}<br>longitude=%{lon}<extra></extra>",
         "lat": [
          40.71868896484375,
          40.7457275390625
         ],
         "legendgroup": "조금느림",
         "line": {
          "color": "#EF553B",
          "width": 1
         },
         "lon": [
          -74.0053482055664,
          -73.9908905029297
         ],
         "mode": "lines",
         "name": "조금느림 (pickup/dropoff)",
         "opacity": 0.8,
         "showlegend": false,
         "subplot": "mapbox",
         "type": "scattermapbox"
        },
        {
         "hovertemplate": "평균속력=조금느림<br>id=id2939661<br>latitude=%{lat}<br>longitude=%{lon}<extra></extra>",
         "lat": [
          40.77298355102539,
          40.75412368774414
         ],
         "legendgroup": "조금느림",
         "line": {
          "color": "#EF553B",
          "width": 1
         },
         "lon": [
          -73.9782943725586,
          -73.97389221191406
         ],
         "mode": "lines",
         "name": "조금느림 (pickup/dropoff)",
         "opacity": 0.8,
         "showlegend": false,
         "subplot": "mapbox",
         "type": "scattermapbox"
        },
        {
         "hovertemplate": "평균속력=조금느림<br>id=id3120328<br>latitude=%{lat}<br>longitude=%{lon}<extra></extra>",
         "lat": [
          40.7714958190918,
          40.75320816040039
         ],
         "legendgroup": "조금느림",
         "line": {
          "color": "#EF553B",
          "width": 1
         },
         "lon": [
          -73.95969390869139,
          -73.98626708984375
         ],
         "mode": "lines",
         "name": "조금느림 (pickup/dropoff)",
         "opacity": 0.8,
         "showlegend": false,
         "subplot": "mapbox",
         "type": "scattermapbox"
        },
        {
         "hovertemplate": "평균속력=조금느림<br>id=id1139183<br>latitude=%{lat}<br>longitude=%{lon}<extra></extra>",
         "lat": [
          40.76704025268555,
          40.76899337768555
         ],
         "legendgroup": "조금느림",
         "line": {
          "color": "#EF553B",
          "width": 1
         },
         "lon": [
          -73.95381164550781,
          -73.96334075927734
         ],
         "mode": "lines",
         "name": "조금느림 (pickup/dropoff)",
         "opacity": 0.8,
         "showlegend": false,
         "subplot": "mapbox",
         "type": "scattermapbox"
        },
        {
         "hovertemplate": "평균속력=조금느림<br>id=id1188146<br>latitude=%{lat}<br>longitude=%{lon}<extra></extra>",
         "lat": [
          40.74298095703125,
          40.71076965332031
         ],
         "legendgroup": "조금느림",
         "line": {
          "color": "#EF553B",
          "width": 1
         },
         "lon": [
          -73.98845672607422,
          -74.01339721679686
         ],
         "mode": "lines",
         "name": "조금느림 (pickup/dropoff)",
         "opacity": 0.8,
         "showlegend": false,
         "subplot": "mapbox",
         "type": "scattermapbox"
        },
        {
         "hovertemplate": "평균속력=조금느림<br>id=id0092139<br>latitude=%{lat}<br>longitude=%{lon}<extra></extra>",
         "lat": [
          40.72407150268555,
          40.75766372680664
         ],
         "legendgroup": "조금느림",
         "line": {
          "color": "#EF553B",
          "width": 1
         },
         "lon": [
          -74.00241088867188,
          -73.98356628417967
         ],
         "mode": "lines",
         "name": "조금느림 (pickup/dropoff)",
         "opacity": 0.8,
         "showlegend": false,
         "subplot": "mapbox",
         "type": "scattermapbox"
        },
        {
         "hovertemplate": "평균속력=조금느림<br>id=id3264393<br>latitude=%{lat}<br>longitude=%{lon}<extra></extra>",
         "lat": [
          40.75624084472656,
          40.7665901184082
         ],
         "legendgroup": "조금느림",
         "line": {
          "color": "#EF553B",
          "width": 1
         },
         "lon": [
          -73.97042846679686,
          -73.98652648925781
         ],
         "mode": "lines",
         "name": "조금느림 (pickup/dropoff)",
         "opacity": 0.8,
         "showlegend": false,
         "subplot": "mapbox",
         "type": "scattermapbox"
        },
        {
         "hovertemplate": "평균속력=조금느림<br>id=id0951142<br>latitude=%{lat}<br>longitude=%{lon}<extra></extra>",
         "lat": [
          40.742500305175774,
          40.7463493347168
         ],
         "legendgroup": "조금느림",
         "line": {
          "color": "#EF553B",
          "width": 1
         },
         "lon": [
          -73.97420501708984,
          -73.97167205810547
         ],
         "mode": "lines",
         "name": "조금느림 (pickup/dropoff)",
         "opacity": 0.8,
         "showlegend": false,
         "subplot": "mapbox",
         "type": "scattermapbox"
        },
        {
         "hovertemplate": "평균속력=조금느림<br>id=id2046505<br>latitude=%{lat}<br>longitude=%{lon}<extra></extra>",
         "lat": [
          40.73820495605469,
          40.75112533569336
         ],
         "legendgroup": "조금느림",
         "line": {
          "color": "#EF553B",
          "width": 1
         },
         "lon": [
          -73.98540496826173,
          -73.97836303710938
         ],
         "mode": "lines",
         "name": "조금느림 (pickup/dropoff)",
         "opacity": 0.8,
         "showlegend": false,
         "subplot": "mapbox",
         "type": "scattermapbox"
        },
        {
         "hovertemplate": "평균속력=조금느림<br>id=id1495346<br>latitude=%{lat}<br>longitude=%{lon}<extra></extra>",
         "lat": [
          40.73915481567384,
          40.74427795410156
         ],
         "legendgroup": "조금느림",
         "line": {
          "color": "#EF553B",
          "width": 1
         },
         "lon": [
          -73.99610137939453,
          -73.98767852783203
         ],
         "mode": "lines",
         "name": "조금느림 (pickup/dropoff)",
         "opacity": 0.8,
         "showlegend": false,
         "subplot": "mapbox",
         "type": "scattermapbox"
        },
        {
         "hovertemplate": "평균속력=조금느림<br>id=id0623536<br>latitude=%{lat}<br>longitude=%{lon}<extra></extra>",
         "lat": [
          40.759124755859375,
          40.74463272094727
         ],
         "legendgroup": "조금느림",
         "line": {
          "color": "#EF553B",
          "width": 1
         },
         "lon": [
          -73.97645568847656,
          -73.97919464111328
         ],
         "mode": "lines",
         "name": "조금느림 (pickup/dropoff)",
         "opacity": 0.8,
         "showlegend": false,
         "subplot": "mapbox",
         "type": "scattermapbox"
        },
        {
         "hovertemplate": "평균속력=조금느림<br>id=id3578000<br>latitude=%{lat}<br>longitude=%{lon}<extra></extra>",
         "lat": [
          40.74143600463867,
          40.73919296264648
         ],
         "legendgroup": "조금느림",
         "line": {
          "color": "#EF553B",
          "width": 1
         },
         "lon": [
          -73.95230865478516,
          -73.98406982421875
         ],
         "mode": "lines",
         "name": "조금느림 (pickup/dropoff)",
         "opacity": 0.8,
         "showlegend": false,
         "subplot": "mapbox",
         "type": "scattermapbox"
        },
        {
         "hovertemplate": "평균속력=조금느림<br>id=id1194222<br>latitude=%{lat}<br>longitude=%{lon}<extra></extra>",
         "lat": [
          40.7253303527832,
          40.777881622314446
         ],
         "legendgroup": "조금느림",
         "line": {
          "color": "#EF553B",
          "width": 1
         },
         "lon": [
          -73.99237060546875,
          -73.98873138427734
         ],
         "mode": "lines",
         "name": "조금느림 (pickup/dropoff)",
         "opacity": 0.8,
         "showlegend": false,
         "subplot": "mapbox",
         "type": "scattermapbox"
        },
        {
         "hovertemplate": "평균속력=조금느림<br>id=id0049607<br>latitude=%{lat}<br>longitude=%{lon}<extra></extra>",
         "lat": [
          40.75419235229492,
          40.762859344482415
         ],
         "legendgroup": "조금느림",
         "line": {
          "color": "#EF553B",
          "width": 1
         },
         "lon": [
          -73.97592163085938,
          -73.98892211914062
         ],
         "mode": "lines",
         "name": "조금느림 (pickup/dropoff)",
         "opacity": 0.8,
         "showlegend": false,
         "subplot": "mapbox",
         "type": "scattermapbox"
        },
        {
         "hovertemplate": "평균속력=조금느림<br>id=id0890358<br>latitude=%{lat}<br>longitude=%{lon}<extra></extra>",
         "lat": [
          40.76359939575195,
          40.7617416381836
         ],
         "legendgroup": "조금느림",
         "line": {
          "color": "#EF553B",
          "width": 1
         },
         "lon": [
          -73.98738861083984,
          -73.96864318847656
         ],
         "mode": "lines",
         "name": "조금느림 (pickup/dropoff)",
         "opacity": 0.8,
         "showlegend": false,
         "subplot": "mapbox",
         "type": "scattermapbox"
        },
        {
         "hovertemplate": "평균속력=조금느림<br>id=id3825370<br>latitude=%{lat}<br>longitude=%{lon}<extra></extra>",
         "lat": [
          40.74908065795898,
          40.6697654724121
         ],
         "legendgroup": "조금느림",
         "line": {
          "color": "#EF553B",
          "width": 1
         },
         "lon": [
          -74.00839233398438,
          -73.97919464111328
         ],
         "mode": "lines",
         "name": "조금느림 (pickup/dropoff)",
         "opacity": 0.8,
         "showlegend": false,
         "subplot": "mapbox",
         "type": "scattermapbox"
        },
        {
         "hovertemplate": "평균속력=조금느림<br>id=id1604579<br>latitude=%{lat}<br>longitude=%{lon}<extra></extra>",
         "lat": [
          40.76555252075195,
          40.79889678955078
         ],
         "legendgroup": "조금느림",
         "line": {
          "color": "#EF553B",
          "width": 1
         },
         "lon": [
          -73.96790313720702,
          -73.96857452392578
         ],
         "mode": "lines",
         "name": "조금느림 (pickup/dropoff)",
         "opacity": 0.8,
         "showlegend": false,
         "subplot": "mapbox",
         "type": "scattermapbox"
        },
        {
         "hovertemplate": "평균속력=조금느림<br>id=id0051866<br>latitude=%{lat}<br>longitude=%{lon}<extra></extra>",
         "lat": [
          40.7724494934082,
          40.755836486816406
         ],
         "legendgroup": "조금느림",
         "line": {
          "color": "#EF553B",
          "width": 1
         },
         "lon": [
          -73.96265411376953,
          -73.9784927368164
         ],
         "mode": "lines",
         "name": "조금느림 (pickup/dropoff)",
         "opacity": 0.8,
         "showlegend": false,
         "subplot": "mapbox",
         "type": "scattermapbox"
        },
        {
         "hovertemplate": "평균속력=조금느림<br>id=id0622637<br>latitude=%{lat}<br>longitude=%{lon}<extra></extra>",
         "lat": [
          40.75054931640625,
          40.759868621826165
         ],
         "legendgroup": "조금느림",
         "line": {
          "color": "#EF553B",
          "width": 1
         },
         "lon": [
          -73.97480010986328,
          -73.96180725097656
         ],
         "mode": "lines",
         "name": "조금느림 (pickup/dropoff)",
         "opacity": 0.8,
         "showlegend": false,
         "subplot": "mapbox",
         "type": "scattermapbox"
        },
        {
         "hovertemplate": "평균속력=조금빠름<br>id=id1214191<br>latitude=%{lat}<br>longitude=%{lon}<extra></extra>",
         "lat": [
          40.74464797973633,
          40.72493362426758
         ],
         "legendgroup": "조금빠름",
         "line": {
          "color": "#00cc96",
          "width": 1
         },
         "lon": [
          -73.99140930175781,
          -73.9950942993164
         ],
         "mode": "lines",
         "name": "조금빠름 (pickup/dropoff)",
         "opacity": 0.8,
         "showlegend": true,
         "subplot": "mapbox",
         "type": "scattermapbox"
        },
        {
         "hovertemplate": "평균속력=조금빠름<br>id=id0213647<br>latitude=%{lat}<br>longitude=%{lon}<extra></extra>",
         "lat": [
          40.75567626953125,
          40.72474670410156
         ],
         "legendgroup": "조금빠름",
         "line": {
          "color": "#00cc96",
          "width": 1
         },
         "lon": [
          -73.96500396728516,
          -74.00196075439453
         ],
         "mode": "lines",
         "name": "조금빠름 (pickup/dropoff)",
         "opacity": 0.8,
         "showlegend": false,
         "subplot": "mapbox",
         "type": "scattermapbox"
        },
        {
         "hovertemplate": "평균속력=조금빠름<br>id=id0584615<br>latitude=%{lat}<br>longitude=%{lon}<extra></extra>",
         "lat": [
          40.755126953125,
          40.74041366577149
         ],
         "legendgroup": "조금빠름",
         "line": {
          "color": "#00cc96",
          "width": 1
         },
         "lon": [
          -73.9874267578125,
          -73.98683166503906
         ],
         "mode": "lines",
         "name": "조금빠름 (pickup/dropoff)",
         "opacity": 0.8,
         "showlegend": false,
         "subplot": "mapbox",
         "type": "scattermapbox"
        },
        {
         "hovertemplate": "평균속력=조금빠름<br>id=id0147704<br>latitude=%{lat}<br>longitude=%{lon}<extra></extra>",
         "lat": [
          40.7249755859375,
          40.655078887939446
         ],
         "legendgroup": "조금빠름",
         "line": {
          "color": "#00cc96",
          "width": 1
         },
         "lon": [
          -73.9844207763672,
          -73.955322265625
         ],
         "mode": "lines",
         "name": "조금빠름 (pickup/dropoff)",
         "opacity": 0.8,
         "showlegend": false,
         "subplot": "mapbox",
         "type": "scattermapbox"
        },
        {
         "hovertemplate": "평균속력=조금빠름<br>id=id3098811<br>latitude=%{lat}<br>longitude=%{lon}<extra></extra>",
         "lat": [
          40.72565841674805,
          40.73714065551758
         ],
         "legendgroup": "조금빠름",
         "line": {
          "color": "#00cc96",
          "width": 1
         },
         "lon": [
          -73.99471282958984,
          -73.99044036865233
         ],
         "mode": "lines",
         "name": "조금빠름 (pickup/dropoff)",
         "opacity": 0.8,
         "showlegend": false,
         "subplot": "mapbox",
         "type": "scattermapbox"
        },
        {
         "hovertemplate": "평균속력=조금빠름<br>id=id0255216<br>latitude=%{lat}<br>longitude=%{lon}<extra></extra>",
         "lat": [
          40.75128173828125,
          40.76827239990234
         ],
         "legendgroup": "조금빠름",
         "line": {
          "color": "#00cc96",
          "width": 1
         },
         "lon": [
          -73.93987274169923,
          -73.95292663574217
         ],
         "mode": "lines",
         "name": "조금빠름 (pickup/dropoff)",
         "opacity": 0.8,
         "showlegend": false,
         "subplot": "mapbox",
         "type": "scattermapbox"
        },
        {
         "hovertemplate": "평균속력=조금빠름<br>id=id1394748<br>latitude=%{lat}<br>longitude=%{lon}<extra></extra>",
         "lat": [
          40.73410034179688,
          40.67301177978516
         ],
         "legendgroup": "조금빠름",
         "line": {
          "color": "#00cc96",
          "width": 1
         },
         "lon": [
          -73.9994888305664,
          -73.96280670166014
         ],
         "mode": "lines",
         "name": "조금빠름 (pickup/dropoff)",
         "opacity": 0.8,
         "showlegend": false,
         "subplot": "mapbox",
         "type": "scattermapbox"
        },
        {
         "hovertemplate": "평균속력=조금빠름<br>id=id2875421<br>latitude=%{lat}<br>longitude=%{lon}<extra></extra>",
         "lat": [
          40.76793670654297,
          40.765602111816406
         ],
         "legendgroup": "조금빠름",
         "line": {
          "color": "#00cc96",
          "width": 1
         },
         "lon": [
          -73.98215484619139,
          -73.96463012695312
         ],
         "mode": "lines",
         "name": "조금빠름 (pickup/dropoff)",
         "opacity": 0.8,
         "showlegend": false,
         "subplot": "mapbox",
         "type": "scattermapbox"
        },
        {
         "hovertemplate": "평균속력=조금빠름<br>id=id2619890<br>latitude=%{lat}<br>longitude=%{lon}<extra></extra>",
         "lat": [
          40.75857162475586,
          40.77785873413086
         ],
         "legendgroup": "조금빠름",
         "line": {
          "color": "#00cc96",
          "width": 1
         },
         "lon": [
          -73.96356964111328,
          -73.94394683837889
         ],
         "mode": "lines",
         "name": "조금빠름 (pickup/dropoff)",
         "opacity": 0.8,
         "showlegend": false,
         "subplot": "mapbox",
         "type": "scattermapbox"
        },
        {
         "hovertemplate": "평균속력=조금빠름<br>id=id2003085<br>latitude=%{lat}<br>longitude=%{lon}<extra></extra>",
         "lat": [
          40.75810241699219,
          40.790283203125
         ],
         "legendgroup": "조금빠름",
         "line": {
          "color": "#00cc96",
          "width": 1
         },
         "lon": [
          -73.96311950683594,
          -73.96560668945312
         ],
         "mode": "lines",
         "name": "조금빠름 (pickup/dropoff)",
         "opacity": 0.8,
         "showlegend": false,
         "subplot": "mapbox",
         "type": "scattermapbox"
        },
        {
         "hovertemplate": "평균속력=조금빠름<br>id=id2966759<br>latitude=%{lat}<br>longitude=%{lon}<extra></extra>",
         "lat": [
          40.752891540527344,
          40.739990234375
         ],
         "legendgroup": "조금빠름",
         "line": {
          "color": "#00cc96",
          "width": 1
         },
         "lon": [
          -73.97013854980467,
          -73.98188781738281
         ],
         "mode": "lines",
         "name": "조금빠름 (pickup/dropoff)",
         "opacity": 0.8,
         "showlegend": false,
         "subplot": "mapbox",
         "type": "scattermapbox"
        },
        {
         "hovertemplate": "평균속력=조금빠름<br>id=id2673049<br>latitude=%{lat}<br>longitude=%{lon}<extra></extra>",
         "lat": [
          40.789600372314446,
          40.71483612060546
         ],
         "legendgroup": "조금빠름",
         "line": {
          "color": "#00cc96",
          "width": 1
         },
         "lon": [
          -73.97001647949219,
          -74.0139389038086
         ],
         "mode": "lines",
         "name": "조금빠름 (pickup/dropoff)",
         "opacity": 0.8,
         "showlegend": false,
         "subplot": "mapbox",
         "type": "scattermapbox"
        },
        {
         "hovertemplate": "평균속력=조금빠름<br>id=id0858054<br>latitude=%{lat}<br>longitude=%{lon}<extra></extra>",
         "lat": [
          40.766788482666016,
          40.77115631103516
         ],
         "legendgroup": "조금빠름",
         "line": {
          "color": "#00cc96",
          "width": 1
         },
         "lon": [
          -73.96295928955078,
          -73.98324584960938
         ],
         "mode": "lines",
         "name": "조금빠름 (pickup/dropoff)",
         "opacity": 0.8,
         "showlegend": false,
         "subplot": "mapbox",
         "type": "scattermapbox"
        },
        {
         "hovertemplate": "평균속력=조금빠름<br>id=id1049417<br>latitude=%{lat}<br>longitude=%{lon}<extra></extra>",
         "lat": [
          40.794429779052734,
          40.7891731262207
         ],
         "legendgroup": "조금빠름",
         "line": {
          "color": "#00cc96",
          "width": 1
         },
         "lon": [
          -73.97160339355469,
          -73.9527587890625
         ],
         "mode": "lines",
         "name": "조금빠름 (pickup/dropoff)",
         "opacity": 0.8,
         "showlegend": false,
         "subplot": "mapbox",
         "type": "scattermapbox"
        },
        {
         "hovertemplate": "평균속력=조금빠름<br>id=id0566979<br>latitude=%{lat}<br>longitude=%{lon}<extra></extra>",
         "lat": [
          40.80135726928711,
          40.79747772216797
         ],
         "legendgroup": "조금빠름",
         "line": {
          "color": "#00cc96",
          "width": 1
         },
         "lon": [
          -73.95948791503906,
          -73.96974182128906
         ],
         "mode": "lines",
         "name": "조금빠름 (pickup/dropoff)",
         "opacity": 0.8,
         "showlegend": false,
         "subplot": "mapbox",
         "type": "scattermapbox"
        },
        {
         "hovertemplate": "평균속력=조금빠름<br>id=id0434573<br>latitude=%{lat}<br>longitude=%{lon}<extra></extra>",
         "lat": [
          40.64473342895508,
          40.782241821289055
         ],
         "legendgroup": "조금빠름",
         "line": {
          "color": "#00cc96",
          "width": 1
         },
         "lon": [
          -73.78192138671875,
          -73.94640350341797
         ],
         "mode": "lines",
         "name": "조금빠름 (pickup/dropoff)",
         "opacity": 0.8,
         "showlegend": false,
         "subplot": "mapbox",
         "type": "scattermapbox"
        },
        {
         "hovertemplate": "평균속력=조금빠름<br>id=id0889544<br>latitude=%{lat}<br>longitude=%{lon}<extra></extra>",
         "lat": [
          40.74057769775391,
          40.7554817199707
         ],
         "legendgroup": "조금빠름",
         "line": {
          "color": "#00cc96",
          "width": 1
         },
         "lon": [
          -73.97972869873048,
          -73.97085571289062
         ],
         "mode": "lines",
         "name": "조금빠름 (pickup/dropoff)",
         "opacity": 0.8,
         "showlegend": false,
         "subplot": "mapbox",
         "type": "scattermapbox"
        },
        {
         "hovertemplate": "평균속력=조금빠름<br>id=id2357722<br>latitude=%{lat}<br>longitude=%{lon}<extra></extra>",
         "lat": [
          40.709976196289055,
          40.69548034667969
         ],
         "legendgroup": "조금빠름",
         "line": {
          "color": "#00cc96",
          "width": 1
         },
         "lon": [
          -74.00458526611328,
          -73.99742889404298
         ],
         "mode": "lines",
         "name": "조금빠름 (pickup/dropoff)",
         "opacity": 0.8,
         "showlegend": false,
         "subplot": "mapbox",
         "type": "scattermapbox"
        },
        {
         "hovertemplate": "평균속력=조금빠름<br>id=id3638105<br>latitude=%{lat}<br>longitude=%{lon}<extra></extra>",
         "lat": [
          40.72257232666016,
          40.68634033203125
         ],
         "legendgroup": "조금빠름",
         "line": {
          "color": "#00cc96",
          "width": 1
         },
         "lon": [
          -74.00359344482422,
          -73.97468566894531
         ],
         "mode": "lines",
         "name": "조금빠름 (pickup/dropoff)",
         "opacity": 0.8,
         "showlegend": false,
         "subplot": "mapbox",
         "type": "scattermapbox"
        },
        {
         "hovertemplate": "평균속력=조금빠름<br>id=id2322963<br>latitude=%{lat}<br>longitude=%{lon}<extra></extra>",
         "lat": [
          40.734493255615234,
          40.78654861450195
         ],
         "legendgroup": "조금빠름",
         "line": {
          "color": "#00cc96",
          "width": 1
         },
         "lon": [
          -74.00151824951173,
          -73.97239685058595
         ],
         "mode": "lines",
         "name": "조금빠름 (pickup/dropoff)",
         "opacity": 0.8,
         "showlegend": false,
         "subplot": "mapbox",
         "type": "scattermapbox"
        },
        {
         "hovertemplate": "평균속력=조금빠름<br>id=id0626677<br>latitude=%{lat}<br>longitude=%{lon}<extra></extra>",
         "lat": [
          40.78641128540039,
          40.77379989624024
         ],
         "legendgroup": "조금빠름",
         "line": {
          "color": "#00cc96",
          "width": 1
         },
         "lon": [
          -73.95282745361328,
          -73.97776794433594
         ],
         "mode": "lines",
         "name": "조금빠름 (pickup/dropoff)",
         "opacity": 0.8,
         "showlegend": false,
         "subplot": "mapbox",
         "type": "scattermapbox"
        },
        {
         "hovertemplate": "평균속력=조금빠름<br>id=id0372891<br>latitude=%{lat}<br>longitude=%{lon}<extra></extra>",
         "lat": [
          40.78201675415039,
          40.77749633789063
         ],
         "legendgroup": "조금빠름",
         "line": {
          "color": "#00cc96",
          "width": 1
         },
         "lon": [
          -73.97631072998048,
          -73.9781494140625
         ],
         "mode": "lines",
         "name": "조금빠름 (pickup/dropoff)",
         "opacity": 0.8,
         "showlegend": false,
         "subplot": "mapbox",
         "type": "scattermapbox"
        },
        {
         "hovertemplate": "평균속력=조금빠름<br>id=id1158393<br>latitude=%{lat}<br>longitude=%{lon}<extra></extra>",
         "lat": [
          40.761756896972656,
          40.76946258544922
         ],
         "legendgroup": "조금빠름",
         "line": {
          "color": "#00cc96",
          "width": 1
         },
         "lon": [
          -73.96741485595702,
          -73.92103576660156
         ],
         "mode": "lines",
         "name": "조금빠름 (pickup/dropoff)",
         "opacity": 0.8,
         "showlegend": false,
         "subplot": "mapbox",
         "type": "scattermapbox"
        },
        {
         "hovertemplate": "평균속력=조금빠름<br>id=id2529954<br>latitude=%{lat}<br>longitude=%{lon}<extra></extra>",
         "lat": [
          40.7640037536621,
          40.76385116577149
         ],
         "legendgroup": "조금빠름",
         "line": {
          "color": "#00cc96",
          "width": 1
         },
         "lon": [
          -73.97434234619139,
          -73.96236419677734
         ],
         "mode": "lines",
         "name": "조금빠름 (pickup/dropoff)",
         "opacity": 0.8,
         "showlegend": false,
         "subplot": "mapbox",
         "type": "scattermapbox"
        },
        {
         "hovertemplate": "평균속력=조금빠름<br>id=id1036174<br>latitude=%{lat}<br>longitude=%{lon}<extra></extra>",
         "lat": [
          40.750431060791016,
          40.78049087524414
         ],
         "legendgroup": "조금빠름",
         "line": {
          "color": "#00cc96",
          "width": 1
         },
         "lon": [
          -73.98802947998048,
          -73.94779968261719
         ],
         "mode": "lines",
         "name": "조금빠름 (pickup/dropoff)",
         "opacity": 0.8,
         "showlegend": false,
         "subplot": "mapbox",
         "type": "scattermapbox"
        },
        {
         "hovertemplate": "평균속력=조금빠름<br>id=id3572749<br>latitude=%{lat}<br>longitude=%{lon}<extra></extra>",
         "lat": [
          40.770069122314446,
          40.78279113769531
         ],
         "legendgroup": "조금빠름",
         "line": {
          "color": "#00cc96",
          "width": 1
         },
         "lon": [
          -73.98792266845702,
          -73.95319366455078
         ],
         "mode": "lines",
         "name": "조금빠름 (pickup/dropoff)",
         "opacity": 0.8,
         "showlegend": false,
         "subplot": "mapbox",
         "type": "scattermapbox"
        },
        {
         "hovertemplate": "평균속력=조금빠름<br>id=id3528412<br>latitude=%{lat}<br>longitude=%{lon}<extra></extra>",
         "lat": [
          40.77674865722656,
          40.785789489746094
         ],
         "legendgroup": "조금빠름",
         "line": {
          "color": "#00cc96",
          "width": 1
         },
         "lon": [
          -73.95974731445312,
          -73.9532470703125
         ],
         "mode": "lines",
         "name": "조금빠름 (pickup/dropoff)",
         "opacity": 0.8,
         "showlegend": false,
         "subplot": "mapbox",
         "type": "scattermapbox"
        },
        {
         "hovertemplate": "평균속력=조금빠름<br>id=id2302144<br>latitude=%{lat}<br>longitude=%{lon}<extra></extra>",
         "lat": [
          40.862701416015625,
          40.831321716308594
         ],
         "legendgroup": "조금빠름",
         "line": {
          "color": "#00cc96",
          "width": 1
         },
         "lon": [
          -73.90413665771484,
          -73.89300537109375
         ],
         "mode": "lines",
         "name": "조금빠름 (pickup/dropoff)",
         "opacity": 0.8,
         "showlegend": false,
         "subplot": "mapbox",
         "type": "scattermapbox"
        },
        {
         "hovertemplate": "평균속력=조금빠름<br>id=id3291602<br>latitude=%{lat}<br>longitude=%{lon}<extra></extra>",
         "lat": [
          40.7334213256836,
          40.75713348388672
         ],
         "legendgroup": "조금빠름",
         "line": {
          "color": "#00cc96",
          "width": 1
         },
         "lon": [
          -74.00246429443358,
          -73.9832763671875
         ],
         "mode": "lines",
         "name": "조금빠름 (pickup/dropoff)",
         "opacity": 0.8,
         "showlegend": false,
         "subplot": "mapbox",
         "type": "scattermapbox"
        },
        {
         "hovertemplate": "평균속력=조금빠름<br>id=id2438985<br>latitude=%{lat}<br>longitude=%{lon}<extra></extra>",
         "lat": [
          40.78261184692384,
          40.76800155639648
         ],
         "legendgroup": "조금빠름",
         "line": {
          "color": "#00cc96",
          "width": 1
         },
         "lon": [
          -73.95343017578125,
          -73.97037506103516
         ],
         "mode": "lines",
         "name": "조금빠름 (pickup/dropoff)",
         "opacity": 0.8,
         "showlegend": false,
         "subplot": "mapbox",
         "type": "scattermapbox"
        },
        {
         "hovertemplate": "평균속력=조금빠름<br>id=id2078977<br>latitude=%{lat}<br>longitude=%{lon}<extra></extra>",
         "lat": [
          40.76673126220703,
          40.805000305175774
         ],
         "legendgroup": "조금빠름",
         "line": {
          "color": "#00cc96",
          "width": 1
         },
         "lon": [
          -73.96306610107422,
          -73.93858337402342
         ],
         "mode": "lines",
         "name": "조금빠름 (pickup/dropoff)",
         "opacity": 0.8,
         "showlegend": false,
         "subplot": "mapbox",
         "type": "scattermapbox"
        },
        {
         "hovertemplate": "평균속력=조금빠름<br>id=id3730700<br>latitude=%{lat}<br>longitude=%{lon}<extra></extra>",
         "lat": [
          40.74989700317384,
          40.73417663574219
         ],
         "legendgroup": "조금빠름",
         "line": {
          "color": "#00cc96",
          "width": 1
         },
         "lon": [
          -73.99164581298828,
          -73.99500274658203
         ],
         "mode": "lines",
         "name": "조금빠름 (pickup/dropoff)",
         "opacity": 0.8,
         "showlegend": false,
         "subplot": "mapbox",
         "type": "scattermapbox"
        },
        {
         "hovertemplate": "평균속력=조금빠름<br>id=id3988208<br>latitude=%{lat}<br>longitude=%{lon}<extra></extra>",
         "lat": [
          40.79740524291992,
          40.78954315185546
         ],
         "legendgroup": "조금빠름",
         "line": {
          "color": "#00cc96",
          "width": 1
         },
         "lon": [
          -73.94892883300781,
          -73.96743774414062
         ],
         "mode": "lines",
         "name": "조금빠름 (pickup/dropoff)",
         "opacity": 0.8,
         "showlegend": false,
         "subplot": "mapbox",
         "type": "scattermapbox"
        },
        {
         "hovertemplate": "평균속력=조금빠름<br>id=id0243048<br>latitude=%{lat}<br>longitude=%{lon}<extra></extra>",
         "lat": [
          40.81560134887695,
          40.79996109008789
         ],
         "legendgroup": "조금빠름",
         "line": {
          "color": "#00cc96",
          "width": 1
         },
         "lon": [
          -73.93981170654298,
          -73.9586410522461
         ],
         "mode": "lines",
         "name": "조금빠름 (pickup/dropoff)",
         "opacity": 0.8,
         "showlegend": false,
         "subplot": "mapbox",
         "type": "scattermapbox"
        },
        {
         "hovertemplate": "평균속력=조금빠름<br>id=id2135926<br>latitude=%{lat}<br>longitude=%{lon}<extra></extra>",
         "lat": [
          40.764122009277344,
          40.74626541137695
         ],
         "legendgroup": "조금빠름",
         "line": {
          "color": "#00cc96",
          "width": 1
         },
         "lon": [
          -73.9558334350586,
          -73.97246551513672
         ],
         "mode": "lines",
         "name": "조금빠름 (pickup/dropoff)",
         "opacity": 0.8,
         "showlegend": false,
         "subplot": "mapbox",
         "type": "scattermapbox"
        },
        {
         "hovertemplate": "평균속력=조금빠름<br>id=id2700601<br>latitude=%{lat}<br>longitude=%{lon}<extra></extra>",
         "lat": [
          40.749908447265625,
          40.75947952270508
         ],
         "legendgroup": "조금빠름",
         "line": {
          "color": "#00cc96",
          "width": 1
         },
         "lon": [
          -73.9881591796875,
          -73.99555969238281
         ],
         "mode": "lines",
         "name": "조금빠름 (pickup/dropoff)",
         "opacity": 0.8,
         "showlegend": false,
         "subplot": "mapbox",
         "type": "scattermapbox"
        },
        {
         "hovertemplate": "평균속력=매우빠름<br>id=id1030598<br>latitude=%{lat}<br>longitude=%{lon}<extra></extra>",
         "lat": [
          40.71914291381836,
          40.73513412475586
         ],
         "legendgroup": "매우빠름",
         "line": {
          "color": "#ab63fa",
          "width": 1
         },
         "lon": [
          -74.00506591796875,
          -74.00606536865233
         ],
         "mode": "lines",
         "name": "매우빠름 (pickup/dropoff)",
         "opacity": 0.8,
         "showlegend": true,
         "subplot": "mapbox",
         "type": "scattermapbox"
        },
        {
         "hovertemplate": "평균속력=매우빠름<br>id=id3667993<br>latitude=%{lat}<br>longitude=%{lon}<extra></extra>",
         "lat": [
          40.73052978515625,
          40.746219635009766
         ],
         "legendgroup": "매우빠름",
         "line": {
          "color": "#ab63fa",
          "width": 1
         },
         "lon": [
          -73.98052215576173,
          -73.99799346923827
         ],
         "mode": "lines",
         "name": "매우빠름 (pickup/dropoff)",
         "opacity": 0.8,
         "showlegend": false,
         "subplot": "mapbox",
         "type": "scattermapbox"
        },
        {
         "hovertemplate": "평균속력=매우빠름<br>id=id3091695<br>latitude=%{lat}<br>longitude=%{lon}<extra></extra>",
         "lat": [
          40.768253326416016,
          40.77399826049805
         ],
         "legendgroup": "매우빠름",
         "line": {
          "color": "#ab63fa",
          "width": 1
         },
         "lon": [
          -73.98240661621094,
          -73.95751190185547
         ],
         "mode": "lines",
         "name": "매우빠름 (pickup/dropoff)",
         "opacity": 0.8,
         "showlegend": false,
         "subplot": "mapbox",
         "type": "scattermapbox"
        },
        {
         "hovertemplate": "평균속력=매우빠름<br>id=id3545382<br>latitude=%{lat}<br>longitude=%{lon}<extra></extra>",
         "lat": [
          40.79136657714844,
          40.78382110595703
         ],
         "legendgroup": "매우빠름",
         "line": {
          "color": "#ab63fa",
          "width": 1
         },
         "lon": [
          -73.97394561767578,
          -73.97989654541014
         ],
         "mode": "lines",
         "name": "매우빠름 (pickup/dropoff)",
         "opacity": 0.8,
         "showlegend": false,
         "subplot": "mapbox",
         "type": "scattermapbox"
        },
        {
         "hovertemplate": "평균속력=매우빠름<br>id=id0621879<br>latitude=%{lat}<br>longitude=%{lon}<extra></extra>",
         "lat": [
          40.743614196777344,
          40.72272872924805
         ],
         "legendgroup": "매우빠름",
         "line": {
          "color": "#ab63fa",
          "width": 1
         },
         "lon": [
          -73.95078277587889,
          -74.00621795654298
         ],
         "mode": "lines",
         "name": "매우빠름 (pickup/dropoff)",
         "opacity": 0.8,
         "showlegend": false,
         "subplot": "mapbox",
         "type": "scattermapbox"
        },
        {
         "hovertemplate": "평균속력=매우빠름<br>id=id2995326<br>latitude=%{lat}<br>longitude=%{lon}<extra></extra>",
         "lat": [
          40.74108123779297,
          40.73556137084961
         ],
         "legendgroup": "매우빠름",
         "line": {
          "color": "#ab63fa",
          "width": 1
         },
         "lon": [
          -74.00586700439453,
          -73.99239349365233
         ],
         "mode": "lines",
         "name": "매우빠름 (pickup/dropoff)",
         "opacity": 0.8,
         "showlegend": false,
         "subplot": "mapbox",
         "type": "scattermapbox"
        },
        {
         "hovertemplate": "평균속력=매우빠름<br>id=id2341955<br>latitude=%{lat}<br>longitude=%{lon}<extra></extra>",
         "lat": [
          40.78915786743164,
          40.77948760986328
         ],
         "legendgroup": "매우빠름",
         "line": {
          "color": "#ab63fa",
          "width": 1
         },
         "lon": [
          -73.94364166259764,
          -73.95057678222656
         ],
         "mode": "lines",
         "name": "매우빠름 (pickup/dropoff)",
         "opacity": 0.8,
         "showlegend": false,
         "subplot": "mapbox",
         "type": "scattermapbox"
        },
        {
         "hovertemplate": "평균속력=매우빠름<br>id=id1973100<br>latitude=%{lat}<br>longitude=%{lon}<extra></extra>",
         "lat": [
          40.82606887817384,
          40.7630729675293
         ],
         "legendgroup": "매우빠름",
         "line": {
          "color": "#ab63fa",
          "width": 1
         },
         "lon": [
          -73.94337463378906,
          -73.98128509521484
         ],
         "mode": "lines",
         "name": "매우빠름 (pickup/dropoff)",
         "opacity": 0.8,
         "showlegend": false,
         "subplot": "mapbox",
         "type": "scattermapbox"
        },
        {
         "hovertemplate": "평균속력=매우빠름<br>id=id0151990<br>latitude=%{lat}<br>longitude=%{lon}<extra></extra>",
         "lat": [
          40.76192474365234,
          40.76654052734375
         ],
         "legendgroup": "매우빠름",
         "line": {
          "color": "#ab63fa",
          "width": 1
         },
         "lon": [
          -73.97914123535155,
          -73.99016571044923
         ],
         "mode": "lines",
         "name": "매우빠름 (pickup/dropoff)",
         "opacity": 0.8,
         "showlegend": false,
         "subplot": "mapbox",
         "type": "scattermapbox"
        },
        {
         "hovertemplate": "평균속력=매우빠름<br>id=id1745148<br>latitude=%{lat}<br>longitude=%{lon}<extra></extra>",
         "lat": [
          40.75484848022461,
          40.72767639160156
         ],
         "legendgroup": "매우빠름",
         "line": {
          "color": "#ab63fa",
          "width": 1
         },
         "lon": [
          -73.98343658447266,
          -74.00334930419923
         ],
         "mode": "lines",
         "name": "매우빠름 (pickup/dropoff)",
         "opacity": 0.8,
         "showlegend": false,
         "subplot": "mapbox",
         "type": "scattermapbox"
        },
        {
         "hovertemplate": "평균속력=매우빠름<br>id=id1006263<br>latitude=%{lat}<br>longitude=%{lon}<extra></extra>",
         "lat": [
          40.80709838867188,
          40.80038070678711
         ],
         "legendgroup": "매우빠름",
         "line": {
          "color": "#ab63fa",
          "width": 1
         },
         "lon": [
          -73.95350646972656,
          -73.96750640869139
         ],
         "mode": "lines",
         "name": "매우빠름 (pickup/dropoff)",
         "opacity": 0.8,
         "showlegend": false,
         "subplot": "mapbox",
         "type": "scattermapbox"
        },
        {
         "hovertemplate": "평균속력=매우빠름<br>id=id3100200<br>latitude=%{lat}<br>longitude=%{lon}<extra></extra>",
         "lat": [
          40.784122467041016,
          40.77589797973633
         ],
         "legendgroup": "매우빠름",
         "line": {
          "color": "#ab63fa",
          "width": 1
         },
         "lon": [
          -73.9544906616211,
          -73.96086883544923
         ],
         "mode": "lines",
         "name": "매우빠름 (pickup/dropoff)",
         "opacity": 0.8,
         "showlegend": false,
         "subplot": "mapbox",
         "type": "scattermapbox"
        },
        {
         "hovertemplate": "평균속력=매우빠름<br>id=id2484944<br>latitude=%{lat}<br>longitude=%{lon}<extra></extra>",
         "lat": [
          40.77938079833984,
          40.76678466796875
         ],
         "legendgroup": "매우빠름",
         "line": {
          "color": "#ab63fa",
          "width": 1
         },
         "lon": [
          -73.94471740722656,
          -73.95954132080078
         ],
         "mode": "lines",
         "name": "매우빠름 (pickup/dropoff)",
         "opacity": 0.8,
         "showlegend": false,
         "subplot": "mapbox",
         "type": "scattermapbox"
        },
        {
         "hovertemplate": "평균속력=매우빠름<br>id=id0294070<br>latitude=%{lat}<br>longitude=%{lon}<extra></extra>",
         "lat": [
          40.78065872192384,
          40.76536560058594
         ],
         "legendgroup": "매우빠름",
         "line": {
          "color": "#ab63fa",
          "width": 1
         },
         "lon": [
          -73.98385620117188,
          -73.9659652709961
         ],
         "mode": "lines",
         "name": "매우빠름 (pickup/dropoff)",
         "opacity": 0.8,
         "showlegend": false,
         "subplot": "mapbox",
         "type": "scattermapbox"
        },
        {
         "hovertemplate": "평균속력=매우빠름<br>id=id3088186<br>latitude=%{lat}<br>longitude=%{lon}<extra></extra>",
         "lat": [
          40.76067352294922,
          40.762725830078125
         ],
         "legendgroup": "매우빠름",
         "line": {
          "color": "#ab63fa",
          "width": 1
         },
         "lon": [
          -73.98724365234375,
          -73.92682647705078
         ],
         "mode": "lines",
         "name": "매우빠름 (pickup/dropoff)",
         "opacity": 0.8,
         "showlegend": false,
         "subplot": "mapbox",
         "type": "scattermapbox"
        },
        {
         "hovertemplate": "평균속력=매우빠름<br>id=id0429106<br>latitude=%{lat}<br>longitude=%{lon}<extra></extra>",
         "lat": [
          40.75823974609375,
          40.75593185424805
         ],
         "legendgroup": "매우빠름",
         "line": {
          "color": "#ab63fa",
          "width": 1
         },
         "lon": [
          -73.98924255371094,
          -73.91887664794923
         ],
         "mode": "lines",
         "name": "매우빠름 (pickup/dropoff)",
         "opacity": 0.8,
         "showlegend": false,
         "subplot": "mapbox",
         "type": "scattermapbox"
        },
        {
         "hovertemplate": "평균속력=매우빠름<br>id=id2843597<br>latitude=%{lat}<br>longitude=%{lon}<extra></extra>",
         "lat": [
          40.75821304321289,
          40.796680450439446
         ],
         "legendgroup": "매우빠름",
         "line": {
          "color": "#ab63fa",
          "width": 1
         },
         "lon": [
          -73.98886108398438,
          -73.96269226074217
         ],
         "mode": "lines",
         "name": "매우빠름 (pickup/dropoff)",
         "opacity": 0.8,
         "showlegend": false,
         "subplot": "mapbox",
         "type": "scattermapbox"
        },
        {
         "hovertemplate": "평균속력=매우빠름<br>id=id2583198<br>latitude=%{lat}<br>longitude=%{lon}<extra></extra>",
         "lat": [
          40.643508911132805,
          40.70578384399414
         ],
         "legendgroup": "매우빠름",
         "line": {
          "color": "#ab63fa",
          "width": 1
         },
         "lon": [
          -73.79021453857422,
          -74.00952911376953
         ],
         "mode": "lines",
         "name": "매우빠름 (pickup/dropoff)",
         "opacity": 0.8,
         "showlegend": false,
         "subplot": "mapbox",
         "type": "scattermapbox"
        },
        {
         "hovertemplate": "평균속력=매우빠름<br>id=id1322047<br>latitude=%{lat}<br>longitude=%{lon}<extra></extra>",
         "lat": [
          40.737281799316406,
          40.6446418762207
         ],
         "legendgroup": "매우빠름",
         "line": {
          "color": "#ab63fa",
          "width": 1
         },
         "lon": [
          -74.00069427490233,
          -73.77690124511719
         ],
         "mode": "lines",
         "name": "매우빠름 (pickup/dropoff)",
         "opacity": 0.8,
         "showlegend": false,
         "subplot": "mapbox",
         "type": "scattermapbox"
        },
        {
         "hovertemplate": "평균속력=매우빠름<br>id=id3388355<br>latitude=%{lat}<br>longitude=%{lon}<extra></extra>",
         "lat": [
          40.74114227294922,
          40.68381118774414
         ],
         "legendgroup": "매우빠름",
         "line": {
          "color": "#ab63fa",
          "width": 1
         },
         "lon": [
          -73.99011993408203,
          -73.9951629638672
         ],
         "mode": "lines",
         "name": "매우빠름 (pickup/dropoff)",
         "opacity": 0.8,
         "showlegend": false,
         "subplot": "mapbox",
         "type": "scattermapbox"
        },
        {
         "hovertemplate": "평균속력=매우빠름<br>id=id1850636<br>latitude=%{lat}<br>longitude=%{lon}<extra></extra>",
         "lat": [
          40.75043869018555,
          40.63109970092773
         ],
         "legendgroup": "매우빠름",
         "line": {
          "color": "#ab63fa",
          "width": 1
         },
         "lon": [
          -73.99453735351561,
          -74.02571868896483
         ],
         "mode": "lines",
         "name": "매우빠름 (pickup/dropoff)",
         "opacity": 0.8,
         "showlegend": false,
         "subplot": "mapbox",
         "type": "scattermapbox"
        },
        {
         "hovertemplate": "평균속력=매우빠름<br>id=id0037819<br>latitude=%{lat}<br>longitude=%{lon}<extra></extra>",
         "lat": [
          40.756568908691406,
          40.740058898925774
         ],
         "legendgroup": "매우빠름",
         "line": {
          "color": "#ab63fa",
          "width": 1
         },
         "lon": [
          -73.98641967773438,
          -73.99530029296875
         ],
         "mode": "lines",
         "name": "매우빠름 (pickup/dropoff)",
         "opacity": 0.8,
         "showlegend": false,
         "subplot": "mapbox",
         "type": "scattermapbox"
        },
        {
         "hovertemplate": "평균속력=매우빠름<br>id=id3716633<br>latitude=%{lat}<br>longitude=%{lon}<extra></extra>",
         "lat": [
          40.755401611328125,
          40.705509185791016
         ],
         "legendgroup": "매우빠름",
         "line": {
          "color": "#ab63fa",
          "width": 1
         },
         "lon": [
          -73.96813201904298,
          -74.00707244873048
         ],
         "mode": "lines",
         "name": "매우빠름 (pickup/dropoff)",
         "opacity": 0.8,
         "showlegend": false,
         "subplot": "mapbox",
         "type": "scattermapbox"
        },
        {
         "hovertemplate": "평균속력=매우빠름<br>id=id3666656<br>latitude=%{lat}<br>longitude=%{lon}<extra></extra>",
         "lat": [
          40.645286560058594,
          40.75309753417969
         ],
         "legendgroup": "매우빠름",
         "line": {
          "color": "#ab63fa",
          "width": 1
         },
         "lon": [
          -73.7766876220703,
          -73.99340057373048
         ],
         "mode": "lines",
         "name": "매우빠름 (pickup/dropoff)",
         "opacity": 0.8,
         "showlegend": false,
         "subplot": "mapbox",
         "type": "scattermapbox"
        },
        {
         "hovertemplate": "평균속력=매우빠름<br>id=id0739381<br>latitude=%{lat}<br>longitude=%{lon}<extra></extra>",
         "lat": [
          40.80809020996094,
          40.76717758178711
         ],
         "legendgroup": "매우빠름",
         "line": {
          "color": "#ab63fa",
          "width": 1
         },
         "lon": [
          -73.9640121459961,
          -73.99046325683594
         ],
         "mode": "lines",
         "name": "매우빠름 (pickup/dropoff)",
         "opacity": 0.8,
         "showlegend": false,
         "subplot": "mapbox",
         "type": "scattermapbox"
        },
        {
         "hovertemplate": "평균속력=매우빠름<br>id=id0787873<br>latitude=%{lat}<br>longitude=%{lon}<extra></extra>",
         "lat": [
          40.64693832397461,
          40.70998001098633
         ],
         "legendgroup": "매우빠름",
         "line": {
          "color": "#ab63fa",
          "width": 1
         },
         "lon": [
          -73.78984832763672,
          -74.005126953125
         ],
         "mode": "lines",
         "name": "매우빠름 (pickup/dropoff)",
         "opacity": 0.8,
         "showlegend": false,
         "subplot": "mapbox",
         "type": "scattermapbox"
        },
        {
         "hovertemplate": "평균속력=매우빠름<br>id=id0419095<br>latitude=%{lat}<br>longitude=%{lon}<extra></extra>",
         "lat": [
          40.768848419189446,
          40.744606018066406
         ],
         "legendgroup": "매우빠름",
         "line": {
          "color": "#ab63fa",
          "width": 1
         },
         "lon": [
          -73.86279296875,
          -73.97144317626953
         ],
         "mode": "lines",
         "name": "매우빠름 (pickup/dropoff)",
         "opacity": 0.8,
         "showlegend": false,
         "subplot": "mapbox",
         "type": "scattermapbox"
        },
        {
         "hovertemplate": "평균속력=매우빠름<br>id=id0480924<br>latitude=%{lat}<br>longitude=%{lon}<extra></extra>",
         "lat": [
          40.72843170166016,
          40.73809051513672
         ],
         "legendgroup": "매우빠름",
         "line": {
          "color": "#ab63fa",
          "width": 1
         },
         "lon": [
          -73.99981689453125,
          -74.05081176757811
         ],
         "mode": "lines",
         "name": "매우빠름 (pickup/dropoff)",
         "opacity": 0.8,
         "showlegend": false,
         "subplot": "mapbox",
         "type": "scattermapbox"
        },
        {
         "hovertemplate": "평균속력=매우빠름<br>id=id0271875<br>latitude=%{lat}<br>longitude=%{lon}<extra></extra>",
         "lat": [
          40.76412582397461,
          40.783740997314446
         ],
         "legendgroup": "매우빠름",
         "line": {
          "color": "#ab63fa",
          "width": 1
         },
         "lon": [
          -73.97107696533203,
          -73.95669555664062
         ],
         "mode": "lines",
         "name": "매우빠름 (pickup/dropoff)",
         "opacity": 0.8,
         "showlegend": false,
         "subplot": "mapbox",
         "type": "scattermapbox"
        },
        {
         "hovertemplate": "평균속력=매우빠름<br>id=id2723141<br>latitude=%{lat}<br>longitude=%{lon}<extra></extra>",
         "lat": [
          40.70758056640625,
          40.752979278564446
         ],
         "legendgroup": "매우빠름",
         "line": {
          "color": "#ab63fa",
          "width": 1
         },
         "lon": [
          -74.00406646728516,
          -73.97933197021484
         ],
         "mode": "lines",
         "name": "매우빠름 (pickup/dropoff)",
         "opacity": 0.8,
         "showlegend": false,
         "subplot": "mapbox",
         "type": "scattermapbox"
        },
        {
         "hovertemplate": "평균속력=매우빠름<br>id=id3457947<br>latitude=%{lat}<br>longitude=%{lon}<extra></extra>",
         "lat": [
          40.767120361328125,
          40.77658081054688
         ],
         "legendgroup": "매우빠름",
         "line": {
          "color": "#ab63fa",
          "width": 1
         },
         "lon": [
          -73.9688720703125,
          -73.96205139160156
         ],
         "mode": "lines",
         "name": "매우빠름 (pickup/dropoff)",
         "opacity": 0.8,
         "showlegend": false,
         "subplot": "mapbox",
         "type": "scattermapbox"
        },
        {
         "hovertemplate": "평균속력=매우빠름<br>id=id2035188<br>latitude=%{lat}<br>longitude=%{lon}<extra></extra>",
         "lat": [
          40.75527572631836,
          40.76887130737305
         ],
         "legendgroup": "매우빠름",
         "line": {
          "color": "#ab63fa",
          "width": 1
         },
         "lon": [
          -73.96514892578125,
          -73.95445251464845
         ],
         "mode": "lines",
         "name": "매우빠름 (pickup/dropoff)",
         "opacity": 0.8,
         "showlegend": false,
         "subplot": "mapbox",
         "type": "scattermapbox"
        },
        {
         "hovertemplate": "평균속력=매우빠름<br>id=id0453108<br>latitude=%{lat}<br>longitude=%{lon}<extra></extra>",
         "lat": [
          40.64477157592773,
          40.832279205322266
         ],
         "legendgroup": "매우빠름",
         "line": {
          "color": "#ab63fa",
          "width": 1
         },
         "lon": [
          -73.78182983398438,
          -73.94233703613281
         ],
         "mode": "lines",
         "name": "매우빠름 (pickup/dropoff)",
         "opacity": 0.8,
         "showlegend": false,
         "subplot": "mapbox",
         "type": "scattermapbox"
        },
        {
         "hovertemplate": "평균속력=매우빠름<br>id=id3413834<br>latitude=%{lat}<br>longitude=%{lon}<extra></extra>",
         "lat": [
          40.773601531982415,
          40.66177749633789
         ],
         "legendgroup": "매우빠름",
         "line": {
          "color": "#ab63fa",
          "width": 1
         },
         "lon": [
          -73.87093353271484,
          -73.82536315917967
         ],
         "mode": "lines",
         "name": "매우빠름 (pickup/dropoff)",
         "opacity": 0.8,
         "showlegend": false,
         "subplot": "mapbox",
         "type": "scattermapbox"
        },
        {
         "hovertemplate": "평균속력=매우빠름<br>id=id3646444<br>latitude=%{lat}<br>longitude=%{lon}<extra></extra>",
         "lat": [
          40.64687347412109,
          40.78129196166992
         ],
         "legendgroup": "매우빠름",
         "line": {
          "color": "#ab63fa",
          "width": 1
         },
         "lon": [
          -73.79014587402342,
          -73.9521942138672
         ],
         "mode": "lines",
         "name": "매우빠름 (pickup/dropoff)",
         "opacity": 0.8,
         "showlegend": false,
         "subplot": "mapbox",
         "type": "scattermapbox"
        },
        {
         "hovertemplate": "평균속력=매우빠름<br>id=id0345371<br>latitude=%{lat}<br>longitude=%{lon}<extra></extra>",
         "lat": [
          40.64469146728516,
          40.70872116088867
         ],
         "legendgroup": "매우빠름",
         "line": {
          "color": "#ab63fa",
          "width": 1
         },
         "lon": [
          -73.78196716308595,
          -73.9399185180664
         ],
         "mode": "lines",
         "name": "매우빠름 (pickup/dropoff)",
         "opacity": 0.8,
         "showlegend": false,
         "subplot": "mapbox",
         "type": "scattermapbox"
        },
        {
         "hovertemplate": "평균속력=매우빠름<br>id=id2676557<br>latitude=%{lat}<br>longitude=%{lon}<extra></extra>",
         "lat": [
          40.738807678222656,
          40.74818420410156
         ],
         "legendgroup": "매우빠름",
         "line": {
          "color": "#ab63fa",
          "width": 1
         },
         "lon": [
          -73.98301696777342,
          -73.97811889648438
         ],
         "mode": "lines",
         "name": "매우빠름 (pickup/dropoff)",
         "opacity": 0.8,
         "showlegend": false,
         "subplot": "mapbox",
         "type": "scattermapbox"
        },
        {
         "hovertemplate": "평균속력=매우느림<br>passenger_count=%{marker.size}<br>latitude=%{lat}<br>longitude=%{lon}<extra></extra>",
         "lat": [
          40.75983047485352,
          40.75983047485352,
          40.78168487548828,
          40.781299591064446,
          40.763519287109375,
          40.761749267578125,
          40.74432373046875,
          40.74211883544922,
          40.70718383789063,
          40.70901870727539,
          40.77154159545898,
          40.77495956420898,
          40.72530364990234,
          40.71965026855469,
          40.75623321533203,
          40.734371185302734,
          40.739540100097656,
          40.735721588134766,
          40.73308181762695,
          40.730018615722656,
          40.776123046875,
          40.77534103393555,
          40.746826171875,
          40.777099609375,
          40.74184036254882,
          40.74722671508789,
          40.7467155456543,
          40.75249862670898,
          40.72259521484375,
          40.72389602661133,
          40.76140594482422,
          40.76454162597656,
          40.744140625,
          40.74169921875,
          40.78596115112305,
          40.77871322631836,
          40.794048309326165,
          40.79790878295898,
          40.76639175415039,
          40.75261306762695,
          40.73777770996094,
          40.74677658081056,
          40.7393684387207,
          40.74413299560546,
          40.7324447631836,
          40.7302360534668,
          40.74240493774414,
          40.72117233276367,
          40.76290130615234,
          40.74275970458984,
          40.757469177246094,
          40.771968841552734,
          40.72243118286133,
          40.76266860961913,
          40.79840850830078,
          40.79058837890625,
          40.76341247558594,
          40.71963119506836,
          40.74380493164063,
          40.75000762939453,
          40.74729537963867,
          40.761695861816406,
          40.72234725952149,
          40.74566268920898,
          40.78450012207031,
          40.804832458496094,
          40.773868560791016,
          40.75505065917969,
          40.7683982849121,
          40.7793083190918,
          40.77922821044922,
          40.746257781982415,
          40.75796890258789,
          40.743770599365234
         ],
         "legendgroup": "매우느림",
         "line": {
          "width": 1
         },
         "lon": [
          -73.97090148925781,
          -73.97090148925781,
          -73.98113250732422,
          -73.981201171875,
          -73.96932220458984,
          -73.97138977050781,
          -73.98423767089844,
          -73.97466278076173,
          -74.01651763916014,
          -74.0118637084961,
          -73.9818115234375,
          -73.98088073730467,
          -73.9925537109375,
          -73.9946060180664,
          -73.99331665039062,
          -73.98973846435547,
          -73.98706817626953,
          -73.98265838623048,
          -74.00662231445312,
          -74.00050354003906,
          -73.96235656738281,
          -73.96501922607422,
          -73.99005889892578,
          -73.97775268554686,
          -74.0008773803711,
          -73.9910430908203,
          -73.98993682861328,
          -73.97853851318358,
          -74.00528717041014,
          -74.00457000732422,
          -73.97090911865233,
          -73.97366333007811,
          -73.97913360595702,
          -73.97492218017578,
          -73.97699737548828,
          -73.9814453125,
          -73.97196960449217,
          -73.97329711914062,
          -73.96286010742188,
          -73.98545074462889,
          -73.99762725830078,
          -74.00828552246092,
          -74.00737762451173,
          -74.00689697265625,
          -74.00647735595702,
          -73.99922180175781,
          -74.00107574462889,
          -73.98760986328125,
          -73.98320770263672,
          -73.97737884521484,
          -73.96942901611328,
          -73.9827423095703,
          -73.98615264892578,
          -73.98597717285155,
          -73.95243072509764,
          -73.949951171875,
          -73.98194122314453,
          -73.99542999267578,
          -73.98795318603516,
          -73.99179077148438,
          -73.98175048828125,
          -74.00177764892578,
          -73.99722290039062,
          -73.98463439941406,
          -73.95220947265625,
          -73.96610260009764,
          -73.98236846923827,
          -73.97960662841797,
          -73.9656524658203,
          -73.96006774902342,
          -73.95587921142578,
          -73.98580169677734,
          -73.98609161376953,
          -73.98335266113281
         ],
         "marker": {
          "color": "#636efa",
          "size": [
           2,
           2,
           1,
           1,
           2,
           2,
           2,
           2,
           1,
           1,
           2,
           2,
           2,
           2,
           1,
           1,
           1,
           1,
           1,
           1,
           1,
           1,
           1,
           1,
           2,
           2,
           1,
           1,
           1,
           1,
           1,
           1,
           1,
           1,
           1,
           1,
           1,
           1,
           1,
           1,
           1,
           1,
           1,
           1,
           1,
           1,
           1,
           1,
           1,
           1,
           1,
           1,
           1,
           1,
           1,
           1,
           1,
           1,
           1,
           1,
           1,
           1,
           2,
           2,
           2,
           2,
           4,
           4,
           1,
           1,
           5,
           5,
           1,
           1
          ],
          "sizemode": "area",
          "sizeref": 0.06
         },
         "mode": "markers",
         "name": "매우느림(path)",
         "opacity": 0.8,
         "showlegend": true,
         "subplot": "mapbox",
         "type": "scattermapbox"
        },
        {
         "hovertemplate": "평균속력=조금느림<br>passenger_count=%{marker.size}<br>latitude=%{lat}<br>longitude=%{lon}<extra></extra>",
         "lat": [
          40.74156188964844,
          40.75085067749024,
          40.76424789428711,
          40.763145446777344,
          40.777053833007805,
          40.76767349243164,
          40.730010986328125,
          40.73989868164063,
          40.763973236083984,
          40.76081848144531,
          40.760250091552734,
          40.79518127441406,
          40.74981689453125,
          40.756885528564446,
          40.78707885742188,
          40.79246139526367,
          40.7226448059082,
          40.73473739624024,
          40.75053024291992,
          40.75751876831056,
          40.74673461914063,
          40.7509651184082,
          40.73553085327149,
          40.76554107666016,
          40.744510650634766,
          40.7564582824707,
          40.75918960571289,
          40.7098503112793,
          40.76905059814453,
          40.7630615234375,
          40.76215744018555,
          40.74748611450195,
          40.74530792236328,
          40.74227523803711,
          40.71868896484375,
          40.7457275390625,
          40.77298355102539,
          40.75412368774414,
          40.7714958190918,
          40.75320816040039,
          40.76704025268555,
          40.76899337768555,
          40.74298095703125,
          40.71076965332031,
          40.72407150268555,
          40.75766372680664,
          40.75624084472656,
          40.7665901184082,
          40.742500305175774,
          40.7463493347168,
          40.73820495605469,
          40.75112533569336,
          40.73915481567384,
          40.74427795410156,
          40.759124755859375,
          40.74463272094727,
          40.74143600463867,
          40.73919296264648,
          40.7253303527832,
          40.777881622314446,
          40.75419235229492,
          40.762859344482415,
          40.76359939575195,
          40.7617416381836,
          40.74908065795898,
          40.6697654724121,
          40.76555252075195,
          40.79889678955078,
          40.7724494934082,
          40.755836486816406,
          40.75054931640625,
          40.759868621826165
         ],
         "legendgroup": "조금느림",
         "line": {
          "width": 1
         },
         "lon": [
          -73.993896484375,
          -73.97830963134764,
          -73.95646667480467,
          -73.96985626220702,
          -73.98257446289062,
          -73.98075866699219,
          -73.9792709350586,
          -73.98174285888672,
          -73.99028778076173,
          -73.97960662841797,
          -73.96861267089844,
          -73.96575927734375,
          -73.99140167236328,
          -73.9898910522461,
          -73.95390319824217,
          -73.94084167480467,
          -73.98736572265625,
          -74.0038833618164,
          -73.98738098144531,
          -73.98204803466798,
          -73.97140502929686,
          -73.97477722167967,
          -73.98988342285155,
          -73.97640228271484,
          -73.98111724853516,
          -74.00170135498048,
          -73.98509216308595,
          -73.96215057373048,
          -73.98491668701173,
          -73.97570037841797,
          -73.98597717285155,
          -73.97697448730467,
          -74.00784301757811,
          -73.98967742919923,
          -74.0053482055664,
          -73.9908905029297,
          -73.9782943725586,
          -73.97389221191406,
          -73.95969390869139,
          -73.98626708984375,
          -73.95381164550781,
          -73.96334075927734,
          -73.98845672607422,
          -74.01339721679686,
          -74.00241088867188,
          -73.98356628417967,
          -73.97042846679686,
          -73.98652648925781,
          -73.97420501708984,
          -73.97167205810547,
          -73.98540496826173,
          -73.97836303710938,
          -73.99610137939453,
          -73.98767852783203,
          -73.97645568847656,
          -73.97919464111328,
          -73.95230865478516,
          -73.98406982421875,
          -73.99237060546875,
          -73.98873138427734,
          -73.97592163085938,
          -73.98892211914062,
          -73.98738861083984,
          -73.96864318847656,
          -74.00839233398438,
          -73.97919464111328,
          -73.96790313720702,
          -73.96857452392578,
          -73.96265411376953,
          -73.9784927368164,
          -73.97480010986328,
          -73.96180725097656
         ],
         "marker": {
          "color": "#EF553B",
          "size": [
           1,
           1,
           4,
           4,
           1,
           1,
           2,
           2,
           2,
           2,
           2,
           2,
           1,
           1,
           2,
           2,
           1,
           1,
           2,
           2,
           1,
           1,
           3,
           3,
           2,
           2,
           5,
           5,
           1,
           1,
           1,
           1,
           2,
           2,
           1,
           1,
           1,
           1,
           1,
           1,
           1,
           1,
           4,
           4,
           1,
           1,
           2,
           2,
           1,
           1,
           5,
           5,
           1,
           1,
           2,
           2,
           1,
           1,
           1,
           1,
           2,
           2,
           1,
           1,
           4,
           4,
           1,
           1,
           1,
           1,
           5,
           5
          ],
          "sizemode": "area",
          "sizeref": 0.06
         },
         "mode": "markers",
         "name": "조금느림(path)",
         "opacity": 0.8,
         "showlegend": true,
         "subplot": "mapbox",
         "type": "scattermapbox"
        },
        {
         "hovertemplate": "평균속력=조금빠름<br>passenger_count=%{marker.size}<br>latitude=%{lat}<br>longitude=%{lon}<extra></extra>",
         "lat": [
          40.74464797973633,
          40.72493362426758,
          40.75567626953125,
          40.72474670410156,
          40.755126953125,
          40.74041366577149,
          40.7249755859375,
          40.655078887939446,
          40.72565841674805,
          40.73714065551758,
          40.75128173828125,
          40.76827239990234,
          40.73410034179688,
          40.67301177978516,
          40.76793670654297,
          40.765602111816406,
          40.75857162475586,
          40.77785873413086,
          40.75810241699219,
          40.790283203125,
          40.752891540527344,
          40.739990234375,
          40.789600372314446,
          40.71483612060546,
          40.766788482666016,
          40.77115631103516,
          40.794429779052734,
          40.7891731262207,
          40.80135726928711,
          40.79747772216797,
          40.64473342895508,
          40.782241821289055,
          40.74057769775391,
          40.7554817199707,
          40.709976196289055,
          40.69548034667969,
          40.72257232666016,
          40.68634033203125,
          40.734493255615234,
          40.78654861450195,
          40.78641128540039,
          40.77379989624024,
          40.78201675415039,
          40.77749633789063,
          40.761756896972656,
          40.76946258544922,
          40.7640037536621,
          40.76385116577149,
          40.750431060791016,
          40.78049087524414,
          40.770069122314446,
          40.78279113769531,
          40.77674865722656,
          40.785789489746094,
          40.862701416015625,
          40.831321716308594,
          40.7334213256836,
          40.75713348388672,
          40.78261184692384,
          40.76800155639648,
          40.76673126220703,
          40.805000305175774,
          40.74989700317384,
          40.73417663574219,
          40.79740524291992,
          40.78954315185546,
          40.81560134887695,
          40.79996109008789,
          40.764122009277344,
          40.74626541137695,
          40.749908447265625,
          40.75947952270508
         ],
         "legendgroup": "조금빠름",
         "line": {
          "width": 1
         },
         "lon": [
          -73.99140930175781,
          -73.9950942993164,
          -73.96500396728516,
          -74.00196075439453,
          -73.9874267578125,
          -73.98683166503906,
          -73.9844207763672,
          -73.955322265625,
          -73.99471282958984,
          -73.99044036865233,
          -73.93987274169923,
          -73.95292663574217,
          -73.9994888305664,
          -73.96280670166014,
          -73.98215484619139,
          -73.96463012695312,
          -73.96356964111328,
          -73.94394683837889,
          -73.96311950683594,
          -73.96560668945312,
          -73.97013854980467,
          -73.98188781738281,
          -73.97001647949219,
          -74.0139389038086,
          -73.96295928955078,
          -73.98324584960938,
          -73.97160339355469,
          -73.9527587890625,
          -73.95948791503906,
          -73.96974182128906,
          -73.78192138671875,
          -73.94640350341797,
          -73.97972869873048,
          -73.97085571289062,
          -74.00458526611328,
          -73.99742889404298,
          -74.00359344482422,
          -73.97468566894531,
          -74.00151824951173,
          -73.97239685058595,
          -73.95282745361328,
          -73.97776794433594,
          -73.97631072998048,
          -73.9781494140625,
          -73.96741485595702,
          -73.92103576660156,
          -73.97434234619139,
          -73.96236419677734,
          -73.98802947998048,
          -73.94779968261719,
          -73.98792266845702,
          -73.95319366455078,
          -73.95974731445312,
          -73.9532470703125,
          -73.90413665771484,
          -73.89300537109375,
          -74.00246429443358,
          -73.9832763671875,
          -73.95343017578125,
          -73.97037506103516,
          -73.96306610107422,
          -73.93858337402342,
          -73.99164581298828,
          -73.99500274658203,
          -73.94892883300781,
          -73.96743774414062,
          -73.93981170654298,
          -73.9586410522461,
          -73.9558334350586,
          -73.97246551513672,
          -73.9881591796875,
          -73.99555969238281
         ],
         "marker": {
          "color": "#00cc96",
          "size": [
           4,
           4,
           6,
           6,
           2,
           2,
           1,
           1,
           2,
           2,
           1,
           1,
           3,
           3,
           1,
           1,
           1,
           1,
           2,
           2,
           1,
           1,
           2,
           2,
           1,
           1,
           6,
           6,
           1,
           1,
           3,
           3,
           6,
           6,
           2,
           2,
           1,
           1,
           3,
           3,
           1,
           1,
           1,
           1,
           1,
           1,
           3,
           3,
           2,
           2,
           1,
           1,
           1,
           1,
           1,
           1,
           1,
           1,
           1,
           1,
           1,
           1,
           1,
           1,
           1,
           1,
           1,
           1,
           1,
           1,
           1,
           1
          ],
          "sizemode": "area",
          "sizeref": 0.06
         },
         "mode": "markers",
         "name": "조금빠름(path)",
         "opacity": 0.8,
         "showlegend": true,
         "subplot": "mapbox",
         "type": "scattermapbox"
        },
        {
         "hovertemplate": "평균속력=매우빠름<br>passenger_count=%{marker.size}<br>latitude=%{lat}<br>longitude=%{lon}<extra></extra>",
         "lat": [
          40.71914291381836,
          40.73513412475586,
          40.73052978515625,
          40.746219635009766,
          40.768253326416016,
          40.77399826049805,
          40.79136657714844,
          40.78382110595703,
          40.743614196777344,
          40.72272872924805,
          40.74108123779297,
          40.73556137084961,
          40.78915786743164,
          40.77948760986328,
          40.82606887817384,
          40.7630729675293,
          40.76192474365234,
          40.76654052734375,
          40.75484848022461,
          40.72767639160156,
          40.80709838867188,
          40.80038070678711,
          40.784122467041016,
          40.77589797973633,
          40.77938079833984,
          40.76678466796875,
          40.78065872192384,
          40.76536560058594,
          40.76067352294922,
          40.762725830078125,
          40.75823974609375,
          40.75593185424805,
          40.75821304321289,
          40.796680450439446,
          40.643508911132805,
          40.70578384399414,
          40.737281799316406,
          40.6446418762207,
          40.74114227294922,
          40.68381118774414,
          40.75043869018555,
          40.63109970092773,
          40.756568908691406,
          40.740058898925774,
          40.755401611328125,
          40.705509185791016,
          40.645286560058594,
          40.75309753417969,
          40.80809020996094,
          40.76717758178711,
          40.64693832397461,
          40.70998001098633,
          40.768848419189446,
          40.744606018066406,
          40.72843170166016,
          40.73809051513672,
          40.76412582397461,
          40.783740997314446,
          40.70758056640625,
          40.752979278564446,
          40.767120361328125,
          40.77658081054688,
          40.75527572631836,
          40.76887130737305,
          40.64477157592773,
          40.832279205322266,
          40.773601531982415,
          40.66177749633789,
          40.64687347412109,
          40.78129196166992,
          40.64469146728516,
          40.70872116088867,
          40.738807678222656,
          40.74818420410156
         ],
         "legendgroup": "매우빠름",
         "line": {
          "width": 1
         },
         "lon": [
          -74.00506591796875,
          -74.00606536865233,
          -73.98052215576173,
          -73.99799346923827,
          -73.98240661621094,
          -73.95751190185547,
          -73.97394561767578,
          -73.97989654541014,
          -73.95078277587889,
          -74.00621795654298,
          -74.00586700439453,
          -73.99239349365233,
          -73.94364166259764,
          -73.95057678222656,
          -73.94337463378906,
          -73.98128509521484,
          -73.97914123535155,
          -73.99016571044923,
          -73.98343658447266,
          -74.00334930419923,
          -73.95350646972656,
          -73.96750640869139,
          -73.9544906616211,
          -73.96086883544923,
          -73.94471740722656,
          -73.95954132080078,
          -73.98385620117188,
          -73.9659652709961,
          -73.98724365234375,
          -73.92682647705078,
          -73.98924255371094,
          -73.91887664794923,
          -73.98886108398438,
          -73.96269226074217,
          -73.79021453857422,
          -74.00952911376953,
          -74.00069427490233,
          -73.77690124511719,
          -73.99011993408203,
          -73.9951629638672,
          -73.99453735351561,
          -74.02571868896483,
          -73.98641967773438,
          -73.99530029296875,
          -73.96813201904298,
          -74.00707244873048,
          -73.7766876220703,
          -73.99340057373048,
          -73.9640121459961,
          -73.99046325683594,
          -73.78984832763672,
          -74.005126953125,
          -73.86279296875,
          -73.97144317626953,
          -73.99981689453125,
          -74.05081176757811,
          -73.97107696533203,
          -73.95669555664062,
          -74.00406646728516,
          -73.97933197021484,
          -73.9688720703125,
          -73.96205139160156,
          -73.96514892578125,
          -73.95445251464845,
          -73.78182983398438,
          -73.94233703613281,
          -73.87093353271484,
          -73.82536315917967,
          -73.79014587402342,
          -73.9521942138672,
          -73.78196716308595,
          -73.9399185180664,
          -73.98301696777342,
          -73.97811889648438
         ],
         "marker": {
          "color": "#ab63fa",
          "size": [
           1,
           1,
           1,
           1,
           2,
           2,
           1,
           1,
           1,
           1,
           1,
           1,
           1,
           1,
           1,
           1,
           1,
           1,
           1,
           1,
           1,
           1,
           1,
           1,
           1,
           1,
           1,
           1,
           1,
           1,
           1,
           1,
           1,
           1,
           1,
           1,
           1,
           1,
           1,
           1,
           1,
           1,
           6,
           6,
           1,
           1,
           2,
           2,
           6,
           6,
           1,
           1,
           1,
           1,
           1,
           1,
           5,
           5,
           1,
           1,
           1,
           1,
           1,
           1,
           1,
           1,
           2,
           2,
           1,
           1,
           2,
           2,
           1,
           1
          ],
          "sizemode": "area",
          "sizeref": 0.06
         },
         "mode": "markers",
         "name": "매우빠름(path)",
         "opacity": 0.8,
         "showlegend": true,
         "subplot": "mapbox",
         "type": "scattermapbox"
        }
       ],
       "layout": {
        "autosize": true,
        "legend": {
         "title": {
          "text": "평균속력"
         },
         "tracegroupgap": 0
        },
        "mapbox": {
         "bearing": 0,
         "center": {
          "lat": 23.997939129017794,
          "lon": -63.29938559304486
         },
         "domain": {
          "x": [
           0,
           1
          ],
          "y": [
           0,
           1
          ]
         },
         "pitch": 0,
         "style": "carto-positron",
         "zoom": 1.9152194409781658
        },
        "margin": {
         "t": 60
        },
        "template": {
         "data": {
          "bar": [
           {
            "error_x": {
             "color": "#2a3f5f"
            },
            "error_y": {
             "color": "#2a3f5f"
            },
            "marker": {
             "line": {
              "color": "white",
              "width": 0.5
             },
             "pattern": {
              "fillmode": "overlay",
              "size": 10,
              "solidity": 0.2
             }
            },
            "type": "bar"
           }
          ],
          "barpolar": [
           {
            "marker": {
             "line": {
              "color": "white",
              "width": 0.5
             },
             "pattern": {
              "fillmode": "overlay",
              "size": 10,
              "solidity": 0.2
             }
            },
            "type": "barpolar"
           }
          ],
          "carpet": [
           {
            "aaxis": {
             "endlinecolor": "#2a3f5f",
             "gridcolor": "#C8D4E3",
             "linecolor": "#C8D4E3",
             "minorgridcolor": "#C8D4E3",
             "startlinecolor": "#2a3f5f"
            },
            "baxis": {
             "endlinecolor": "#2a3f5f",
             "gridcolor": "#C8D4E3",
             "linecolor": "#C8D4E3",
             "minorgridcolor": "#C8D4E3",
             "startlinecolor": "#2a3f5f"
            },
            "type": "carpet"
           }
          ],
          "choropleth": [
           {
            "colorbar": {
             "outlinewidth": 0,
             "ticks": ""
            },
            "type": "choropleth"
           }
          ],
          "contour": [
           {
            "colorbar": {
             "outlinewidth": 0,
             "ticks": ""
            },
            "colorscale": [
             [
              0,
              "#0d0887"
             ],
             [
              0.1111111111111111,
              "#46039f"
             ],
             [
              0.2222222222222222,
              "#7201a8"
             ],
             [
              0.3333333333333333,
              "#9c179e"
             ],
             [
              0.4444444444444444,
              "#bd3786"
             ],
             [
              0.5555555555555556,
              "#d8576b"
             ],
             [
              0.6666666666666666,
              "#ed7953"
             ],
             [
              0.7777777777777778,
              "#fb9f3a"
             ],
             [
              0.8888888888888888,
              "#fdca26"
             ],
             [
              1,
              "#f0f921"
             ]
            ],
            "type": "contour"
           }
          ],
          "contourcarpet": [
           {
            "colorbar": {
             "outlinewidth": 0,
             "ticks": ""
            },
            "type": "contourcarpet"
           }
          ],
          "heatmap": [
           {
            "colorbar": {
             "outlinewidth": 0,
             "ticks": ""
            },
            "colorscale": [
             [
              0,
              "#0d0887"
             ],
             [
              0.1111111111111111,
              "#46039f"
             ],
             [
              0.2222222222222222,
              "#7201a8"
             ],
             [
              0.3333333333333333,
              "#9c179e"
             ],
             [
              0.4444444444444444,
              "#bd3786"
             ],
             [
              0.5555555555555556,
              "#d8576b"
             ],
             [
              0.6666666666666666,
              "#ed7953"
             ],
             [
              0.7777777777777778,
              "#fb9f3a"
             ],
             [
              0.8888888888888888,
              "#fdca26"
             ],
             [
              1,
              "#f0f921"
             ]
            ],
            "type": "heatmap"
           }
          ],
          "heatmapgl": [
           {
            "colorbar": {
             "outlinewidth": 0,
             "ticks": ""
            },
            "colorscale": [
             [
              0,
              "#0d0887"
             ],
             [
              0.1111111111111111,
              "#46039f"
             ],
             [
              0.2222222222222222,
              "#7201a8"
             ],
             [
              0.3333333333333333,
              "#9c179e"
             ],
             [
              0.4444444444444444,
              "#bd3786"
             ],
             [
              0.5555555555555556,
              "#d8576b"
             ],
             [
              0.6666666666666666,
              "#ed7953"
             ],
             [
              0.7777777777777778,
              "#fb9f3a"
             ],
             [
              0.8888888888888888,
              "#fdca26"
             ],
             [
              1,
              "#f0f921"
             ]
            ],
            "type": "heatmapgl"
           }
          ],
          "histogram": [
           {
            "marker": {
             "pattern": {
              "fillmode": "overlay",
              "size": 10,
              "solidity": 0.2
             }
            },
            "type": "histogram"
           }
          ],
          "histogram2d": [
           {
            "colorbar": {
             "outlinewidth": 0,
             "ticks": ""
            },
            "colorscale": [
             [
              0,
              "#0d0887"
             ],
             [
              0.1111111111111111,
              "#46039f"
             ],
             [
              0.2222222222222222,
              "#7201a8"
             ],
             [
              0.3333333333333333,
              "#9c179e"
             ],
             [
              0.4444444444444444,
              "#bd3786"
             ],
             [
              0.5555555555555556,
              "#d8576b"
             ],
             [
              0.6666666666666666,
              "#ed7953"
             ],
             [
              0.7777777777777778,
              "#fb9f3a"
             ],
             [
              0.8888888888888888,
              "#fdca26"
             ],
             [
              1,
              "#f0f921"
             ]
            ],
            "type": "histogram2d"
           }
          ],
          "histogram2dcontour": [
           {
            "colorbar": {
             "outlinewidth": 0,
             "ticks": ""
            },
            "colorscale": [
             [
              0,
              "#0d0887"
             ],
             [
              0.1111111111111111,
              "#46039f"
             ],
             [
              0.2222222222222222,
              "#7201a8"
             ],
             [
              0.3333333333333333,
              "#9c179e"
             ],
             [
              0.4444444444444444,
              "#bd3786"
             ],
             [
              0.5555555555555556,
              "#d8576b"
             ],
             [
              0.6666666666666666,
              "#ed7953"
             ],
             [
              0.7777777777777778,
              "#fb9f3a"
             ],
             [
              0.8888888888888888,
              "#fdca26"
             ],
             [
              1,
              "#f0f921"
             ]
            ],
            "type": "histogram2dcontour"
           }
          ],
          "mesh3d": [
           {
            "colorbar": {
             "outlinewidth": 0,
             "ticks": ""
            },
            "type": "mesh3d"
           }
          ],
          "parcoords": [
           {
            "line": {
             "colorbar": {
              "outlinewidth": 0,
              "ticks": ""
             }
            },
            "type": "parcoords"
           }
          ],
          "pie": [
           {
            "automargin": true,
            "type": "pie"
           }
          ],
          "scatter": [
           {
            "fillpattern": {
             "fillmode": "overlay",
             "size": 10,
             "solidity": 0.2
            },
            "type": "scatter"
           }
          ],
          "scatter3d": [
           {
            "line": {
             "colorbar": {
              "outlinewidth": 0,
              "ticks": ""
             }
            },
            "marker": {
             "colorbar": {
              "outlinewidth": 0,
              "ticks": ""
             }
            },
            "type": "scatter3d"
           }
          ],
          "scattercarpet": [
           {
            "marker": {
             "colorbar": {
              "outlinewidth": 0,
              "ticks": ""
             }
            },
            "type": "scattercarpet"
           }
          ],
          "scattergeo": [
           {
            "marker": {
             "colorbar": {
              "outlinewidth": 0,
              "ticks": ""
             }
            },
            "type": "scattergeo"
           }
          ],
          "scattergl": [
           {
            "marker": {
             "colorbar": {
              "outlinewidth": 0,
              "ticks": ""
             }
            },
            "type": "scattergl"
           }
          ],
          "scattermapbox": [
           {
            "marker": {
             "colorbar": {
              "outlinewidth": 0,
              "ticks": ""
             }
            },
            "type": "scattermapbox"
           }
          ],
          "scatterpolar": [
           {
            "marker": {
             "colorbar": {
              "outlinewidth": 0,
              "ticks": ""
             }
            },
            "type": "scatterpolar"
           }
          ],
          "scatterpolargl": [
           {
            "marker": {
             "colorbar": {
              "outlinewidth": 0,
              "ticks": ""
             }
            },
            "type": "scatterpolargl"
           }
          ],
          "scatterternary": [
           {
            "marker": {
             "colorbar": {
              "outlinewidth": 0,
              "ticks": ""
             }
            },
            "type": "scatterternary"
           }
          ],
          "surface": [
           {
            "colorbar": {
             "outlinewidth": 0,
             "ticks": ""
            },
            "colorscale": [
             [
              0,
              "#0d0887"
             ],
             [
              0.1111111111111111,
              "#46039f"
             ],
             [
              0.2222222222222222,
              "#7201a8"
             ],
             [
              0.3333333333333333,
              "#9c179e"
             ],
             [
              0.4444444444444444,
              "#bd3786"
             ],
             [
              0.5555555555555556,
              "#d8576b"
             ],
             [
              0.6666666666666666,
              "#ed7953"
             ],
             [
              0.7777777777777778,
              "#fb9f3a"
             ],
             [
              0.8888888888888888,
              "#fdca26"
             ],
             [
              1,
              "#f0f921"
             ]
            ],
            "type": "surface"
           }
          ],
          "table": [
           {
            "cells": {
             "fill": {
              "color": "#EBF0F8"
             },
             "line": {
              "color": "white"
             }
            },
            "header": {
             "fill": {
              "color": "#C8D4E3"
             },
             "line": {
              "color": "white"
             }
            },
            "type": "table"
           }
          ]
         },
         "layout": {
          "annotationdefaults": {
           "arrowcolor": "#2a3f5f",
           "arrowhead": 0,
           "arrowwidth": 1
          },
          "autotypenumbers": "strict",
          "coloraxis": {
           "colorbar": {
            "outlinewidth": 0,
            "ticks": ""
           }
          },
          "colorscale": {
           "diverging": [
            [
             0,
             "#8e0152"
            ],
            [
             0.1,
             "#c51b7d"
            ],
            [
             0.2,
             "#de77ae"
            ],
            [
             0.3,
             "#f1b6da"
            ],
            [
             0.4,
             "#fde0ef"
            ],
            [
             0.5,
             "#f7f7f7"
            ],
            [
             0.6,
             "#e6f5d0"
            ],
            [
             0.7,
             "#b8e186"
            ],
            [
             0.8,
             "#7fbc41"
            ],
            [
             0.9,
             "#4d9221"
            ],
            [
             1,
             "#276419"
            ]
           ],
           "sequential": [
            [
             0,
             "#0d0887"
            ],
            [
             0.1111111111111111,
             "#46039f"
            ],
            [
             0.2222222222222222,
             "#7201a8"
            ],
            [
             0.3333333333333333,
             "#9c179e"
            ],
            [
             0.4444444444444444,
             "#bd3786"
            ],
            [
             0.5555555555555556,
             "#d8576b"
            ],
            [
             0.6666666666666666,
             "#ed7953"
            ],
            [
             0.7777777777777778,
             "#fb9f3a"
            ],
            [
             0.8888888888888888,
             "#fdca26"
            ],
            [
             1,
             "#f0f921"
            ]
           ],
           "sequentialminus": [
            [
             0,
             "#0d0887"
            ],
            [
             0.1111111111111111,
             "#46039f"
            ],
            [
             0.2222222222222222,
             "#7201a8"
            ],
            [
             0.3333333333333333,
             "#9c179e"
            ],
            [
             0.4444444444444444,
             "#bd3786"
            ],
            [
             0.5555555555555556,
             "#d8576b"
            ],
            [
             0.6666666666666666,
             "#ed7953"
            ],
            [
             0.7777777777777778,
             "#fb9f3a"
            ],
            [
             0.8888888888888888,
             "#fdca26"
            ],
            [
             1,
             "#f0f921"
            ]
           ]
          },
          "colorway": [
           "#636efa",
           "#EF553B",
           "#00cc96",
           "#ab63fa",
           "#FFA15A",
           "#19d3f3",
           "#FF6692",
           "#B6E880",
           "#FF97FF",
           "#FECB52"
          ],
          "font": {
           "color": "#2a3f5f"
          },
          "geo": {
           "bgcolor": "white",
           "lakecolor": "white",
           "landcolor": "white",
           "showlakes": true,
           "showland": true,
           "subunitcolor": "#C8D4E3"
          },
          "hoverlabel": {
           "align": "left"
          },
          "hovermode": "closest",
          "mapbox": {
           "style": "light"
          },
          "paper_bgcolor": "white",
          "plot_bgcolor": "white",
          "polar": {
           "angularaxis": {
            "gridcolor": "#EBF0F8",
            "linecolor": "#EBF0F8",
            "ticks": ""
           },
           "bgcolor": "white",
           "radialaxis": {
            "gridcolor": "#EBF0F8",
            "linecolor": "#EBF0F8",
            "ticks": ""
           }
          },
          "scene": {
           "xaxis": {
            "backgroundcolor": "white",
            "gridcolor": "#DFE8F3",
            "gridwidth": 2,
            "linecolor": "#EBF0F8",
            "showbackground": true,
            "ticks": "",
            "zerolinecolor": "#EBF0F8"
           },
           "yaxis": {
            "backgroundcolor": "white",
            "gridcolor": "#DFE8F3",
            "gridwidth": 2,
            "linecolor": "#EBF0F8",
            "showbackground": true,
            "ticks": "",
            "zerolinecolor": "#EBF0F8"
           },
           "zaxis": {
            "backgroundcolor": "white",
            "gridcolor": "#DFE8F3",
            "gridwidth": 2,
            "linecolor": "#EBF0F8",
            "showbackground": true,
            "ticks": "",
            "zerolinecolor": "#EBF0F8"
           }
          },
          "shapedefaults": {
           "line": {
            "color": "#2a3f5f"
           }
          },
          "ternary": {
           "aaxis": {
            "gridcolor": "#DFE8F3",
            "linecolor": "#A2B1C6",
            "ticks": ""
           },
           "baxis": {
            "gridcolor": "#DFE8F3",
            "linecolor": "#A2B1C6",
            "ticks": ""
           },
           "bgcolor": "white",
           "caxis": {
            "gridcolor": "#DFE8F3",
            "linecolor": "#A2B1C6",
            "ticks": ""
           }
          },
          "title": {
           "x": 0.05
          },
          "xaxis": {
           "automargin": true,
           "gridcolor": "#EBF0F8",
           "linecolor": "#EBF0F8",
           "ticks": "",
           "title": {
            "standoff": 15
           },
           "zerolinecolor": "#EBF0F8",
           "zerolinewidth": 2
          },
          "yaxis": {
           "automargin": true,
           "gridcolor": "#EBF0F8",
           "linecolor": "#EBF0F8",
           "ticks": "",
           "title": {
            "standoff": 15
           },
           "zerolinecolor": "#EBF0F8",
           "zerolinewidth": 2
          }
         }
        }
       }
      },
      "image/png": "[encoded data removed]",
      "text/html": [
       "<div>                            <div id=\"5db8b45a-3fb0-4e1f-b0c5-7c9a85cbb7d3\" class=\"plotly-graph-div\" style=\"height:525px; width:100%;\"></div>            <script type=\"text/javascript\">                require([\"plotly\"], function(Plotly) {                    window.PLOTLYENV=window.PLOTLYENV || {};                                    if (document.getElementById(\"5db8b45a-3fb0-4e1f-b0c5-7c9a85cbb7d3\")) {                    Plotly.newPlot(                        \"5db8b45a-3fb0-4e1f-b0c5-7c9a85cbb7d3\",                        [{\"hovertemplate\":\"\\ud3c9\\uade0\\uc18d\\ub825=\\ub9e4\\uc6b0\\ub290\\ub9bc\\u003cbr\\u003eid=id1891478\\u003cbr\\u003elatitude=%{lat}\\u003cbr\\u003elongitude=%{lon}\\u003cextra\\u003e\\u003c\\u002fextra\\u003e\",\"lat\":[40.75983047485352,40.75983047485352],\"legendgroup\":\"\\ub9e4\\uc6b0\\ub290\\ub9bc\",\"line\":{\"color\":\"#636efa\",\"width\":1},\"lon\":[-73.97090148925781,-73.97090148925781],\"mode\":\"lines\",\"name\":\"\\ub9e4\\uc6b0\\ub290\\ub9bc (pickup\\u002fdropoff)\",\"showlegend\":true,\"subplot\":\"mapbox\",\"type\":\"scattermapbox\",\"opacity\":0.8},{\"hovertemplate\":\"\\ud3c9\\uade0\\uc18d\\ub825=\\ub9e4\\uc6b0\\ub290\\ub9bc\\u003cbr\\u003eid=id1395947\\u003cbr\\u003elatitude=%{lat}\\u003cbr\\u003elongitude=%{lon}\\u003cextra\\u003e\\u003c\\u002fextra\\u003e\",\"lat\":[40.78168487548828,40.781299591064446],\"legendgroup\":\"\\ub9e4\\uc6b0\\ub290\\ub9bc\",\"line\":{\"color\":\"#636efa\",\"width\":1},\"lon\":[-73.98113250732422,-73.981201171875],\"mode\":\"lines\",\"name\":\"\\ub9e4\\uc6b0\\ub290\\ub9bc (pickup\\u002fdropoff)\",\"showlegend\":false,\"subplot\":\"mapbox\",\"type\":\"scattermapbox\",\"opacity\":0.8},{\"hovertemplate\":\"\\ud3c9\\uade0\\uc18d\\ub825=\\ub9e4\\uc6b0\\ub290\\ub9bc\\u003cbr\\u003eid=id0616736\\u003cbr\\u003elatitude=%{lat}\\u003cbr\\u003elongitude=%{lon}\\u003cextra\\u003e\\u003c\\u002fextra\\u003e\",\"lat\":[40.763519287109375,40.761749267578125],\"legendgroup\":\"\\ub9e4\\uc6b0\\ub290\\ub9bc\",\"line\":{\"color\":\"#636efa\",\"width\":1},\"lon\":[-73.96932220458984,-73.97138977050781],\"mode\":\"lines\",\"name\":\"\\ub9e4\\uc6b0\\ub290\\ub9bc (pickup\\u002fdropoff)\",\"showlegend\":false,\"subplot\":\"mapbox\",\"type\":\"scattermapbox\",\"opacity\":0.8},{\"hovertemplate\":\"\\ud3c9\\uade0\\uc18d\\ub825=\\ub9e4\\uc6b0\\ub290\\ub9bc\\u003cbr\\u003eid=id1509328\\u003cbr\\u003elatitude=%{lat}\\u003cbr\\u003elongitude=%{lon}\\u003cextra\\u003e\\u003c\\u002fextra\\u003e\",\"lat\":[40.74432373046875,40.74211883544922],\"legendgroup\":\"\\ub9e4\\uc6b0\\ub290\\ub9bc\",\"line\":{\"color\":\"#636efa\",\"width\":1},\"lon\":[-73.98423767089844,-73.97466278076173],\"mode\":\"lines\",\"name\":\"\\ub9e4\\uc6b0\\ub290\\ub9bc (pickup\\u002fdropoff)\",\"showlegend\":false,\"subplot\":\"mapbox\",\"type\":\"scattermapbox\",\"opacity\":0.8},{\"hovertemplate\":\"\\ud3c9\\uade0\\uc18d\\ub825=\\ub9e4\\uc6b0\\ub290\\ub9bc\\u003cbr\\u003eid=id3407848\\u003cbr\\u003elatitude=%{lat}\\u003cbr\\u003elongitude=%{lon}\\u003cextra\\u003e\\u003c\\u002fextra\\u003e\",\"lat\":[40.70718383789063,40.70901870727539],\"legendgroup\":\"\\ub9e4\\uc6b0\\ub290\\ub9bc\",\"line\":{\"color\":\"#636efa\",\"width\":1},\"lon\":[-74.01651763916014,-74.0118637084961],\"mode\":\"lines\",\"name\":\"\\ub9e4\\uc6b0\\ub290\\ub9bc (pickup\\u002fdropoff)\",\"showlegend\":false,\"subplot\":\"mapbox\",\"type\":\"scattermapbox\",\"opacity\":0.8},{\"hovertemplate\":\"\\ud3c9\\uade0\\uc18d\\ub825=\\ub9e4\\uc6b0\\ub290\\ub9bc\\u003cbr\\u003eid=id1485571\\u003cbr\\u003elatitude=%{lat}\\u003cbr\\u003elongitude=%{lon}\\u003cextra\\u003e\\u003c\\u002fextra\\u003e\",\"lat\":[40.77154159545898,40.77495956420898],\"legendgroup\":\"\\ub9e4\\uc6b0\\ub290\\ub9bc\",\"line\":{\"color\":\"#636efa\",\"width\":1},\"lon\":[-73.9818115234375,-73.98088073730467],\"mode\":\"lines\",\"name\":\"\\ub9e4\\uc6b0\\ub290\\ub9bc (pickup\\u002fdropoff)\",\"showlegend\":false,\"subplot\":\"mapbox\",\"type\":\"scattermapbox\",\"opacity\":0.8},{\"hovertemplate\":\"\\ud3c9\\uade0\\uc18d\\ub825=\\ub9e4\\uc6b0\\ub290\\ub9bc\\u003cbr\\u003eid=id0179765\\u003cbr\\u003elatitude=%{lat}\\u003cbr\\u003elongitude=%{lon}\\u003cextra\\u003e\\u003c\\u002fextra\\u003e\",\"lat\":[40.72530364990234,40.71965026855469],\"legendgroup\":\"\\ub9e4\\uc6b0\\ub290\\ub9bc\",\"line\":{\"color\":\"#636efa\",\"width\":1},\"lon\":[-73.9925537109375,-73.9946060180664],\"mode\":\"lines\",\"name\":\"\\ub9e4\\uc6b0\\ub290\\ub9bc (pickup\\u002fdropoff)\",\"showlegend\":false,\"subplot\":\"mapbox\",\"type\":\"scattermapbox\",\"opacity\":0.8},{\"hovertemplate\":\"\\ud3c9\\uade0\\uc18d\\ub825=\\ub9e4\\uc6b0\\ub290\\ub9bc\\u003cbr\\u003eid=id0500836\\u003cbr\\u003elatitude=%{lat}\\u003cbr\\u003elongitude=%{lon}\\u003cextra\\u003e\\u003c\\u002fextra\\u003e\",\"lat\":[40.75623321533203,40.734371185302734],\"legendgroup\":\"\\ub9e4\\uc6b0\\ub290\\ub9bc\",\"line\":{\"color\":\"#636efa\",\"width\":1},\"lon\":[-73.99331665039062,-73.98973846435547],\"mode\":\"lines\",\"name\":\"\\ub9e4\\uc6b0\\ub290\\ub9bc (pickup\\u002fdropoff)\",\"showlegend\":false,\"subplot\":\"mapbox\",\"type\":\"scattermapbox\",\"opacity\":0.8},{\"hovertemplate\":\"\\ud3c9\\uade0\\uc18d\\ub825=\\ub9e4\\uc6b0\\ub290\\ub9bc\\u003cbr\\u003eid=id1727712\\u003cbr\\u003elatitude=%{lat}\\u003cbr\\u003elongitude=%{lon}\\u003cextra\\u003e\\u003c\\u002fextra\\u003e\",\"lat\":[40.739540100097656,40.735721588134766],\"legendgroup\":\"\\ub9e4\\uc6b0\\ub290\\ub9bc\",\"line\":{\"color\":\"#636efa\",\"width\":1},\"lon\":[-73.98706817626953,-73.98265838623048],\"mode\":\"lines\",\"name\":\"\\ub9e4\\uc6b0\\ub290\\ub9bc (pickup\\u002fdropoff)\",\"showlegend\":false,\"subplot\":\"mapbox\",\"type\":\"scattermapbox\",\"opacity\":0.8},{\"hovertemplate\":\"\\ud3c9\\uade0\\uc18d\\ub825=\\ub9e4\\uc6b0\\ub290\\ub9bc\\u003cbr\\u003eid=id3810822\\u003cbr\\u003elatitude=%{lat}\\u003cbr\\u003elongitude=%{lon}\\u003cextra\\u003e\\u003c\\u002fextra\\u003e\",\"lat\":[40.73308181762695,40.730018615722656],\"legendgroup\":\"\\ub9e4\\uc6b0\\ub290\\ub9bc\",\"line\":{\"color\":\"#636efa\",\"width\":1},\"lon\":[-74.00662231445312,-74.00050354003906],\"mode\":\"lines\",\"name\":\"\\ub9e4\\uc6b0\\ub290\\ub9bc (pickup\\u002fdropoff)\",\"showlegend\":false,\"subplot\":\"mapbox\",\"type\":\"scattermapbox\",\"opacity\":0.8},{\"hovertemplate\":\"\\ud3c9\\uade0\\uc18d\\ub825=\\ub9e4\\uc6b0\\ub290\\ub9bc\\u003cbr\\u003eid=id3547943\\u003cbr\\u003elatitude=%{lat}\\u003cbr\\u003elongitude=%{lon}\\u003cextra\\u003e\\u003c\\u002fextra\\u003e\",\"lat\":[40.776123046875,40.77534103393555],\"legendgroup\":\"\\ub9e4\\uc6b0\\ub290\\ub9bc\",\"line\":{\"color\":\"#636efa\",\"width\":1},\"lon\":[-73.96235656738281,-73.96501922607422],\"mode\":\"lines\",\"name\":\"\\ub9e4\\uc6b0\\ub290\\ub9bc (pickup\\u002fdropoff)\",\"showlegend\":false,\"subplot\":\"mapbox\",\"type\":\"scattermapbox\",\"opacity\":0.8},{\"hovertemplate\":\"\\ud3c9\\uade0\\uc18d\\ub825=\\ub9e4\\uc6b0\\ub290\\ub9bc\\u003cbr\\u003eid=id2882780\\u003cbr\\u003elatitude=%{lat}\\u003cbr\\u003elongitude=%{lon}\\u003cextra\\u003e\\u003c\\u002fextra\\u003e\",\"lat\":[40.746826171875,40.777099609375],\"legendgroup\":\"\\ub9e4\\uc6b0\\ub290\\ub9bc\",\"line\":{\"color\":\"#636efa\",\"width\":1},\"lon\":[-73.99005889892578,-73.97775268554686],\"mode\":\"lines\",\"name\":\"\\ub9e4\\uc6b0\\ub290\\ub9bc (pickup\\u002fdropoff)\",\"showlegend\":false,\"subplot\":\"mapbox\",\"type\":\"scattermapbox\",\"opacity\":0.8},{\"hovertemplate\":\"\\ud3c9\\uade0\\uc18d\\ub825=\\ub9e4\\uc6b0\\ub290\\ub9bc\\u003cbr\\u003eid=id0092643\\u003cbr\\u003elatitude=%{lat}\\u003cbr\\u003elongitude=%{lon}\\u003cextra\\u003e\\u003c\\u002fextra\\u003e\",\"lat\":[40.74184036254882,40.74722671508789],\"legendgroup\":\"\\ub9e4\\uc6b0\\ub290\\ub9bc\",\"line\":{\"color\":\"#636efa\",\"width\":1},\"lon\":[-74.0008773803711,-73.9910430908203],\"mode\":\"lines\",\"name\":\"\\ub9e4\\uc6b0\\ub290\\ub9bc (pickup\\u002fdropoff)\",\"showlegend\":false,\"subplot\":\"mapbox\",\"type\":\"scattermapbox\",\"opacity\":0.8},{\"hovertemplate\":\"\\ud3c9\\uade0\\uc18d\\ub825=\\ub9e4\\uc6b0\\ub290\\ub9bc\\u003cbr\\u003eid=id0797253\\u003cbr\\u003elatitude=%{lat}\\u003cbr\\u003elongitude=%{lon}\\u003cextra\\u003e\\u003c\\u002fextra\\u003e\",\"lat\":[40.7467155456543,40.75249862670898],\"legendgroup\":\"\\ub9e4\\uc6b0\\ub290\\ub9bc\",\"line\":{\"color\":\"#636efa\",\"width\":1},\"lon\":[-73.98993682861328,-73.97853851318358],\"mode\":\"lines\",\"name\":\"\\ub9e4\\uc6b0\\ub290\\ub9bc (pickup\\u002fdropoff)\",\"showlegend\":false,\"subplot\":\"mapbox\",\"type\":\"scattermapbox\",\"opacity\":0.8},{\"hovertemplate\":\"\\ud3c9\\uade0\\uc18d\\ub825=\\ub9e4\\uc6b0\\ub290\\ub9bc\\u003cbr\\u003eid=id3758654\\u003cbr\\u003elatitude=%{lat}\\u003cbr\\u003elongitude=%{lon}\\u003cextra\\u003e\\u003c\\u002fextra\\u003e\",\"lat\":[40.72259521484375,40.72389602661133],\"legendgroup\":\"\\ub9e4\\uc6b0\\ub290\\ub9bc\",\"line\":{\"color\":\"#636efa\",\"width\":1},\"lon\":[-74.00528717041014,-74.00457000732422],\"mode\":\"lines\",\"name\":\"\\ub9e4\\uc6b0\\ub290\\ub9bc (pickup\\u002fdropoff)\",\"showlegend\":false,\"subplot\":\"mapbox\",\"type\":\"scattermapbox\",\"opacity\":0.8},{\"hovertemplate\":\"\\ud3c9\\uade0\\uc18d\\ub825=\\ub9e4\\uc6b0\\ub290\\ub9bc\\u003cbr\\u003eid=id3572411\\u003cbr\\u003elatitude=%{lat}\\u003cbr\\u003elongitude=%{lon}\\u003cextra\\u003e\\u003c\\u002fextra\\u003e\",\"lat\":[40.76140594482422,40.76454162597656],\"legendgroup\":\"\\ub9e4\\uc6b0\\ub290\\ub9bc\",\"line\":{\"color\":\"#636efa\",\"width\":1},\"lon\":[-73.97090911865233,-73.97366333007811],\"mode\":\"lines\",\"name\":\"\\ub9e4\\uc6b0\\ub290\\ub9bc (pickup\\u002fdropoff)\",\"showlegend\":false,\"subplot\":\"mapbox\",\"type\":\"scattermapbox\",\"opacity\":0.8},{\"hovertemplate\":\"\\ud3c9\\uade0\\uc18d\\ub825=\\ub9e4\\uc6b0\\ub290\\ub9bc\\u003cbr\\u003eid=id1710393\\u003cbr\\u003elatitude=%{lat}\\u003cbr\\u003elongitude=%{lon}\\u003cextra\\u003e\\u003c\\u002fextra\\u003e\",\"lat\":[40.744140625,40.74169921875],\"legendgroup\":\"\\ub9e4\\uc6b0\\ub290\\ub9bc\",\"line\":{\"color\":\"#636efa\",\"width\":1},\"lon\":[-73.97913360595702,-73.97492218017578],\"mode\":\"lines\",\"name\":\"\\ub9e4\\uc6b0\\ub290\\ub9bc (pickup\\u002fdropoff)\",\"showlegend\":false,\"subplot\":\"mapbox\",\"type\":\"scattermapbox\",\"opacity\":0.8},{\"hovertemplate\":\"\\ud3c9\\uade0\\uc18d\\ub825=\\ub9e4\\uc6b0\\ub290\\ub9bc\\u003cbr\\u003eid=id2113737\\u003cbr\\u003elatitude=%{lat}\\u003cbr\\u003elongitude=%{lon}\\u003cextra\\u003e\\u003c\\u002fextra\\u003e\",\"lat\":[40.78596115112305,40.77871322631836],\"legendgroup\":\"\\ub9e4\\uc6b0\\ub290\\ub9bc\",\"line\":{\"color\":\"#636efa\",\"width\":1},\"lon\":[-73.97699737548828,-73.9814453125],\"mode\":\"lines\",\"name\":\"\\ub9e4\\uc6b0\\ub290\\ub9bc (pickup\\u002fdropoff)\",\"showlegend\":false,\"subplot\":\"mapbox\",\"type\":\"scattermapbox\",\"opacity\":0.8},{\"hovertemplate\":\"\\ud3c9\\uade0\\uc18d\\ub825=\\ub9e4\\uc6b0\\ub290\\ub9bc\\u003cbr\\u003eid=id0297795\\u003cbr\\u003elatitude=%{lat}\\u003cbr\\u003elongitude=%{lon}\\u003cextra\\u003e\\u003c\\u002fextra\\u003e\",\"lat\":[40.794048309326165,40.79790878295898],\"legendgroup\":\"\\ub9e4\\uc6b0\\ub290\\ub9bc\",\"line\":{\"color\":\"#636efa\",\"width\":1},\"lon\":[-73.97196960449217,-73.97329711914062],\"mode\":\"lines\",\"name\":\"\\ub9e4\\uc6b0\\ub290\\ub9bc (pickup\\u002fdropoff)\",\"showlegend\":false,\"subplot\":\"mapbox\",\"type\":\"scattermapbox\",\"opacity\":0.8},{\"hovertemplate\":\"\\ud3c9\\uade0\\uc18d\\ub825=\\ub9e4\\uc6b0\\ub290\\ub9bc\\u003cbr\\u003eid=id1062824\\u003cbr\\u003elatitude=%{lat}\\u003cbr\\u003elongitude=%{lon}\\u003cextra\\u003e\\u003c\\u002fextra\\u003e\",\"lat\":[40.76639175415039,40.75261306762695],\"legendgroup\":\"\\ub9e4\\uc6b0\\ub290\\ub9bc\",\"line\":{\"color\":\"#636efa\",\"width\":1},\"lon\":[-73.96286010742188,-73.98545074462889],\"mode\":\"lines\",\"name\":\"\\ub9e4\\uc6b0\\ub290\\ub9bc (pickup\\u002fdropoff)\",\"showlegend\":false,\"subplot\":\"mapbox\",\"type\":\"scattermapbox\",\"opacity\":0.8},{\"hovertemplate\":\"\\ud3c9\\uade0\\uc18d\\ub825=\\ub9e4\\uc6b0\\ub290\\ub9bc\\u003cbr\\u003eid=id1625242\\u003cbr\\u003elatitude=%{lat}\\u003cbr\\u003elongitude=%{lon}\\u003cextra\\u003e\\u003c\\u002fextra\\u003e\",\"lat\":[40.73777770996094,40.74677658081056],\"legendgroup\":\"\\ub9e4\\uc6b0\\ub290\\ub9bc\",\"line\":{\"color\":\"#636efa\",\"width\":1},\"lon\":[-73.99762725830078,-74.00828552246092],\"mode\":\"lines\",\"name\":\"\\ub9e4\\uc6b0\\ub290\\ub9bc (pickup\\u002fdropoff)\",\"showlegend\":false,\"subplot\":\"mapbox\",\"type\":\"scattermapbox\",\"opacity\":0.8},{\"hovertemplate\":\"\\ud3c9\\uade0\\uc18d\\ub825=\\ub9e4\\uc6b0\\ub290\\ub9bc\\u003cbr\\u003eid=id3281834\\u003cbr\\u003elatitude=%{lat}\\u003cbr\\u003elongitude=%{lon}\\u003cextra\\u003e\\u003c\\u002fextra\\u003e\",\"lat\":[40.7393684387207,40.74413299560546],\"legendgroup\":\"\\ub9e4\\uc6b0\\ub290\\ub9bc\",\"line\":{\"color\":\"#636efa\",\"width\":1},\"lon\":[-74.00737762451173,-74.00689697265625],\"mode\":\"lines\",\"name\":\"\\ub9e4\\uc6b0\\ub290\\ub9bc (pickup\\u002fdropoff)\",\"showlegend\":false,\"subplot\":\"mapbox\",\"type\":\"scattermapbox\",\"opacity\":0.8},{\"hovertemplate\":\"\\ud3c9\\uade0\\uc18d\\ub825=\\ub9e4\\uc6b0\\ub290\\ub9bc\\u003cbr\\u003eid=id2916371\\u003cbr\\u003elatitude=%{lat}\\u003cbr\\u003elongitude=%{lon}\\u003cextra\\u003e\\u003c\\u002fextra\\u003e\",\"lat\":[40.7324447631836,40.7302360534668],\"legendgroup\":\"\\ub9e4\\uc6b0\\ub290\\ub9bc\",\"line\":{\"color\":\"#636efa\",\"width\":1},\"lon\":[-74.00647735595702,-73.99922180175781],\"mode\":\"lines\",\"name\":\"\\ub9e4\\uc6b0\\ub290\\ub9bc (pickup\\u002fdropoff)\",\"showlegend\":false,\"subplot\":\"mapbox\",\"type\":\"scattermapbox\",\"opacity\":0.8},{\"hovertemplate\":\"\\ud3c9\\uade0\\uc18d\\ub825=\\ub9e4\\uc6b0\\ub290\\ub9bc\\u003cbr\\u003eid=id0120497\\u003cbr\\u003elatitude=%{lat}\\u003cbr\\u003elongitude=%{lon}\\u003cextra\\u003e\\u003c\\u002fextra\\u003e\",\"lat\":[40.74240493774414,40.72117233276367],\"legendgroup\":\"\\ub9e4\\uc6b0\\ub290\\ub9bc\",\"line\":{\"color\":\"#636efa\",\"width\":1},\"lon\":[-74.00107574462889,-73.98760986328125],\"mode\":\"lines\",\"name\":\"\\ub9e4\\uc6b0\\ub290\\ub9bc (pickup\\u002fdropoff)\",\"showlegend\":false,\"subplot\":\"mapbox\",\"type\":\"scattermapbox\",\"opacity\":0.8},{\"hovertemplate\":\"\\ud3c9\\uade0\\uc18d\\ub825=\\ub9e4\\uc6b0\\ub290\\ub9bc\\u003cbr\\u003eid=id2054788\\u003cbr\\u003elatitude=%{lat}\\u003cbr\\u003elongitude=%{lon}\\u003cextra\\u003e\\u003c\\u002fextra\\u003e\",\"lat\":[40.76290130615234,40.74275970458984],\"legendgroup\":\"\\ub9e4\\uc6b0\\ub290\\ub9bc\",\"line\":{\"color\":\"#636efa\",\"width\":1},\"lon\":[-73.98320770263672,-73.97737884521484],\"mode\":\"lines\",\"name\":\"\\ub9e4\\uc6b0\\ub290\\ub9bc (pickup\\u002fdropoff)\",\"showlegend\":false,\"subplot\":\"mapbox\",\"type\":\"scattermapbox\",\"opacity\":0.8},{\"hovertemplate\":\"\\ud3c9\\uade0\\uc18d\\ub825=\\ub9e4\\uc6b0\\ub290\\ub9bc\\u003cbr\\u003eid=id3888107\\u003cbr\\u003elatitude=%{lat}\\u003cbr\\u003elongitude=%{lon}\\u003cextra\\u003e\\u003c\\u002fextra\\u003e\",\"lat\":[40.757469177246094,40.771968841552734],\"legendgroup\":\"\\ub9e4\\uc6b0\\ub290\\ub9bc\",\"line\":{\"color\":\"#636efa\",\"width\":1},\"lon\":[-73.96942901611328,-73.9827423095703],\"mode\":\"lines\",\"name\":\"\\ub9e4\\uc6b0\\ub290\\ub9bc (pickup\\u002fdropoff)\",\"showlegend\":false,\"subplot\":\"mapbox\",\"type\":\"scattermapbox\",\"opacity\":0.8},{\"hovertemplate\":\"\\ud3c9\\uade0\\uc18d\\ub825=\\ub9e4\\uc6b0\\ub290\\ub9bc\\u003cbr\\u003eid=id3094934\\u003cbr\\u003elatitude=%{lat}\\u003cbr\\u003elongitude=%{lon}\\u003cextra\\u003e\\u003c\\u002fextra\\u003e\",\"lat\":[40.72243118286133,40.76266860961913],\"legendgroup\":\"\\ub9e4\\uc6b0\\ub290\\ub9bc\",\"line\":{\"color\":\"#636efa\",\"width\":1},\"lon\":[-73.98615264892578,-73.98597717285155],\"mode\":\"lines\",\"name\":\"\\ub9e4\\uc6b0\\ub290\\ub9bc (pickup\\u002fdropoff)\",\"showlegend\":false,\"subplot\":\"mapbox\",\"type\":\"scattermapbox\",\"opacity\":0.8},{\"hovertemplate\":\"\\ud3c9\\uade0\\uc18d\\ub825=\\ub9e4\\uc6b0\\ub290\\ub9bc\\u003cbr\\u003eid=id0833022\\u003cbr\\u003elatitude=%{lat}\\u003cbr\\u003elongitude=%{lon}\\u003cextra\\u003e\\u003c\\u002fextra\\u003e\",\"lat\":[40.79840850830078,40.79058837890625],\"legendgroup\":\"\\ub9e4\\uc6b0\\ub290\\ub9bc\",\"line\":{\"color\":\"#636efa\",\"width\":1},\"lon\":[-73.95243072509764,-73.949951171875],\"mode\":\"lines\",\"name\":\"\\ub9e4\\uc6b0\\ub290\\ub9bc (pickup\\u002fdropoff)\",\"showlegend\":false,\"subplot\":\"mapbox\",\"type\":\"scattermapbox\",\"opacity\":0.8},{\"hovertemplate\":\"\\ud3c9\\uade0\\uc18d\\ub825=\\ub9e4\\uc6b0\\ub290\\ub9bc\\u003cbr\\u003eid=id3579875\\u003cbr\\u003elatitude=%{lat}\\u003cbr\\u003elongitude=%{lon}\\u003cextra\\u003e\\u003c\\u002fextra\\u003e\",\"lat\":[40.76341247558594,40.71963119506836],\"legendgroup\":\"\\ub9e4\\uc6b0\\ub290\\ub9bc\",\"line\":{\"color\":\"#636efa\",\"width\":1},\"lon\":[-73.98194122314453,-73.99542999267578],\"mode\":\"lines\",\"name\":\"\\ub9e4\\uc6b0\\ub290\\ub9bc (pickup\\u002fdropoff)\",\"showlegend\":false,\"subplot\":\"mapbox\",\"type\":\"scattermapbox\",\"opacity\":0.8},{\"hovertemplate\":\"\\ud3c9\\uade0\\uc18d\\ub825=\\ub9e4\\uc6b0\\ub290\\ub9bc\\u003cbr\\u003eid=id3508248\\u003cbr\\u003elatitude=%{lat}\\u003cbr\\u003elongitude=%{lon}\\u003cextra\\u003e\\u003c\\u002fextra\\u003e\",\"lat\":[40.74380493164063,40.75000762939453],\"legendgroup\":\"\\ub9e4\\uc6b0\\ub290\\ub9bc\",\"line\":{\"color\":\"#636efa\",\"width\":1},\"lon\":[-73.98795318603516,-73.99179077148438],\"mode\":\"lines\",\"name\":\"\\ub9e4\\uc6b0\\ub290\\ub9bc (pickup\\u002fdropoff)\",\"showlegend\":false,\"subplot\":\"mapbox\",\"type\":\"scattermapbox\",\"opacity\":0.8},{\"hovertemplate\":\"\\ud3c9\\uade0\\uc18d\\ub825=\\ub9e4\\uc6b0\\ub290\\ub9bc\\u003cbr\\u003eid=id1927858\\u003cbr\\u003elatitude=%{lat}\\u003cbr\\u003elongitude=%{lon}\\u003cextra\\u003e\\u003c\\u002fextra\\u003e\",\"lat\":[40.74729537963867,40.761695861816406],\"legendgroup\":\"\\ub9e4\\uc6b0\\ub290\\ub9bc\",\"line\":{\"color\":\"#636efa\",\"width\":1},\"lon\":[-73.98175048828125,-74.00177764892578],\"mode\":\"lines\",\"name\":\"\\ub9e4\\uc6b0\\ub290\\ub9bc (pickup\\u002fdropoff)\",\"showlegend\":false,\"subplot\":\"mapbox\",\"type\":\"scattermapbox\",\"opacity\":0.8},{\"hovertemplate\":\"\\ud3c9\\uade0\\uc18d\\ub825=\\ub9e4\\uc6b0\\ub290\\ub9bc\\u003cbr\\u003eid=id0833453\\u003cbr\\u003elatitude=%{lat}\\u003cbr\\u003elongitude=%{lon}\\u003cextra\\u003e\\u003c\\u002fextra\\u003e\",\"lat\":[40.72234725952149,40.74566268920898],\"legendgroup\":\"\\ub9e4\\uc6b0\\ub290\\ub9bc\",\"line\":{\"color\":\"#636efa\",\"width\":1},\"lon\":[-73.99722290039062,-73.98463439941406],\"mode\":\"lines\",\"name\":\"\\ub9e4\\uc6b0\\ub290\\ub9bc (pickup\\u002fdropoff)\",\"showlegend\":false,\"subplot\":\"mapbox\",\"type\":\"scattermapbox\",\"opacity\":0.8},{\"hovertemplate\":\"\\ud3c9\\uade0\\uc18d\\ub825=\\ub9e4\\uc6b0\\ub290\\ub9bc\\u003cbr\\u003eid=id0503659\\u003cbr\\u003elatitude=%{lat}\\u003cbr\\u003elongitude=%{lon}\\u003cextra\\u003e\\u003c\\u002fextra\\u003e\",\"lat\":[40.78450012207031,40.804832458496094],\"legendgroup\":\"\\ub9e4\\uc6b0\\ub290\\ub9bc\",\"line\":{\"color\":\"#636efa\",\"width\":1},\"lon\":[-73.95220947265625,-73.96610260009764],\"mode\":\"lines\",\"name\":\"\\ub9e4\\uc6b0\\ub290\\ub9bc (pickup\\u002fdropoff)\",\"showlegend\":false,\"subplot\":\"mapbox\",\"type\":\"scattermapbox\",\"opacity\":0.8},{\"hovertemplate\":\"\\ud3c9\\uade0\\uc18d\\ub825=\\ub9e4\\uc6b0\\ub290\\ub9bc\\u003cbr\\u003eid=id0261033\\u003cbr\\u003elatitude=%{lat}\\u003cbr\\u003elongitude=%{lon}\\u003cextra\\u003e\\u003c\\u002fextra\\u003e\",\"lat\":[40.773868560791016,40.75505065917969],\"legendgroup\":\"\\ub9e4\\uc6b0\\ub290\\ub9bc\",\"line\":{\"color\":\"#636efa\",\"width\":1},\"lon\":[-73.98236846923827,-73.97960662841797],\"mode\":\"lines\",\"name\":\"\\ub9e4\\uc6b0\\ub290\\ub9bc (pickup\\u002fdropoff)\",\"showlegend\":false,\"subplot\":\"mapbox\",\"type\":\"scattermapbox\",\"opacity\":0.8},{\"hovertemplate\":\"\\ud3c9\\uade0\\uc18d\\ub825=\\ub9e4\\uc6b0\\ub290\\ub9bc\\u003cbr\\u003eid=id2002463\\u003cbr\\u003elatitude=%{lat}\\u003cbr\\u003elongitude=%{lon}\\u003cextra\\u003e\\u003c\\u002fextra\\u003e\",\"lat\":[40.7683982849121,40.7793083190918],\"legendgroup\":\"\\ub9e4\\uc6b0\\ub290\\ub9bc\",\"line\":{\"color\":\"#636efa\",\"width\":1},\"lon\":[-73.9656524658203,-73.96006774902342],\"mode\":\"lines\",\"name\":\"\\ub9e4\\uc6b0\\ub290\\ub9bc (pickup\\u002fdropoff)\",\"showlegend\":false,\"subplot\":\"mapbox\",\"type\":\"scattermapbox\",\"opacity\":0.8},{\"hovertemplate\":\"\\ud3c9\\uade0\\uc18d\\ub825=\\ub9e4\\uc6b0\\ub290\\ub9bc\\u003cbr\\u003eid=id0660195\\u003cbr\\u003elatitude=%{lat}\\u003cbr\\u003elongitude=%{lon}\\u003cextra\\u003e\\u003c\\u002fextra\\u003e\",\"lat\":[40.77922821044922,40.746257781982415],\"legendgroup\":\"\\ub9e4\\uc6b0\\ub290\\ub9bc\",\"line\":{\"color\":\"#636efa\",\"width\":1},\"lon\":[-73.95587921142578,-73.98580169677734],\"mode\":\"lines\",\"name\":\"\\ub9e4\\uc6b0\\ub290\\ub9bc (pickup\\u002fdropoff)\",\"showlegend\":false,\"subplot\":\"mapbox\",\"type\":\"scattermapbox\",\"opacity\":0.8},{\"hovertemplate\":\"\\ud3c9\\uade0\\uc18d\\ub825=\\ub9e4\\uc6b0\\ub290\\ub9bc\\u003cbr\\u003eid=id1986470\\u003cbr\\u003elatitude=%{lat}\\u003cbr\\u003elongitude=%{lon}\\u003cextra\\u003e\\u003c\\u002fextra\\u003e\",\"lat\":[40.75796890258789,40.743770599365234],\"legendgroup\":\"\\ub9e4\\uc6b0\\ub290\\ub9bc\",\"line\":{\"color\":\"#636efa\",\"width\":1},\"lon\":[-73.98609161376953,-73.98335266113281],\"mode\":\"lines\",\"name\":\"\\ub9e4\\uc6b0\\ub290\\ub9bc (pickup\\u002fdropoff)\",\"showlegend\":false,\"subplot\":\"mapbox\",\"type\":\"scattermapbox\",\"opacity\":0.8},{\"hovertemplate\":\"\\ud3c9\\uade0\\uc18d\\ub825=\\uc870\\uae08\\ub290\\ub9bc\\u003cbr\\u003eid=id0767292\\u003cbr\\u003elatitude=%{lat}\\u003cbr\\u003elongitude=%{lon}\\u003cextra\\u003e\\u003c\\u002fextra\\u003e\",\"lat\":[40.74156188964844,40.75085067749024],\"legendgroup\":\"\\uc870\\uae08\\ub290\\ub9bc\",\"line\":{\"color\":\"#EF553B\",\"width\":1},\"lon\":[-73.993896484375,-73.97830963134764],\"mode\":\"lines\",\"name\":\"\\uc870\\uae08\\ub290\\ub9bc (pickup\\u002fdropoff)\",\"showlegend\":true,\"subplot\":\"mapbox\",\"type\":\"scattermapbox\",\"opacity\":0.8},{\"hovertemplate\":\"\\ud3c9\\uade0\\uc18d\\ub825=\\uc870\\uae08\\ub290\\ub9bc\\u003cbr\\u003eid=id0303696\\u003cbr\\u003elatitude=%{lat}\\u003cbr\\u003elongitude=%{lon}\\u003cextra\\u003e\\u003c\\u002fextra\\u003e\",\"lat\":[40.76424789428711,40.763145446777344],\"legendgroup\":\"\\uc870\\uae08\\ub290\\ub9bc\",\"line\":{\"color\":\"#EF553B\",\"width\":1},\"lon\":[-73.95646667480467,-73.96985626220702],\"mode\":\"lines\",\"name\":\"\\uc870\\uae08\\ub290\\ub9bc (pickup\\u002fdropoff)\",\"showlegend\":false,\"subplot\":\"mapbox\",\"type\":\"scattermapbox\",\"opacity\":0.8},{\"hovertemplate\":\"\\ud3c9\\uade0\\uc18d\\ub825=\\uc870\\uae08\\ub290\\ub9bc\\u003cbr\\u003eid=id1423063\\u003cbr\\u003elatitude=%{lat}\\u003cbr\\u003elongitude=%{lon}\\u003cextra\\u003e\\u003c\\u002fextra\\u003e\",\"lat\":[40.777053833007805,40.76767349243164],\"legendgroup\":\"\\uc870\\uae08\\ub290\\ub9bc\",\"line\":{\"color\":\"#EF553B\",\"width\":1},\"lon\":[-73.98257446289062,-73.98075866699219],\"mode\":\"lines\",\"name\":\"\\uc870\\uae08\\ub290\\ub9bc (pickup\\u002fdropoff)\",\"showlegend\":false,\"subplot\":\"mapbox\",\"type\":\"scattermapbox\",\"opacity\":0.8},{\"hovertemplate\":\"\\ud3c9\\uade0\\uc18d\\ub825=\\uc870\\uae08\\ub290\\ub9bc\\u003cbr\\u003eid=id2203238\\u003cbr\\u003elatitude=%{lat}\\u003cbr\\u003elongitude=%{lon}\\u003cextra\\u003e\\u003c\\u002fextra\\u003e\",\"lat\":[40.730010986328125,40.73989868164063],\"legendgroup\":\"\\uc870\\uae08\\ub290\\ub9bc\",\"line\":{\"color\":\"#EF553B\",\"width\":1},\"lon\":[-73.9792709350586,-73.98174285888672],\"mode\":\"lines\",\"name\":\"\\uc870\\uae08\\ub290\\ub9bc (pickup\\u002fdropoff)\",\"showlegend\":false,\"subplot\":\"mapbox\",\"type\":\"scattermapbox\",\"opacity\":0.8},{\"hovertemplate\":\"\\ud3c9\\uade0\\uc18d\\ub825=\\uc870\\uae08\\ub290\\ub9bc\\u003cbr\\u003eid=id3083921\\u003cbr\\u003elatitude=%{lat}\\u003cbr\\u003elongitude=%{lon}\\u003cextra\\u003e\\u003c\\u002fextra\\u003e\",\"lat\":[40.763973236083984,40.76081848144531],\"legendgroup\":\"\\uc870\\uae08\\ub290\\ub9bc\",\"line\":{\"color\":\"#EF553B\",\"width\":1},\"lon\":[-73.99028778076173,-73.97960662841797],\"mode\":\"lines\",\"name\":\"\\uc870\\uae08\\ub290\\ub9bc (pickup\\u002fdropoff)\",\"showlegend\":false,\"subplot\":\"mapbox\",\"type\":\"scattermapbox\",\"opacity\":0.8},{\"hovertemplate\":\"\\ud3c9\\uade0\\uc18d\\ub825=\\uc870\\uae08\\ub290\\ub9bc\\u003cbr\\u003eid=id0597402\\u003cbr\\u003elatitude=%{lat}\\u003cbr\\u003elongitude=%{lon}\\u003cextra\\u003e\\u003c\\u002fextra\\u003e\",\"lat\":[40.760250091552734,40.79518127441406],\"legendgroup\":\"\\uc870\\uae08\\ub290\\ub9bc\",\"line\":{\"color\":\"#EF553B\",\"width\":1},\"lon\":[-73.96861267089844,-73.96575927734375],\"mode\":\"lines\",\"name\":\"\\uc870\\uae08\\ub290\\ub9bc (pickup\\u002fdropoff)\",\"showlegend\":false,\"subplot\":\"mapbox\",\"type\":\"scattermapbox\",\"opacity\":0.8},{\"hovertemplate\":\"\\ud3c9\\uade0\\uc18d\\ub825=\\uc870\\uae08\\ub290\\ub9bc\\u003cbr\\u003eid=id1944291\\u003cbr\\u003elatitude=%{lat}\\u003cbr\\u003elongitude=%{lon}\\u003cextra\\u003e\\u003c\\u002fextra\\u003e\",\"lat\":[40.74981689453125,40.756885528564446],\"legendgroup\":\"\\uc870\\uae08\\ub290\\ub9bc\",\"line\":{\"color\":\"#EF553B\",\"width\":1},\"lon\":[-73.99140167236328,-73.9898910522461],\"mode\":\"lines\",\"name\":\"\\uc870\\uae08\\ub290\\ub9bc (pickup\\u002fdropoff)\",\"showlegend\":false,\"subplot\":\"mapbox\",\"type\":\"scattermapbox\",\"opacity\":0.8},{\"hovertemplate\":\"\\ud3c9\\uade0\\uc18d\\ub825=\\uc870\\uae08\\ub290\\ub9bc\\u003cbr\\u003eid=id2587483\\u003cbr\\u003elatitude=%{lat}\\u003cbr\\u003elongitude=%{lon}\\u003cextra\\u003e\\u003c\\u002fextra\\u003e\",\"lat\":[40.78707885742188,40.79246139526367],\"legendgroup\":\"\\uc870\\uae08\\ub290\\ub9bc\",\"line\":{\"color\":\"#EF553B\",\"width\":1},\"lon\":[-73.95390319824217,-73.94084167480467],\"mode\":\"lines\",\"name\":\"\\uc870\\uae08\\ub290\\ub9bc (pickup\\u002fdropoff)\",\"showlegend\":false,\"subplot\":\"mapbox\",\"type\":\"scattermapbox\",\"opacity\":0.8},{\"hovertemplate\":\"\\ud3c9\\uade0\\uc18d\\ub825=\\uc870\\uae08\\ub290\\ub9bc\\u003cbr\\u003eid=id3485263\\u003cbr\\u003elatitude=%{lat}\\u003cbr\\u003elongitude=%{lon}\\u003cextra\\u003e\\u003c\\u002fextra\\u003e\",\"lat\":[40.7226448059082,40.73473739624024],\"legendgroup\":\"\\uc870\\uae08\\ub290\\ub9bc\",\"line\":{\"color\":\"#EF553B\",\"width\":1},\"lon\":[-73.98736572265625,-74.0038833618164],\"mode\":\"lines\",\"name\":\"\\uc870\\uae08\\ub290\\ub9bc (pickup\\u002fdropoff)\",\"showlegend\":false,\"subplot\":\"mapbox\",\"type\":\"scattermapbox\",\"opacity\":0.8},{\"hovertemplate\":\"\\ud3c9\\uade0\\uc18d\\ub825=\\uc870\\uae08\\ub290\\ub9bc\\u003cbr\\u003eid=id2210145\\u003cbr\\u003elatitude=%{lat}\\u003cbr\\u003elongitude=%{lon}\\u003cextra\\u003e\\u003c\\u002fextra\\u003e\",\"lat\":[40.75053024291992,40.75751876831056],\"legendgroup\":\"\\uc870\\uae08\\ub290\\ub9bc\",\"line\":{\"color\":\"#EF553B\",\"width\":1},\"lon\":[-73.98738098144531,-73.98204803466798],\"mode\":\"lines\",\"name\":\"\\uc870\\uae08\\ub290\\ub9bc (pickup\\u002fdropoff)\",\"showlegend\":false,\"subplot\":\"mapbox\",\"type\":\"scattermapbox\",\"opacity\":0.8},{\"hovertemplate\":\"\\ud3c9\\uade0\\uc18d\\ub825=\\uc870\\uae08\\ub290\\ub9bc\\u003cbr\\u003eid=id3796079\\u003cbr\\u003elatitude=%{lat}\\u003cbr\\u003elongitude=%{lon}\\u003cextra\\u003e\\u003c\\u002fextra\\u003e\",\"lat\":[40.74673461914063,40.7509651184082],\"legendgroup\":\"\\uc870\\uae08\\ub290\\ub9bc\",\"line\":{\"color\":\"#EF553B\",\"width\":1},\"lon\":[-73.97140502929686,-73.97477722167967],\"mode\":\"lines\",\"name\":\"\\uc870\\uae08\\ub290\\ub9bc (pickup\\u002fdropoff)\",\"showlegend\":false,\"subplot\":\"mapbox\",\"type\":\"scattermapbox\",\"opacity\":0.8},{\"hovertemplate\":\"\\ud3c9\\uade0\\uc18d\\ub825=\\uc870\\uae08\\ub290\\ub9bc\\u003cbr\\u003eid=id2533481\\u003cbr\\u003elatitude=%{lat}\\u003cbr\\u003elongitude=%{lon}\\u003cextra\\u003e\\u003c\\u002fextra\\u003e\",\"lat\":[40.73553085327149,40.76554107666016],\"legendgroup\":\"\\uc870\\uae08\\ub290\\ub9bc\",\"line\":{\"color\":\"#EF553B\",\"width\":1},\"lon\":[-73.98988342285155,-73.97640228271484],\"mode\":\"lines\",\"name\":\"\\uc870\\uae08\\ub290\\ub9bc (pickup\\u002fdropoff)\",\"showlegend\":false,\"subplot\":\"mapbox\",\"type\":\"scattermapbox\",\"opacity\":0.8},{\"hovertemplate\":\"\\ud3c9\\uade0\\uc18d\\ub825=\\uc870\\uae08\\ub290\\ub9bc\\u003cbr\\u003eid=id2237068\\u003cbr\\u003elatitude=%{lat}\\u003cbr\\u003elongitude=%{lon}\\u003cextra\\u003e\\u003c\\u002fextra\\u003e\",\"lat\":[40.744510650634766,40.7564582824707],\"legendgroup\":\"\\uc870\\uae08\\ub290\\ub9bc\",\"line\":{\"color\":\"#EF553B\",\"width\":1},\"lon\":[-73.98111724853516,-74.00170135498048],\"mode\":\"lines\",\"name\":\"\\uc870\\uae08\\ub290\\ub9bc (pickup\\u002fdropoff)\",\"showlegend\":false,\"subplot\":\"mapbox\",\"type\":\"scattermapbox\",\"opacity\":0.8},{\"hovertemplate\":\"\\ud3c9\\uade0\\uc18d\\ub825=\\uc870\\uae08\\ub290\\ub9bc\\u003cbr\\u003eid=id1635353\\u003cbr\\u003elatitude=%{lat}\\u003cbr\\u003elongitude=%{lon}\\u003cextra\\u003e\\u003c\\u002fextra\\u003e\",\"lat\":[40.75918960571289,40.7098503112793],\"legendgroup\":\"\\uc870\\uae08\\ub290\\ub9bc\",\"line\":{\"color\":\"#EF553B\",\"width\":1},\"lon\":[-73.98509216308595,-73.96215057373048],\"mode\":\"lines\",\"name\":\"\\uc870\\uae08\\ub290\\ub9bc (pickup\\u002fdropoff)\",\"showlegend\":false,\"subplot\":\"mapbox\",\"type\":\"scattermapbox\",\"opacity\":0.8},{\"hovertemplate\":\"\\ud3c9\\uade0\\uc18d\\ub825=\\uc870\\uae08\\ub290\\ub9bc\\u003cbr\\u003eid=id1365460\\u003cbr\\u003elatitude=%{lat}\\u003cbr\\u003elongitude=%{lon}\\u003cextra\\u003e\\u003c\\u002fextra\\u003e\",\"lat\":[40.76905059814453,40.7630615234375],\"legendgroup\":\"\\uc870\\uae08\\ub290\\ub9bc\",\"line\":{\"color\":\"#EF553B\",\"width\":1},\"lon\":[-73.98491668701173,-73.97570037841797],\"mode\":\"lines\",\"name\":\"\\uc870\\uae08\\ub290\\ub9bc (pickup\\u002fdropoff)\",\"showlegend\":false,\"subplot\":\"mapbox\",\"type\":\"scattermapbox\",\"opacity\":0.8},{\"hovertemplate\":\"\\ud3c9\\uade0\\uc18d\\ub825=\\uc870\\uae08\\ub290\\ub9bc\\u003cbr\\u003eid=id3611226\\u003cbr\\u003elatitude=%{lat}\\u003cbr\\u003elongitude=%{lon}\\u003cextra\\u003e\\u003c\\u002fextra\\u003e\",\"lat\":[40.76215744018555,40.74748611450195],\"legendgroup\":\"\\uc870\\uae08\\ub290\\ub9bc\",\"line\":{\"color\":\"#EF553B\",\"width\":1},\"lon\":[-73.98597717285155,-73.97697448730467],\"mode\":\"lines\",\"name\":\"\\uc870\\uae08\\ub290\\ub9bc (pickup\\u002fdropoff)\",\"showlegend\":false,\"subplot\":\"mapbox\",\"type\":\"scattermapbox\",\"opacity\":0.8},{\"hovertemplate\":\"\\ud3c9\\uade0\\uc18d\\ub825=\\uc870\\uae08\\ub290\\ub9bc\\u003cbr\\u003eid=id1018348\\u003cbr\\u003elatitude=%{lat}\\u003cbr\\u003elongitude=%{lon}\\u003cextra\\u003e\\u003c\\u002fextra\\u003e\",\"lat\":[40.74530792236328,40.74227523803711],\"legendgroup\":\"\\uc870\\uae08\\ub290\\ub9bc\",\"line\":{\"color\":\"#EF553B\",\"width\":1},\"lon\":[-74.00784301757811,-73.98967742919923],\"mode\":\"lines\",\"name\":\"\\uc870\\uae08\\ub290\\ub9bc (pickup\\u002fdropoff)\",\"showlegend\":false,\"subplot\":\"mapbox\",\"type\":\"scattermapbox\",\"opacity\":0.8},{\"hovertemplate\":\"\\ud3c9\\uade0\\uc18d\\ub825=\\uc870\\uae08\\ub290\\ub9bc\\u003cbr\\u003eid=id1160561\\u003cbr\\u003elatitude=%{lat}\\u003cbr\\u003elongitude=%{lon}\\u003cextra\\u003e\\u003c\\u002fextra\\u003e\",\"lat\":[40.71868896484375,40.7457275390625],\"legendgroup\":\"\\uc870\\uae08\\ub290\\ub9bc\",\"line\":{\"color\":\"#EF553B\",\"width\":1},\"lon\":[-74.0053482055664,-73.9908905029297],\"mode\":\"lines\",\"name\":\"\\uc870\\uae08\\ub290\\ub9bc (pickup\\u002fdropoff)\",\"showlegend\":false,\"subplot\":\"mapbox\",\"type\":\"scattermapbox\",\"opacity\":0.8},{\"hovertemplate\":\"\\ud3c9\\uade0\\uc18d\\ub825=\\uc870\\uae08\\ub290\\ub9bc\\u003cbr\\u003eid=id2939661\\u003cbr\\u003elatitude=%{lat}\\u003cbr\\u003elongitude=%{lon}\\u003cextra\\u003e\\u003c\\u002fextra\\u003e\",\"lat\":[40.77298355102539,40.75412368774414],\"legendgroup\":\"\\uc870\\uae08\\ub290\\ub9bc\",\"line\":{\"color\":\"#EF553B\",\"width\":1},\"lon\":[-73.9782943725586,-73.97389221191406],\"mode\":\"lines\",\"name\":\"\\uc870\\uae08\\ub290\\ub9bc (pickup\\u002fdropoff)\",\"showlegend\":false,\"subplot\":\"mapbox\",\"type\":\"scattermapbox\",\"opacity\":0.8},{\"hovertemplate\":\"\\ud3c9\\uade0\\uc18d\\ub825=\\uc870\\uae08\\ub290\\ub9bc\\u003cbr\\u003eid=id3120328\\u003cbr\\u003elatitude=%{lat}\\u003cbr\\u003elongitude=%{lon}\\u003cextra\\u003e\\u003c\\u002fextra\\u003e\",\"lat\":[40.7714958190918,40.75320816040039],\"legendgroup\":\"\\uc870\\uae08\\ub290\\ub9bc\",\"line\":{\"color\":\"#EF553B\",\"width\":1},\"lon\":[-73.95969390869139,-73.98626708984375],\"mode\":\"lines\",\"name\":\"\\uc870\\uae08\\ub290\\ub9bc (pickup\\u002fdropoff)\",\"showlegend\":false,\"subplot\":\"mapbox\",\"type\":\"scattermapbox\",\"opacity\":0.8},{\"hovertemplate\":\"\\ud3c9\\uade0\\uc18d\\ub825=\\uc870\\uae08\\ub290\\ub9bc\\u003cbr\\u003eid=id1139183\\u003cbr\\u003elatitude=%{lat}\\u003cbr\\u003elongitude=%{lon}\\u003cextra\\u003e\\u003c\\u002fextra\\u003e\",\"lat\":[40.76704025268555,40.76899337768555],\"legendgroup\":\"\\uc870\\uae08\\ub290\\ub9bc\",\"line\":{\"color\":\"#EF553B\",\"width\":1},\"lon\":[-73.95381164550781,-73.96334075927734],\"mode\":\"lines\",\"name\":\"\\uc870\\uae08\\ub290\\ub9bc (pickup\\u002fdropoff)\",\"showlegend\":false,\"subplot\":\"mapbox\",\"type\":\"scattermapbox\",\"opacity\":0.8},{\"hovertemplate\":\"\\ud3c9\\uade0\\uc18d\\ub825=\\uc870\\uae08\\ub290\\ub9bc\\u003cbr\\u003eid=id1188146\\u003cbr\\u003elatitude=%{lat}\\u003cbr\\u003elongitude=%{lon}\\u003cextra\\u003e\\u003c\\u002fextra\\u003e\",\"lat\":[40.74298095703125,40.71076965332031],\"legendgroup\":\"\\uc870\\uae08\\ub290\\ub9bc\",\"line\":{\"color\":\"#EF553B\",\"width\":1},\"lon\":[-73.98845672607422,-74.01339721679686],\"mode\":\"lines\",\"name\":\"\\uc870\\uae08\\ub290\\ub9bc (pickup\\u002fdropoff)\",\"showlegend\":false,\"subplot\":\"mapbox\",\"type\":\"scattermapbox\",\"opacity\":0.8},{\"hovertemplate\":\"\\ud3c9\\uade0\\uc18d\\ub825=\\uc870\\uae08\\ub290\\ub9bc\\u003cbr\\u003eid=id0092139\\u003cbr\\u003elatitude=%{lat}\\u003cbr\\u003elongitude=%{lon}\\u003cextra\\u003e\\u003c\\u002fextra\\u003e\",\"lat\":[40.72407150268555,40.75766372680664],\"legendgroup\":\"\\uc870\\uae08\\ub290\\ub9bc\",\"line\":{\"color\":\"#EF553B\",\"width\":1},\"lon\":[-74.00241088867188,-73.98356628417967],\"mode\":\"lines\",\"name\":\"\\uc870\\uae08\\ub290\\ub9bc (pickup\\u002fdropoff)\",\"showlegend\":false,\"subplot\":\"mapbox\",\"type\":\"scattermapbox\",\"opacity\":0.8},{\"hovertemplate\":\"\\ud3c9\\uade0\\uc18d\\ub825=\\uc870\\uae08\\ub290\\ub9bc\\u003cbr\\u003eid=id3264393\\u003cbr\\u003elatitude=%{lat}\\u003cbr\\u003elongitude=%{lon}\\u003cextra\\u003e\\u003c\\u002fextra\\u003e\",\"lat\":[40.75624084472656,40.7665901184082],\"legendgroup\":\"\\uc870\\uae08\\ub290\\ub9bc\",\"line\":{\"color\":\"#EF553B\",\"width\":1},\"lon\":[-73.97042846679686,-73.98652648925781],\"mode\":\"lines\",\"name\":\"\\uc870\\uae08\\ub290\\ub9bc (pickup\\u002fdropoff)\",\"showlegend\":false,\"subplot\":\"mapbox\",\"type\":\"scattermapbox\",\"opacity\":0.8},{\"hovertemplate\":\"\\ud3c9\\uade0\\uc18d\\ub825=\\uc870\\uae08\\ub290\\ub9bc\\u003cbr\\u003eid=id0951142\\u003cbr\\u003elatitude=%{lat}\\u003cbr\\u003elongitude=%{lon}\\u003cextra\\u003e\\u003c\\u002fextra\\u003e\",\"lat\":[40.742500305175774,40.7463493347168],\"legendgroup\":\"\\uc870\\uae08\\ub290\\ub9bc\",\"line\":{\"color\":\"#EF553B\",\"width\":1},\"lon\":[-73.97420501708984,-73.97167205810547],\"mode\":\"lines\",\"name\":\"\\uc870\\uae08\\ub290\\ub9bc (pickup\\u002fdropoff)\",\"showlegend\":false,\"subplot\":\"mapbox\",\"type\":\"scattermapbox\",\"opacity\":0.8},{\"hovertemplate\":\"\\ud3c9\\uade0\\uc18d\\ub825=\\uc870\\uae08\\ub290\\ub9bc\\u003cbr\\u003eid=id2046505\\u003cbr\\u003elatitude=%{lat}\\u003cbr\\u003elongitude=%{lon}\\u003cextra\\u003e\\u003c\\u002fextra\\u003e\",\"lat\":[40.73820495605469,40.75112533569336],\"legendgroup\":\"\\uc870\\uae08\\ub290\\ub9bc\",\"line\":{\"color\":\"#EF553B\",\"width\":1},\"lon\":[-73.98540496826173,-73.97836303710938],\"mode\":\"lines\",\"name\":\"\\uc870\\uae08\\ub290\\ub9bc (pickup\\u002fdropoff)\",\"showlegend\":false,\"subplot\":\"mapbox\",\"type\":\"scattermapbox\",\"opacity\":0.8},{\"hovertemplate\":\"\\ud3c9\\uade0\\uc18d\\ub825=\\uc870\\uae08\\ub290\\ub9bc\\u003cbr\\u003eid=id1495346\\u003cbr\\u003elatitude=%{lat}\\u003cbr\\u003elongitude=%{lon}\\u003cextra\\u003e\\u003c\\u002fextra\\u003e\",\"lat\":[40.73915481567384,40.74427795410156],\"legendgroup\":\"\\uc870\\uae08\\ub290\\ub9bc\",\"line\":{\"color\":\"#EF553B\",\"width\":1},\"lon\":[-73.99610137939453,-73.98767852783203],\"mode\":\"lines\",\"name\":\"\\uc870\\uae08\\ub290\\ub9bc (pickup\\u002fdropoff)\",\"showlegend\":false,\"subplot\":\"mapbox\",\"type\":\"scattermapbox\",\"opacity\":0.8},{\"hovertemplate\":\"\\ud3c9\\uade0\\uc18d\\ub825=\\uc870\\uae08\\ub290\\ub9bc\\u003cbr\\u003eid=id0623536\\u003cbr\\u003elatitude=%{lat}\\u003cbr\\u003elongitude=%{lon}\\u003cextra\\u003e\\u003c\\u002fextra\\u003e\",\"lat\":[40.759124755859375,40.74463272094727],\"legendgroup\":\"\\uc870\\uae08\\ub290\\ub9bc\",\"line\":{\"color\":\"#EF553B\",\"width\":1},\"lon\":[-73.97645568847656,-73.97919464111328],\"mode\":\"lines\",\"name\":\"\\uc870\\uae08\\ub290\\ub9bc (pickup\\u002fdropoff)\",\"showlegend\":false,\"subplot\":\"mapbox\",\"type\":\"scattermapbox\",\"opacity\":0.8},{\"hovertemplate\":\"\\ud3c9\\uade0\\uc18d\\ub825=\\uc870\\uae08\\ub290\\ub9bc\\u003cbr\\u003eid=id3578000\\u003cbr\\u003elatitude=%{lat}\\u003cbr\\u003elongitude=%{lon}\\u003cextra\\u003e\\u003c\\u002fextra\\u003e\",\"lat\":[40.74143600463867,40.73919296264648],\"legendgroup\":\"\\uc870\\uae08\\ub290\\ub9bc\",\"line\":{\"color\":\"#EF553B\",\"width\":1},\"lon\":[-73.95230865478516,-73.98406982421875],\"mode\":\"lines\",\"name\":\"\\uc870\\uae08\\ub290\\ub9bc (pickup\\u002fdropoff)\",\"showlegend\":false,\"subplot\":\"mapbox\",\"type\":\"scattermapbox\",\"opacity\":0.8},{\"hovertemplate\":\"\\ud3c9\\uade0\\uc18d\\ub825=\\uc870\\uae08\\ub290\\ub9bc\\u003cbr\\u003eid=id1194222\\u003cbr\\u003elatitude=%{lat}\\u003cbr\\u003elongitude=%{lon}\\u003cextra\\u003e\\u003c\\u002fextra\\u003e\",\"lat\":[40.7253303527832,40.777881622314446],\"legendgroup\":\"\\uc870\\uae08\\ub290\\ub9bc\",\"line\":{\"color\":\"#EF553B\",\"width\":1},\"lon\":[-73.99237060546875,-73.98873138427734],\"mode\":\"lines\",\"name\":\"\\uc870\\uae08\\ub290\\ub9bc (pickup\\u002fdropoff)\",\"showlegend\":false,\"subplot\":\"mapbox\",\"type\":\"scattermapbox\",\"opacity\":0.8},{\"hovertemplate\":\"\\ud3c9\\uade0\\uc18d\\ub825=\\uc870\\uae08\\ub290\\ub9bc\\u003cbr\\u003eid=id0049607\\u003cbr\\u003elatitude=%{lat}\\u003cbr\\u003elongitude=%{lon}\\u003cextra\\u003e\\u003c\\u002fextra\\u003e\",\"lat\":[40.75419235229492,40.762859344482415],\"legendgroup\":\"\\uc870\\uae08\\ub290\\ub9bc\",\"line\":{\"color\":\"#EF553B\",\"width\":1},\"lon\":[-73.97592163085938,-73.98892211914062],\"mode\":\"lines\",\"name\":\"\\uc870\\uae08\\ub290\\ub9bc (pickup\\u002fdropoff)\",\"showlegend\":false,\"subplot\":\"mapbox\",\"type\":\"scattermapbox\",\"opacity\":0.8},{\"hovertemplate\":\"\\ud3c9\\uade0\\uc18d\\ub825=\\uc870\\uae08\\ub290\\ub9bc\\u003cbr\\u003eid=id0890358\\u003cbr\\u003elatitude=%{lat}\\u003cbr\\u003elongitude=%{lon}\\u003cextra\\u003e\\u003c\\u002fextra\\u003e\",\"lat\":[40.76359939575195,40.7617416381836],\"legendgroup\":\"\\uc870\\uae08\\ub290\\ub9bc\",\"line\":{\"color\":\"#EF553B\",\"width\":1},\"lon\":[-73.98738861083984,-73.96864318847656],\"mode\":\"lines\",\"name\":\"\\uc870\\uae08\\ub290\\ub9bc (pickup\\u002fdropoff)\",\"showlegend\":false,\"subplot\":\"mapbox\",\"type\":\"scattermapbox\",\"opacity\":0.8},{\"hovertemplate\":\"\\ud3c9\\uade0\\uc18d\\ub825=\\uc870\\uae08\\ub290\\ub9bc\\u003cbr\\u003eid=id3825370\\u003cbr\\u003elatitude=%{lat}\\u003cbr\\u003elongitude=%{lon}\\u003cextra\\u003e\\u003c\\u002fextra\\u003e\",\"lat\":[40.74908065795898,40.6697654724121],\"legendgroup\":\"\\uc870\\uae08\\ub290\\ub9bc\",\"line\":{\"color\":\"#EF553B\",\"width\":1},\"lon\":[-74.00839233398438,-73.97919464111328],\"mode\":\"lines\",\"name\":\"\\uc870\\uae08\\ub290\\ub9bc (pickup\\u002fdropoff)\",\"showlegend\":false,\"subplot\":\"mapbox\",\"type\":\"scattermapbox\",\"opacity\":0.8},{\"hovertemplate\":\"\\ud3c9\\uade0\\uc18d\\ub825=\\uc870\\uae08\\ub290\\ub9bc\\u003cbr\\u003eid=id1604579\\u003cbr\\u003elatitude=%{lat}\\u003cbr\\u003elongitude=%{lon}\\u003cextra\\u003e\\u003c\\u002fextra\\u003e\",\"lat\":[40.76555252075195,40.79889678955078],\"legendgroup\":\"\\uc870\\uae08\\ub290\\ub9bc\",\"line\":{\"color\":\"#EF553B\",\"width\":1},\"lon\":[-73.96790313720702,-73.96857452392578],\"mode\":\"lines\",\"name\":\"\\uc870\\uae08\\ub290\\ub9bc (pickup\\u002fdropoff)\",\"showlegend\":false,\"subplot\":\"mapbox\",\"type\":\"scattermapbox\",\"opacity\":0.8},{\"hovertemplate\":\"\\ud3c9\\uade0\\uc18d\\ub825=\\uc870\\uae08\\ub290\\ub9bc\\u003cbr\\u003eid=id0051866\\u003cbr\\u003elatitude=%{lat}\\u003cbr\\u003elongitude=%{lon}\\u003cextra\\u003e\\u003c\\u002fextra\\u003e\",\"lat\":[40.7724494934082,40.755836486816406],\"legendgroup\":\"\\uc870\\uae08\\ub290\\ub9bc\",\"line\":{\"color\":\"#EF553B\",\"width\":1},\"lon\":[-73.96265411376953,-73.9784927368164],\"mode\":\"lines\",\"name\":\"\\uc870\\uae08\\ub290\\ub9bc (pickup\\u002fdropoff)\",\"showlegend\":false,\"subplot\":\"mapbox\",\"type\":\"scattermapbox\",\"opacity\":0.8},{\"hovertemplate\":\"\\ud3c9\\uade0\\uc18d\\ub825=\\uc870\\uae08\\ub290\\ub9bc\\u003cbr\\u003eid=id0622637\\u003cbr\\u003elatitude=%{lat}\\u003cbr\\u003elongitude=%{lon}\\u003cextra\\u003e\\u003c\\u002fextra\\u003e\",\"lat\":[40.75054931640625,40.759868621826165],\"legendgroup\":\"\\uc870\\uae08\\ub290\\ub9bc\",\"line\":{\"color\":\"#EF553B\",\"width\":1},\"lon\":[-73.97480010986328,-73.96180725097656],\"mode\":\"lines\",\"name\":\"\\uc870\\uae08\\ub290\\ub9bc (pickup\\u002fdropoff)\",\"showlegend\":false,\"subplot\":\"mapbox\",\"type\":\"scattermapbox\",\"opacity\":0.8},{\"hovertemplate\":\"\\ud3c9\\uade0\\uc18d\\ub825=\\uc870\\uae08\\ube60\\ub984\\u003cbr\\u003eid=id1214191\\u003cbr\\u003elatitude=%{lat}\\u003cbr\\u003elongitude=%{lon}\\u003cextra\\u003e\\u003c\\u002fextra\\u003e\",\"lat\":[40.74464797973633,40.72493362426758],\"legendgroup\":\"\\uc870\\uae08\\ube60\\ub984\",\"line\":{\"color\":\"#00cc96\",\"width\":1},\"lon\":[-73.99140930175781,-73.9950942993164],\"mode\":\"lines\",\"name\":\"\\uc870\\uae08\\ube60\\ub984 (pickup\\u002fdropoff)\",\"showlegend\":true,\"subplot\":\"mapbox\",\"type\":\"scattermapbox\",\"opacity\":0.8},{\"hovertemplate\":\"\\ud3c9\\uade0\\uc18d\\ub825=\\uc870\\uae08\\ube60\\ub984\\u003cbr\\u003eid=id0213647\\u003cbr\\u003elatitude=%{lat}\\u003cbr\\u003elongitude=%{lon}\\u003cextra\\u003e\\u003c\\u002fextra\\u003e\",\"lat\":[40.75567626953125,40.72474670410156],\"legendgroup\":\"\\uc870\\uae08\\ube60\\ub984\",\"line\":{\"color\":\"#00cc96\",\"width\":1},\"lon\":[-73.96500396728516,-74.00196075439453],\"mode\":\"lines\",\"name\":\"\\uc870\\uae08\\ube60\\ub984 (pickup\\u002fdropoff)\",\"showlegend\":false,\"subplot\":\"mapbox\",\"type\":\"scattermapbox\",\"opacity\":0.8},{\"hovertemplate\":\"\\ud3c9\\uade0\\uc18d\\ub825=\\uc870\\uae08\\ube60\\ub984\\u003cbr\\u003eid=id0584615\\u003cbr\\u003elatitude=%{lat}\\u003cbr\\u003elongitude=%{lon}\\u003cextra\\u003e\\u003c\\u002fextra\\u003e\",\"lat\":[40.755126953125,40.74041366577149],\"legendgroup\":\"\\uc870\\uae08\\ube60\\ub984\",\"line\":{\"color\":\"#00cc96\",\"width\":1},\"lon\":[-73.9874267578125,-73.98683166503906],\"mode\":\"lines\",\"name\":\"\\uc870\\uae08\\ube60\\ub984 (pickup\\u002fdropoff)\",\"showlegend\":false,\"subplot\":\"mapbox\",\"type\":\"scattermapbox\",\"opacity\":0.8},{\"hovertemplate\":\"\\ud3c9\\uade0\\uc18d\\ub825=\\uc870\\uae08\\ube60\\ub984\\u003cbr\\u003eid=id0147704\\u003cbr\\u003elatitude=%{lat}\\u003cbr\\u003elongitude=%{lon}\\u003cextra\\u003e\\u003c\\u002fextra\\u003e\",\"lat\":[40.7249755859375,40.655078887939446],\"legendgroup\":\"\\uc870\\uae08\\ube60\\ub984\",\"line\":{\"color\":\"#00cc96\",\"width\":1},\"lon\":[-73.9844207763672,-73.955322265625],\"mode\":\"lines\",\"name\":\"\\uc870\\uae08\\ube60\\ub984 (pickup\\u002fdropoff)\",\"showlegend\":false,\"subplot\":\"mapbox\",\"type\":\"scattermapbox\",\"opacity\":0.8},{\"hovertemplate\":\"\\ud3c9\\uade0\\uc18d\\ub825=\\uc870\\uae08\\ube60\\ub984\\u003cbr\\u003eid=id3098811\\u003cbr\\u003elatitude=%{lat}\\u003cbr\\u003elongitude=%{lon}\\u003cextra\\u003e\\u003c\\u002fextra\\u003e\",\"lat\":[40.72565841674805,40.73714065551758],\"legendgroup\":\"\\uc870\\uae08\\ube60\\ub984\",\"line\":{\"color\":\"#00cc96\",\"width\":1},\"lon\":[-73.99471282958984,-73.99044036865233],\"mode\":\"lines\",\"name\":\"\\uc870\\uae08\\ube60\\ub984 (pickup\\u002fdropoff)\",\"showlegend\":false,\"subplot\":\"mapbox\",\"type\":\"scattermapbox\",\"opacity\":0.8},{\"hovertemplate\":\"\\ud3c9\\uade0\\uc18d\\ub825=\\uc870\\uae08\\ube60\\ub984\\u003cbr\\u003eid=id0255216\\u003cbr\\u003elatitude=%{lat}\\u003cbr\\u003elongitude=%{lon}\\u003cextra\\u003e\\u003c\\u002fextra\\u003e\",\"lat\":[40.75128173828125,40.76827239990234],\"legendgroup\":\"\\uc870\\uae08\\ube60\\ub984\",\"line\":{\"color\":\"#00cc96\",\"width\":1},\"lon\":[-73.93987274169923,-73.95292663574217],\"mode\":\"lines\",\"name\":\"\\uc870\\uae08\\ube60\\ub984 (pickup\\u002fdropoff)\",\"showlegend\":false,\"subplot\":\"mapbox\",\"type\":\"scattermapbox\",\"opacity\":0.8},{\"hovertemplate\":\"\\ud3c9\\uade0\\uc18d\\ub825=\\uc870\\uae08\\ube60\\ub984\\u003cbr\\u003eid=id1394748\\u003cbr\\u003elatitude=%{lat}\\u003cbr\\u003elongitude=%{lon}\\u003cextra\\u003e\\u003c\\u002fextra\\u003e\",\"lat\":[40.73410034179688,40.67301177978516],\"legendgroup\":\"\\uc870\\uae08\\ube60\\ub984\",\"line\":{\"color\":\"#00cc96\",\"width\":1},\"lon\":[-73.9994888305664,-73.96280670166014],\"mode\":\"lines\",\"name\":\"\\uc870\\uae08\\ube60\\ub984 (pickup\\u002fdropoff)\",\"showlegend\":false,\"subplot\":\"mapbox\",\"type\":\"scattermapbox\",\"opacity\":0.8},{\"hovertemplate\":\"\\ud3c9\\uade0\\uc18d\\ub825=\\uc870\\uae08\\ube60\\ub984\\u003cbr\\u003eid=id2875421\\u003cbr\\u003elatitude=%{lat}\\u003cbr\\u003elongitude=%{lon}\\u003cextra\\u003e\\u003c\\u002fextra\\u003e\",\"lat\":[40.76793670654297,40.765602111816406],\"legendgroup\":\"\\uc870\\uae08\\ube60\\ub984\",\"line\":{\"color\":\"#00cc96\",\"width\":1},\"lon\":[-73.98215484619139,-73.96463012695312],\"mode\":\"lines\",\"name\":\"\\uc870\\uae08\\ube60\\ub984 (pickup\\u002fdropoff)\",\"showlegend\":false,\"subplot\":\"mapbox\",\"type\":\"scattermapbox\",\"opacity\":0.8},{\"hovertemplate\":\"\\ud3c9\\uade0\\uc18d\\ub825=\\uc870\\uae08\\ube60\\ub984\\u003cbr\\u003eid=id2619890\\u003cbr\\u003elatitude=%{lat}\\u003cbr\\u003elongitude=%{lon}\\u003cextra\\u003e\\u003c\\u002fextra\\u003e\",\"lat\":[40.75857162475586,40.77785873413086],\"legendgroup\":\"\\uc870\\uae08\\ube60\\ub984\",\"line\":{\"color\":\"#00cc96\",\"width\":1},\"lon\":[-73.96356964111328,-73.94394683837889],\"mode\":\"lines\",\"name\":\"\\uc870\\uae08\\ube60\\ub984 (pickup\\u002fdropoff)\",\"showlegend\":false,\"subplot\":\"mapbox\",\"type\":\"scattermapbox\",\"opacity\":0.8},{\"hovertemplate\":\"\\ud3c9\\uade0\\uc18d\\ub825=\\uc870\\uae08\\ube60\\ub984\\u003cbr\\u003eid=id2003085\\u003cbr\\u003elatitude=%{lat}\\u003cbr\\u003elongitude=%{lon}\\u003cextra\\u003e\\u003c\\u002fextra\\u003e\",\"lat\":[40.75810241699219,40.790283203125],\"legendgroup\":\"\\uc870\\uae08\\ube60\\ub984\",\"line\":{\"color\":\"#00cc96\",\"width\":1},\"lon\":[-73.96311950683594,-73.96560668945312],\"mode\":\"lines\",\"name\":\"\\uc870\\uae08\\ube60\\ub984 (pickup\\u002fdropoff)\",\"showlegend\":false,\"subplot\":\"mapbox\",\"type\":\"scattermapbox\",\"opacity\":0.8},{\"hovertemplate\":\"\\ud3c9\\uade0\\uc18d\\ub825=\\uc870\\uae08\\ube60\\ub984\\u003cbr\\u003eid=id2966759\\u003cbr\\u003elatitude=%{lat}\\u003cbr\\u003elongitude=%{lon}\\u003cextra\\u003e\\u003c\\u002fextra\\u003e\",\"lat\":[40.752891540527344,40.739990234375],\"legendgroup\":\"\\uc870\\uae08\\ube60\\ub984\",\"line\":{\"color\":\"#00cc96\",\"width\":1},\"lon\":[-73.97013854980467,-73.98188781738281],\"mode\":\"lines\",\"name\":\"\\uc870\\uae08\\ube60\\ub984 (pickup\\u002fdropoff)\",\"showlegend\":false,\"subplot\":\"mapbox\",\"type\":\"scattermapbox\",\"opacity\":0.8},{\"hovertemplate\":\"\\ud3c9\\uade0\\uc18d\\ub825=\\uc870\\uae08\\ube60\\ub984\\u003cbr\\u003eid=id2673049\\u003cbr\\u003elatitude=%{lat}\\u003cbr\\u003elongitude=%{lon}\\u003cextra\\u003e\\u003c\\u002fextra\\u003e\",\"lat\":[40.789600372314446,40.71483612060546],\"legendgroup\":\"\\uc870\\uae08\\ube60\\ub984\",\"line\":{\"color\":\"#00cc96\",\"width\":1},\"lon\":[-73.97001647949219,-74.0139389038086],\"mode\":\"lines\",\"name\":\"\\uc870\\uae08\\ube60\\ub984 (pickup\\u002fdropoff)\",\"showlegend\":false,\"subplot\":\"mapbox\",\"type\":\"scattermapbox\",\"opacity\":0.8},{\"hovertemplate\":\"\\ud3c9\\uade0\\uc18d\\ub825=\\uc870\\uae08\\ube60\\ub984\\u003cbr\\u003eid=id0858054\\u003cbr\\u003elatitude=%{lat}\\u003cbr\\u003elongitude=%{lon}\\u003cextra\\u003e\\u003c\\u002fextra\\u003e\",\"lat\":[40.766788482666016,40.77115631103516],\"legendgroup\":\"\\uc870\\uae08\\ube60\\ub984\",\"line\":{\"color\":\"#00cc96\",\"width\":1},\"lon\":[-73.96295928955078,-73.98324584960938],\"mode\":\"lines\",\"name\":\"\\uc870\\uae08\\ube60\\ub984 (pickup\\u002fdropoff)\",\"showlegend\":false,\"subplot\":\"mapbox\",\"type\":\"scattermapbox\",\"opacity\":0.8},{\"hovertemplate\":\"\\ud3c9\\uade0\\uc18d\\ub825=\\uc870\\uae08\\ube60\\ub984\\u003cbr\\u003eid=id1049417\\u003cbr\\u003elatitude=%{lat}\\u003cbr\\u003elongitude=%{lon}\\u003cextra\\u003e\\u003c\\u002fextra\\u003e\",\"lat\":[40.794429779052734,40.7891731262207],\"legendgroup\":\"\\uc870\\uae08\\ube60\\ub984\",\"line\":{\"color\":\"#00cc96\",\"width\":1},\"lon\":[-73.97160339355469,-73.9527587890625],\"mode\":\"lines\",\"name\":\"\\uc870\\uae08\\ube60\\ub984 (pickup\\u002fdropoff)\",\"showlegend\":false,\"subplot\":\"mapbox\",\"type\":\"scattermapbox\",\"opacity\":0.8},{\"hovertemplate\":\"\\ud3c9\\uade0\\uc18d\\ub825=\\uc870\\uae08\\ube60\\ub984\\u003cbr\\u003eid=id0566979\\u003cbr\\u003elatitude=%{lat}\\u003cbr\\u003elongitude=%{lon}\\u003cextra\\u003e\\u003c\\u002fextra\\u003e\",\"lat\":[40.80135726928711,40.79747772216797],\"legendgroup\":\"\\uc870\\uae08\\ube60\\ub984\",\"line\":{\"color\":\"#00cc96\",\"width\":1},\"lon\":[-73.95948791503906,-73.96974182128906],\"mode\":\"lines\",\"name\":\"\\uc870\\uae08\\ube60\\ub984 (pickup\\u002fdropoff)\",\"showlegend\":false,\"subplot\":\"mapbox\",\"type\":\"scattermapbox\",\"opacity\":0.8},{\"hovertemplate\":\"\\ud3c9\\uade0\\uc18d\\ub825=\\uc870\\uae08\\ube60\\ub984\\u003cbr\\u003eid=id0434573\\u003cbr\\u003elatitude=%{lat}\\u003cbr\\u003elongitude=%{lon}\\u003cextra\\u003e\\u003c\\u002fextra\\u003e\",\"lat\":[40.64473342895508,40.782241821289055],\"legendgroup\":\"\\uc870\\uae08\\ube60\\ub984\",\"line\":{\"color\":\"#00cc96\",\"width\":1},\"lon\":[-73.78192138671875,-73.94640350341797],\"mode\":\"lines\",\"name\":\"\\uc870\\uae08\\ube60\\ub984 (pickup\\u002fdropoff)\",\"showlegend\":false,\"subplot\":\"mapbox\",\"type\":\"scattermapbox\",\"opacity\":0.8},{\"hovertemplate\":\"\\ud3c9\\uade0\\uc18d\\ub825=\\uc870\\uae08\\ube60\\ub984\\u003cbr\\u003eid=id0889544\\u003cbr\\u003elatitude=%{lat}\\u003cbr\\u003elongitude=%{lon}\\u003cextra\\u003e\\u003c\\u002fextra\\u003e\",\"lat\":[40.74057769775391,40.7554817199707],\"legendgroup\":\"\\uc870\\uae08\\ube60\\ub984\",\"line\":{\"color\":\"#00cc96\",\"width\":1},\"lon\":[-73.97972869873048,-73.97085571289062],\"mode\":\"lines\",\"name\":\"\\uc870\\uae08\\ube60\\ub984 (pickup\\u002fdropoff)\",\"showlegend\":false,\"subplot\":\"mapbox\",\"type\":\"scattermapbox\",\"opacity\":0.8},{\"hovertemplate\":\"\\ud3c9\\uade0\\uc18d\\ub825=\\uc870\\uae08\\ube60\\ub984\\u003cbr\\u003eid=id2357722\\u003cbr\\u003elatitude=%{lat}\\u003cbr\\u003elongitude=%{lon}\\u003cextra\\u003e\\u003c\\u002fextra\\u003e\",\"lat\":[40.709976196289055,40.69548034667969],\"legendgroup\":\"\\uc870\\uae08\\ube60\\ub984\",\"line\":{\"color\":\"#00cc96\",\"width\":1},\"lon\":[-74.00458526611328,-73.99742889404298],\"mode\":\"lines\",\"name\":\"\\uc870\\uae08\\ube60\\ub984 (pickup\\u002fdropoff)\",\"showlegend\":false,\"subplot\":\"mapbox\",\"type\":\"scattermapbox\",\"opacity\":0.8},{\"hovertemplate\":\"\\ud3c9\\uade0\\uc18d\\ub825=\\uc870\\uae08\\ube60\\ub984\\u003cbr\\u003eid=id3638105\\u003cbr\\u003elatitude=%{lat}\\u003cbr\\u003elongitude=%{lon}\\u003cextra\\u003e\\u003c\\u002fextra\\u003e\",\"lat\":[40.72257232666016,40.68634033203125],\"legendgroup\":\"\\uc870\\uae08\\ube60\\ub984\",\"line\":{\"color\":\"#00cc96\",\"width\":1},\"lon\":[-74.00359344482422,-73.97468566894531],\"mode\":\"lines\",\"name\":\"\\uc870\\uae08\\ube60\\ub984 (pickup\\u002fdropoff)\",\"showlegend\":false,\"subplot\":\"mapbox\",\"type\":\"scattermapbox\",\"opacity\":0.8},{\"hovertemplate\":\"\\ud3c9\\uade0\\uc18d\\ub825=\\uc870\\uae08\\ube60\\ub984\\u003cbr\\u003eid=id2322963\\u003cbr\\u003elatitude=%{lat}\\u003cbr\\u003elongitude=%{lon}\\u003cextra\\u003e\\u003c\\u002fextra\\u003e\",\"lat\":[40.734493255615234,40.78654861450195],\"legendgroup\":\"\\uc870\\uae08\\ube60\\ub984\",\"line\":{\"color\":\"#00cc96\",\"width\":1},\"lon\":[-74.00151824951173,-73.97239685058595],\"mode\":\"lines\",\"name\":\"\\uc870\\uae08\\ube60\\ub984 (pickup\\u002fdropoff)\",\"showlegend\":false,\"subplot\":\"mapbox\",\"type\":\"scattermapbox\",\"opacity\":0.8},{\"hovertemplate\":\"\\ud3c9\\uade0\\uc18d\\ub825=\\uc870\\uae08\\ube60\\ub984\\u003cbr\\u003eid=id0626677\\u003cbr\\u003elatitude=%{lat}\\u003cbr\\u003elongitude=%{lon}\\u003cextra\\u003e\\u003c\\u002fextra\\u003e\",\"lat\":[40.78641128540039,40.77379989624024],\"legendgroup\":\"\\uc870\\uae08\\ube60\\ub984\",\"line\":{\"color\":\"#00cc96\",\"width\":1},\"lon\":[-73.95282745361328,-73.97776794433594],\"mode\":\"lines\",\"name\":\"\\uc870\\uae08\\ube60\\ub984 (pickup\\u002fdropoff)\",\"showlegend\":false,\"subplot\":\"mapbox\",\"type\":\"scattermapbox\",\"opacity\":0.8},{\"hovertemplate\":\"\\ud3c9\\uade0\\uc18d\\ub825=\\uc870\\uae08\\ube60\\ub984\\u003cbr\\u003eid=id0372891\\u003cbr\\u003elatitude=%{lat}\\u003cbr\\u003elongitude=%{lon}\\u003cextra\\u003e\\u003c\\u002fextra\\u003e\",\"lat\":[40.78201675415039,40.77749633789063],\"legendgroup\":\"\\uc870\\uae08\\ube60\\ub984\",\"line\":{\"color\":\"#00cc96\",\"width\":1},\"lon\":[-73.97631072998048,-73.9781494140625],\"mode\":\"lines\",\"name\":\"\\uc870\\uae08\\ube60\\ub984 (pickup\\u002fdropoff)\",\"showlegend\":false,\"subplot\":\"mapbox\",\"type\":\"scattermapbox\",\"opacity\":0.8},{\"hovertemplate\":\"\\ud3c9\\uade0\\uc18d\\ub825=\\uc870\\uae08\\ube60\\ub984\\u003cbr\\u003eid=id1158393\\u003cbr\\u003elatitude=%{lat}\\u003cbr\\u003elongitude=%{lon}\\u003cextra\\u003e\\u003c\\u002fextra\\u003e\",\"lat\":[40.761756896972656,40.76946258544922],\"legendgroup\":\"\\uc870\\uae08\\ube60\\ub984\",\"line\":{\"color\":\"#00cc96\",\"width\":1},\"lon\":[-73.96741485595702,-73.92103576660156],\"mode\":\"lines\",\"name\":\"\\uc870\\uae08\\ube60\\ub984 (pickup\\u002fdropoff)\",\"showlegend\":false,\"subplot\":\"mapbox\",\"type\":\"scattermapbox\",\"opacity\":0.8},{\"hovertemplate\":\"\\ud3c9\\uade0\\uc18d\\ub825=\\uc870\\uae08\\ube60\\ub984\\u003cbr\\u003eid=id2529954\\u003cbr\\u003elatitude=%{lat}\\u003cbr\\u003elongitude=%{lon}\\u003cextra\\u003e\\u003c\\u002fextra\\u003e\",\"lat\":[40.7640037536621,40.76385116577149],\"legendgroup\":\"\\uc870\\uae08\\ube60\\ub984\",\"line\":{\"color\":\"#00cc96\",\"width\":1},\"lon\":[-73.97434234619139,-73.96236419677734],\"mode\":\"lines\",\"name\":\"\\uc870\\uae08\\ube60\\ub984 (pickup\\u002fdropoff)\",\"showlegend\":false,\"subplot\":\"mapbox\",\"type\":\"scattermapbox\",\"opacity\":0.8},{\"hovertemplate\":\"\\ud3c9\\uade0\\uc18d\\ub825=\\uc870\\uae08\\ube60\\ub984\\u003cbr\\u003eid=id1036174\\u003cbr\\u003elatitude=%{lat}\\u003cbr\\u003elongitude=%{lon}\\u003cextra\\u003e\\u003c\\u002fextra\\u003e\",\"lat\":[40.750431060791016,40.78049087524414],\"legendgroup\":\"\\uc870\\uae08\\ube60\\ub984\",\"line\":{\"color\":\"#00cc96\",\"width\":1},\"lon\":[-73.98802947998048,-73.94779968261719],\"mode\":\"lines\",\"name\":\"\\uc870\\uae08\\ube60\\ub984 (pickup\\u002fdropoff)\",\"showlegend\":false,\"subplot\":\"mapbox\",\"type\":\"scattermapbox\",\"opacity\":0.8},{\"hovertemplate\":\"\\ud3c9\\uade0\\uc18d\\ub825=\\uc870\\uae08\\ube60\\ub984\\u003cbr\\u003eid=id3572749\\u003cbr\\u003elatitude=%{lat}\\u003cbr\\u003elongitude=%{lon}\\u003cextra\\u003e\\u003c\\u002fextra\\u003e\",\"lat\":[40.770069122314446,40.78279113769531],\"legendgroup\":\"\\uc870\\uae08\\ube60\\ub984\",\"line\":{\"color\":\"#00cc96\",\"width\":1},\"lon\":[-73.98792266845702,-73.95319366455078],\"mode\":\"lines\",\"name\":\"\\uc870\\uae08\\ube60\\ub984 (pickup\\u002fdropoff)\",\"showlegend\":false,\"subplot\":\"mapbox\",\"type\":\"scattermapbox\",\"opacity\":0.8},{\"hovertemplate\":\"\\ud3c9\\uade0\\uc18d\\ub825=\\uc870\\uae08\\ube60\\ub984\\u003cbr\\u003eid=id3528412\\u003cbr\\u003elatitude=%{lat}\\u003cbr\\u003elongitude=%{lon}\\u003cextra\\u003e\\u003c\\u002fextra\\u003e\",\"lat\":[40.77674865722656,40.785789489746094],\"legendgroup\":\"\\uc870\\uae08\\ube60\\ub984\",\"line\":{\"color\":\"#00cc96\",\"width\":1},\"lon\":[-73.95974731445312,-73.9532470703125],\"mode\":\"lines\",\"name\":\"\\uc870\\uae08\\ube60\\ub984 (pickup\\u002fdropoff)\",\"showlegend\":false,\"subplot\":\"mapbox\",\"type\":\"scattermapbox\",\"opacity\":0.8},{\"hovertemplate\":\"\\ud3c9\\uade0\\uc18d\\ub825=\\uc870\\uae08\\ube60\\ub984\\u003cbr\\u003eid=id2302144\\u003cbr\\u003elatitude=%{lat}\\u003cbr\\u003elongitude=%{lon}\\u003cextra\\u003e\\u003c\\u002fextra\\u003e\",\"lat\":[40.862701416015625,40.831321716308594],\"legendgroup\":\"\\uc870\\uae08\\ube60\\ub984\",\"line\":{\"color\":\"#00cc96\",\"width\":1},\"lon\":[-73.90413665771484,-73.89300537109375],\"mode\":\"lines\",\"name\":\"\\uc870\\uae08\\ube60\\ub984 (pickup\\u002fdropoff)\",\"showlegend\":false,\"subplot\":\"mapbox\",\"type\":\"scattermapbox\",\"opacity\":0.8},{\"hovertemplate\":\"\\ud3c9\\uade0\\uc18d\\ub825=\\uc870\\uae08\\ube60\\ub984\\u003cbr\\u003eid=id3291602\\u003cbr\\u003elatitude=%{lat}\\u003cbr\\u003elongitude=%{lon}\\u003cextra\\u003e\\u003c\\u002fextra\\u003e\",\"lat\":[40.7334213256836,40.75713348388672],\"legendgroup\":\"\\uc870\\uae08\\ube60\\ub984\",\"line\":{\"color\":\"#00cc96\",\"width\":1},\"lon\":[-74.00246429443358,-73.9832763671875],\"mode\":\"lines\",\"name\":\"\\uc870\\uae08\\ube60\\ub984 (pickup\\u002fdropoff)\",\"showlegend\":false,\"subplot\":\"mapbox\",\"type\":\"scattermapbox\",\"opacity\":0.8},{\"hovertemplate\":\"\\ud3c9\\uade0\\uc18d\\ub825=\\uc870\\uae08\\ube60\\ub984\\u003cbr\\u003eid=id2438985\\u003cbr\\u003elatitude=%{lat}\\u003cbr\\u003elongitude=%{lon}\\u003cextra\\u003e\\u003c\\u002fextra\\u003e\",\"lat\":[40.78261184692384,40.76800155639648],\"legendgroup\":\"\\uc870\\uae08\\ube60\\ub984\",\"line\":{\"color\":\"#00cc96\",\"width\":1},\"lon\":[-73.95343017578125,-73.97037506103516],\"mode\":\"lines\",\"name\":\"\\uc870\\uae08\\ube60\\ub984 (pickup\\u002fdropoff)\",\"showlegend\":false,\"subplot\":\"mapbox\",\"type\":\"scattermapbox\",\"opacity\":0.8},{\"hovertemplate\":\"\\ud3c9\\uade0\\uc18d\\ub825=\\uc870\\uae08\\ube60\\ub984\\u003cbr\\u003eid=id2078977\\u003cbr\\u003elatitude=%{lat}\\u003cbr\\u003elongitude=%{lon}\\u003cextra\\u003e\\u003c\\u002fextra\\u003e\",\"lat\":[40.76673126220703,40.805000305175774],\"legendgroup\":\"\\uc870\\uae08\\ube60\\ub984\",\"line\":{\"color\":\"#00cc96\",\"width\":1},\"lon\":[-73.96306610107422,-73.93858337402342],\"mode\":\"lines\",\"name\":\"\\uc870\\uae08\\ube60\\ub984 (pickup\\u002fdropoff)\",\"showlegend\":false,\"subplot\":\"mapbox\",\"type\":\"scattermapbox\",\"opacity\":0.8},{\"hovertemplate\":\"\\ud3c9\\uade0\\uc18d\\ub825=\\uc870\\uae08\\ube60\\ub984\\u003cbr\\u003eid=id3730700\\u003cbr\\u003elatitude=%{lat}\\u003cbr\\u003elongitude=%{lon}\\u003cextra\\u003e\\u003c\\u002fextra\\u003e\",\"lat\":[40.74989700317384,40.73417663574219],\"legendgroup\":\"\\uc870\\uae08\\ube60\\ub984\",\"line\":{\"color\":\"#00cc96\",\"width\":1},\"lon\":[-73.99164581298828,-73.99500274658203],\"mode\":\"lines\",\"name\":\"\\uc870\\uae08\\ube60\\ub984 (pickup\\u002fdropoff)\",\"showlegend\":false,\"subplot\":\"mapbox\",\"type\":\"scattermapbox\",\"opacity\":0.8},{\"hovertemplate\":\"\\ud3c9\\uade0\\uc18d\\ub825=\\uc870\\uae08\\ube60\\ub984\\u003cbr\\u003eid=id3988208\\u003cbr\\u003elatitude=%{lat}\\u003cbr\\u003elongitude=%{lon}\\u003cextra\\u003e\\u003c\\u002fextra\\u003e\",\"lat\":[40.79740524291992,40.78954315185546],\"legendgroup\":\"\\uc870\\uae08\\ube60\\ub984\",\"line\":{\"color\":\"#00cc96\",\"width\":1},\"lon\":[-73.94892883300781,-73.96743774414062],\"mode\":\"lines\",\"name\":\"\\uc870\\uae08\\ube60\\ub984 (pickup\\u002fdropoff)\",\"showlegend\":false,\"subplot\":\"mapbox\",\"type\":\"scattermapbox\",\"opacity\":0.8},{\"hovertemplate\":\"\\ud3c9\\uade0\\uc18d\\ub825=\\uc870\\uae08\\ube60\\ub984\\u003cbr\\u003eid=id0243048\\u003cbr\\u003elatitude=%{lat}\\u003cbr\\u003elongitude=%{lon}\\u003cextra\\u003e\\u003c\\u002fextra\\u003e\",\"lat\":[40.81560134887695,40.79996109008789],\"legendgroup\":\"\\uc870\\uae08\\ube60\\ub984\",\"line\":{\"color\":\"#00cc96\",\"width\":1},\"lon\":[-73.93981170654298,-73.9586410522461],\"mode\":\"lines\",\"name\":\"\\uc870\\uae08\\ube60\\ub984 (pickup\\u002fdropoff)\",\"showlegend\":false,\"subplot\":\"mapbox\",\"type\":\"scattermapbox\",\"opacity\":0.8},{\"hovertemplate\":\"\\ud3c9\\uade0\\uc18d\\ub825=\\uc870\\uae08\\ube60\\ub984\\u003cbr\\u003eid=id2135926\\u003cbr\\u003elatitude=%{lat}\\u003cbr\\u003elongitude=%{lon}\\u003cextra\\u003e\\u003c\\u002fextra\\u003e\",\"lat\":[40.764122009277344,40.74626541137695],\"legendgroup\":\"\\uc870\\uae08\\ube60\\ub984\",\"line\":{\"color\":\"#00cc96\",\"width\":1},\"lon\":[-73.9558334350586,-73.97246551513672],\"mode\":\"lines\",\"name\":\"\\uc870\\uae08\\ube60\\ub984 (pickup\\u002fdropoff)\",\"showlegend\":false,\"subplot\":\"mapbox\",\"type\":\"scattermapbox\",\"opacity\":0.8},{\"hovertemplate\":\"\\ud3c9\\uade0\\uc18d\\ub825=\\uc870\\uae08\\ube60\\ub984\\u003cbr\\u003eid=id2700601\\u003cbr\\u003elatitude=%{lat}\\u003cbr\\u003elongitude=%{lon}\\u003cextra\\u003e\\u003c\\u002fextra\\u003e\",\"lat\":[40.749908447265625,40.75947952270508],\"legendgroup\":\"\\uc870\\uae08\\ube60\\ub984\",\"line\":{\"color\":\"#00cc96\",\"width\":1},\"lon\":[-73.9881591796875,-73.99555969238281],\"mode\":\"lines\",\"name\":\"\\uc870\\uae08\\ube60\\ub984 (pickup\\u002fdropoff)\",\"showlegend\":false,\"subplot\":\"mapbox\",\"type\":\"scattermapbox\",\"opacity\":0.8},{\"hovertemplate\":\"\\ud3c9\\uade0\\uc18d\\ub825=\\ub9e4\\uc6b0\\ube60\\ub984\\u003cbr\\u003eid=id1030598\\u003cbr\\u003elatitude=%{lat}\\u003cbr\\u003elongitude=%{lon}\\u003cextra\\u003e\\u003c\\u002fextra\\u003e\",\"lat\":[40.71914291381836,40.73513412475586],\"legendgroup\":\"\\ub9e4\\uc6b0\\ube60\\ub984\",\"line\":{\"color\":\"#ab63fa\",\"width\":1},\"lon\":[-74.00506591796875,-74.00606536865233],\"mode\":\"lines\",\"name\":\"\\ub9e4\\uc6b0\\ube60\\ub984 (pickup\\u002fdropoff)\",\"showlegend\":true,\"subplot\":\"mapbox\",\"type\":\"scattermapbox\",\"opacity\":0.8},{\"hovertemplate\":\"\\ud3c9\\uade0\\uc18d\\ub825=\\ub9e4\\uc6b0\\ube60\\ub984\\u003cbr\\u003eid=id3667993\\u003cbr\\u003elatitude=%{lat}\\u003cbr\\u003elongitude=%{lon}\\u003cextra\\u003e\\u003c\\u002fextra\\u003e\",\"lat\":[40.73052978515625,40.746219635009766],\"legendgroup\":\"\\ub9e4\\uc6b0\\ube60\\ub984\",\"line\":{\"color\":\"#ab63fa\",\"width\":1},\"lon\":[-73.98052215576173,-73.99799346923827],\"mode\":\"lines\",\"name\":\"\\ub9e4\\uc6b0\\ube60\\ub984 (pickup\\u002fdropoff)\",\"showlegend\":false,\"subplot\":\"mapbox\",\"type\":\"scattermapbox\",\"opacity\":0.8},{\"hovertemplate\":\"\\ud3c9\\uade0\\uc18d\\ub825=\\ub9e4\\uc6b0\\ube60\\ub984\\u003cbr\\u003eid=id3091695\\u003cbr\\u003elatitude=%{lat}\\u003cbr\\u003elongitude=%{lon}\\u003cextra\\u003e\\u003c\\u002fextra\\u003e\",\"lat\":[40.768253326416016,40.77399826049805],\"legendgroup\":\"\\ub9e4\\uc6b0\\ube60\\ub984\",\"line\":{\"color\":\"#ab63fa\",\"width\":1},\"lon\":[-73.98240661621094,-73.95751190185547],\"mode\":\"lines\",\"name\":\"\\ub9e4\\uc6b0\\ube60\\ub984 (pickup\\u002fdropoff)\",\"showlegend\":false,\"subplot\":\"mapbox\",\"type\":\"scattermapbox\",\"opacity\":0.8},{\"hovertemplate\":\"\\ud3c9\\uade0\\uc18d\\ub825=\\ub9e4\\uc6b0\\ube60\\ub984\\u003cbr\\u003eid=id3545382\\u003cbr\\u003elatitude=%{lat}\\u003cbr\\u003elongitude=%{lon}\\u003cextra\\u003e\\u003c\\u002fextra\\u003e\",\"lat\":[40.79136657714844,40.78382110595703],\"legendgroup\":\"\\ub9e4\\uc6b0\\ube60\\ub984\",\"line\":{\"color\":\"#ab63fa\",\"width\":1},\"lon\":[-73.97394561767578,-73.97989654541014],\"mode\":\"lines\",\"name\":\"\\ub9e4\\uc6b0\\ube60\\ub984 (pickup\\u002fdropoff)\",\"showlegend\":false,\"subplot\":\"mapbox\",\"type\":\"scattermapbox\",\"opacity\":0.8},{\"hovertemplate\":\"\\ud3c9\\uade0\\uc18d\\ub825=\\ub9e4\\uc6b0\\ube60\\ub984\\u003cbr\\u003eid=id0621879\\u003cbr\\u003elatitude=%{lat}\\u003cbr\\u003elongitude=%{lon}\\u003cextra\\u003e\\u003c\\u002fextra\\u003e\",\"lat\":[40.743614196777344,40.72272872924805],\"legendgroup\":\"\\ub9e4\\uc6b0\\ube60\\ub984\",\"line\":{\"color\":\"#ab63fa\",\"width\":1},\"lon\":[-73.95078277587889,-74.00621795654298],\"mode\":\"lines\",\"name\":\"\\ub9e4\\uc6b0\\ube60\\ub984 (pickup\\u002fdropoff)\",\"showlegend\":false,\"subplot\":\"mapbox\",\"type\":\"scattermapbox\",\"opacity\":0.8},{\"hovertemplate\":\"\\ud3c9\\uade0\\uc18d\\ub825=\\ub9e4\\uc6b0\\ube60\\ub984\\u003cbr\\u003eid=id2995326\\u003cbr\\u003elatitude=%{lat}\\u003cbr\\u003elongitude=%{lon}\\u003cextra\\u003e\\u003c\\u002fextra\\u003e\",\"lat\":[40.74108123779297,40.73556137084961],\"legendgroup\":\"\\ub9e4\\uc6b0\\ube60\\ub984\",\"line\":{\"color\":\"#ab63fa\",\"width\":1},\"lon\":[-74.00586700439453,-73.99239349365233],\"mode\":\"lines\",\"name\":\"\\ub9e4\\uc6b0\\ube60\\ub984 (pickup\\u002fdropoff)\",\"showlegend\":false,\"subplot\":\"mapbox\",\"type\":\"scattermapbox\",\"opacity\":0.8},{\"hovertemplate\":\"\\ud3c9\\uade0\\uc18d\\ub825=\\ub9e4\\uc6b0\\ube60\\ub984\\u003cbr\\u003eid=id2341955\\u003cbr\\u003elatitude=%{lat}\\u003cbr\\u003elongitude=%{lon}\\u003cextra\\u003e\\u003c\\u002fextra\\u003e\",\"lat\":[40.78915786743164,40.77948760986328],\"legendgroup\":\"\\ub9e4\\uc6b0\\ube60\\ub984\",\"line\":{\"color\":\"#ab63fa\",\"width\":1},\"lon\":[-73.94364166259764,-73.95057678222656],\"mode\":\"lines\",\"name\":\"\\ub9e4\\uc6b0\\ube60\\ub984 (pickup\\u002fdropoff)\",\"showlegend\":false,\"subplot\":\"mapbox\",\"type\":\"scattermapbox\",\"opacity\":0.8},{\"hovertemplate\":\"\\ud3c9\\uade0\\uc18d\\ub825=\\ub9e4\\uc6b0\\ube60\\ub984\\u003cbr\\u003eid=id1973100\\u003cbr\\u003elatitude=%{lat}\\u003cbr\\u003elongitude=%{lon}\\u003cextra\\u003e\\u003c\\u002fextra\\u003e\",\"lat\":[40.82606887817384,40.7630729675293],\"legendgroup\":\"\\ub9e4\\uc6b0\\ube60\\ub984\",\"line\":{\"color\":\"#ab63fa\",\"width\":1},\"lon\":[-73.94337463378906,-73.98128509521484],\"mode\":\"lines\",\"name\":\"\\ub9e4\\uc6b0\\ube60\\ub984 (pickup\\u002fdropoff)\",\"showlegend\":false,\"subplot\":\"mapbox\",\"type\":\"scattermapbox\",\"opacity\":0.8},{\"hovertemplate\":\"\\ud3c9\\uade0\\uc18d\\ub825=\\ub9e4\\uc6b0\\ube60\\ub984\\u003cbr\\u003eid=id0151990\\u003cbr\\u003elatitude=%{lat}\\u003cbr\\u003elongitude=%{lon}\\u003cextra\\u003e\\u003c\\u002fextra\\u003e\",\"lat\":[40.76192474365234,40.76654052734375],\"legendgroup\":\"\\ub9e4\\uc6b0\\ube60\\ub984\",\"line\":{\"color\":\"#ab63fa\",\"width\":1},\"lon\":[-73.97914123535155,-73.99016571044923],\"mode\":\"lines\",\"name\":\"\\ub9e4\\uc6b0\\ube60\\ub984 (pickup\\u002fdropoff)\",\"showlegend\":false,\"subplot\":\"mapbox\",\"type\":\"scattermapbox\",\"opacity\":0.8},{\"hovertemplate\":\"\\ud3c9\\uade0\\uc18d\\ub825=\\ub9e4\\uc6b0\\ube60\\ub984\\u003cbr\\u003eid=id1745148\\u003cbr\\u003elatitude=%{lat}\\u003cbr\\u003elongitude=%{lon}\\u003cextra\\u003e\\u003c\\u002fextra\\u003e\",\"lat\":[40.75484848022461,40.72767639160156],\"legendgroup\":\"\\ub9e4\\uc6b0\\ube60\\ub984\",\"line\":{\"color\":\"#ab63fa\",\"width\":1},\"lon\":[-73.98343658447266,-74.00334930419923],\"mode\":\"lines\",\"name\":\"\\ub9e4\\uc6b0\\ube60\\ub984 (pickup\\u002fdropoff)\",\"showlegend\":false,\"subplot\":\"mapbox\",\"type\":\"scattermapbox\",\"opacity\":0.8},{\"hovertemplate\":\"\\ud3c9\\uade0\\uc18d\\ub825=\\ub9e4\\uc6b0\\ube60\\ub984\\u003cbr\\u003eid=id1006263\\u003cbr\\u003elatitude=%{lat}\\u003cbr\\u003elongitude=%{lon}\\u003cextra\\u003e\\u003c\\u002fextra\\u003e\",\"lat\":[40.80709838867188,40.80038070678711],\"legendgroup\":\"\\ub9e4\\uc6b0\\ube60\\ub984\",\"line\":{\"color\":\"#ab63fa\",\"width\":1},\"lon\":[-73.95350646972656,-73.96750640869139],\"mode\":\"lines\",\"name\":\"\\ub9e4\\uc6b0\\ube60\\ub984 (pickup\\u002fdropoff)\",\"showlegend\":false,\"subplot\":\"mapbox\",\"type\":\"scattermapbox\",\"opacity\":0.8},{\"hovertemplate\":\"\\ud3c9\\uade0\\uc18d\\ub825=\\ub9e4\\uc6b0\\ube60\\ub984\\u003cbr\\u003eid=id3100200\\u003cbr\\u003elatitude=%{lat}\\u003cbr\\u003elongitude=%{lon}\\u003cextra\\u003e\\u003c\\u002fextra\\u003e\",\"lat\":[40.784122467041016,40.77589797973633],\"legendgroup\":\"\\ub9e4\\uc6b0\\ube60\\ub984\",\"line\":{\"color\":\"#ab63fa\",\"width\":1},\"lon\":[-73.9544906616211,-73.96086883544923],\"mode\":\"lines\",\"name\":\"\\ub9e4\\uc6b0\\ube60\\ub984 (pickup\\u002fdropoff)\",\"showlegend\":false,\"subplot\":\"mapbox\",\"type\":\"scattermapbox\",\"opacity\":0.8},{\"hovertemplate\":\"\\ud3c9\\uade0\\uc18d\\ub825=\\ub9e4\\uc6b0\\ube60\\ub984\\u003cbr\\u003eid=id2484944\\u003cbr\\u003elatitude=%{lat}\\u003cbr\\u003elongitude=%{lon}\\u003cextra\\u003e\\u003c\\u002fextra\\u003e\",\"lat\":[40.77938079833984,40.76678466796875],\"legendgroup\":\"\\ub9e4\\uc6b0\\ube60\\ub984\",\"line\":{\"color\":\"#ab63fa\",\"width\":1},\"lon\":[-73.94471740722656,-73.95954132080078],\"mode\":\"lines\",\"name\":\"\\ub9e4\\uc6b0\\ube60\\ub984 (pickup\\u002fdropoff)\",\"showlegend\":false,\"subplot\":\"mapbox\",\"type\":\"scattermapbox\",\"opacity\":0.8},{\"hovertemplate\":\"\\ud3c9\\uade0\\uc18d\\ub825=\\ub9e4\\uc6b0\\ube60\\ub984\\u003cbr\\u003eid=id0294070\\u003cbr\\u003elatitude=%{lat}\\u003cbr\\u003elongitude=%{lon}\\u003cextra\\u003e\\u003c\\u002fextra\\u003e\",\"lat\":[40.78065872192384,40.76536560058594],\"legendgroup\":\"\\ub9e4\\uc6b0\\ube60\\ub984\",\"line\":{\"color\":\"#ab63fa\",\"width\":1},\"lon\":[-73.98385620117188,-73.9659652709961],\"mode\":\"lines\",\"name\":\"\\ub9e4\\uc6b0\\ube60\\ub984 (pickup\\u002fdropoff)\",\"showlegend\":false,\"subplot\":\"mapbox\",\"type\":\"scattermapbox\",\"opacity\":0.8},{\"hovertemplate\":\"\\ud3c9\\uade0\\uc18d\\ub825=\\ub9e4\\uc6b0\\ube60\\ub984\\u003cbr\\u003eid=id3088186\\u003cbr\\u003elatitude=%{lat}\\u003cbr\\u003elongitude=%{lon}\\u003cextra\\u003e\\u003c\\u002fextra\\u003e\",\"lat\":[40.76067352294922,40.762725830078125],\"legendgroup\":\"\\ub9e4\\uc6b0\\ube60\\ub984\",\"line\":{\"color\":\"#ab63fa\",\"width\":1},\"lon\":[-73.98724365234375,-73.92682647705078],\"mode\":\"lines\",\"name\":\"\\ub9e4\\uc6b0\\ube60\\ub984 (pickup\\u002fdropoff)\",\"showlegend\":false,\"subplot\":\"mapbox\",\"type\":\"scattermapbox\",\"opacity\":0.8},{\"hovertemplate\":\"\\ud3c9\\uade0\\uc18d\\ub825=\\ub9e4\\uc6b0\\ube60\\ub984\\u003cbr\\u003eid=id0429106\\u003cbr\\u003elatitude=%{lat}\\u003cbr\\u003elongitude=%{lon}\\u003cextra\\u003e\\u003c\\u002fextra\\u003e\",\"lat\":[40.75823974609375,40.75593185424805],\"legendgroup\":\"\\ub9e4\\uc6b0\\ube60\\ub984\",\"line\":{\"color\":\"#ab63fa\",\"width\":1},\"lon\":[-73.98924255371094,-73.91887664794923],\"mode\":\"lines\",\"name\":\"\\ub9e4\\uc6b0\\ube60\\ub984 (pickup\\u002fdropoff)\",\"showlegend\":false,\"subplot\":\"mapbox\",\"type\":\"scattermapbox\",\"opacity\":0.8},{\"hovertemplate\":\"\\ud3c9\\uade0\\uc18d\\ub825=\\ub9e4\\uc6b0\\ube60\\ub984\\u003cbr\\u003eid=id2843597\\u003cbr\\u003elatitude=%{lat}\\u003cbr\\u003elongitude=%{lon}\\u003cextra\\u003e\\u003c\\u002fextra\\u003e\",\"lat\":[40.75821304321289,40.796680450439446],\"legendgroup\":\"\\ub9e4\\uc6b0\\ube60\\ub984\",\"line\":{\"color\":\"#ab63fa\",\"width\":1},\"lon\":[-73.98886108398438,-73.96269226074217],\"mode\":\"lines\",\"name\":\"\\ub9e4\\uc6b0\\ube60\\ub984 (pickup\\u002fdropoff)\",\"showlegend\":false,\"subplot\":\"mapbox\",\"type\":\"scattermapbox\",\"opacity\":0.8},{\"hovertemplate\":\"\\ud3c9\\uade0\\uc18d\\ub825=\\ub9e4\\uc6b0\\ube60\\ub984\\u003cbr\\u003eid=id2583198\\u003cbr\\u003elatitude=%{lat}\\u003cbr\\u003elongitude=%{lon}\\u003cextra\\u003e\\u003c\\u002fextra\\u003e\",\"lat\":[40.643508911132805,40.70578384399414],\"legendgroup\":\"\\ub9e4\\uc6b0\\ube60\\ub984\",\"line\":{\"color\":\"#ab63fa\",\"width\":1},\"lon\":[-73.79021453857422,-74.00952911376953],\"mode\":\"lines\",\"name\":\"\\ub9e4\\uc6b0\\ube60\\ub984 (pickup\\u002fdropoff)\",\"showlegend\":false,\"subplot\":\"mapbox\",\"type\":\"scattermapbox\",\"opacity\":0.8},{\"hovertemplate\":\"\\ud3c9\\uade0\\uc18d\\ub825=\\ub9e4\\uc6b0\\ube60\\ub984\\u003cbr\\u003eid=id1322047\\u003cbr\\u003elatitude=%{lat}\\u003cbr\\u003elongitude=%{lon}\\u003cextra\\u003e\\u003c\\u002fextra\\u003e\",\"lat\":[40.737281799316406,40.6446418762207],\"legendgroup\":\"\\ub9e4\\uc6b0\\ube60\\ub984\",\"line\":{\"color\":\"#ab63fa\",\"width\":1},\"lon\":[-74.00069427490233,-73.77690124511719],\"mode\":\"lines\",\"name\":\"\\ub9e4\\uc6b0\\ube60\\ub984 (pickup\\u002fdropoff)\",\"showlegend\":false,\"subplot\":\"mapbox\",\"type\":\"scattermapbox\",\"opacity\":0.8},{\"hovertemplate\":\"\\ud3c9\\uade0\\uc18d\\ub825=\\ub9e4\\uc6b0\\ube60\\ub984\\u003cbr\\u003eid=id3388355\\u003cbr\\u003elatitude=%{lat}\\u003cbr\\u003elongitude=%{lon}\\u003cextra\\u003e\\u003c\\u002fextra\\u003e\",\"lat\":[40.74114227294922,40.68381118774414],\"legendgroup\":\"\\ub9e4\\uc6b0\\ube60\\ub984\",\"line\":{\"color\":\"#ab63fa\",\"width\":1},\"lon\":[-73.99011993408203,-73.9951629638672],\"mode\":\"lines\",\"name\":\"\\ub9e4\\uc6b0\\ube60\\ub984 (pickup\\u002fdropoff)\",\"showlegend\":false,\"subplot\":\"mapbox\",\"type\":\"scattermapbox\",\"opacity\":0.8},{\"hovertemplate\":\"\\ud3c9\\uade0\\uc18d\\ub825=\\ub9e4\\uc6b0\\ube60\\ub984\\u003cbr\\u003eid=id1850636\\u003cbr\\u003elatitude=%{lat}\\u003cbr\\u003elongitude=%{lon}\\u003cextra\\u003e\\u003c\\u002fextra\\u003e\",\"lat\":[40.75043869018555,40.63109970092773],\"legendgroup\":\"\\ub9e4\\uc6b0\\ube60\\ub984\",\"line\":{\"color\":\"#ab63fa\",\"width\":1},\"lon\":[-73.99453735351561,-74.02571868896483],\"mode\":\"lines\",\"name\":\"\\ub9e4\\uc6b0\\ube60\\ub984 (pickup\\u002fdropoff)\",\"showlegend\":false,\"subplot\":\"mapbox\",\"type\":\"scattermapbox\",\"opacity\":0.8},{\"hovertemplate\":\"\\ud3c9\\uade0\\uc18d\\ub825=\\ub9e4\\uc6b0\\ube60\\ub984\\u003cbr\\u003eid=id0037819\\u003cbr\\u003elatitude=%{lat}\\u003cbr\\u003elongitude=%{lon}\\u003cextra\\u003e\\u003c\\u002fextra\\u003e\",\"lat\":[40.756568908691406,40.740058898925774],\"legendgroup\":\"\\ub9e4\\uc6b0\\ube60\\ub984\",\"line\":{\"color\":\"#ab63fa\",\"width\":1},\"lon\":[-73.98641967773438,-73.99530029296875],\"mode\":\"lines\",\"name\":\"\\ub9e4\\uc6b0\\ube60\\ub984 (pickup\\u002fdropoff)\",\"showlegend\":false,\"subplot\":\"mapbox\",\"type\":\"scattermapbox\",\"opacity\":0.8},{\"hovertemplate\":\"\\ud3c9\\uade0\\uc18d\\ub825=\\ub9e4\\uc6b0\\ube60\\ub984\\u003cbr\\u003eid=id3716633\\u003cbr\\u003elatitude=%{lat}\\u003cbr\\u003elongitude=%{lon}\\u003cextra\\u003e\\u003c\\u002fextra\\u003e\",\"lat\":[40.755401611328125,40.705509185791016],\"legendgroup\":\"\\ub9e4\\uc6b0\\ube60\\ub984\",\"line\":{\"color\":\"#ab63fa\",\"width\":1},\"lon\":[-73.96813201904298,-74.00707244873048],\"mode\":\"lines\",\"name\":\"\\ub9e4\\uc6b0\\ube60\\ub984 (pickup\\u002fdropoff)\",\"showlegend\":false,\"subplot\":\"mapbox\",\"type\":\"scattermapbox\",\"opacity\":0.8},{\"hovertemplate\":\"\\ud3c9\\uade0\\uc18d\\ub825=\\ub9e4\\uc6b0\\ube60\\ub984\\u003cbr\\u003eid=id3666656\\u003cbr\\u003elatitude=%{lat}\\u003cbr\\u003elongitude=%{lon}\\u003cextra\\u003e\\u003c\\u002fextra\\u003e\",\"lat\":[40.645286560058594,40.75309753417969],\"legendgroup\":\"\\ub9e4\\uc6b0\\ube60\\ub984\",\"line\":{\"color\":\"#ab63fa\",\"width\":1},\"lon\":[-73.7766876220703,-73.99340057373048],\"mode\":\"lines\",\"name\":\"\\ub9e4\\uc6b0\\ube60\\ub984 (pickup\\u002fdropoff)\",\"showlegend\":false,\"subplot\":\"mapbox\",\"type\":\"scattermapbox\",\"opacity\":0.8},{\"hovertemplate\":\"\\ud3c9\\uade0\\uc18d\\ub825=\\ub9e4\\uc6b0\\ube60\\ub984\\u003cbr\\u003eid=id0739381\\u003cbr\\u003elatitude=%{lat}\\u003cbr\\u003elongitude=%{lon}\\u003cextra\\u003e\\u003c\\u002fextra\\u003e\",\"lat\":[40.80809020996094,40.76717758178711],\"legendgroup\":\"\\ub9e4\\uc6b0\\ube60\\ub984\",\"line\":{\"color\":\"#ab63fa\",\"width\":1},\"lon\":[-73.9640121459961,-73.99046325683594],\"mode\":\"lines\",\"name\":\"\\ub9e4\\uc6b0\\ube60\\ub984 (pickup\\u002fdropoff)\",\"showlegend\":false,\"subplot\":\"mapbox\",\"type\":\"scattermapbox\",\"opacity\":0.8},{\"hovertemplate\":\"\\ud3c9\\uade0\\uc18d\\ub825=\\ub9e4\\uc6b0\\ube60\\ub984\\u003cbr\\u003eid=id0787873\\u003cbr\\u003elatitude=%{lat}\\u003cbr\\u003elongitude=%{lon}\\u003cextra\\u003e\\u003c\\u002fextra\\u003e\",\"lat\":[40.64693832397461,40.70998001098633],\"legendgroup\":\"\\ub9e4\\uc6b0\\ube60\\ub984\",\"line\":{\"color\":\"#ab63fa\",\"width\":1},\"lon\":[-73.78984832763672,-74.005126953125],\"mode\":\"lines\",\"name\":\"\\ub9e4\\uc6b0\\ube60\\ub984 (pickup\\u002fdropoff)\",\"showlegend\":false,\"subplot\":\"mapbox\",\"type\":\"scattermapbox\",\"opacity\":0.8},{\"hovertemplate\":\"\\ud3c9\\uade0\\uc18d\\ub825=\\ub9e4\\uc6b0\\ube60\\ub984\\u003cbr\\u003eid=id0419095\\u003cbr\\u003elatitude=%{lat}\\u003cbr\\u003elongitude=%{lon}\\u003cextra\\u003e\\u003c\\u002fextra\\u003e\",\"lat\":[40.768848419189446,40.744606018066406],\"legendgroup\":\"\\ub9e4\\uc6b0\\ube60\\ub984\",\"line\":{\"color\":\"#ab63fa\",\"width\":1},\"lon\":[-73.86279296875,-73.97144317626953],\"mode\":\"lines\",\"name\":\"\\ub9e4\\uc6b0\\ube60\\ub984 (pickup\\u002fdropoff)\",\"showlegend\":false,\"subplot\":\"mapbox\",\"type\":\"scattermapbox\",\"opacity\":0.8},{\"hovertemplate\":\"\\ud3c9\\uade0\\uc18d\\ub825=\\ub9e4\\uc6b0\\ube60\\ub984\\u003cbr\\u003eid=id0480924\\u003cbr\\u003elatitude=%{lat}\\u003cbr\\u003elongitude=%{lon}\\u003cextra\\u003e\\u003c\\u002fextra\\u003e\",\"lat\":[40.72843170166016,40.73809051513672],\"legendgroup\":\"\\ub9e4\\uc6b0\\ube60\\ub984\",\"line\":{\"color\":\"#ab63fa\",\"width\":1},\"lon\":[-73.99981689453125,-74.05081176757811],\"mode\":\"lines\",\"name\":\"\\ub9e4\\uc6b0\\ube60\\ub984 (pickup\\u002fdropoff)\",\"showlegend\":false,\"subplot\":\"mapbox\",\"type\":\"scattermapbox\",\"opacity\":0.8},{\"hovertemplate\":\"\\ud3c9\\uade0\\uc18d\\ub825=\\ub9e4\\uc6b0\\ube60\\ub984\\u003cbr\\u003eid=id0271875\\u003cbr\\u003elatitude=%{lat}\\u003cbr\\u003elongitude=%{lon}\\u003cextra\\u003e\\u003c\\u002fextra\\u003e\",\"lat\":[40.76412582397461,40.783740997314446],\"legendgroup\":\"\\ub9e4\\uc6b0\\ube60\\ub984\",\"line\":{\"color\":\"#ab63fa\",\"width\":1},\"lon\":[-73.97107696533203,-73.95669555664062],\"mode\":\"lines\",\"name\":\"\\ub9e4\\uc6b0\\ube60\\ub984 (pickup\\u002fdropoff)\",\"showlegend\":false,\"subplot\":\"mapbox\",\"type\":\"scattermapbox\",\"opacity\":0.8},{\"hovertemplate\":\"\\ud3c9\\uade0\\uc18d\\ub825=\\ub9e4\\uc6b0\\ube60\\ub984\\u003cbr\\u003eid=id2723141\\u003cbr\\u003elatitude=%{lat}\\u003cbr\\u003elongitude=%{lon}\\u003cextra\\u003e\\u003c\\u002fextra\\u003e\",\"lat\":[40.70758056640625,40.752979278564446],\"legendgroup\":\"\\ub9e4\\uc6b0\\ube60\\ub984\",\"line\":{\"color\":\"#ab63fa\",\"width\":1},\"lon\":[-74.00406646728516,-73.97933197021484],\"mode\":\"lines\",\"name\":\"\\ub9e4\\uc6b0\\ube60\\ub984 (pickup\\u002fdropoff)\",\"showlegend\":false,\"subplot\":\"mapbox\",\"type\":\"scattermapbox\",\"opacity\":0.8},{\"hovertemplate\":\"\\ud3c9\\uade0\\uc18d\\ub825=\\ub9e4\\uc6b0\\ube60\\ub984\\u003cbr\\u003eid=id3457947\\u003cbr\\u003elatitude=%{lat}\\u003cbr\\u003elongitude=%{lon}\\u003cextra\\u003e\\u003c\\u002fextra\\u003e\",\"lat\":[40.767120361328125,40.77658081054688],\"legendgroup\":\"\\ub9e4\\uc6b0\\ube60\\ub984\",\"line\":{\"color\":\"#ab63fa\",\"width\":1},\"lon\":[-73.9688720703125,-73.96205139160156],\"mode\":\"lines\",\"name\":\"\\ub9e4\\uc6b0\\ube60\\ub984 (pickup\\u002fdropoff)\",\"showlegend\":false,\"subplot\":\"mapbox\",\"type\":\"scattermapbox\",\"opacity\":0.8},{\"hovertemplate\":\"\\ud3c9\\uade0\\uc18d\\ub825=\\ub9e4\\uc6b0\\ube60\\ub984\\u003cbr\\u003eid=id2035188\\u003cbr\\u003elatitude=%{lat}\\u003cbr\\u003elongitude=%{lon}\\u003cextra\\u003e\\u003c\\u002fextra\\u003e\",\"lat\":[40.75527572631836,40.76887130737305],\"legendgroup\":\"\\ub9e4\\uc6b0\\ube60\\ub984\",\"line\":{\"color\":\"#ab63fa\",\"width\":1},\"lon\":[-73.96514892578125,-73.95445251464845],\"mode\":\"lines\",\"name\":\"\\ub9e4\\uc6b0\\ube60\\ub984 (pickup\\u002fdropoff)\",\"showlegend\":false,\"subplot\":\"mapbox\",\"type\":\"scattermapbox\",\"opacity\":0.8},{\"hovertemplate\":\"\\ud3c9\\uade0\\uc18d\\ub825=\\ub9e4\\uc6b0\\ube60\\ub984\\u003cbr\\u003eid=id0453108\\u003cbr\\u003elatitude=%{lat}\\u003cbr\\u003elongitude=%{lon}\\u003cextra\\u003e\\u003c\\u002fextra\\u003e\",\"lat\":[40.64477157592773,40.832279205322266],\"legendgroup\":\"\\ub9e4\\uc6b0\\ube60\\ub984\",\"line\":{\"color\":\"#ab63fa\",\"width\":1},\"lon\":[-73.78182983398438,-73.94233703613281],\"mode\":\"lines\",\"name\":\"\\ub9e4\\uc6b0\\ube60\\ub984 (pickup\\u002fdropoff)\",\"showlegend\":false,\"subplot\":\"mapbox\",\"type\":\"scattermapbox\",\"opacity\":0.8},{\"hovertemplate\":\"\\ud3c9\\uade0\\uc18d\\ub825=\\ub9e4\\uc6b0\\ube60\\ub984\\u003cbr\\u003eid=id3413834\\u003cbr\\u003elatitude=%{lat}\\u003cbr\\u003elongitude=%{lon}\\u003cextra\\u003e\\u003c\\u002fextra\\u003e\",\"lat\":[40.773601531982415,40.66177749633789],\"legendgroup\":\"\\ub9e4\\uc6b0\\ube60\\ub984\",\"line\":{\"color\":\"#ab63fa\",\"width\":1},\"lon\":[-73.87093353271484,-73.82536315917967],\"mode\":\"lines\",\"name\":\"\\ub9e4\\uc6b0\\ube60\\ub984 (pickup\\u002fdropoff)\",\"showlegend\":false,\"subplot\":\"mapbox\",\"type\":\"scattermapbox\",\"opacity\":0.8},{\"hovertemplate\":\"\\ud3c9\\uade0\\uc18d\\ub825=\\ub9e4\\uc6b0\\ube60\\ub984\\u003cbr\\u003eid=id3646444\\u003cbr\\u003elatitude=%{lat}\\u003cbr\\u003elongitude=%{lon}\\u003cextra\\u003e\\u003c\\u002fextra\\u003e\",\"lat\":[40.64687347412109,40.78129196166992],\"legendgroup\":\"\\ub9e4\\uc6b0\\ube60\\ub984\",\"line\":{\"color\":\"#ab63fa\",\"width\":1},\"lon\":[-73.79014587402342,-73.9521942138672],\"mode\":\"lines\",\"name\":\"\\ub9e4\\uc6b0\\ube60\\ub984 (pickup\\u002fdropoff)\",\"showlegend\":false,\"subplot\":\"mapbox\",\"type\":\"scattermapbox\",\"opacity\":0.8},{\"hovertemplate\":\"\\ud3c9\\uade0\\uc18d\\ub825=\\ub9e4\\uc6b0\\ube60\\ub984\\u003cbr\\u003eid=id0345371\\u003cbr\\u003elatitude=%{lat}\\u003cbr\\u003elongitude=%{lon}\\u003cextra\\u003e\\u003c\\u002fextra\\u003e\",\"lat\":[40.64469146728516,40.70872116088867],\"legendgroup\":\"\\ub9e4\\uc6b0\\ube60\\ub984\",\"line\":{\"color\":\"#ab63fa\",\"width\":1},\"lon\":[-73.78196716308595,-73.9399185180664],\"mode\":\"lines\",\"name\":\"\\ub9e4\\uc6b0\\ube60\\ub984 (pickup\\u002fdropoff)\",\"showlegend\":false,\"subplot\":\"mapbox\",\"type\":\"scattermapbox\",\"opacity\":0.8},{\"hovertemplate\":\"\\ud3c9\\uade0\\uc18d\\ub825=\\ub9e4\\uc6b0\\ube60\\ub984\\u003cbr\\u003eid=id2676557\\u003cbr\\u003elatitude=%{lat}\\u003cbr\\u003elongitude=%{lon}\\u003cextra\\u003e\\u003c\\u002fextra\\u003e\",\"lat\":[40.738807678222656,40.74818420410156],\"legendgroup\":\"\\ub9e4\\uc6b0\\ube60\\ub984\",\"line\":{\"color\":\"#ab63fa\",\"width\":1},\"lon\":[-73.98301696777342,-73.97811889648438],\"mode\":\"lines\",\"name\":\"\\ub9e4\\uc6b0\\ube60\\ub984 (pickup\\u002fdropoff)\",\"showlegend\":false,\"subplot\":\"mapbox\",\"type\":\"scattermapbox\",\"opacity\":0.8},{\"hovertemplate\":\"\\ud3c9\\uade0\\uc18d\\ub825=\\ub9e4\\uc6b0\\ub290\\ub9bc\\u003cbr\\u003epassenger_count=%{marker.size}\\u003cbr\\u003elatitude=%{lat}\\u003cbr\\u003elongitude=%{lon}\\u003cextra\\u003e\\u003c\\u002fextra\\u003e\",\"lat\":[40.75983047485352,40.75983047485352,40.78168487548828,40.781299591064446,40.763519287109375,40.761749267578125,40.74432373046875,40.74211883544922,40.70718383789063,40.70901870727539,40.77154159545898,40.77495956420898,40.72530364990234,40.71965026855469,40.75623321533203,40.734371185302734,40.739540100097656,40.735721588134766,40.73308181762695,40.730018615722656,40.776123046875,40.77534103393555,40.746826171875,40.777099609375,40.74184036254882,40.74722671508789,40.7467155456543,40.75249862670898,40.72259521484375,40.72389602661133,40.76140594482422,40.76454162597656,40.744140625,40.74169921875,40.78596115112305,40.77871322631836,40.794048309326165,40.79790878295898,40.76639175415039,40.75261306762695,40.73777770996094,40.74677658081056,40.7393684387207,40.74413299560546,40.7324447631836,40.7302360534668,40.74240493774414,40.72117233276367,40.76290130615234,40.74275970458984,40.757469177246094,40.771968841552734,40.72243118286133,40.76266860961913,40.79840850830078,40.79058837890625,40.76341247558594,40.71963119506836,40.74380493164063,40.75000762939453,40.74729537963867,40.761695861816406,40.72234725952149,40.74566268920898,40.78450012207031,40.804832458496094,40.773868560791016,40.75505065917969,40.7683982849121,40.7793083190918,40.77922821044922,40.746257781982415,40.75796890258789,40.743770599365234],\"legendgroup\":\"\\ub9e4\\uc6b0\\ub290\\ub9bc\",\"lon\":[-73.97090148925781,-73.97090148925781,-73.98113250732422,-73.981201171875,-73.96932220458984,-73.97138977050781,-73.98423767089844,-73.97466278076173,-74.01651763916014,-74.0118637084961,-73.9818115234375,-73.98088073730467,-73.9925537109375,-73.9946060180664,-73.99331665039062,-73.98973846435547,-73.98706817626953,-73.98265838623048,-74.00662231445312,-74.00050354003906,-73.96235656738281,-73.96501922607422,-73.99005889892578,-73.97775268554686,-74.0008773803711,-73.9910430908203,-73.98993682861328,-73.97853851318358,-74.00528717041014,-74.00457000732422,-73.97090911865233,-73.97366333007811,-73.97913360595702,-73.97492218017578,-73.97699737548828,-73.9814453125,-73.97196960449217,-73.97329711914062,-73.96286010742188,-73.98545074462889,-73.99762725830078,-74.00828552246092,-74.00737762451173,-74.00689697265625,-74.00647735595702,-73.99922180175781,-74.00107574462889,-73.98760986328125,-73.98320770263672,-73.97737884521484,-73.96942901611328,-73.9827423095703,-73.98615264892578,-73.98597717285155,-73.95243072509764,-73.949951171875,-73.98194122314453,-73.99542999267578,-73.98795318603516,-73.99179077148438,-73.98175048828125,-74.00177764892578,-73.99722290039062,-73.98463439941406,-73.95220947265625,-73.96610260009764,-73.98236846923827,-73.97960662841797,-73.9656524658203,-73.96006774902342,-73.95587921142578,-73.98580169677734,-73.98609161376953,-73.98335266113281],\"marker\":{\"color\":\"#636efa\",\"size\":[2,2,1,1,2,2,2,2,1,1,2,2,2,2,1,1,1,1,1,1,1,1,1,1,2,2,1,1,1,1,1,1,1,1,1,1,1,1,1,1,1,1,1,1,1,1,1,1,1,1,1,1,1,1,1,1,1,1,1,1,1,1,2,2,2,2,4,4,1,1,5,5,1,1],\"sizemode\":\"area\",\"sizeref\":0.06},\"mode\":\"markers\",\"name\":\"\\ub9e4\\uc6b0\\ub290\\ub9bc(path)\",\"showlegend\":true,\"subplot\":\"mapbox\",\"type\":\"scattermapbox\",\"line\":{\"width\":1},\"opacity\":0.8},{\"hovertemplate\":\"\\ud3c9\\uade0\\uc18d\\ub825=\\uc870\\uae08\\ub290\\ub9bc\\u003cbr\\u003epassenger_count=%{marker.size}\\u003cbr\\u003elatitude=%{lat}\\u003cbr\\u003elongitude=%{lon}\\u003cextra\\u003e\\u003c\\u002fextra\\u003e\",\"lat\":[40.74156188964844,40.75085067749024,40.76424789428711,40.763145446777344,40.777053833007805,40.76767349243164,40.730010986328125,40.73989868164063,40.763973236083984,40.76081848144531,40.760250091552734,40.79518127441406,40.74981689453125,40.756885528564446,40.78707885742188,40.79246139526367,40.7226448059082,40.73473739624024,40.75053024291992,40.75751876831056,40.74673461914063,40.7509651184082,40.73553085327149,40.76554107666016,40.744510650634766,40.7564582824707,40.75918960571289,40.7098503112793,40.76905059814453,40.7630615234375,40.76215744018555,40.74748611450195,40.74530792236328,40.74227523803711,40.71868896484375,40.7457275390625,40.77298355102539,40.75412368774414,40.7714958190918,40.75320816040039,40.76704025268555,40.76899337768555,40.74298095703125,40.71076965332031,40.72407150268555,40.75766372680664,40.75624084472656,40.7665901184082,40.742500305175774,40.7463493347168,40.73820495605469,40.75112533569336,40.73915481567384,40.74427795410156,40.759124755859375,40.74463272094727,40.74143600463867,40.73919296264648,40.7253303527832,40.777881622314446,40.75419235229492,40.762859344482415,40.76359939575195,40.7617416381836,40.74908065795898,40.6697654724121,40.76555252075195,40.79889678955078,40.7724494934082,40.755836486816406,40.75054931640625,40.759868621826165],\"legendgroup\":\"\\uc870\\uae08\\ub290\\ub9bc\",\"lon\":[-73.993896484375,-73.97830963134764,-73.95646667480467,-73.96985626220702,-73.98257446289062,-73.98075866699219,-73.9792709350586,-73.98174285888672,-73.99028778076173,-73.97960662841797,-73.96861267089844,-73.96575927734375,-73.99140167236328,-73.9898910522461,-73.95390319824217,-73.94084167480467,-73.98736572265625,-74.0038833618164,-73.98738098144531,-73.98204803466798,-73.97140502929686,-73.97477722167967,-73.98988342285155,-73.97640228271484,-73.98111724853516,-74.00170135498048,-73.98509216308595,-73.96215057373048,-73.98491668701173,-73.97570037841797,-73.98597717285155,-73.97697448730467,-74.00784301757811,-73.98967742919923,-74.0053482055664,-73.9908905029297,-73.9782943725586,-73.97389221191406,-73.95969390869139,-73.98626708984375,-73.95381164550781,-73.96334075927734,-73.98845672607422,-74.01339721679686,-74.00241088867188,-73.98356628417967,-73.97042846679686,-73.98652648925781,-73.97420501708984,-73.97167205810547,-73.98540496826173,-73.97836303710938,-73.99610137939453,-73.98767852783203,-73.97645568847656,-73.97919464111328,-73.95230865478516,-73.98406982421875,-73.99237060546875,-73.98873138427734,-73.97592163085938,-73.98892211914062,-73.98738861083984,-73.96864318847656,-74.00839233398438,-73.97919464111328,-73.96790313720702,-73.96857452392578,-73.96265411376953,-73.9784927368164,-73.97480010986328,-73.96180725097656],\"marker\":{\"color\":\"#EF553B\",\"size\":[1,1,4,4,1,1,2,2,2,2,2,2,1,1,2,2,1,1,2,2,1,1,3,3,2,2,5,5,1,1,1,1,2,2,1,1,1,1,1,1,1,1,4,4,1,1,2,2,1,1,5,5,1,1,2,2,1,1,1,1,2,2,1,1,4,4,1,1,1,1,5,5],\"sizemode\":\"area\",\"sizeref\":0.06},\"mode\":\"markers\",\"name\":\"\\uc870\\uae08\\ub290\\ub9bc(path)\",\"showlegend\":true,\"subplot\":\"mapbox\",\"type\":\"scattermapbox\",\"line\":{\"width\":1},\"opacity\":0.8},{\"hovertemplate\":\"\\ud3c9\\uade0\\uc18d\\ub825=\\uc870\\uae08\\ube60\\ub984\\u003cbr\\u003epassenger_count=%{marker.size}\\u003cbr\\u003elatitude=%{lat}\\u003cbr\\u003elongitude=%{lon}\\u003cextra\\u003e\\u003c\\u002fextra\\u003e\",\"lat\":[40.74464797973633,40.72493362426758,40.75567626953125,40.72474670410156,40.755126953125,40.74041366577149,40.7249755859375,40.655078887939446,40.72565841674805,40.73714065551758,40.75128173828125,40.76827239990234,40.73410034179688,40.67301177978516,40.76793670654297,40.765602111816406,40.75857162475586,40.77785873413086,40.75810241699219,40.790283203125,40.752891540527344,40.739990234375,40.789600372314446,40.71483612060546,40.766788482666016,40.77115631103516,40.794429779052734,40.7891731262207,40.80135726928711,40.79747772216797,40.64473342895508,40.782241821289055,40.74057769775391,40.7554817199707,40.709976196289055,40.69548034667969,40.72257232666016,40.68634033203125,40.734493255615234,40.78654861450195,40.78641128540039,40.77379989624024,40.78201675415039,40.77749633789063,40.761756896972656,40.76946258544922,40.7640037536621,40.76385116577149,40.750431060791016,40.78049087524414,40.770069122314446,40.78279113769531,40.77674865722656,40.785789489746094,40.862701416015625,40.831321716308594,40.7334213256836,40.75713348388672,40.78261184692384,40.76800155639648,40.76673126220703,40.805000305175774,40.74989700317384,40.73417663574219,40.79740524291992,40.78954315185546,40.81560134887695,40.79996109008789,40.764122009277344,40.74626541137695,40.749908447265625,40.75947952270508],\"legendgroup\":\"\\uc870\\uae08\\ube60\\ub984\",\"lon\":[-73.99140930175781,-73.9950942993164,-73.96500396728516,-74.00196075439453,-73.9874267578125,-73.98683166503906,-73.9844207763672,-73.955322265625,-73.99471282958984,-73.99044036865233,-73.93987274169923,-73.95292663574217,-73.9994888305664,-73.96280670166014,-73.98215484619139,-73.96463012695312,-73.96356964111328,-73.94394683837889,-73.96311950683594,-73.96560668945312,-73.97013854980467,-73.98188781738281,-73.97001647949219,-74.0139389038086,-73.96295928955078,-73.98324584960938,-73.97160339355469,-73.9527587890625,-73.95948791503906,-73.96974182128906,-73.78192138671875,-73.94640350341797,-73.97972869873048,-73.97085571289062,-74.00458526611328,-73.99742889404298,-74.00359344482422,-73.97468566894531,-74.00151824951173,-73.97239685058595,-73.95282745361328,-73.97776794433594,-73.97631072998048,-73.9781494140625,-73.96741485595702,-73.92103576660156,-73.97434234619139,-73.96236419677734,-73.98802947998048,-73.94779968261719,-73.98792266845702,-73.95319366455078,-73.95974731445312,-73.9532470703125,-73.90413665771484,-73.89300537109375,-74.00246429443358,-73.9832763671875,-73.95343017578125,-73.97037506103516,-73.96306610107422,-73.93858337402342,-73.99164581298828,-73.99500274658203,-73.94892883300781,-73.96743774414062,-73.93981170654298,-73.9586410522461,-73.9558334350586,-73.97246551513672,-73.9881591796875,-73.99555969238281],\"marker\":{\"color\":\"#00cc96\",\"size\":[4,4,6,6,2,2,1,1,2,2,1,1,3,3,1,1,1,1,2,2,1,1,2,2,1,1,6,6,1,1,3,3,6,6,2,2,1,1,3,3,1,1,1,1,1,1,3,3,2,2,1,1,1,1,1,1,1,1,1,1,1,1,1,1,1,1,1,1,1,1,1,1],\"sizemode\":\"area\",\"sizeref\":0.06},\"mode\":\"markers\",\"name\":\"\\uc870\\uae08\\ube60\\ub984(path)\",\"showlegend\":true,\"subplot\":\"mapbox\",\"type\":\"scattermapbox\",\"line\":{\"width\":1},\"opacity\":0.8},{\"hovertemplate\":\"\\ud3c9\\uade0\\uc18d\\ub825=\\ub9e4\\uc6b0\\ube60\\ub984\\u003cbr\\u003epassenger_count=%{marker.size}\\u003cbr\\u003elatitude=%{lat}\\u003cbr\\u003elongitude=%{lon}\\u003cextra\\u003e\\u003c\\u002fextra\\u003e\",\"lat\":[40.71914291381836,40.73513412475586,40.73052978515625,40.746219635009766,40.768253326416016,40.77399826049805,40.79136657714844,40.78382110595703,40.743614196777344,40.72272872924805,40.74108123779297,40.73556137084961,40.78915786743164,40.77948760986328,40.82606887817384,40.7630729675293,40.76192474365234,40.76654052734375,40.75484848022461,40.72767639160156,40.80709838867188,40.80038070678711,40.784122467041016,40.77589797973633,40.77938079833984,40.76678466796875,40.78065872192384,40.76536560058594,40.76067352294922,40.762725830078125,40.75823974609375,40.75593185424805,40.75821304321289,40.796680450439446,40.643508911132805,40.70578384399414,40.737281799316406,40.6446418762207,40.74114227294922,40.68381118774414,40.75043869018555,40.63109970092773,40.756568908691406,40.740058898925774,40.755401611328125,40.705509185791016,40.645286560058594,40.75309753417969,40.80809020996094,40.76717758178711,40.64693832397461,40.70998001098633,40.768848419189446,40.744606018066406,40.72843170166016,40.73809051513672,40.76412582397461,40.783740997314446,40.70758056640625,40.752979278564446,40.767120361328125,40.77658081054688,40.75527572631836,40.76887130737305,40.64477157592773,40.832279205322266,40.773601531982415,40.66177749633789,40.64687347412109,40.78129196166992,40.64469146728516,40.70872116088867,40.738807678222656,40.74818420410156],\"legendgroup\":\"\\ub9e4\\uc6b0\\ube60\\ub984\",\"lon\":[-74.00506591796875,-74.00606536865233,-73.98052215576173,-73.99799346923827,-73.98240661621094,-73.95751190185547,-73.97394561767578,-73.97989654541014,-73.95078277587889,-74.00621795654298,-74.00586700439453,-73.99239349365233,-73.94364166259764,-73.95057678222656,-73.94337463378906,-73.98128509521484,-73.97914123535155,-73.99016571044923,-73.98343658447266,-74.00334930419923,-73.95350646972656,-73.96750640869139,-73.9544906616211,-73.96086883544923,-73.94471740722656,-73.95954132080078,-73.98385620117188,-73.9659652709961,-73.98724365234375,-73.92682647705078,-73.98924255371094,-73.91887664794923,-73.98886108398438,-73.96269226074217,-73.79021453857422,-74.00952911376953,-74.00069427490233,-73.77690124511719,-73.99011993408203,-73.9951629638672,-73.99453735351561,-74.02571868896483,-73.98641967773438,-73.99530029296875,-73.96813201904298,-74.00707244873048,-73.7766876220703,-73.99340057373048,-73.9640121459961,-73.99046325683594,-73.78984832763672,-74.005126953125,-73.86279296875,-73.97144317626953,-73.99981689453125,-74.05081176757811,-73.97107696533203,-73.95669555664062,-74.00406646728516,-73.97933197021484,-73.9688720703125,-73.96205139160156,-73.96514892578125,-73.95445251464845,-73.78182983398438,-73.94233703613281,-73.87093353271484,-73.82536315917967,-73.79014587402342,-73.9521942138672,-73.78196716308595,-73.9399185180664,-73.98301696777342,-73.97811889648438],\"marker\":{\"color\":\"#ab63fa\",\"size\":[1,1,1,1,2,2,1,1,1,1,1,1,1,1,1,1,1,1,1,1,1,1,1,1,1,1,1,1,1,1,1,1,1,1,1,1,1,1,1,1,1,1,6,6,1,1,2,2,6,6,1,1,1,1,1,1,5,5,1,1,1,1,1,1,1,1,2,2,1,1,2,2,1,1],\"sizemode\":\"area\",\"sizeref\":0.06},\"mode\":\"markers\",\"name\":\"\\ub9e4\\uc6b0\\ube60\\ub984(path)\",\"showlegend\":true,\"subplot\":\"mapbox\",\"type\":\"scattermapbox\",\"line\":{\"width\":1},\"opacity\":0.8}],                        {\"template\":{\"data\":{\"histogram2dcontour\":[{\"type\":\"histogram2dcontour\",\"colorbar\":{\"outlinewidth\":0,\"ticks\":\"\"},\"colorscale\":[[0.0,\"#0d0887\"],[0.1111111111111111,\"#46039f\"],[0.2222222222222222,\"#7201a8\"],[0.3333333333333333,\"#9c179e\"],[0.4444444444444444,\"#bd3786\"],[0.5555555555555556,\"#d8576b\"],[0.6666666666666666,\"#ed7953\"],[0.7777777777777778,\"#fb9f3a\"],[0.8888888888888888,\"#fdca26\"],[1.0,\"#f0f921\"]]}],\"choropleth\":[{\"type\":\"choropleth\",\"colorbar\":{\"outlinewidth\":0,\"ticks\":\"\"}}],\"histogram2d\":[{\"type\":\"histogram2d\",\"colorbar\":{\"outlinewidth\":0,\"ticks\":\"\"},\"colorscale\":[[0.0,\"#0d0887\"],[0.1111111111111111,\"#46039f\"],[0.2222222222222222,\"#7201a8\"],[0.3333333333333333,\"#9c179e\"],[0.4444444444444444,\"#bd3786\"],[0.5555555555555556,\"#d8576b\"],[0.6666666666666666,\"#ed7953\"],[0.7777777777777778,\"#fb9f3a\"],[0.8888888888888888,\"#fdca26\"],[1.0,\"#f0f921\"]]}],\"heatmap\":[{\"type\":\"heatmap\",\"colorbar\":{\"outlinewidth\":0,\"ticks\":\"\"},\"colorscale\":[[0.0,\"#0d0887\"],[0.1111111111111111,\"#46039f\"],[0.2222222222222222,\"#7201a8\"],[0.3333333333333333,\"#9c179e\"],[0.4444444444444444,\"#bd3786\"],[0.5555555555555556,\"#d8576b\"],[0.6666666666666666,\"#ed7953\"],[0.7777777777777778,\"#fb9f3a\"],[0.8888888888888888,\"#fdca26\"],[1.0,\"#f0f921\"]]}],\"heatmapgl\":[{\"type\":\"heatmapgl\",\"colorbar\":{\"outlinewidth\":0,\"ticks\":\"\"},\"colorscale\":[[0.0,\"#0d0887\"],[0.1111111111111111,\"#46039f\"],[0.2222222222222222,\"#7201a8\"],[0.3333333333333333,\"#9c179e\"],[0.4444444444444444,\"#bd3786\"],[0.5555555555555556,\"#d8576b\"],[0.6666666666666666,\"#ed7953\"],[0.7777777777777778,\"#fb9f3a\"],[0.8888888888888888,\"#fdca26\"],[1.0,\"#f0f921\"]]}],\"contourcarpet\":[{\"type\":\"contourcarpet\",\"colorbar\":{\"outlinewidth\":0,\"ticks\":\"\"}}],\"contour\":[{\"type\":\"contour\",\"colorbar\":{\"outlinewidth\":0,\"ticks\":\"\"},\"colorscale\":[[0.0,\"#0d0887\"],[0.1111111111111111,\"#46039f\"],[0.2222222222222222,\"#7201a8\"],[0.3333333333333333,\"#9c179e\"],[0.4444444444444444,\"#bd3786\"],[0.5555555555555556,\"#d8576b\"],[0.6666666666666666,\"#ed7953\"],[0.7777777777777778,\"#fb9f3a\"],[0.8888888888888888,\"#fdca26\"],[1.0,\"#f0f921\"]]}],\"surface\":[{\"type\":\"surface\",\"colorbar\":{\"outlinewidth\":0,\"ticks\":\"\"},\"colorscale\":[[0.0,\"#0d0887\"],[0.1111111111111111,\"#46039f\"],[0.2222222222222222,\"#7201a8\"],[0.3333333333333333,\"#9c179e\"],[0.4444444444444444,\"#bd3786\"],[0.5555555555555556,\"#d8576b\"],[0.6666666666666666,\"#ed7953\"],[0.7777777777777778,\"#fb9f3a\"],[0.8888888888888888,\"#fdca26\"],[1.0,\"#f0f921\"]]}],\"mesh3d\":[{\"type\":\"mesh3d\",\"colorbar\":{\"outlinewidth\":0,\"ticks\":\"\"}}],\"scatter\":[{\"fillpattern\":{\"fillmode\":\"overlay\",\"size\":10,\"solidity\":0.2},\"type\":\"scatter\"}],\"parcoords\":[{\"type\":\"parcoords\",\"line\":{\"colorbar\":{\"outlinewidth\":0,\"ticks\":\"\"}}}],\"scatterpolargl\":[{\"type\":\"scatterpolargl\",\"marker\":{\"colorbar\":{\"outlinewidth\":0,\"ticks\":\"\"}}}],\"bar\":[{\"error_x\":{\"color\":\"#2a3f5f\"},\"error_y\":{\"color\":\"#2a3f5f\"},\"marker\":{\"line\":{\"color\":\"white\",\"width\":0.5},\"pattern\":{\"fillmode\":\"overlay\",\"size\":10,\"solidity\":0.2}},\"type\":\"bar\"}],\"scattergeo\":[{\"type\":\"scattergeo\",\"marker\":{\"colorbar\":{\"outlinewidth\":0,\"ticks\":\"\"}}}],\"scatterpolar\":[{\"type\":\"scatterpolar\",\"marker\":{\"colorbar\":{\"outlinewidth\":0,\"ticks\":\"\"}}}],\"histogram\":[{\"marker\":{\"pattern\":{\"fillmode\":\"overlay\",\"size\":10,\"solidity\":0.2}},\"type\":\"histogram\"}],\"scattergl\":[{\"type\":\"scattergl\",\"marker\":{\"colorbar\":{\"outlinewidth\":0,\"ticks\":\"\"}}}],\"scatter3d\":[{\"type\":\"scatter3d\",\"line\":{\"colorbar\":{\"outlinewidth\":0,\"ticks\":\"\"}},\"marker\":{\"colorbar\":{\"outlinewidth\":0,\"ticks\":\"\"}}}],\"scattermapbox\":[{\"type\":\"scattermapbox\",\"marker\":{\"colorbar\":{\"outlinewidth\":0,\"ticks\":\"\"}}}],\"scatterternary\":[{\"type\":\"scatterternary\",\"marker\":{\"colorbar\":{\"outlinewidth\":0,\"ticks\":\"\"}}}],\"scattercarpet\":[{\"type\":\"scattercarpet\",\"marker\":{\"colorbar\":{\"outlinewidth\":0,\"ticks\":\"\"}}}],\"carpet\":[{\"aaxis\":{\"endlinecolor\":\"#2a3f5f\",\"gridcolor\":\"#C8D4E3\",\"linecolor\":\"#C8D4E3\",\"minorgridcolor\":\"#C8D4E3\",\"startlinecolor\":\"#2a3f5f\"},\"baxis\":{\"endlinecolor\":\"#2a3f5f\",\"gridcolor\":\"#C8D4E3\",\"linecolor\":\"#C8D4E3\",\"minorgridcolor\":\"#C8D4E3\",\"startlinecolor\":\"#2a3f5f\"},\"type\":\"carpet\"}],\"table\":[{\"cells\":{\"fill\":{\"color\":\"#EBF0F8\"},\"line\":{\"color\":\"white\"}},\"header\":{\"fill\":{\"color\":\"#C8D4E3\"},\"line\":{\"color\":\"white\"}},\"type\":\"table\"}],\"barpolar\":[{\"marker\":{\"line\":{\"color\":\"white\",\"width\":0.5},\"pattern\":{\"fillmode\":\"overlay\",\"size\":10,\"solidity\":0.2}},\"type\":\"barpolar\"}],\"pie\":[{\"automargin\":true,\"type\":\"pie\"}]},\"layout\":{\"autotypenumbers\":\"strict\",\"colorway\":[\"#636efa\",\"#EF553B\",\"#00cc96\",\"#ab63fa\",\"#FFA15A\",\"#19d3f3\",\"#FF6692\",\"#B6E880\",\"#FF97FF\",\"#FECB52\"],\"font\":{\"color\":\"#2a3f5f\"},\"hovermode\":\"closest\",\"hoverlabel\":{\"align\":\"left\"},\"paper_bgcolor\":\"white\",\"plot_bgcolor\":\"white\",\"polar\":{\"bgcolor\":\"white\",\"angularaxis\":{\"gridcolor\":\"#EBF0F8\",\"linecolor\":\"#EBF0F8\",\"ticks\":\"\"},\"radialaxis\":{\"gridcolor\":\"#EBF0F8\",\"linecolor\":\"#EBF0F8\",\"ticks\":\"\"}},\"ternary\":{\"bgcolor\":\"white\",\"aaxis\":{\"gridcolor\":\"#DFE8F3\",\"linecolor\":\"#A2B1C6\",\"ticks\":\"\"},\"baxis\":{\"gridcolor\":\"#DFE8F3\",\"linecolor\":\"#A2B1C6\",\"ticks\":\"\"},\"caxis\":{\"gridcolor\":\"#DFE8F3\",\"linecolor\":\"#A2B1C6\",\"ticks\":\"\"}},\"coloraxis\":{\"colorbar\":{\"outlinewidth\":0,\"ticks\":\"\"}},\"colorscale\":{\"sequential\":[[0.0,\"#0d0887\"],[0.1111111111111111,\"#46039f\"],[0.2222222222222222,\"#7201a8\"],[0.3333333333333333,\"#9c179e\"],[0.4444444444444444,\"#bd3786\"],[0.5555555555555556,\"#d8576b\"],[0.6666666666666666,\"#ed7953\"],[0.7777777777777778,\"#fb9f3a\"],[0.8888888888888888,\"#fdca26\"],[1.0,\"#f0f921\"]],\"sequentialminus\":[[0.0,\"#0d0887\"],[0.1111111111111111,\"#46039f\"],[0.2222222222222222,\"#7201a8\"],[0.3333333333333333,\"#9c179e\"],[0.4444444444444444,\"#bd3786\"],[0.5555555555555556,\"#d8576b\"],[0.6666666666666666,\"#ed7953\"],[0.7777777777777778,\"#fb9f3a\"],[0.8888888888888888,\"#fdca26\"],[1.0,\"#f0f921\"]],\"diverging\":[[0,\"#8e0152\"],[0.1,\"#c51b7d\"],[0.2,\"#de77ae\"],[0.3,\"#f1b6da\"],[0.4,\"#fde0ef\"],[0.5,\"#f7f7f7\"],[0.6,\"#e6f5d0\"],[0.7,\"#b8e186\"],[0.8,\"#7fbc41\"],[0.9,\"#4d9221\"],[1,\"#276419\"]]},\"xaxis\":{\"gridcolor\":\"#EBF0F8\",\"linecolor\":\"#EBF0F8\",\"ticks\":\"\",\"title\":{\"standoff\":15},\"zerolinecolor\":\"#EBF0F8\",\"automargin\":true,\"zerolinewidth\":2},\"yaxis\":{\"gridcolor\":\"#EBF0F8\",\"linecolor\":\"#EBF0F8\",\"ticks\":\"\",\"title\":{\"standoff\":15},\"zerolinecolor\":\"#EBF0F8\",\"automargin\":true,\"zerolinewidth\":2},\"scene\":{\"xaxis\":{\"backgroundcolor\":\"white\",\"gridcolor\":\"#DFE8F3\",\"linecolor\":\"#EBF0F8\",\"showbackground\":true,\"ticks\":\"\",\"zerolinecolor\":\"#EBF0F8\",\"gridwidth\":2},\"yaxis\":{\"backgroundcolor\":\"white\",\"gridcolor\":\"#DFE8F3\",\"linecolor\":\"#EBF0F8\",\"showbackground\":true,\"ticks\":\"\",\"zerolinecolor\":\"#EBF0F8\",\"gridwidth\":2},\"zaxis\":{\"backgroundcolor\":\"white\",\"gridcolor\":\"#DFE8F3\",\"linecolor\":\"#EBF0F8\",\"showbackground\":true,\"ticks\":\"\",\"zerolinecolor\":\"#EBF0F8\",\"gridwidth\":2}},\"shapedefaults\":{\"line\":{\"color\":\"#2a3f5f\"}},\"annotationdefaults\":{\"arrowcolor\":\"#2a3f5f\",\"arrowhead\":0,\"arrowwidth\":1},\"geo\":{\"bgcolor\":\"white\",\"landcolor\":\"white\",\"subunitcolor\":\"#C8D4E3\",\"showland\":true,\"showlakes\":true,\"lakecolor\":\"white\"},\"title\":{\"x\":0.05},\"mapbox\":{\"style\":\"light\"}}},\"mapbox\":{\"domain\":{\"x\":[0.0,1.0],\"y\":[0.0,1.0]},\"center\":{\"lat\":40.752367045781384,\"lon\":-73.97151947021484},\"zoom\":11,\"style\":\"carto-positron\"},\"legend\":{\"title\":{\"text\":\"\\ud3c9\\uade0\\uc18d\\ub825\"},\"tracegroupgap\":0},\"margin\":{\"t\":60}},                        {\"responsive\": true}                    ).then(function(){\n",
       "                            \n",
       "var gd = document.getElementById('5db8b45a-3fb0-4e1f-b0c5-7c9a85cbb7d3');\n",
       "var x = new MutationObserver(function (mutations, observer) {{\n",
       "        var display = window.getComputedStyle(gd).display;\n",
       "        if (!display || display === 'none') {{\n",
       "            console.log([gd, 'removed!']);\n",
       "            Plotly.purge(gd);\n",
       "            observer.disconnect();\n",
       "        }}\n",
       "}});\n",
       "\n",
       "// Listen for the removal of the full notebook cells\n",
       "var notebookContainer = gd.closest('#notebook-container');\n",
       "if (notebookContainer) {{\n",
       "    x.observe(notebookContainer, {childList: true});\n",
       "}}\n",
       "\n",
       "// Listen for the clearing of the current output cell\n",
       "var outputEl = gd.closest('.output');\n",
       "if (outputEl) {{\n",
       "    x.observe(outputEl, {childList: true});\n",
       "}}\n",
       "\n",
       "                        })                };                });            </script>        </div>"
      ]
     },
     "metadata": {},
     "output_type": "display_data"
    }
   ],
   "source": []
  },
  {
   "cell_type": "code",
   "execution_count": 21,
   "id": "96b4d31a-93bf-4360-9137-6a232fd2d05e",
   "metadata": {},
   "outputs": [
    {
     "name": "stderr",
     "output_type": "stream",
     "text": [
      "/root/anaconda3/envs/dv2023/lib/python3.10/site-packages/plotly/express/_core.py:2044: FutureWarning:\n",
      "\n",
      "The default of observed=False is deprecated and will be changed to True in a future version of pandas. Pass observed=False to retain current behavior or observed=True to adopt the future default and silence this warning.\n",
      "\n",
      "/root/anaconda3/envs/dv2023/lib/python3.10/site-packages/plotly/express/_core.py:2044: FutureWarning:\n",
      "\n",
      "The default of observed=False is deprecated and will be changed to True in a future version of pandas. Pass observed=False to retain current behavior or observed=True to adopt the future default and silence this warning.\n",
      "\n"
     ]
    },
    {
     "data": {
      "application/vnd.plotly.v1+json": {
       "config": {
        "plotlyServerURL": "https://plot.ly"
       },
       "data": [
        {
         "hovertemplate": "평균속력=매우느림<br>id=id1891478<br>latitude=%{lat}<br>longitude=%{lon}<extra></extra>",
         "lat": [
          40.75983047485352,
          40.75983047485352
         ],
         "legendgroup": "매우느림",
         "line": {
          "color": "#636efa",
          "width": 1
         },
         "lon": [
          -73.97090148925781,
          -73.97090148925781
         ],
         "mode": "lines",
         "name": "매우느림 (pickup/dropoff)",
         "opacity": 0.8,
         "showlegend": true,
         "subplot": "mapbox",
         "type": "scattermapbox"
        },
        {
         "hovertemplate": "평균속력=매우느림<br>id=id1395947<br>latitude=%{lat}<br>longitude=%{lon}<extra></extra>",
         "lat": [
          40.78168487548828,
          40.781299591064446
         ],
         "legendgroup": "매우느림",
         "line": {
          "color": "#636efa",
          "width": 1
         },
         "lon": [
          -73.98113250732422,
          -73.981201171875
         ],
         "mode": "lines",
         "name": "매우느림 (pickup/dropoff)",
         "opacity": 0.8,
         "showlegend": false,
         "subplot": "mapbox",
         "type": "scattermapbox"
        },
        {
         "hovertemplate": "평균속력=매우느림<br>id=id0616736<br>latitude=%{lat}<br>longitude=%{lon}<extra></extra>",
         "lat": [
          40.763519287109375,
          40.761749267578125
         ],
         "legendgroup": "매우느림",
         "line": {
          "color": "#636efa",
          "width": 1
         },
         "lon": [
          -73.96932220458984,
          -73.97138977050781
         ],
         "mode": "lines",
         "name": "매우느림 (pickup/dropoff)",
         "opacity": 0.8,
         "showlegend": false,
         "subplot": "mapbox",
         "type": "scattermapbox"
        },
        {
         "hovertemplate": "평균속력=매우느림<br>id=id1509328<br>latitude=%{lat}<br>longitude=%{lon}<extra></extra>",
         "lat": [
          40.74432373046875,
          40.74211883544922
         ],
         "legendgroup": "매우느림",
         "line": {
          "color": "#636efa",
          "width": 1
         },
         "lon": [
          -73.98423767089844,
          -73.97466278076173
         ],
         "mode": "lines",
         "name": "매우느림 (pickup/dropoff)",
         "opacity": 0.8,
         "showlegend": false,
         "subplot": "mapbox",
         "type": "scattermapbox"
        },
        {
         "hovertemplate": "평균속력=매우느림<br>id=id3407848<br>latitude=%{lat}<br>longitude=%{lon}<extra></extra>",
         "lat": [
          40.70718383789063,
          40.70901870727539
         ],
         "legendgroup": "매우느림",
         "line": {
          "color": "#636efa",
          "width": 1
         },
         "lon": [
          -74.01651763916014,
          -74.0118637084961
         ],
         "mode": "lines",
         "name": "매우느림 (pickup/dropoff)",
         "opacity": 0.8,
         "showlegend": false,
         "subplot": "mapbox",
         "type": "scattermapbox"
        },
        {
         "hovertemplate": "평균속력=매우느림<br>id=id1485571<br>latitude=%{lat}<br>longitude=%{lon}<extra></extra>",
         "lat": [
          40.77154159545898,
          40.77495956420898
         ],
         "legendgroup": "매우느림",
         "line": {
          "color": "#636efa",
          "width": 1
         },
         "lon": [
          -73.9818115234375,
          -73.98088073730467
         ],
         "mode": "lines",
         "name": "매우느림 (pickup/dropoff)",
         "opacity": 0.8,
         "showlegend": false,
         "subplot": "mapbox",
         "type": "scattermapbox"
        },
        {
         "hovertemplate": "평균속력=매우느림<br>id=id0179765<br>latitude=%{lat}<br>longitude=%{lon}<extra></extra>",
         "lat": [
          40.72530364990234,
          40.71965026855469
         ],
         "legendgroup": "매우느림",
         "line": {
          "color": "#636efa",
          "width": 1
         },
         "lon": [
          -73.9925537109375,
          -73.9946060180664
         ],
         "mode": "lines",
         "name": "매우느림 (pickup/dropoff)",
         "opacity": 0.8,
         "showlegend": false,
         "subplot": "mapbox",
         "type": "scattermapbox"
        },
        {
         "hovertemplate": "평균속력=매우느림<br>id=id0500836<br>latitude=%{lat}<br>longitude=%{lon}<extra></extra>",
         "lat": [
          40.75623321533203,
          40.734371185302734
         ],
         "legendgroup": "매우느림",
         "line": {
          "color": "#636efa",
          "width": 1
         },
         "lon": [
          -73.99331665039062,
          -73.98973846435547
         ],
         "mode": "lines",
         "name": "매우느림 (pickup/dropoff)",
         "opacity": 0.8,
         "showlegend": false,
         "subplot": "mapbox",
         "type": "scattermapbox"
        },
        {
         "hovertemplate": "평균속력=매우느림<br>id=id1727712<br>latitude=%{lat}<br>longitude=%{lon}<extra></extra>",
         "lat": [
          40.739540100097656,
          40.735721588134766
         ],
         "legendgroup": "매우느림",
         "line": {
          "color": "#636efa",
          "width": 1
         },
         "lon": [
          -73.98706817626953,
          -73.98265838623048
         ],
         "mode": "lines",
         "name": "매우느림 (pickup/dropoff)",
         "opacity": 0.8,
         "showlegend": false,
         "subplot": "mapbox",
         "type": "scattermapbox"
        },
        {
         "hovertemplate": "평균속력=매우느림<br>id=id3810822<br>latitude=%{lat}<br>longitude=%{lon}<extra></extra>",
         "lat": [
          40.73308181762695,
          40.730018615722656
         ],
         "legendgroup": "매우느림",
         "line": {
          "color": "#636efa",
          "width": 1
         },
         "lon": [
          -74.00662231445312,
          -74.00050354003906
         ],
         "mode": "lines",
         "name": "매우느림 (pickup/dropoff)",
         "opacity": 0.8,
         "showlegend": false,
         "subplot": "mapbox",
         "type": "scattermapbox"
        },
        {
         "hovertemplate": "평균속력=매우느림<br>id=id3547943<br>latitude=%{lat}<br>longitude=%{lon}<extra></extra>",
         "lat": [
          40.776123046875,
          40.77534103393555
         ],
         "legendgroup": "매우느림",
         "line": {
          "color": "#636efa",
          "width": 1
         },
         "lon": [
          -73.96235656738281,
          -73.96501922607422
         ],
         "mode": "lines",
         "name": "매우느림 (pickup/dropoff)",
         "opacity": 0.8,
         "showlegend": false,
         "subplot": "mapbox",
         "type": "scattermapbox"
        },
        {
         "hovertemplate": "평균속력=매우느림<br>id=id2882780<br>latitude=%{lat}<br>longitude=%{lon}<extra></extra>",
         "lat": [
          40.746826171875,
          40.777099609375
         ],
         "legendgroup": "매우느림",
         "line": {
          "color": "#636efa",
          "width": 1
         },
         "lon": [
          -73.99005889892578,
          -73.97775268554686
         ],
         "mode": "lines",
         "name": "매우느림 (pickup/dropoff)",
         "opacity": 0.8,
         "showlegend": false,
         "subplot": "mapbox",
         "type": "scattermapbox"
        },
        {
         "hovertemplate": "평균속력=매우느림<br>id=id0092643<br>latitude=%{lat}<br>longitude=%{lon}<extra></extra>",
         "lat": [
          40.74184036254882,
          40.74722671508789
         ],
         "legendgroup": "매우느림",
         "line": {
          "color": "#636efa",
          "width": 1
         },
         "lon": [
          -74.0008773803711,
          -73.9910430908203
         ],
         "mode": "lines",
         "name": "매우느림 (pickup/dropoff)",
         "opacity": 0.8,
         "showlegend": false,
         "subplot": "mapbox",
         "type": "scattermapbox"
        },
        {
         "hovertemplate": "평균속력=매우느림<br>id=id0797253<br>latitude=%{lat}<br>longitude=%{lon}<extra></extra>",
         "lat": [
          40.7467155456543,
          40.75249862670898
         ],
         "legendgroup": "매우느림",
         "line": {
          "color": "#636efa",
          "width": 1
         },
         "lon": [
          -73.98993682861328,
          -73.97853851318358
         ],
         "mode": "lines",
         "name": "매우느림 (pickup/dropoff)",
         "opacity": 0.8,
         "showlegend": false,
         "subplot": "mapbox",
         "type": "scattermapbox"
        },
        {
         "hovertemplate": "평균속력=매우느림<br>id=id3758654<br>latitude=%{lat}<br>longitude=%{lon}<extra></extra>",
         "lat": [
          40.72259521484375,
          40.72389602661133
         ],
         "legendgroup": "매우느림",
         "line": {
          "color": "#636efa",
          "width": 1
         },
         "lon": [
          -74.00528717041014,
          -74.00457000732422
         ],
         "mode": "lines",
         "name": "매우느림 (pickup/dropoff)",
         "opacity": 0.8,
         "showlegend": false,
         "subplot": "mapbox",
         "type": "scattermapbox"
        },
        {
         "hovertemplate": "평균속력=매우느림<br>id=id3572411<br>latitude=%{lat}<br>longitude=%{lon}<extra></extra>",
         "lat": [
          40.76140594482422,
          40.76454162597656
         ],
         "legendgroup": "매우느림",
         "line": {
          "color": "#636efa",
          "width": 1
         },
         "lon": [
          -73.97090911865233,
          -73.97366333007811
         ],
         "mode": "lines",
         "name": "매우느림 (pickup/dropoff)",
         "opacity": 0.8,
         "showlegend": false,
         "subplot": "mapbox",
         "type": "scattermapbox"
        },
        {
         "hovertemplate": "평균속력=매우느림<br>id=id1710393<br>latitude=%{lat}<br>longitude=%{lon}<extra></extra>",
         "lat": [
          40.744140625,
          40.74169921875
         ],
         "legendgroup": "매우느림",
         "line": {
          "color": "#636efa",
          "width": 1
         },
         "lon": [
          -73.97913360595702,
          -73.97492218017578
         ],
         "mode": "lines",
         "name": "매우느림 (pickup/dropoff)",
         "opacity": 0.8,
         "showlegend": false,
         "subplot": "mapbox",
         "type": "scattermapbox"
        },
        {
         "hovertemplate": "평균속력=매우느림<br>id=id2113737<br>latitude=%{lat}<br>longitude=%{lon}<extra></extra>",
         "lat": [
          40.78596115112305,
          40.77871322631836
         ],
         "legendgroup": "매우느림",
         "line": {
          "color": "#636efa",
          "width": 1
         },
         "lon": [
          -73.97699737548828,
          -73.9814453125
         ],
         "mode": "lines",
         "name": "매우느림 (pickup/dropoff)",
         "opacity": 0.8,
         "showlegend": false,
         "subplot": "mapbox",
         "type": "scattermapbox"
        },
        {
         "hovertemplate": "평균속력=매우느림<br>id=id0297795<br>latitude=%{lat}<br>longitude=%{lon}<extra></extra>",
         "lat": [
          40.794048309326165,
          40.79790878295898
         ],
         "legendgroup": "매우느림",
         "line": {
          "color": "#636efa",
          "width": 1
         },
         "lon": [
          -73.97196960449217,
          -73.97329711914062
         ],
         "mode": "lines",
         "name": "매우느림 (pickup/dropoff)",
         "opacity": 0.8,
         "showlegend": false,
         "subplot": "mapbox",
         "type": "scattermapbox"
        },
        {
         "hovertemplate": "평균속력=매우느림<br>id=id1062824<br>latitude=%{lat}<br>longitude=%{lon}<extra></extra>",
         "lat": [
          40.76639175415039,
          40.75261306762695
         ],
         "legendgroup": "매우느림",
         "line": {
          "color": "#636efa",
          "width": 1
         },
         "lon": [
          -73.96286010742188,
          -73.98545074462889
         ],
         "mode": "lines",
         "name": "매우느림 (pickup/dropoff)",
         "opacity": 0.8,
         "showlegend": false,
         "subplot": "mapbox",
         "type": "scattermapbox"
        },
        {
         "hovertemplate": "평균속력=매우느림<br>id=id1625242<br>latitude=%{lat}<br>longitude=%{lon}<extra></extra>",
         "lat": [
          40.73777770996094,
          40.74677658081056
         ],
         "legendgroup": "매우느림",
         "line": {
          "color": "#636efa",
          "width": 1
         },
         "lon": [
          -73.99762725830078,
          -74.00828552246092
         ],
         "mode": "lines",
         "name": "매우느림 (pickup/dropoff)",
         "opacity": 0.8,
         "showlegend": false,
         "subplot": "mapbox",
         "type": "scattermapbox"
        },
        {
         "hovertemplate": "평균속력=매우느림<br>id=id3281834<br>latitude=%{lat}<br>longitude=%{lon}<extra></extra>",
         "lat": [
          40.7393684387207,
          40.74413299560546
         ],
         "legendgroup": "매우느림",
         "line": {
          "color": "#636efa",
          "width": 1
         },
         "lon": [
          -74.00737762451173,
          -74.00689697265625
         ],
         "mode": "lines",
         "name": "매우느림 (pickup/dropoff)",
         "opacity": 0.8,
         "showlegend": false,
         "subplot": "mapbox",
         "type": "scattermapbox"
        },
        {
         "hovertemplate": "평균속력=매우느림<br>id=id2916371<br>latitude=%{lat}<br>longitude=%{lon}<extra></extra>",
         "lat": [
          40.7324447631836,
          40.7302360534668
         ],
         "legendgroup": "매우느림",
         "line": {
          "color": "#636efa",
          "width": 1
         },
         "lon": [
          -74.00647735595702,
          -73.99922180175781
         ],
         "mode": "lines",
         "name": "매우느림 (pickup/dropoff)",
         "opacity": 0.8,
         "showlegend": false,
         "subplot": "mapbox",
         "type": "scattermapbox"
        },
        {
         "hovertemplate": "평균속력=매우느림<br>id=id0120497<br>latitude=%{lat}<br>longitude=%{lon}<extra></extra>",
         "lat": [
          40.74240493774414,
          40.72117233276367
         ],
         "legendgroup": "매우느림",
         "line": {
          "color": "#636efa",
          "width": 1
         },
         "lon": [
          -74.00107574462889,
          -73.98760986328125
         ],
         "mode": "lines",
         "name": "매우느림 (pickup/dropoff)",
         "opacity": 0.8,
         "showlegend": false,
         "subplot": "mapbox",
         "type": "scattermapbox"
        },
        {
         "hovertemplate": "평균속력=매우느림<br>id=id2054788<br>latitude=%{lat}<br>longitude=%{lon}<extra></extra>",
         "lat": [
          40.76290130615234,
          40.74275970458984
         ],
         "legendgroup": "매우느림",
         "line": {
          "color": "#636efa",
          "width": 1
         },
         "lon": [
          -73.98320770263672,
          -73.97737884521484
         ],
         "mode": "lines",
         "name": "매우느림 (pickup/dropoff)",
         "opacity": 0.8,
         "showlegend": false,
         "subplot": "mapbox",
         "type": "scattermapbox"
        },
        {
         "hovertemplate": "평균속력=매우느림<br>id=id3888107<br>latitude=%{lat}<br>longitude=%{lon}<extra></extra>",
         "lat": [
          40.757469177246094,
          40.771968841552734
         ],
         "legendgroup": "매우느림",
         "line": {
          "color": "#636efa",
          "width": 1
         },
         "lon": [
          -73.96942901611328,
          -73.9827423095703
         ],
         "mode": "lines",
         "name": "매우느림 (pickup/dropoff)",
         "opacity": 0.8,
         "showlegend": false,
         "subplot": "mapbox",
         "type": "scattermapbox"
        },
        {
         "hovertemplate": "평균속력=매우느림<br>id=id3094934<br>latitude=%{lat}<br>longitude=%{lon}<extra></extra>",
         "lat": [
          40.72243118286133,
          40.76266860961913
         ],
         "legendgroup": "매우느림",
         "line": {
          "color": "#636efa",
          "width": 1
         },
         "lon": [
          -73.98615264892578,
          -73.98597717285155
         ],
         "mode": "lines",
         "name": "매우느림 (pickup/dropoff)",
         "opacity": 0.8,
         "showlegend": false,
         "subplot": "mapbox",
         "type": "scattermapbox"
        },
        {
         "hovertemplate": "평균속력=매우느림<br>id=id0833022<br>latitude=%{lat}<br>longitude=%{lon}<extra></extra>",
         "lat": [
          40.79840850830078,
          40.79058837890625
         ],
         "legendgroup": "매우느림",
         "line": {
          "color": "#636efa",
          "width": 1
         },
         "lon": [
          -73.95243072509764,
          -73.949951171875
         ],
         "mode": "lines",
         "name": "매우느림 (pickup/dropoff)",
         "opacity": 0.8,
         "showlegend": false,
         "subplot": "mapbox",
         "type": "scattermapbox"
        },
        {
         "hovertemplate": "평균속력=매우느림<br>id=id3579875<br>latitude=%{lat}<br>longitude=%{lon}<extra></extra>",
         "lat": [
          40.76341247558594,
          40.71963119506836
         ],
         "legendgroup": "매우느림",
         "line": {
          "color": "#636efa",
          "width": 1
         },
         "lon": [
          -73.98194122314453,
          -73.99542999267578
         ],
         "mode": "lines",
         "name": "매우느림 (pickup/dropoff)",
         "opacity": 0.8,
         "showlegend": false,
         "subplot": "mapbox",
         "type": "scattermapbox"
        },
        {
         "hovertemplate": "평균속력=매우느림<br>id=id3508248<br>latitude=%{lat}<br>longitude=%{lon}<extra></extra>",
         "lat": [
          40.74380493164063,
          40.75000762939453
         ],
         "legendgroup": "매우느림",
         "line": {
          "color": "#636efa",
          "width": 1
         },
         "lon": [
          -73.98795318603516,
          -73.99179077148438
         ],
         "mode": "lines",
         "name": "매우느림 (pickup/dropoff)",
         "opacity": 0.8,
         "showlegend": false,
         "subplot": "mapbox",
         "type": "scattermapbox"
        },
        {
         "hovertemplate": "평균속력=매우느림<br>id=id1927858<br>latitude=%{lat}<br>longitude=%{lon}<extra></extra>",
         "lat": [
          40.74729537963867,
          40.761695861816406
         ],
         "legendgroup": "매우느림",
         "line": {
          "color": "#636efa",
          "width": 1
         },
         "lon": [
          -73.98175048828125,
          -74.00177764892578
         ],
         "mode": "lines",
         "name": "매우느림 (pickup/dropoff)",
         "opacity": 0.8,
         "showlegend": false,
         "subplot": "mapbox",
         "type": "scattermapbox"
        },
        {
         "hovertemplate": "평균속력=매우느림<br>id=id0833453<br>latitude=%{lat}<br>longitude=%{lon}<extra></extra>",
         "lat": [
          40.72234725952149,
          40.74566268920898
         ],
         "legendgroup": "매우느림",
         "line": {
          "color": "#636efa",
          "width": 1
         },
         "lon": [
          -73.99722290039062,
          -73.98463439941406
         ],
         "mode": "lines",
         "name": "매우느림 (pickup/dropoff)",
         "opacity": 0.8,
         "showlegend": false,
         "subplot": "mapbox",
         "type": "scattermapbox"
        },
        {
         "hovertemplate": "평균속력=매우느림<br>id=id0503659<br>latitude=%{lat}<br>longitude=%{lon}<extra></extra>",
         "lat": [
          40.78450012207031,
          40.804832458496094
         ],
         "legendgroup": "매우느림",
         "line": {
          "color": "#636efa",
          "width": 1
         },
         "lon": [
          -73.95220947265625,
          -73.96610260009764
         ],
         "mode": "lines",
         "name": "매우느림 (pickup/dropoff)",
         "opacity": 0.8,
         "showlegend": false,
         "subplot": "mapbox",
         "type": "scattermapbox"
        },
        {
         "hovertemplate": "평균속력=매우느림<br>id=id0261033<br>latitude=%{lat}<br>longitude=%{lon}<extra></extra>",
         "lat": [
          40.773868560791016,
          40.75505065917969
         ],
         "legendgroup": "매우느림",
         "line": {
          "color": "#636efa",
          "width": 1
         },
         "lon": [
          -73.98236846923827,
          -73.97960662841797
         ],
         "mode": "lines",
         "name": "매우느림 (pickup/dropoff)",
         "opacity": 0.8,
         "showlegend": false,
         "subplot": "mapbox",
         "type": "scattermapbox"
        },
        {
         "hovertemplate": "평균속력=매우느림<br>id=id2002463<br>latitude=%{lat}<br>longitude=%{lon}<extra></extra>",
         "lat": [
          40.7683982849121,
          40.7793083190918
         ],
         "legendgroup": "매우느림",
         "line": {
          "color": "#636efa",
          "width": 1
         },
         "lon": [
          -73.9656524658203,
          -73.96006774902342
         ],
         "mode": "lines",
         "name": "매우느림 (pickup/dropoff)",
         "opacity": 0.8,
         "showlegend": false,
         "subplot": "mapbox",
         "type": "scattermapbox"
        },
        {
         "hovertemplate": "평균속력=매우느림<br>id=id0660195<br>latitude=%{lat}<br>longitude=%{lon}<extra></extra>",
         "lat": [
          40.77922821044922,
          40.746257781982415
         ],
         "legendgroup": "매우느림",
         "line": {
          "color": "#636efa",
          "width": 1
         },
         "lon": [
          -73.95587921142578,
          -73.98580169677734
         ],
         "mode": "lines",
         "name": "매우느림 (pickup/dropoff)",
         "opacity": 0.8,
         "showlegend": false,
         "subplot": "mapbox",
         "type": "scattermapbox"
        },
        {
         "hovertemplate": "평균속력=매우느림<br>id=id1986470<br>latitude=%{lat}<br>longitude=%{lon}<extra></extra>",
         "lat": [
          40.75796890258789,
          40.743770599365234
         ],
         "legendgroup": "매우느림",
         "line": {
          "color": "#636efa",
          "width": 1
         },
         "lon": [
          -73.98609161376953,
          -73.98335266113281
         ],
         "mode": "lines",
         "name": "매우느림 (pickup/dropoff)",
         "opacity": 0.8,
         "showlegend": false,
         "subplot": "mapbox",
         "type": "scattermapbox"
        },
        {
         "hovertemplate": "평균속력=조금느림<br>id=id0767292<br>latitude=%{lat}<br>longitude=%{lon}<extra></extra>",
         "lat": [
          40.74156188964844,
          40.75085067749024
         ],
         "legendgroup": "조금느림",
         "line": {
          "color": "#EF553B",
          "width": 1
         },
         "lon": [
          -73.993896484375,
          -73.97830963134764
         ],
         "mode": "lines",
         "name": "조금느림 (pickup/dropoff)",
         "opacity": 0.8,
         "showlegend": true,
         "subplot": "mapbox",
         "type": "scattermapbox"
        },
        {
         "hovertemplate": "평균속력=조금느림<br>id=id0303696<br>latitude=%{lat}<br>longitude=%{lon}<extra></extra>",
         "lat": [
          40.76424789428711,
          40.763145446777344
         ],
         "legendgroup": "조금느림",
         "line": {
          "color": "#EF553B",
          "width": 1
         },
         "lon": [
          -73.95646667480467,
          -73.96985626220702
         ],
         "mode": "lines",
         "name": "조금느림 (pickup/dropoff)",
         "opacity": 0.8,
         "showlegend": false,
         "subplot": "mapbox",
         "type": "scattermapbox"
        },
        {
         "hovertemplate": "평균속력=조금느림<br>id=id1423063<br>latitude=%{lat}<br>longitude=%{lon}<extra></extra>",
         "lat": [
          40.777053833007805,
          40.76767349243164
         ],
         "legendgroup": "조금느림",
         "line": {
          "color": "#EF553B",
          "width": 1
         },
         "lon": [
          -73.98257446289062,
          -73.98075866699219
         ],
         "mode": "lines",
         "name": "조금느림 (pickup/dropoff)",
         "opacity": 0.8,
         "showlegend": false,
         "subplot": "mapbox",
         "type": "scattermapbox"
        },
        {
         "hovertemplate": "평균속력=조금느림<br>id=id2203238<br>latitude=%{lat}<br>longitude=%{lon}<extra></extra>",
         "lat": [
          40.730010986328125,
          40.73989868164063
         ],
         "legendgroup": "조금느림",
         "line": {
          "color": "#EF553B",
          "width": 1
         },
         "lon": [
          -73.9792709350586,
          -73.98174285888672
         ],
         "mode": "lines",
         "name": "조금느림 (pickup/dropoff)",
         "opacity": 0.8,
         "showlegend": false,
         "subplot": "mapbox",
         "type": "scattermapbox"
        },
        {
         "hovertemplate": "평균속력=조금느림<br>id=id3083921<br>latitude=%{lat}<br>longitude=%{lon}<extra></extra>",
         "lat": [
          40.763973236083984,
          40.76081848144531
         ],
         "legendgroup": "조금느림",
         "line": {
          "color": "#EF553B",
          "width": 1
         },
         "lon": [
          -73.99028778076173,
          -73.97960662841797
         ],
         "mode": "lines",
         "name": "조금느림 (pickup/dropoff)",
         "opacity": 0.8,
         "showlegend": false,
         "subplot": "mapbox",
         "type": "scattermapbox"
        },
        {
         "hovertemplate": "평균속력=조금느림<br>id=id0597402<br>latitude=%{lat}<br>longitude=%{lon}<extra></extra>",
         "lat": [
          40.760250091552734,
          40.79518127441406
         ],
         "legendgroup": "조금느림",
         "line": {
          "color": "#EF553B",
          "width": 1
         },
         "lon": [
          -73.96861267089844,
          -73.96575927734375
         ],
         "mode": "lines",
         "name": "조금느림 (pickup/dropoff)",
         "opacity": 0.8,
         "showlegend": false,
         "subplot": "mapbox",
         "type": "scattermapbox"
        },
        {
         "hovertemplate": "평균속력=조금느림<br>id=id1944291<br>latitude=%{lat}<br>longitude=%{lon}<extra></extra>",
         "lat": [
          40.74981689453125,
          40.756885528564446
         ],
         "legendgroup": "조금느림",
         "line": {
          "color": "#EF553B",
          "width": 1
         },
         "lon": [
          -73.99140167236328,
          -73.9898910522461
         ],
         "mode": "lines",
         "name": "조금느림 (pickup/dropoff)",
         "opacity": 0.8,
         "showlegend": false,
         "subplot": "mapbox",
         "type": "scattermapbox"
        },
        {
         "hovertemplate": "평균속력=조금느림<br>id=id2587483<br>latitude=%{lat}<br>longitude=%{lon}<extra></extra>",
         "lat": [
          40.78707885742188,
          40.79246139526367
         ],
         "legendgroup": "조금느림",
         "line": {
          "color": "#EF553B",
          "width": 1
         },
         "lon": [
          -73.95390319824217,
          -73.94084167480467
         ],
         "mode": "lines",
         "name": "조금느림 (pickup/dropoff)",
         "opacity": 0.8,
         "showlegend": false,
         "subplot": "mapbox",
         "type": "scattermapbox"
        },
        {
         "hovertemplate": "평균속력=조금느림<br>id=id3485263<br>latitude=%{lat}<br>longitude=%{lon}<extra></extra>",
         "lat": [
          40.7226448059082,
          40.73473739624024
         ],
         "legendgroup": "조금느림",
         "line": {
          "color": "#EF553B",
          "width": 1
         },
         "lon": [
          -73.98736572265625,
          -74.0038833618164
         ],
         "mode": "lines",
         "name": "조금느림 (pickup/dropoff)",
         "opacity": 0.8,
         "showlegend": false,
         "subplot": "mapbox",
         "type": "scattermapbox"
        },
        {
         "hovertemplate": "평균속력=조금느림<br>id=id2210145<br>latitude=%{lat}<br>longitude=%{lon}<extra></extra>",
         "lat": [
          40.75053024291992,
          40.75751876831056
         ],
         "legendgroup": "조금느림",
         "line": {
          "color": "#EF553B",
          "width": 1
         },
         "lon": [
          -73.98738098144531,
          -73.98204803466798
         ],
         "mode": "lines",
         "name": "조금느림 (pickup/dropoff)",
         "opacity": 0.8,
         "showlegend": false,
         "subplot": "mapbox",
         "type": "scattermapbox"
        },
        {
         "hovertemplate": "평균속력=조금느림<br>id=id3796079<br>latitude=%{lat}<br>longitude=%{lon}<extra></extra>",
         "lat": [
          40.74673461914063,
          40.7509651184082
         ],
         "legendgroup": "조금느림",
         "line": {
          "color": "#EF553B",
          "width": 1
         },
         "lon": [
          -73.97140502929686,
          -73.97477722167967
         ],
         "mode": "lines",
         "name": "조금느림 (pickup/dropoff)",
         "opacity": 0.8,
         "showlegend": false,
         "subplot": "mapbox",
         "type": "scattermapbox"
        },
        {
         "hovertemplate": "평균속력=조금느림<br>id=id2533481<br>latitude=%{lat}<br>longitude=%{lon}<extra></extra>",
         "lat": [
          40.73553085327149,
          40.76554107666016
         ],
         "legendgroup": "조금느림",
         "line": {
          "color": "#EF553B",
          "width": 1
         },
         "lon": [
          -73.98988342285155,
          -73.97640228271484
         ],
         "mode": "lines",
         "name": "조금느림 (pickup/dropoff)",
         "opacity": 0.8,
         "showlegend": false,
         "subplot": "mapbox",
         "type": "scattermapbox"
        },
        {
         "hovertemplate": "평균속력=조금느림<br>id=id2237068<br>latitude=%{lat}<br>longitude=%{lon}<extra></extra>",
         "lat": [
          40.744510650634766,
          40.7564582824707
         ],
         "legendgroup": "조금느림",
         "line": {
          "color": "#EF553B",
          "width": 1
         },
         "lon": [
          -73.98111724853516,
          -74.00170135498048
         ],
         "mode": "lines",
         "name": "조금느림 (pickup/dropoff)",
         "opacity": 0.8,
         "showlegend": false,
         "subplot": "mapbox",
         "type": "scattermapbox"
        },
        {
         "hovertemplate": "평균속력=조금느림<br>id=id1635353<br>latitude=%{lat}<br>longitude=%{lon}<extra></extra>",
         "lat": [
          40.75918960571289,
          40.7098503112793
         ],
         "legendgroup": "조금느림",
         "line": {
          "color": "#EF553B",
          "width": 1
         },
         "lon": [
          -73.98509216308595,
          -73.96215057373048
         ],
         "mode": "lines",
         "name": "조금느림 (pickup/dropoff)",
         "opacity": 0.8,
         "showlegend": false,
         "subplot": "mapbox",
         "type": "scattermapbox"
        },
        {
         "hovertemplate": "평균속력=조금느림<br>id=id1365460<br>latitude=%{lat}<br>longitude=%{lon}<extra></extra>",
         "lat": [
          40.76905059814453,
          40.7630615234375
         ],
         "legendgroup": "조금느림",
         "line": {
          "color": "#EF553B",
          "width": 1
         },
         "lon": [
          -73.98491668701173,
          -73.97570037841797
         ],
         "mode": "lines",
         "name": "조금느림 (pickup/dropoff)",
         "opacity": 0.8,
         "showlegend": false,
         "subplot": "mapbox",
         "type": "scattermapbox"
        },
        {
         "hovertemplate": "평균속력=조금느림<br>id=id3611226<br>latitude=%{lat}<br>longitude=%{lon}<extra></extra>",
         "lat": [
          40.76215744018555,
          40.74748611450195
         ],
         "legendgroup": "조금느림",
         "line": {
          "color": "#EF553B",
          "width": 1
         },
         "lon": [
          -73.98597717285155,
          -73.97697448730467
         ],
         "mode": "lines",
         "name": "조금느림 (pickup/dropoff)",
         "opacity": 0.8,
         "showlegend": false,
         "subplot": "mapbox",
         "type": "scattermapbox"
        },
        {
         "hovertemplate": "평균속력=조금느림<br>id=id1018348<br>latitude=%{lat}<br>longitude=%{lon}<extra></extra>",
         "lat": [
          40.74530792236328,
          40.74227523803711
         ],
         "legendgroup": "조금느림",
         "line": {
          "color": "#EF553B",
          "width": 1
         },
         "lon": [
          -74.00784301757811,
          -73.98967742919923
         ],
         "mode": "lines",
         "name": "조금느림 (pickup/dropoff)",
         "opacity": 0.8,
         "showlegend": false,
         "subplot": "mapbox",
         "type": "scattermapbox"
        },
        {
         "hovertemplate": "평균속력=조금느림<br>id=id1160561<br>latitude=%{lat}<br>longitude=%{lon}<extra></extra>",
         "lat": [
          40.71868896484375,
          40.7457275390625
         ],
         "legendgroup": "조금느림",
         "line": {
          "color": "#EF553B",
          "width": 1
         },
         "lon": [
          -74.0053482055664,
          -73.9908905029297
         ],
         "mode": "lines",
         "name": "조금느림 (pickup/dropoff)",
         "opacity": 0.8,
         "showlegend": false,
         "subplot": "mapbox",
         "type": "scattermapbox"
        },
        {
         "hovertemplate": "평균속력=조금느림<br>id=id2939661<br>latitude=%{lat}<br>longitude=%{lon}<extra></extra>",
         "lat": [
          40.77298355102539,
          40.75412368774414
         ],
         "legendgroup": "조금느림",
         "line": {
          "color": "#EF553B",
          "width": 1
         },
         "lon": [
          -73.9782943725586,
          -73.97389221191406
         ],
         "mode": "lines",
         "name": "조금느림 (pickup/dropoff)",
         "opacity": 0.8,
         "showlegend": false,
         "subplot": "mapbox",
         "type": "scattermapbox"
        },
        {
         "hovertemplate": "평균속력=조금느림<br>id=id3120328<br>latitude=%{lat}<br>longitude=%{lon}<extra></extra>",
         "lat": [
          40.7714958190918,
          40.75320816040039
         ],
         "legendgroup": "조금느림",
         "line": {
          "color": "#EF553B",
          "width": 1
         },
         "lon": [
          -73.95969390869139,
          -73.98626708984375
         ],
         "mode": "lines",
         "name": "조금느림 (pickup/dropoff)",
         "opacity": 0.8,
         "showlegend": false,
         "subplot": "mapbox",
         "type": "scattermapbox"
        },
        {
         "hovertemplate": "평균속력=조금느림<br>id=id1139183<br>latitude=%{lat}<br>longitude=%{lon}<extra></extra>",
         "lat": [
          40.76704025268555,
          40.76899337768555
         ],
         "legendgroup": "조금느림",
         "line": {
          "color": "#EF553B",
          "width": 1
         },
         "lon": [
          -73.95381164550781,
          -73.96334075927734
         ],
         "mode": "lines",
         "name": "조금느림 (pickup/dropoff)",
         "opacity": 0.8,
         "showlegend": false,
         "subplot": "mapbox",
         "type": "scattermapbox"
        },
        {
         "hovertemplate": "평균속력=조금느림<br>id=id1188146<br>latitude=%{lat}<br>longitude=%{lon}<extra></extra>",
         "lat": [
          40.74298095703125,
          40.71076965332031
         ],
         "legendgroup": "조금느림",
         "line": {
          "color": "#EF553B",
          "width": 1
         },
         "lon": [
          -73.98845672607422,
          -74.01339721679686
         ],
         "mode": "lines",
         "name": "조금느림 (pickup/dropoff)",
         "opacity": 0.8,
         "showlegend": false,
         "subplot": "mapbox",
         "type": "scattermapbox"
        },
        {
         "hovertemplate": "평균속력=조금느림<br>id=id0092139<br>latitude=%{lat}<br>longitude=%{lon}<extra></extra>",
         "lat": [
          40.72407150268555,
          40.75766372680664
         ],
         "legendgroup": "조금느림",
         "line": {
          "color": "#EF553B",
          "width": 1
         },
         "lon": [
          -74.00241088867188,
          -73.98356628417967
         ],
         "mode": "lines",
         "name": "조금느림 (pickup/dropoff)",
         "opacity": 0.8,
         "showlegend": false,
         "subplot": "mapbox",
         "type": "scattermapbox"
        },
        {
         "hovertemplate": "평균속력=조금느림<br>id=id3264393<br>latitude=%{lat}<br>longitude=%{lon}<extra></extra>",
         "lat": [
          40.75624084472656,
          40.7665901184082
         ],
         "legendgroup": "조금느림",
         "line": {
          "color": "#EF553B",
          "width": 1
         },
         "lon": [
          -73.97042846679686,
          -73.98652648925781
         ],
         "mode": "lines",
         "name": "조금느림 (pickup/dropoff)",
         "opacity": 0.8,
         "showlegend": false,
         "subplot": "mapbox",
         "type": "scattermapbox"
        },
        {
         "hovertemplate": "평균속력=조금느림<br>id=id0951142<br>latitude=%{lat}<br>longitude=%{lon}<extra></extra>",
         "lat": [
          40.742500305175774,
          40.7463493347168
         ],
         "legendgroup": "조금느림",
         "line": {
          "color": "#EF553B",
          "width": 1
         },
         "lon": [
          -73.97420501708984,
          -73.97167205810547
         ],
         "mode": "lines",
         "name": "조금느림 (pickup/dropoff)",
         "opacity": 0.8,
         "showlegend": false,
         "subplot": "mapbox",
         "type": "scattermapbox"
        },
        {
         "hovertemplate": "평균속력=조금느림<br>id=id2046505<br>latitude=%{lat}<br>longitude=%{lon}<extra></extra>",
         "lat": [
          40.73820495605469,
          40.75112533569336
         ],
         "legendgroup": "조금느림",
         "line": {
          "color": "#EF553B",
          "width": 1
         },
         "lon": [
          -73.98540496826173,
          -73.97836303710938
         ],
         "mode": "lines",
         "name": "조금느림 (pickup/dropoff)",
         "opacity": 0.8,
         "showlegend": false,
         "subplot": "mapbox",
         "type": "scattermapbox"
        },
        {
         "hovertemplate": "평균속력=조금느림<br>id=id1495346<br>latitude=%{lat}<br>longitude=%{lon}<extra></extra>",
         "lat": [
          40.73915481567384,
          40.74427795410156
         ],
         "legendgroup": "조금느림",
         "line": {
          "color": "#EF553B",
          "width": 1
         },
         "lon": [
          -73.99610137939453,
          -73.98767852783203
         ],
         "mode": "lines",
         "name": "조금느림 (pickup/dropoff)",
         "opacity": 0.8,
         "showlegend": false,
         "subplot": "mapbox",
         "type": "scattermapbox"
        },
        {
         "hovertemplate": "평균속력=조금느림<br>id=id0623536<br>latitude=%{lat}<br>longitude=%{lon}<extra></extra>",
         "lat": [
          40.759124755859375,
          40.74463272094727
         ],
         "legendgroup": "조금느림",
         "line": {
          "color": "#EF553B",
          "width": 1
         },
         "lon": [
          -73.97645568847656,
          -73.97919464111328
         ],
         "mode": "lines",
         "name": "조금느림 (pickup/dropoff)",
         "opacity": 0.8,
         "showlegend": false,
         "subplot": "mapbox",
         "type": "scattermapbox"
        },
        {
         "hovertemplate": "평균속력=조금느림<br>id=id3578000<br>latitude=%{lat}<br>longitude=%{lon}<extra></extra>",
         "lat": [
          40.74143600463867,
          40.73919296264648
         ],
         "legendgroup": "조금느림",
         "line": {
          "color": "#EF553B",
          "width": 1
         },
         "lon": [
          -73.95230865478516,
          -73.98406982421875
         ],
         "mode": "lines",
         "name": "조금느림 (pickup/dropoff)",
         "opacity": 0.8,
         "showlegend": false,
         "subplot": "mapbox",
         "type": "scattermapbox"
        },
        {
         "hovertemplate": "평균속력=조금느림<br>id=id1194222<br>latitude=%{lat}<br>longitude=%{lon}<extra></extra>",
         "lat": [
          40.7253303527832,
          40.777881622314446
         ],
         "legendgroup": "조금느림",
         "line": {
          "color": "#EF553B",
          "width": 1
         },
         "lon": [
          -73.99237060546875,
          -73.98873138427734
         ],
         "mode": "lines",
         "name": "조금느림 (pickup/dropoff)",
         "opacity": 0.8,
         "showlegend": false,
         "subplot": "mapbox",
         "type": "scattermapbox"
        },
        {
         "hovertemplate": "평균속력=조금느림<br>id=id0049607<br>latitude=%{lat}<br>longitude=%{lon}<extra></extra>",
         "lat": [
          40.75419235229492,
          40.762859344482415
         ],
         "legendgroup": "조금느림",
         "line": {
          "color": "#EF553B",
          "width": 1
         },
         "lon": [
          -73.97592163085938,
          -73.98892211914062
         ],
         "mode": "lines",
         "name": "조금느림 (pickup/dropoff)",
         "opacity": 0.8,
         "showlegend": false,
         "subplot": "mapbox",
         "type": "scattermapbox"
        },
        {
         "hovertemplate": "평균속력=조금느림<br>id=id0890358<br>latitude=%{lat}<br>longitude=%{lon}<extra></extra>",
         "lat": [
          40.76359939575195,
          40.7617416381836
         ],
         "legendgroup": "조금느림",
         "line": {
          "color": "#EF553B",
          "width": 1
         },
         "lon": [
          -73.98738861083984,
          -73.96864318847656
         ],
         "mode": "lines",
         "name": "조금느림 (pickup/dropoff)",
         "opacity": 0.8,
         "showlegend": false,
         "subplot": "mapbox",
         "type": "scattermapbox"
        },
        {
         "hovertemplate": "평균속력=조금느림<br>id=id3825370<br>latitude=%{lat}<br>longitude=%{lon}<extra></extra>",
         "lat": [
          40.74908065795898,
          40.6697654724121
         ],
         "legendgroup": "조금느림",
         "line": {
          "color": "#EF553B",
          "width": 1
         },
         "lon": [
          -74.00839233398438,
          -73.97919464111328
         ],
         "mode": "lines",
         "name": "조금느림 (pickup/dropoff)",
         "opacity": 0.8,
         "showlegend": false,
         "subplot": "mapbox",
         "type": "scattermapbox"
        },
        {
         "hovertemplate": "평균속력=조금느림<br>id=id1604579<br>latitude=%{lat}<br>longitude=%{lon}<extra></extra>",
         "lat": [
          40.76555252075195,
          40.79889678955078
         ],
         "legendgroup": "조금느림",
         "line": {
          "color": "#EF553B",
          "width": 1
         },
         "lon": [
          -73.96790313720702,
          -73.96857452392578
         ],
         "mode": "lines",
         "name": "조금느림 (pickup/dropoff)",
         "opacity": 0.8,
         "showlegend": false,
         "subplot": "mapbox",
         "type": "scattermapbox"
        },
        {
         "hovertemplate": "평균속력=조금느림<br>id=id0051866<br>latitude=%{lat}<br>longitude=%{lon}<extra></extra>",
         "lat": [
          40.7724494934082,
          40.755836486816406
         ],
         "legendgroup": "조금느림",
         "line": {
          "color": "#EF553B",
          "width": 1
         },
         "lon": [
          -73.96265411376953,
          -73.9784927368164
         ],
         "mode": "lines",
         "name": "조금느림 (pickup/dropoff)",
         "opacity": 0.8,
         "showlegend": false,
         "subplot": "mapbox",
         "type": "scattermapbox"
        },
        {
         "hovertemplate": "평균속력=조금느림<br>id=id0622637<br>latitude=%{lat}<br>longitude=%{lon}<extra></extra>",
         "lat": [
          40.75054931640625,
          40.759868621826165
         ],
         "legendgroup": "조금느림",
         "line": {
          "color": "#EF553B",
          "width": 1
         },
         "lon": [
          -73.97480010986328,
          -73.96180725097656
         ],
         "mode": "lines",
         "name": "조금느림 (pickup/dropoff)",
         "opacity": 0.8,
         "showlegend": false,
         "subplot": "mapbox",
         "type": "scattermapbox"
        },
        {
         "hovertemplate": "평균속력=조금빠름<br>id=id1214191<br>latitude=%{lat}<br>longitude=%{lon}<extra></extra>",
         "lat": [
          40.74464797973633,
          40.72493362426758
         ],
         "legendgroup": "조금빠름",
         "line": {
          "color": "#00cc96",
          "width": 1
         },
         "lon": [
          -73.99140930175781,
          -73.9950942993164
         ],
         "mode": "lines",
         "name": "조금빠름 (pickup/dropoff)",
         "opacity": 0.8,
         "showlegend": true,
         "subplot": "mapbox",
         "type": "scattermapbox"
        },
        {
         "hovertemplate": "평균속력=조금빠름<br>id=id0213647<br>latitude=%{lat}<br>longitude=%{lon}<extra></extra>",
         "lat": [
          40.75567626953125,
          40.72474670410156
         ],
         "legendgroup": "조금빠름",
         "line": {
          "color": "#00cc96",
          "width": 1
         },
         "lon": [
          -73.96500396728516,
          -74.00196075439453
         ],
         "mode": "lines",
         "name": "조금빠름 (pickup/dropoff)",
         "opacity": 0.8,
         "showlegend": false,
         "subplot": "mapbox",
         "type": "scattermapbox"
        },
        {
         "hovertemplate": "평균속력=조금빠름<br>id=id0584615<br>latitude=%{lat}<br>longitude=%{lon}<extra></extra>",
         "lat": [
          40.755126953125,
          40.74041366577149
         ],
         "legendgroup": "조금빠름",
         "line": {
          "color": "#00cc96",
          "width": 1
         },
         "lon": [
          -73.9874267578125,
          -73.98683166503906
         ],
         "mode": "lines",
         "name": "조금빠름 (pickup/dropoff)",
         "opacity": 0.8,
         "showlegend": false,
         "subplot": "mapbox",
         "type": "scattermapbox"
        },
        {
         "hovertemplate": "평균속력=조금빠름<br>id=id0147704<br>latitude=%{lat}<br>longitude=%{lon}<extra></extra>",
         "lat": [
          40.7249755859375,
          40.655078887939446
         ],
         "legendgroup": "조금빠름",
         "line": {
          "color": "#00cc96",
          "width": 1
         },
         "lon": [
          -73.9844207763672,
          -73.955322265625
         ],
         "mode": "lines",
         "name": "조금빠름 (pickup/dropoff)",
         "opacity": 0.8,
         "showlegend": false,
         "subplot": "mapbox",
         "type": "scattermapbox"
        },
        {
         "hovertemplate": "평균속력=조금빠름<br>id=id3098811<br>latitude=%{lat}<br>longitude=%{lon}<extra></extra>",
         "lat": [
          40.72565841674805,
          40.73714065551758
         ],
         "legendgroup": "조금빠름",
         "line": {
          "color": "#00cc96",
          "width": 1
         },
         "lon": [
          -73.99471282958984,
          -73.99044036865233
         ],
         "mode": "lines",
         "name": "조금빠름 (pickup/dropoff)",
         "opacity": 0.8,
         "showlegend": false,
         "subplot": "mapbox",
         "type": "scattermapbox"
        },
        {
         "hovertemplate": "평균속력=조금빠름<br>id=id0255216<br>latitude=%{lat}<br>longitude=%{lon}<extra></extra>",
         "lat": [
          40.75128173828125,
          40.76827239990234
         ],
         "legendgroup": "조금빠름",
         "line": {
          "color": "#00cc96",
          "width": 1
         },
         "lon": [
          -73.93987274169923,
          -73.95292663574217
         ],
         "mode": "lines",
         "name": "조금빠름 (pickup/dropoff)",
         "opacity": 0.8,
         "showlegend": false,
         "subplot": "mapbox",
         "type": "scattermapbox"
        },
        {
         "hovertemplate": "평균속력=조금빠름<br>id=id1394748<br>latitude=%{lat}<br>longitude=%{lon}<extra></extra>",
         "lat": [
          40.73410034179688,
          40.67301177978516
         ],
         "legendgroup": "조금빠름",
         "line": {
          "color": "#00cc96",
          "width": 1
         },
         "lon": [
          -73.9994888305664,
          -73.96280670166014
         ],
         "mode": "lines",
         "name": "조금빠름 (pickup/dropoff)",
         "opacity": 0.8,
         "showlegend": false,
         "subplot": "mapbox",
         "type": "scattermapbox"
        },
        {
         "hovertemplate": "평균속력=조금빠름<br>id=id2875421<br>latitude=%{lat}<br>longitude=%{lon}<extra></extra>",
         "lat": [
          40.76793670654297,
          40.765602111816406
         ],
         "legendgroup": "조금빠름",
         "line": {
          "color": "#00cc96",
          "width": 1
         },
         "lon": [
          -73.98215484619139,
          -73.96463012695312
         ],
         "mode": "lines",
         "name": "조금빠름 (pickup/dropoff)",
         "opacity": 0.8,
         "showlegend": false,
         "subplot": "mapbox",
         "type": "scattermapbox"
        },
        {
         "hovertemplate": "평균속력=조금빠름<br>id=id2619890<br>latitude=%{lat}<br>longitude=%{lon}<extra></extra>",
         "lat": [
          40.75857162475586,
          40.77785873413086
         ],
         "legendgroup": "조금빠름",
         "line": {
          "color": "#00cc96",
          "width": 1
         },
         "lon": [
          -73.96356964111328,
          -73.94394683837889
         ],
         "mode": "lines",
         "name": "조금빠름 (pickup/dropoff)",
         "opacity": 0.8,
         "showlegend": false,
         "subplot": "mapbox",
         "type": "scattermapbox"
        },
        {
         "hovertemplate": "평균속력=조금빠름<br>id=id2003085<br>latitude=%{lat}<br>longitude=%{lon}<extra></extra>",
         "lat": [
          40.75810241699219,
          40.790283203125
         ],
         "legendgroup": "조금빠름",
         "line": {
          "color": "#00cc96",
          "width": 1
         },
         "lon": [
          -73.96311950683594,
          -73.96560668945312
         ],
         "mode": "lines",
         "name": "조금빠름 (pickup/dropoff)",
         "opacity": 0.8,
         "showlegend": false,
         "subplot": "mapbox",
         "type": "scattermapbox"
        },
        {
         "hovertemplate": "평균속력=조금빠름<br>id=id2966759<br>latitude=%{lat}<br>longitude=%{lon}<extra></extra>",
         "lat": [
          40.752891540527344,
          40.739990234375
         ],
         "legendgroup": "조금빠름",
         "line": {
          "color": "#00cc96",
          "width": 1
         },
         "lon": [
          -73.97013854980467,
          -73.98188781738281
         ],
         "mode": "lines",
         "name": "조금빠름 (pickup/dropoff)",
         "opacity": 0.8,
         "showlegend": false,
         "subplot": "mapbox",
         "type": "scattermapbox"
        },
        {
         "hovertemplate": "평균속력=조금빠름<br>id=id2673049<br>latitude=%{lat}<br>longitude=%{lon}<extra></extra>",
         "lat": [
          40.789600372314446,
          40.71483612060546
         ],
         "legendgroup": "조금빠름",
         "line": {
          "color": "#00cc96",
          "width": 1
         },
         "lon": [
          -73.97001647949219,
          -74.0139389038086
         ],
         "mode": "lines",
         "name": "조금빠름 (pickup/dropoff)",
         "opacity": 0.8,
         "showlegend": false,
         "subplot": "mapbox",
         "type": "scattermapbox"
        },
        {
         "hovertemplate": "평균속력=조금빠름<br>id=id0858054<br>latitude=%{lat}<br>longitude=%{lon}<extra></extra>",
         "lat": [
          40.766788482666016,
          40.77115631103516
         ],
         "legendgroup": "조금빠름",
         "line": {
          "color": "#00cc96",
          "width": 1
         },
         "lon": [
          -73.96295928955078,
          -73.98324584960938
         ],
         "mode": "lines",
         "name": "조금빠름 (pickup/dropoff)",
         "opacity": 0.8,
         "showlegend": false,
         "subplot": "mapbox",
         "type": "scattermapbox"
        },
        {
         "hovertemplate": "평균속력=조금빠름<br>id=id1049417<br>latitude=%{lat}<br>longitude=%{lon}<extra></extra>",
         "lat": [
          40.794429779052734,
          40.7891731262207
         ],
         "legendgroup": "조금빠름",
         "line": {
          "color": "#00cc96",
          "width": 1
         },
         "lon": [
          -73.97160339355469,
          -73.9527587890625
         ],
         "mode": "lines",
         "name": "조금빠름 (pickup/dropoff)",
         "opacity": 0.8,
         "showlegend": false,
         "subplot": "mapbox",
         "type": "scattermapbox"
        },
        {
         "hovertemplate": "평균속력=조금빠름<br>id=id0566979<br>latitude=%{lat}<br>longitude=%{lon}<extra></extra>",
         "lat": [
          40.80135726928711,
          40.79747772216797
         ],
         "legendgroup": "조금빠름",
         "line": {
          "color": "#00cc96",
          "width": 1
         },
         "lon": [
          -73.95948791503906,
          -73.96974182128906
         ],
         "mode": "lines",
         "name": "조금빠름 (pickup/dropoff)",
         "opacity": 0.8,
         "showlegend": false,
         "subplot": "mapbox",
         "type": "scattermapbox"
        },
        {
         "hovertemplate": "평균속력=조금빠름<br>id=id0434573<br>latitude=%{lat}<br>longitude=%{lon}<extra></extra>",
         "lat": [
          40.64473342895508,
          40.782241821289055
         ],
         "legendgroup": "조금빠름",
         "line": {
          "color": "#00cc96",
          "width": 1
         },
         "lon": [
          -73.78192138671875,
          -73.94640350341797
         ],
         "mode": "lines",
         "name": "조금빠름 (pickup/dropoff)",
         "opacity": 0.8,
         "showlegend": false,
         "subplot": "mapbox",
         "type": "scattermapbox"
        },
        {
         "hovertemplate": "평균속력=조금빠름<br>id=id0889544<br>latitude=%{lat}<br>longitude=%{lon}<extra></extra>",
         "lat": [
          40.74057769775391,
          40.7554817199707
         ],
         "legendgroup": "조금빠름",
         "line": {
          "color": "#00cc96",
          "width": 1
         },
         "lon": [
          -73.97972869873048,
          -73.97085571289062
         ],
         "mode": "lines",
         "name": "조금빠름 (pickup/dropoff)",
         "opacity": 0.8,
         "showlegend": false,
         "subplot": "mapbox",
         "type": "scattermapbox"
        },
        {
         "hovertemplate": "평균속력=조금빠름<br>id=id2357722<br>latitude=%{lat}<br>longitude=%{lon}<extra></extra>",
         "lat": [
          40.709976196289055,
          40.69548034667969
         ],
         "legendgroup": "조금빠름",
         "line": {
          "color": "#00cc96",
          "width": 1
         },
         "lon": [
          -74.00458526611328,
          -73.99742889404298
         ],
         "mode": "lines",
         "name": "조금빠름 (pickup/dropoff)",
         "opacity": 0.8,
         "showlegend": false,
         "subplot": "mapbox",
         "type": "scattermapbox"
        },
        {
         "hovertemplate": "평균속력=조금빠름<br>id=id3638105<br>latitude=%{lat}<br>longitude=%{lon}<extra></extra>",
         "lat": [
          40.72257232666016,
          40.68634033203125
         ],
         "legendgroup": "조금빠름",
         "line": {
          "color": "#00cc96",
          "width": 1
         },
         "lon": [
          -74.00359344482422,
          -73.97468566894531
         ],
         "mode": "lines",
         "name": "조금빠름 (pickup/dropoff)",
         "opacity": 0.8,
         "showlegend": false,
         "subplot": "mapbox",
         "type": "scattermapbox"
        },
        {
         "hovertemplate": "평균속력=조금빠름<br>id=id2322963<br>latitude=%{lat}<br>longitude=%{lon}<extra></extra>",
         "lat": [
          40.734493255615234,
          40.78654861450195
         ],
         "legendgroup": "조금빠름",
         "line": {
          "color": "#00cc96",
          "width": 1
         },
         "lon": [
          -74.00151824951173,
          -73.97239685058595
         ],
         "mode": "lines",
         "name": "조금빠름 (pickup/dropoff)",
         "opacity": 0.8,
         "showlegend": false,
         "subplot": "mapbox",
         "type": "scattermapbox"
        },
        {
         "hovertemplate": "평균속력=조금빠름<br>id=id0626677<br>latitude=%{lat}<br>longitude=%{lon}<extra></extra>",
         "lat": [
          40.78641128540039,
          40.77379989624024
         ],
         "legendgroup": "조금빠름",
         "line": {
          "color": "#00cc96",
          "width": 1
         },
         "lon": [
          -73.95282745361328,
          -73.97776794433594
         ],
         "mode": "lines",
         "name": "조금빠름 (pickup/dropoff)",
         "opacity": 0.8,
         "showlegend": false,
         "subplot": "mapbox",
         "type": "scattermapbox"
        },
        {
         "hovertemplate": "평균속력=조금빠름<br>id=id0372891<br>latitude=%{lat}<br>longitude=%{lon}<extra></extra>",
         "lat": [
          40.78201675415039,
          40.77749633789063
         ],
         "legendgroup": "조금빠름",
         "line": {
          "color": "#00cc96",
          "width": 1
         },
         "lon": [
          -73.97631072998048,
          -73.9781494140625
         ],
         "mode": "lines",
         "name": "조금빠름 (pickup/dropoff)",
         "opacity": 0.8,
         "showlegend": false,
         "subplot": "mapbox",
         "type": "scattermapbox"
        },
        {
         "hovertemplate": "평균속력=조금빠름<br>id=id1158393<br>latitude=%{lat}<br>longitude=%{lon}<extra></extra>",
         "lat": [
          40.761756896972656,
          40.76946258544922
         ],
         "legendgroup": "조금빠름",
         "line": {
          "color": "#00cc96",
          "width": 1
         },
         "lon": [
          -73.96741485595702,
          -73.92103576660156
         ],
         "mode": "lines",
         "name": "조금빠름 (pickup/dropoff)",
         "opacity": 0.8,
         "showlegend": false,
         "subplot": "mapbox",
         "type": "scattermapbox"
        },
        {
         "hovertemplate": "평균속력=조금빠름<br>id=id2529954<br>latitude=%{lat}<br>longitude=%{lon}<extra></extra>",
         "lat": [
          40.7640037536621,
          40.76385116577149
         ],
         "legendgroup": "조금빠름",
         "line": {
          "color": "#00cc96",
          "width": 1
         },
         "lon": [
          -73.97434234619139,
          -73.96236419677734
         ],
         "mode": "lines",
         "name": "조금빠름 (pickup/dropoff)",
         "opacity": 0.8,
         "showlegend": false,
         "subplot": "mapbox",
         "type": "scattermapbox"
        },
        {
         "hovertemplate": "평균속력=조금빠름<br>id=id1036174<br>latitude=%{lat}<br>longitude=%{lon}<extra></extra>",
         "lat": [
          40.750431060791016,
          40.78049087524414
         ],
         "legendgroup": "조금빠름",
         "line": {
          "color": "#00cc96",
          "width": 1
         },
         "lon": [
          -73.98802947998048,
          -73.94779968261719
         ],
         "mode": "lines",
         "name": "조금빠름 (pickup/dropoff)",
         "opacity": 0.8,
         "showlegend": false,
         "subplot": "mapbox",
         "type": "scattermapbox"
        },
        {
         "hovertemplate": "평균속력=조금빠름<br>id=id3572749<br>latitude=%{lat}<br>longitude=%{lon}<extra></extra>",
         "lat": [
          40.770069122314446,
          40.78279113769531
         ],
         "legendgroup": "조금빠름",
         "line": {
          "color": "#00cc96",
          "width": 1
         },
         "lon": [
          -73.98792266845702,
          -73.95319366455078
         ],
         "mode": "lines",
         "name": "조금빠름 (pickup/dropoff)",
         "opacity": 0.8,
         "showlegend": false,
         "subplot": "mapbox",
         "type": "scattermapbox"
        },
        {
         "hovertemplate": "평균속력=조금빠름<br>id=id3528412<br>latitude=%{lat}<br>longitude=%{lon}<extra></extra>",
         "lat": [
          40.77674865722656,
          40.785789489746094
         ],
         "legendgroup": "조금빠름",
         "line": {
          "color": "#00cc96",
          "width": 1
         },
         "lon": [
          -73.95974731445312,
          -73.9532470703125
         ],
         "mode": "lines",
         "name": "조금빠름 (pickup/dropoff)",
         "opacity": 0.8,
         "showlegend": false,
         "subplot": "mapbox",
         "type": "scattermapbox"
        },
        {
         "hovertemplate": "평균속력=조금빠름<br>id=id2302144<br>latitude=%{lat}<br>longitude=%{lon}<extra></extra>",
         "lat": [
          40.862701416015625,
          40.831321716308594
         ],
         "legendgroup": "조금빠름",
         "line": {
          "color": "#00cc96",
          "width": 1
         },
         "lon": [
          -73.90413665771484,
          -73.89300537109375
         ],
         "mode": "lines",
         "name": "조금빠름 (pickup/dropoff)",
         "opacity": 0.8,
         "showlegend": false,
         "subplot": "mapbox",
         "type": "scattermapbox"
        },
        {
         "hovertemplate": "평균속력=조금빠름<br>id=id3291602<br>latitude=%{lat}<br>longitude=%{lon}<extra></extra>",
         "lat": [
          40.7334213256836,
          40.75713348388672
         ],
         "legendgroup": "조금빠름",
         "line": {
          "color": "#00cc96",
          "width": 1
         },
         "lon": [
          -74.00246429443358,
          -73.9832763671875
         ],
         "mode": "lines",
         "name": "조금빠름 (pickup/dropoff)",
         "opacity": 0.8,
         "showlegend": false,
         "subplot": "mapbox",
         "type": "scattermapbox"
        },
        {
         "hovertemplate": "평균속력=조금빠름<br>id=id2438985<br>latitude=%{lat}<br>longitude=%{lon}<extra></extra>",
         "lat": [
          40.78261184692384,
          40.76800155639648
         ],
         "legendgroup": "조금빠름",
         "line": {
          "color": "#00cc96",
          "width": 1
         },
         "lon": [
          -73.95343017578125,
          -73.97037506103516
         ],
         "mode": "lines",
         "name": "조금빠름 (pickup/dropoff)",
         "opacity": 0.8,
         "showlegend": false,
         "subplot": "mapbox",
         "type": "scattermapbox"
        },
        {
         "hovertemplate": "평균속력=조금빠름<br>id=id2078977<br>latitude=%{lat}<br>longitude=%{lon}<extra></extra>",
         "lat": [
          40.76673126220703,
          40.805000305175774
         ],
         "legendgroup": "조금빠름",
         "line": {
          "color": "#00cc96",
          "width": 1
         },
         "lon": [
          -73.96306610107422,
          -73.93858337402342
         ],
         "mode": "lines",
         "name": "조금빠름 (pickup/dropoff)",
         "opacity": 0.8,
         "showlegend": false,
         "subplot": "mapbox",
         "type": "scattermapbox"
        },
        {
         "hovertemplate": "평균속력=조금빠름<br>id=id3730700<br>latitude=%{lat}<br>longitude=%{lon}<extra></extra>",
         "lat": [
          40.74989700317384,
          40.73417663574219
         ],
         "legendgroup": "조금빠름",
         "line": {
          "color": "#00cc96",
          "width": 1
         },
         "lon": [
          -73.99164581298828,
          -73.99500274658203
         ],
         "mode": "lines",
         "name": "조금빠름 (pickup/dropoff)",
         "opacity": 0.8,
         "showlegend": false,
         "subplot": "mapbox",
         "type": "scattermapbox"
        },
        {
         "hovertemplate": "평균속력=조금빠름<br>id=id3988208<br>latitude=%{lat}<br>longitude=%{lon}<extra></extra>",
         "lat": [
          40.79740524291992,
          40.78954315185546
         ],
         "legendgroup": "조금빠름",
         "line": {
          "color": "#00cc96",
          "width": 1
         },
         "lon": [
          -73.94892883300781,
          -73.96743774414062
         ],
         "mode": "lines",
         "name": "조금빠름 (pickup/dropoff)",
         "opacity": 0.8,
         "showlegend": false,
         "subplot": "mapbox",
         "type": "scattermapbox"
        },
        {
         "hovertemplate": "평균속력=조금빠름<br>id=id0243048<br>latitude=%{lat}<br>longitude=%{lon}<extra></extra>",
         "lat": [
          40.81560134887695,
          40.79996109008789
         ],
         "legendgroup": "조금빠름",
         "line": {
          "color": "#00cc96",
          "width": 1
         },
         "lon": [
          -73.93981170654298,
          -73.9586410522461
         ],
         "mode": "lines",
         "name": "조금빠름 (pickup/dropoff)",
         "opacity": 0.8,
         "showlegend": false,
         "subplot": "mapbox",
         "type": "scattermapbox"
        },
        {
         "hovertemplate": "평균속력=조금빠름<br>id=id2135926<br>latitude=%{lat}<br>longitude=%{lon}<extra></extra>",
         "lat": [
          40.764122009277344,
          40.74626541137695
         ],
         "legendgroup": "조금빠름",
         "line": {
          "color": "#00cc96",
          "width": 1
         },
         "lon": [
          -73.9558334350586,
          -73.97246551513672
         ],
         "mode": "lines",
         "name": "조금빠름 (pickup/dropoff)",
         "opacity": 0.8,
         "showlegend": false,
         "subplot": "mapbox",
         "type": "scattermapbox"
        },
        {
         "hovertemplate": "평균속력=조금빠름<br>id=id2700601<br>latitude=%{lat}<br>longitude=%{lon}<extra></extra>",
         "lat": [
          40.749908447265625,
          40.75947952270508
         ],
         "legendgroup": "조금빠름",
         "line": {
          "color": "#00cc96",
          "width": 1
         },
         "lon": [
          -73.9881591796875,
          -73.99555969238281
         ],
         "mode": "lines",
         "name": "조금빠름 (pickup/dropoff)",
         "opacity": 0.8,
         "showlegend": false,
         "subplot": "mapbox",
         "type": "scattermapbox"
        },
        {
         "hovertemplate": "평균속력=매우빠름<br>id=id1030598<br>latitude=%{lat}<br>longitude=%{lon}<extra></extra>",
         "lat": [
          40.71914291381836,
          40.73513412475586
         ],
         "legendgroup": "매우빠름",
         "line": {
          "color": "#ab63fa",
          "width": 1
         },
         "lon": [
          -74.00506591796875,
          -74.00606536865233
         ],
         "mode": "lines",
         "name": "매우빠름 (pickup/dropoff)",
         "opacity": 0.8,
         "showlegend": true,
         "subplot": "mapbox",
         "type": "scattermapbox"
        },
        {
         "hovertemplate": "평균속력=매우빠름<br>id=id3667993<br>latitude=%{lat}<br>longitude=%{lon}<extra></extra>",
         "lat": [
          40.73052978515625,
          40.746219635009766
         ],
         "legendgroup": "매우빠름",
         "line": {
          "color": "#ab63fa",
          "width": 1
         },
         "lon": [
          -73.98052215576173,
          -73.99799346923827
         ],
         "mode": "lines",
         "name": "매우빠름 (pickup/dropoff)",
         "opacity": 0.8,
         "showlegend": false,
         "subplot": "mapbox",
         "type": "scattermapbox"
        },
        {
         "hovertemplate": "평균속력=매우빠름<br>id=id3091695<br>latitude=%{lat}<br>longitude=%{lon}<extra></extra>",
         "lat": [
          40.768253326416016,
          40.77399826049805
         ],
         "legendgroup": "매우빠름",
         "line": {
          "color": "#ab63fa",
          "width": 1
         },
         "lon": [
          -73.98240661621094,
          -73.95751190185547
         ],
         "mode": "lines",
         "name": "매우빠름 (pickup/dropoff)",
         "opacity": 0.8,
         "showlegend": false,
         "subplot": "mapbox",
         "type": "scattermapbox"
        },
        {
         "hovertemplate": "평균속력=매우빠름<br>id=id3545382<br>latitude=%{lat}<br>longitude=%{lon}<extra></extra>",
         "lat": [
          40.79136657714844,
          40.78382110595703
         ],
         "legendgroup": "매우빠름",
         "line": {
          "color": "#ab63fa",
          "width": 1
         },
         "lon": [
          -73.97394561767578,
          -73.97989654541014
         ],
         "mode": "lines",
         "name": "매우빠름 (pickup/dropoff)",
         "opacity": 0.8,
         "showlegend": false,
         "subplot": "mapbox",
         "type": "scattermapbox"
        },
        {
         "hovertemplate": "평균속력=매우빠름<br>id=id0621879<br>latitude=%{lat}<br>longitude=%{lon}<extra></extra>",
         "lat": [
          40.743614196777344,
          40.72272872924805
         ],
         "legendgroup": "매우빠름",
         "line": {
          "color": "#ab63fa",
          "width": 1
         },
         "lon": [
          -73.95078277587889,
          -74.00621795654298
         ],
         "mode": "lines",
         "name": "매우빠름 (pickup/dropoff)",
         "opacity": 0.8,
         "showlegend": false,
         "subplot": "mapbox",
         "type": "scattermapbox"
        },
        {
         "hovertemplate": "평균속력=매우빠름<br>id=id2995326<br>latitude=%{lat}<br>longitude=%{lon}<extra></extra>",
         "lat": [
          40.74108123779297,
          40.73556137084961
         ],
         "legendgroup": "매우빠름",
         "line": {
          "color": "#ab63fa",
          "width": 1
         },
         "lon": [
          -74.00586700439453,
          -73.99239349365233
         ],
         "mode": "lines",
         "name": "매우빠름 (pickup/dropoff)",
         "opacity": 0.8,
         "showlegend": false,
         "subplot": "mapbox",
         "type": "scattermapbox"
        },
        {
         "hovertemplate": "평균속력=매우빠름<br>id=id2341955<br>latitude=%{lat}<br>longitude=%{lon}<extra></extra>",
         "lat": [
          40.78915786743164,
          40.77948760986328
         ],
         "legendgroup": "매우빠름",
         "line": {
          "color": "#ab63fa",
          "width": 1
         },
         "lon": [
          -73.94364166259764,
          -73.95057678222656
         ],
         "mode": "lines",
         "name": "매우빠름 (pickup/dropoff)",
         "opacity": 0.8,
         "showlegend": false,
         "subplot": "mapbox",
         "type": "scattermapbox"
        },
        {
         "hovertemplate": "평균속력=매우빠름<br>id=id1973100<br>latitude=%{lat}<br>longitude=%{lon}<extra></extra>",
         "lat": [
          40.82606887817384,
          40.7630729675293
         ],
         "legendgroup": "매우빠름",
         "line": {
          "color": "#ab63fa",
          "width": 1
         },
         "lon": [
          -73.94337463378906,
          -73.98128509521484
         ],
         "mode": "lines",
         "name": "매우빠름 (pickup/dropoff)",
         "opacity": 0.8,
         "showlegend": false,
         "subplot": "mapbox",
         "type": "scattermapbox"
        },
        {
         "hovertemplate": "평균속력=매우빠름<br>id=id0151990<br>latitude=%{lat}<br>longitude=%{lon}<extra></extra>",
         "lat": [
          40.76192474365234,
          40.76654052734375
         ],
         "legendgroup": "매우빠름",
         "line": {
          "color": "#ab63fa",
          "width": 1
         },
         "lon": [
          -73.97914123535155,
          -73.99016571044923
         ],
         "mode": "lines",
         "name": "매우빠름 (pickup/dropoff)",
         "opacity": 0.8,
         "showlegend": false,
         "subplot": "mapbox",
         "type": "scattermapbox"
        },
        {
         "hovertemplate": "평균속력=매우빠름<br>id=id1745148<br>latitude=%{lat}<br>longitude=%{lon}<extra></extra>",
         "lat": [
          40.75484848022461,
          40.72767639160156
         ],
         "legendgroup": "매우빠름",
         "line": {
          "color": "#ab63fa",
          "width": 1
         },
         "lon": [
          -73.98343658447266,
          -74.00334930419923
         ],
         "mode": "lines",
         "name": "매우빠름 (pickup/dropoff)",
         "opacity": 0.8,
         "showlegend": false,
         "subplot": "mapbox",
         "type": "scattermapbox"
        },
        {
         "hovertemplate": "평균속력=매우빠름<br>id=id1006263<br>latitude=%{lat}<br>longitude=%{lon}<extra></extra>",
         "lat": [
          40.80709838867188,
          40.80038070678711
         ],
         "legendgroup": "매우빠름",
         "line": {
          "color": "#ab63fa",
          "width": 1
         },
         "lon": [
          -73.95350646972656,
          -73.96750640869139
         ],
         "mode": "lines",
         "name": "매우빠름 (pickup/dropoff)",
         "opacity": 0.8,
         "showlegend": false,
         "subplot": "mapbox",
         "type": "scattermapbox"
        },
        {
         "hovertemplate": "평균속력=매우빠름<br>id=id3100200<br>latitude=%{lat}<br>longitude=%{lon}<extra></extra>",
         "lat": [
          40.784122467041016,
          40.77589797973633
         ],
         "legendgroup": "매우빠름",
         "line": {
          "color": "#ab63fa",
          "width": 1
         },
         "lon": [
          -73.9544906616211,
          -73.96086883544923
         ],
         "mode": "lines",
         "name": "매우빠름 (pickup/dropoff)",
         "opacity": 0.8,
         "showlegend": false,
         "subplot": "mapbox",
         "type": "scattermapbox"
        },
        {
         "hovertemplate": "평균속력=매우빠름<br>id=id2484944<br>latitude=%{lat}<br>longitude=%{lon}<extra></extra>",
         "lat": [
          40.77938079833984,
          40.76678466796875
         ],
         "legendgroup": "매우빠름",
         "line": {
          "color": "#ab63fa",
          "width": 1
         },
         "lon": [
          -73.94471740722656,
          -73.95954132080078
         ],
         "mode": "lines",
         "name": "매우빠름 (pickup/dropoff)",
         "opacity": 0.8,
         "showlegend": false,
         "subplot": "mapbox",
         "type": "scattermapbox"
        },
        {
         "hovertemplate": "평균속력=매우빠름<br>id=id0294070<br>latitude=%{lat}<br>longitude=%{lon}<extra></extra>",
         "lat": [
          40.78065872192384,
          40.76536560058594
         ],
         "legendgroup": "매우빠름",
         "line": {
          "color": "#ab63fa",
          "width": 1
         },
         "lon": [
          -73.98385620117188,
          -73.9659652709961
         ],
         "mode": "lines",
         "name": "매우빠름 (pickup/dropoff)",
         "opacity": 0.8,
         "showlegend": false,
         "subplot": "mapbox",
         "type": "scattermapbox"
        },
        {
         "hovertemplate": "평균속력=매우빠름<br>id=id3088186<br>latitude=%{lat}<br>longitude=%{lon}<extra></extra>",
         "lat": [
          40.76067352294922,
          40.762725830078125
         ],
         "legendgroup": "매우빠름",
         "line": {
          "color": "#ab63fa",
          "width": 1
         },
         "lon": [
          -73.98724365234375,
          -73.92682647705078
         ],
         "mode": "lines",
         "name": "매우빠름 (pickup/dropoff)",
         "opacity": 0.8,
         "showlegend": false,
         "subplot": "mapbox",
         "type": "scattermapbox"
        },
        {
         "hovertemplate": "평균속력=매우빠름<br>id=id0429106<br>latitude=%{lat}<br>longitude=%{lon}<extra></extra>",
         "lat": [
          40.75823974609375,
          40.75593185424805
         ],
         "legendgroup": "매우빠름",
         "line": {
          "color": "#ab63fa",
          "width": 1
         },
         "lon": [
          -73.98924255371094,
          -73.91887664794923
         ],
         "mode": "lines",
         "name": "매우빠름 (pickup/dropoff)",
         "opacity": 0.8,
         "showlegend": false,
         "subplot": "mapbox",
         "type": "scattermapbox"
        },
        {
         "hovertemplate": "평균속력=매우빠름<br>id=id2843597<br>latitude=%{lat}<br>longitude=%{lon}<extra></extra>",
         "lat": [
          40.75821304321289,
          40.796680450439446
         ],
         "legendgroup": "매우빠름",
         "line": {
          "color": "#ab63fa",
          "width": 1
         },
         "lon": [
          -73.98886108398438,
          -73.96269226074217
         ],
         "mode": "lines",
         "name": "매우빠름 (pickup/dropoff)",
         "opacity": 0.8,
         "showlegend": false,
         "subplot": "mapbox",
         "type": "scattermapbox"
        },
        {
         "hovertemplate": "평균속력=매우빠름<br>id=id2583198<br>latitude=%{lat}<br>longitude=%{lon}<extra></extra>",
         "lat": [
          40.643508911132805,
          40.70578384399414
         ],
         "legendgroup": "매우빠름",
         "line": {
          "color": "#ab63fa",
          "width": 1
         },
         "lon": [
          -73.79021453857422,
          -74.00952911376953
         ],
         "mode": "lines",
         "name": "매우빠름 (pickup/dropoff)",
         "opacity": 0.8,
         "showlegend": false,
         "subplot": "mapbox",
         "type": "scattermapbox"
        },
        {
         "hovertemplate": "평균속력=매우빠름<br>id=id1322047<br>latitude=%{lat}<br>longitude=%{lon}<extra></extra>",
         "lat": [
          40.737281799316406,
          40.6446418762207
         ],
         "legendgroup": "매우빠름",
         "line": {
          "color": "#ab63fa",
          "width": 1
         },
         "lon": [
          -74.00069427490233,
          -73.77690124511719
         ],
         "mode": "lines",
         "name": "매우빠름 (pickup/dropoff)",
         "opacity": 0.8,
         "showlegend": false,
         "subplot": "mapbox",
         "type": "scattermapbox"
        },
        {
         "hovertemplate": "평균속력=매우빠름<br>id=id3388355<br>latitude=%{lat}<br>longitude=%{lon}<extra></extra>",
         "lat": [
          40.74114227294922,
          40.68381118774414
         ],
         "legendgroup": "매우빠름",
         "line": {
          "color": "#ab63fa",
          "width": 1
         },
         "lon": [
          -73.99011993408203,
          -73.9951629638672
         ],
         "mode": "lines",
         "name": "매우빠름 (pickup/dropoff)",
         "opacity": 0.8,
         "showlegend": false,
         "subplot": "mapbox",
         "type": "scattermapbox"
        },
        {
         "hovertemplate": "평균속력=매우빠름<br>id=id1850636<br>latitude=%{lat}<br>longitude=%{lon}<extra></extra>",
         "lat": [
          40.75043869018555,
          40.63109970092773
         ],
         "legendgroup": "매우빠름",
         "line": {
          "color": "#ab63fa",
          "width": 1
         },
         "lon": [
          -73.99453735351561,
          -74.02571868896483
         ],
         "mode": "lines",
         "name": "매우빠름 (pickup/dropoff)",
         "opacity": 0.8,
         "showlegend": false,
         "subplot": "mapbox",
         "type": "scattermapbox"
        },
        {
         "hovertemplate": "평균속력=매우빠름<br>id=id0037819<br>latitude=%{lat}<br>longitude=%{lon}<extra></extra>",
         "lat": [
          40.756568908691406,
          40.740058898925774
         ],
         "legendgroup": "매우빠름",
         "line": {
          "color": "#ab63fa",
          "width": 1
         },
         "lon": [
          -73.98641967773438,
          -73.99530029296875
         ],
         "mode": "lines",
         "name": "매우빠름 (pickup/dropoff)",
         "opacity": 0.8,
         "showlegend": false,
         "subplot": "mapbox",
         "type": "scattermapbox"
        },
        {
         "hovertemplate": "평균속력=매우빠름<br>id=id3716633<br>latitude=%{lat}<br>longitude=%{lon}<extra></extra>",
         "lat": [
          40.755401611328125,
          40.705509185791016
         ],
         "legendgroup": "매우빠름",
         "line": {
          "color": "#ab63fa",
          "width": 1
         },
         "lon": [
          -73.96813201904298,
          -74.00707244873048
         ],
         "mode": "lines",
         "name": "매우빠름 (pickup/dropoff)",
         "opacity": 0.8,
         "showlegend": false,
         "subplot": "mapbox",
         "type": "scattermapbox"
        },
        {
         "hovertemplate": "평균속력=매우빠름<br>id=id3666656<br>latitude=%{lat}<br>longitude=%{lon}<extra></extra>",
         "lat": [
          40.645286560058594,
          40.75309753417969
         ],
         "legendgroup": "매우빠름",
         "line": {
          "color": "#ab63fa",
          "width": 1
         },
         "lon": [
          -73.7766876220703,
          -73.99340057373048
         ],
         "mode": "lines",
         "name": "매우빠름 (pickup/dropoff)",
         "opacity": 0.8,
         "showlegend": false,
         "subplot": "mapbox",
         "type": "scattermapbox"
        },
        {
         "hovertemplate": "평균속력=매우빠름<br>id=id0739381<br>latitude=%{lat}<br>longitude=%{lon}<extra></extra>",
         "lat": [
          40.80809020996094,
          40.76717758178711
         ],
         "legendgroup": "매우빠름",
         "line": {
          "color": "#ab63fa",
          "width": 1
         },
         "lon": [
          -73.9640121459961,
          -73.99046325683594
         ],
         "mode": "lines",
         "name": "매우빠름 (pickup/dropoff)",
         "opacity": 0.8,
         "showlegend": false,
         "subplot": "mapbox",
         "type": "scattermapbox"
        },
        {
         "hovertemplate": "평균속력=매우빠름<br>id=id0787873<br>latitude=%{lat}<br>longitude=%{lon}<extra></extra>",
         "lat": [
          40.64693832397461,
          40.70998001098633
         ],
         "legendgroup": "매우빠름",
         "line": {
          "color": "#ab63fa",
          "width": 1
         },
         "lon": [
          -73.78984832763672,
          -74.005126953125
         ],
         "mode": "lines",
         "name": "매우빠름 (pickup/dropoff)",
         "opacity": 0.8,
         "showlegend": false,
         "subplot": "mapbox",
         "type": "scattermapbox"
        },
        {
         "hovertemplate": "평균속력=매우빠름<br>id=id0419095<br>latitude=%{lat}<br>longitude=%{lon}<extra></extra>",
         "lat": [
          40.768848419189446,
          40.744606018066406
         ],
         "legendgroup": "매우빠름",
         "line": {
          "color": "#ab63fa",
          "width": 1
         },
         "lon": [
          -73.86279296875,
          -73.97144317626953
         ],
         "mode": "lines",
         "name": "매우빠름 (pickup/dropoff)",
         "opacity": 0.8,
         "showlegend": false,
         "subplot": "mapbox",
         "type": "scattermapbox"
        },
        {
         "hovertemplate": "평균속력=매우빠름<br>id=id0480924<br>latitude=%{lat}<br>longitude=%{lon}<extra></extra>",
         "lat": [
          40.72843170166016,
          40.73809051513672
         ],
         "legendgroup": "매우빠름",
         "line": {
          "color": "#ab63fa",
          "width": 1
         },
         "lon": [
          -73.99981689453125,
          -74.05081176757811
         ],
         "mode": "lines",
         "name": "매우빠름 (pickup/dropoff)",
         "opacity": 0.8,
         "showlegend": false,
         "subplot": "mapbox",
         "type": "scattermapbox"
        },
        {
         "hovertemplate": "평균속력=매우빠름<br>id=id0271875<br>latitude=%{lat}<br>longitude=%{lon}<extra></extra>",
         "lat": [
          40.76412582397461,
          40.783740997314446
         ],
         "legendgroup": "매우빠름",
         "line": {
          "color": "#ab63fa",
          "width": 1
         },
         "lon": [
          -73.97107696533203,
          -73.95669555664062
         ],
         "mode": "lines",
         "name": "매우빠름 (pickup/dropoff)",
         "opacity": 0.8,
         "showlegend": false,
         "subplot": "mapbox",
         "type": "scattermapbox"
        },
        {
         "hovertemplate": "평균속력=매우빠름<br>id=id2723141<br>latitude=%{lat}<br>longitude=%{lon}<extra></extra>",
         "lat": [
          40.70758056640625,
          40.752979278564446
         ],
         "legendgroup": "매우빠름",
         "line": {
          "color": "#ab63fa",
          "width": 1
         },
         "lon": [
          -74.00406646728516,
          -73.97933197021484
         ],
         "mode": "lines",
         "name": "매우빠름 (pickup/dropoff)",
         "opacity": 0.8,
         "showlegend": false,
         "subplot": "mapbox",
         "type": "scattermapbox"
        },
        {
         "hovertemplate": "평균속력=매우빠름<br>id=id3457947<br>latitude=%{lat}<br>longitude=%{lon}<extra></extra>",
         "lat": [
          40.767120361328125,
          40.77658081054688
         ],
         "legendgroup": "매우빠름",
         "line": {
          "color": "#ab63fa",
          "width": 1
         },
         "lon": [
          -73.9688720703125,
          -73.96205139160156
         ],
         "mode": "lines",
         "name": "매우빠름 (pickup/dropoff)",
         "opacity": 0.8,
         "showlegend": false,
         "subplot": "mapbox",
         "type": "scattermapbox"
        },
        {
         "hovertemplate": "평균속력=매우빠름<br>id=id2035188<br>latitude=%{lat}<br>longitude=%{lon}<extra></extra>",
         "lat": [
          40.75527572631836,
          40.76887130737305
         ],
         "legendgroup": "매우빠름",
         "line": {
          "color": "#ab63fa",
          "width": 1
         },
         "lon": [
          -73.96514892578125,
          -73.95445251464845
         ],
         "mode": "lines",
         "name": "매우빠름 (pickup/dropoff)",
         "opacity": 0.8,
         "showlegend": false,
         "subplot": "mapbox",
         "type": "scattermapbox"
        },
        {
         "hovertemplate": "평균속력=매우빠름<br>id=id0453108<br>latitude=%{lat}<br>longitude=%{lon}<extra></extra>",
         "lat": [
          40.64477157592773,
          40.832279205322266
         ],
         "legendgroup": "매우빠름",
         "line": {
          "color": "#ab63fa",
          "width": 1
         },
         "lon": [
          -73.78182983398438,
          -73.94233703613281
         ],
         "mode": "lines",
         "name": "매우빠름 (pickup/dropoff)",
         "opacity": 0.8,
         "showlegend": false,
         "subplot": "mapbox",
         "type": "scattermapbox"
        },
        {
         "hovertemplate": "평균속력=매우빠름<br>id=id3413834<br>latitude=%{lat}<br>longitude=%{lon}<extra></extra>",
         "lat": [
          40.773601531982415,
          40.66177749633789
         ],
         "legendgroup": "매우빠름",
         "line": {
          "color": "#ab63fa",
          "width": 1
         },
         "lon": [
          -73.87093353271484,
          -73.82536315917967
         ],
         "mode": "lines",
         "name": "매우빠름 (pickup/dropoff)",
         "opacity": 0.8,
         "showlegend": false,
         "subplot": "mapbox",
         "type": "scattermapbox"
        },
        {
         "hovertemplate": "평균속력=매우빠름<br>id=id3646444<br>latitude=%{lat}<br>longitude=%{lon}<extra></extra>",
         "lat": [
          40.64687347412109,
          40.78129196166992
         ],
         "legendgroup": "매우빠름",
         "line": {
          "color": "#ab63fa",
          "width": 1
         },
         "lon": [
          -73.79014587402342,
          -73.9521942138672
         ],
         "mode": "lines",
         "name": "매우빠름 (pickup/dropoff)",
         "opacity": 0.8,
         "showlegend": false,
         "subplot": "mapbox",
         "type": "scattermapbox"
        },
        {
         "hovertemplate": "평균속력=매우빠름<br>id=id0345371<br>latitude=%{lat}<br>longitude=%{lon}<extra></extra>",
         "lat": [
          40.64469146728516,
          40.70872116088867
         ],
         "legendgroup": "매우빠름",
         "line": {
          "color": "#ab63fa",
          "width": 1
         },
         "lon": [
          -73.78196716308595,
          -73.9399185180664
         ],
         "mode": "lines",
         "name": "매우빠름 (pickup/dropoff)",
         "opacity": 0.8,
         "showlegend": false,
         "subplot": "mapbox",
         "type": "scattermapbox"
        },
        {
         "hovertemplate": "평균속력=매우빠름<br>id=id2676557<br>latitude=%{lat}<br>longitude=%{lon}<extra></extra>",
         "lat": [
          40.738807678222656,
          40.74818420410156
         ],
         "legendgroup": "매우빠름",
         "line": {
          "color": "#ab63fa",
          "width": 1
         },
         "lon": [
          -73.98301696777342,
          -73.97811889648438
         ],
         "mode": "lines",
         "name": "매우빠름 (pickup/dropoff)",
         "opacity": 0.8,
         "showlegend": false,
         "subplot": "mapbox",
         "type": "scattermapbox"
        },
        {
         "hovertemplate": "평균속력=매우느림<br>passenger_count=%{marker.size}<br>latitude=%{lat}<br>longitude=%{lon}<extra></extra>",
         "lat": [
          40.75983047485352,
          40.75983047485352,
          40.78168487548828,
          40.781299591064446,
          40.763519287109375,
          40.761749267578125,
          40.74432373046875,
          40.74211883544922,
          40.70718383789063,
          40.70901870727539,
          40.77154159545898,
          40.77495956420898,
          40.72530364990234,
          40.71965026855469,
          40.75623321533203,
          40.734371185302734,
          40.739540100097656,
          40.735721588134766,
          40.73308181762695,
          40.730018615722656,
          40.776123046875,
          40.77534103393555,
          40.746826171875,
          40.777099609375,
          40.74184036254882,
          40.74722671508789,
          40.7467155456543,
          40.75249862670898,
          40.72259521484375,
          40.72389602661133,
          40.76140594482422,
          40.76454162597656,
          40.744140625,
          40.74169921875,
          40.78596115112305,
          40.77871322631836,
          40.794048309326165,
          40.79790878295898,
          40.76639175415039,
          40.75261306762695,
          40.73777770996094,
          40.74677658081056,
          40.7393684387207,
          40.74413299560546,
          40.7324447631836,
          40.7302360534668,
          40.74240493774414,
          40.72117233276367,
          40.76290130615234,
          40.74275970458984,
          40.757469177246094,
          40.771968841552734,
          40.72243118286133,
          40.76266860961913,
          40.79840850830078,
          40.79058837890625,
          40.76341247558594,
          40.71963119506836,
          40.74380493164063,
          40.75000762939453,
          40.74729537963867,
          40.761695861816406,
          40.72234725952149,
          40.74566268920898,
          40.78450012207031,
          40.804832458496094,
          40.773868560791016,
          40.75505065917969,
          40.7683982849121,
          40.7793083190918,
          40.77922821044922,
          40.746257781982415,
          40.75796890258789,
          40.743770599365234
         ],
         "legendgroup": "매우느림",
         "line": {
          "width": 1
         },
         "lon": [
          -73.97090148925781,
          -73.97090148925781,
          -73.98113250732422,
          -73.981201171875,
          -73.96932220458984,
          -73.97138977050781,
          -73.98423767089844,
          -73.97466278076173,
          -74.01651763916014,
          -74.0118637084961,
          -73.9818115234375,
          -73.98088073730467,
          -73.9925537109375,
          -73.9946060180664,
          -73.99331665039062,
          -73.98973846435547,
          -73.98706817626953,
          -73.98265838623048,
          -74.00662231445312,
          -74.00050354003906,
          -73.96235656738281,
          -73.96501922607422,
          -73.99005889892578,
          -73.97775268554686,
          -74.0008773803711,
          -73.9910430908203,
          -73.98993682861328,
          -73.97853851318358,
          -74.00528717041014,
          -74.00457000732422,
          -73.97090911865233,
          -73.97366333007811,
          -73.97913360595702,
          -73.97492218017578,
          -73.97699737548828,
          -73.9814453125,
          -73.97196960449217,
          -73.97329711914062,
          -73.96286010742188,
          -73.98545074462889,
          -73.99762725830078,
          -74.00828552246092,
          -74.00737762451173,
          -74.00689697265625,
          -74.00647735595702,
          -73.99922180175781,
          -74.00107574462889,
          -73.98760986328125,
          -73.98320770263672,
          -73.97737884521484,
          -73.96942901611328,
          -73.9827423095703,
          -73.98615264892578,
          -73.98597717285155,
          -73.95243072509764,
          -73.949951171875,
          -73.98194122314453,
          -73.99542999267578,
          -73.98795318603516,
          -73.99179077148438,
          -73.98175048828125,
          -74.00177764892578,
          -73.99722290039062,
          -73.98463439941406,
          -73.95220947265625,
          -73.96610260009764,
          -73.98236846923827,
          -73.97960662841797,
          -73.9656524658203,
          -73.96006774902342,
          -73.95587921142578,
          -73.98580169677734,
          -73.98609161376953,
          -73.98335266113281
         ],
         "marker": {
          "color": "#636efa",
          "size": [
           2,
           2,
           1,
           1,
           2,
           2,
           2,
           2,
           1,
           1,
           2,
           2,
           2,
           2,
           1,
           1,
           1,
           1,
           1,
           1,
           1,
           1,
           1,
           1,
           2,
           2,
           1,
           1,
           1,
           1,
           1,
           1,
           1,
           1,
           1,
           1,
           1,
           1,
           1,
           1,
           1,
           1,
           1,
           1,
           1,
           1,
           1,
           1,
           1,
           1,
           1,
           1,
           1,
           1,
           1,
           1,
           1,
           1,
           1,
           1,
           1,
           1,
           2,
           2,
           2,
           2,
           4,
           4,
           1,
           1,
           5,
           5,
           1,
           1
          ],
          "sizemode": "area",
          "sizeref": 0.06
         },
         "mode": "markers",
         "name": "매우느림(path)",
         "opacity": 0.8,
         "showlegend": true,
         "subplot": "mapbox",
         "type": "scattermapbox"
        },
        {
         "hovertemplate": "평균속력=조금느림<br>passenger_count=%{marker.size}<br>latitude=%{lat}<br>longitude=%{lon}<extra></extra>",
         "lat": [
          40.74156188964844,
          40.75085067749024,
          40.76424789428711,
          40.763145446777344,
          40.777053833007805,
          40.76767349243164,
          40.730010986328125,
          40.73989868164063,
          40.763973236083984,
          40.76081848144531,
          40.760250091552734,
          40.79518127441406,
          40.74981689453125,
          40.756885528564446,
          40.78707885742188,
          40.79246139526367,
          40.7226448059082,
          40.73473739624024,
          40.75053024291992,
          40.75751876831056,
          40.74673461914063,
          40.7509651184082,
          40.73553085327149,
          40.76554107666016,
          40.744510650634766,
          40.7564582824707,
          40.75918960571289,
          40.7098503112793,
          40.76905059814453,
          40.7630615234375,
          40.76215744018555,
          40.74748611450195,
          40.74530792236328,
          40.74227523803711,
          40.71868896484375,
          40.7457275390625,
          40.77298355102539,
          40.75412368774414,
          40.7714958190918,
          40.75320816040039,
          40.76704025268555,
          40.76899337768555,
          40.74298095703125,
          40.71076965332031,
          40.72407150268555,
          40.75766372680664,
          40.75624084472656,
          40.7665901184082,
          40.742500305175774,
          40.7463493347168,
          40.73820495605469,
          40.75112533569336,
          40.73915481567384,
          40.74427795410156,
          40.759124755859375,
          40.74463272094727,
          40.74143600463867,
          40.73919296264648,
          40.7253303527832,
          40.777881622314446,
          40.75419235229492,
          40.762859344482415,
          40.76359939575195,
          40.7617416381836,
          40.74908065795898,
          40.6697654724121,
          40.76555252075195,
          40.79889678955078,
          40.7724494934082,
          40.755836486816406,
          40.75054931640625,
          40.759868621826165
         ],
         "legendgroup": "조금느림",
         "line": {
          "width": 1
         },
         "lon": [
          -73.993896484375,
          -73.97830963134764,
          -73.95646667480467,
          -73.96985626220702,
          -73.98257446289062,
          -73.98075866699219,
          -73.9792709350586,
          -73.98174285888672,
          -73.99028778076173,
          -73.97960662841797,
          -73.96861267089844,
          -73.96575927734375,
          -73.99140167236328,
          -73.9898910522461,
          -73.95390319824217,
          -73.94084167480467,
          -73.98736572265625,
          -74.0038833618164,
          -73.98738098144531,
          -73.98204803466798,
          -73.97140502929686,
          -73.97477722167967,
          -73.98988342285155,
          -73.97640228271484,
          -73.98111724853516,
          -74.00170135498048,
          -73.98509216308595,
          -73.96215057373048,
          -73.98491668701173,
          -73.97570037841797,
          -73.98597717285155,
          -73.97697448730467,
          -74.00784301757811,
          -73.98967742919923,
          -74.0053482055664,
          -73.9908905029297,
          -73.9782943725586,
          -73.97389221191406,
          -73.95969390869139,
          -73.98626708984375,
          -73.95381164550781,
          -73.96334075927734,
          -73.98845672607422,
          -74.01339721679686,
          -74.00241088867188,
          -73.98356628417967,
          -73.97042846679686,
          -73.98652648925781,
          -73.97420501708984,
          -73.97167205810547,
          -73.98540496826173,
          -73.97836303710938,
          -73.99610137939453,
          -73.98767852783203,
          -73.97645568847656,
          -73.97919464111328,
          -73.95230865478516,
          -73.98406982421875,
          -73.99237060546875,
          -73.98873138427734,
          -73.97592163085938,
          -73.98892211914062,
          -73.98738861083984,
          -73.96864318847656,
          -74.00839233398438,
          -73.97919464111328,
          -73.96790313720702,
          -73.96857452392578,
          -73.96265411376953,
          -73.9784927368164,
          -73.97480010986328,
          -73.96180725097656
         ],
         "marker": {
          "color": "#EF553B",
          "size": [
           1,
           1,
           4,
           4,
           1,
           1,
           2,
           2,
           2,
           2,
           2,
           2,
           1,
           1,
           2,
           2,
           1,
           1,
           2,
           2,
           1,
           1,
           3,
           3,
           2,
           2,
           5,
           5,
           1,
           1,
           1,
           1,
           2,
           2,
           1,
           1,
           1,
           1,
           1,
           1,
           1,
           1,
           4,
           4,
           1,
           1,
           2,
           2,
           1,
           1,
           5,
           5,
           1,
           1,
           2,
           2,
           1,
           1,
           1,
           1,
           2,
           2,
           1,
           1,
           4,
           4,
           1,
           1,
           1,
           1,
           5,
           5
          ],
          "sizemode": "area",
          "sizeref": 0.06
         },
         "mode": "markers",
         "name": "조금느림(path)",
         "opacity": 0.8,
         "showlegend": true,
         "subplot": "mapbox",
         "type": "scattermapbox"
        },
        {
         "hovertemplate": "평균속력=조금빠름<br>passenger_count=%{marker.size}<br>latitude=%{lat}<br>longitude=%{lon}<extra></extra>",
         "lat": [
          40.74464797973633,
          40.72493362426758,
          40.75567626953125,
          40.72474670410156,
          40.755126953125,
          40.74041366577149,
          40.7249755859375,
          40.655078887939446,
          40.72565841674805,
          40.73714065551758,
          40.75128173828125,
          40.76827239990234,
          40.73410034179688,
          40.67301177978516,
          40.76793670654297,
          40.765602111816406,
          40.75857162475586,
          40.77785873413086,
          40.75810241699219,
          40.790283203125,
          40.752891540527344,
          40.739990234375,
          40.789600372314446,
          40.71483612060546,
          40.766788482666016,
          40.77115631103516,
          40.794429779052734,
          40.7891731262207,
          40.80135726928711,
          40.79747772216797,
          40.64473342895508,
          40.782241821289055,
          40.74057769775391,
          40.7554817199707,
          40.709976196289055,
          40.69548034667969,
          40.72257232666016,
          40.68634033203125,
          40.734493255615234,
          40.78654861450195,
          40.78641128540039,
          40.77379989624024,
          40.78201675415039,
          40.77749633789063,
          40.761756896972656,
          40.76946258544922,
          40.7640037536621,
          40.76385116577149,
          40.750431060791016,
          40.78049087524414,
          40.770069122314446,
          40.78279113769531,
          40.77674865722656,
          40.785789489746094,
          40.862701416015625,
          40.831321716308594,
          40.7334213256836,
          40.75713348388672,
          40.78261184692384,
          40.76800155639648,
          40.76673126220703,
          40.805000305175774,
          40.74989700317384,
          40.73417663574219,
          40.79740524291992,
          40.78954315185546,
          40.81560134887695,
          40.79996109008789,
          40.764122009277344,
          40.74626541137695,
          40.749908447265625,
          40.75947952270508
         ],
         "legendgroup": "조금빠름",
         "line": {
          "width": 1
         },
         "lon": [
          -73.99140930175781,
          -73.9950942993164,
          -73.96500396728516,
          -74.00196075439453,
          -73.9874267578125,
          -73.98683166503906,
          -73.9844207763672,
          -73.955322265625,
          -73.99471282958984,
          -73.99044036865233,
          -73.93987274169923,
          -73.95292663574217,
          -73.9994888305664,
          -73.96280670166014,
          -73.98215484619139,
          -73.96463012695312,
          -73.96356964111328,
          -73.94394683837889,
          -73.96311950683594,
          -73.96560668945312,
          -73.97013854980467,
          -73.98188781738281,
          -73.97001647949219,
          -74.0139389038086,
          -73.96295928955078,
          -73.98324584960938,
          -73.97160339355469,
          -73.9527587890625,
          -73.95948791503906,
          -73.96974182128906,
          -73.78192138671875,
          -73.94640350341797,
          -73.97972869873048,
          -73.97085571289062,
          -74.00458526611328,
          -73.99742889404298,
          -74.00359344482422,
          -73.97468566894531,
          -74.00151824951173,
          -73.97239685058595,
          -73.95282745361328,
          -73.97776794433594,
          -73.97631072998048,
          -73.9781494140625,
          -73.96741485595702,
          -73.92103576660156,
          -73.97434234619139,
          -73.96236419677734,
          -73.98802947998048,
          -73.94779968261719,
          -73.98792266845702,
          -73.95319366455078,
          -73.95974731445312,
          -73.9532470703125,
          -73.90413665771484,
          -73.89300537109375,
          -74.00246429443358,
          -73.9832763671875,
          -73.95343017578125,
          -73.97037506103516,
          -73.96306610107422,
          -73.93858337402342,
          -73.99164581298828,
          -73.99500274658203,
          -73.94892883300781,
          -73.96743774414062,
          -73.93981170654298,
          -73.9586410522461,
          -73.9558334350586,
          -73.97246551513672,
          -73.9881591796875,
          -73.99555969238281
         ],
         "marker": {
          "color": "#00cc96",
          "size": [
           4,
           4,
           6,
           6,
           2,
           2,
           1,
           1,
           2,
           2,
           1,
           1,
           3,
           3,
           1,
           1,
           1,
           1,
           2,
           2,
           1,
           1,
           2,
           2,
           1,
           1,
           6,
           6,
           1,
           1,
           3,
           3,
           6,
           6,
           2,
           2,
           1,
           1,
           3,
           3,
           1,
           1,
           1,
           1,
           1,
           1,
           3,
           3,
           2,
           2,
           1,
           1,
           1,
           1,
           1,
           1,
           1,
           1,
           1,
           1,
           1,
           1,
           1,
           1,
           1,
           1,
           1,
           1,
           1,
           1,
           1,
           1
          ],
          "sizemode": "area",
          "sizeref": 0.06
         },
         "mode": "markers",
         "name": "조금빠름(path)",
         "opacity": 0.8,
         "showlegend": true,
         "subplot": "mapbox",
         "type": "scattermapbox"
        },
        {
         "hovertemplate": "평균속력=매우빠름<br>passenger_count=%{marker.size}<br>latitude=%{lat}<br>longitude=%{lon}<extra></extra>",
         "lat": [
          40.71914291381836,
          40.73513412475586,
          40.73052978515625,
          40.746219635009766,
          40.768253326416016,
          40.77399826049805,
          40.79136657714844,
          40.78382110595703,
          40.743614196777344,
          40.72272872924805,
          40.74108123779297,
          40.73556137084961,
          40.78915786743164,
          40.77948760986328,
          40.82606887817384,
          40.7630729675293,
          40.76192474365234,
          40.76654052734375,
          40.75484848022461,
          40.72767639160156,
          40.80709838867188,
          40.80038070678711,
          40.784122467041016,
          40.77589797973633,
          40.77938079833984,
          40.76678466796875,
          40.78065872192384,
          40.76536560058594,
          40.76067352294922,
          40.762725830078125,
          40.75823974609375,
          40.75593185424805,
          40.75821304321289,
          40.796680450439446,
          40.643508911132805,
          40.70578384399414,
          40.737281799316406,
          40.6446418762207,
          40.74114227294922,
          40.68381118774414,
          40.75043869018555,
          40.63109970092773,
          40.756568908691406,
          40.740058898925774,
          40.755401611328125,
          40.705509185791016,
          40.645286560058594,
          40.75309753417969,
          40.80809020996094,
          40.76717758178711,
          40.64693832397461,
          40.70998001098633,
          40.768848419189446,
          40.744606018066406,
          40.72843170166016,
          40.73809051513672,
          40.76412582397461,
          40.783740997314446,
          40.70758056640625,
          40.752979278564446,
          40.767120361328125,
          40.77658081054688,
          40.75527572631836,
          40.76887130737305,
          40.64477157592773,
          40.832279205322266,
          40.773601531982415,
          40.66177749633789,
          40.64687347412109,
          40.78129196166992,
          40.64469146728516,
          40.70872116088867,
          40.738807678222656,
          40.74818420410156
         ],
         "legendgroup": "매우빠름",
         "line": {
          "width": 1
         },
         "lon": [
          -74.00506591796875,
          -74.00606536865233,
          -73.98052215576173,
          -73.99799346923827,
          -73.98240661621094,
          -73.95751190185547,
          -73.97394561767578,
          -73.97989654541014,
          -73.95078277587889,
          -74.00621795654298,
          -74.00586700439453,
          -73.99239349365233,
          -73.94364166259764,
          -73.95057678222656,
          -73.94337463378906,
          -73.98128509521484,
          -73.97914123535155,
          -73.99016571044923,
          -73.98343658447266,
          -74.00334930419923,
          -73.95350646972656,
          -73.96750640869139,
          -73.9544906616211,
          -73.96086883544923,
          -73.94471740722656,
          -73.95954132080078,
          -73.98385620117188,
          -73.9659652709961,
          -73.98724365234375,
          -73.92682647705078,
          -73.98924255371094,
          -73.91887664794923,
          -73.98886108398438,
          -73.96269226074217,
          -73.79021453857422,
          -74.00952911376953,
          -74.00069427490233,
          -73.77690124511719,
          -73.99011993408203,
          -73.9951629638672,
          -73.99453735351561,
          -74.02571868896483,
          -73.98641967773438,
          -73.99530029296875,
          -73.96813201904298,
          -74.00707244873048,
          -73.7766876220703,
          -73.99340057373048,
          -73.9640121459961,
          -73.99046325683594,
          -73.78984832763672,
          -74.005126953125,
          -73.86279296875,
          -73.97144317626953,
          -73.99981689453125,
          -74.05081176757811,
          -73.97107696533203,
          -73.95669555664062,
          -74.00406646728516,
          -73.97933197021484,
          -73.9688720703125,
          -73.96205139160156,
          -73.96514892578125,
          -73.95445251464845,
          -73.78182983398438,
          -73.94233703613281,
          -73.87093353271484,
          -73.82536315917967,
          -73.79014587402342,
          -73.9521942138672,
          -73.78196716308595,
          -73.9399185180664,
          -73.98301696777342,
          -73.97811889648438
         ],
         "marker": {
          "color": "#ab63fa",
          "size": [
           1,
           1,
           1,
           1,
           2,
           2,
           1,
           1,
           1,
           1,
           1,
           1,
           1,
           1,
           1,
           1,
           1,
           1,
           1,
           1,
           1,
           1,
           1,
           1,
           1,
           1,
           1,
           1,
           1,
           1,
           1,
           1,
           1,
           1,
           1,
           1,
           1,
           1,
           1,
           1,
           1,
           1,
           6,
           6,
           1,
           1,
           2,
           2,
           6,
           6,
           1,
           1,
           1,
           1,
           1,
           1,
           5,
           5,
           1,
           1,
           1,
           1,
           1,
           1,
           1,
           1,
           2,
           2,
           1,
           1,
           2,
           2,
           1,
           1
          ],
          "sizemode": "area",
          "sizeref": 0.06
         },
         "mode": "markers",
         "name": "매우빠름(path)",
         "opacity": 0.8,
         "showlegend": true,
         "subplot": "mapbox",
         "type": "scattermapbox"
        }
       ],
       "layout": {
        "autosize": true,
        "legend": {
         "title": {
          "text": "평균속력"
         },
         "tracegroupgap": 0
        },
        "mapbox": {
         "bearing": 0,
         "center": {
          "lat": 40.74597542755109,
          "lon": -73.97564849127451
         },
         "domain": {
          "x": [
           0,
           1
          ],
          "y": [
           0,
           1
          ]
         },
         "pitch": 0,
         "style": "carto-positron",
         "zoom": 11.764188205515167
        },
        "margin": {
         "t": 60
        },
        "template": {
         "data": {
          "bar": [
           {
            "error_x": {
             "color": "#2a3f5f"
            },
            "error_y": {
             "color": "#2a3f5f"
            },
            "marker": {
             "line": {
              "color": "white",
              "width": 0.5
             },
             "pattern": {
              "fillmode": "overlay",
              "size": 10,
              "solidity": 0.2
             }
            },
            "type": "bar"
           }
          ],
          "barpolar": [
           {
            "marker": {
             "line": {
              "color": "white",
              "width": 0.5
             },
             "pattern": {
              "fillmode": "overlay",
              "size": 10,
              "solidity": 0.2
             }
            },
            "type": "barpolar"
           }
          ],
          "carpet": [
           {
            "aaxis": {
             "endlinecolor": "#2a3f5f",
             "gridcolor": "#C8D4E3",
             "linecolor": "#C8D4E3",
             "minorgridcolor": "#C8D4E3",
             "startlinecolor": "#2a3f5f"
            },
            "baxis": {
             "endlinecolor": "#2a3f5f",
             "gridcolor": "#C8D4E3",
             "linecolor": "#C8D4E3",
             "minorgridcolor": "#C8D4E3",
             "startlinecolor": "#2a3f5f"
            },
            "type": "carpet"
           }
          ],
          "choropleth": [
           {
            "colorbar": {
             "outlinewidth": 0,
             "ticks": ""
            },
            "type": "choropleth"
           }
          ],
          "contour": [
           {
            "colorbar": {
             "outlinewidth": 0,
             "ticks": ""
            },
            "colorscale": [
             [
              0,
              "#0d0887"
             ],
             [
              0.1111111111111111,
              "#46039f"
             ],
             [
              0.2222222222222222,
              "#7201a8"
             ],
             [
              0.3333333333333333,
              "#9c179e"
             ],
             [
              0.4444444444444444,
              "#bd3786"
             ],
             [
              0.5555555555555556,
              "#d8576b"
             ],
             [
              0.6666666666666666,
              "#ed7953"
             ],
             [
              0.7777777777777778,
              "#fb9f3a"
             ],
             [
              0.8888888888888888,
              "#fdca26"
             ],
             [
              1,
              "#f0f921"
             ]
            ],
            "type": "contour"
           }
          ],
          "contourcarpet": [
           {
            "colorbar": {
             "outlinewidth": 0,
             "ticks": ""
            },
            "type": "contourcarpet"
           }
          ],
          "heatmap": [
           {
            "colorbar": {
             "outlinewidth": 0,
             "ticks": ""
            },
            "colorscale": [
             [
              0,
              "#0d0887"
             ],
             [
              0.1111111111111111,
              "#46039f"
             ],
             [
              0.2222222222222222,
              "#7201a8"
             ],
             [
              0.3333333333333333,
              "#9c179e"
             ],
             [
              0.4444444444444444,
              "#bd3786"
             ],
             [
              0.5555555555555556,
              "#d8576b"
             ],
             [
              0.6666666666666666,
              "#ed7953"
             ],
             [
              0.7777777777777778,
              "#fb9f3a"
             ],
             [
              0.8888888888888888,
              "#fdca26"
             ],
             [
              1,
              "#f0f921"
             ]
            ],
            "type": "heatmap"
           }
          ],
          "heatmapgl": [
           {
            "colorbar": {
             "outlinewidth": 0,
             "ticks": ""
            },
            "colorscale": [
             [
              0,
              "#0d0887"
             ],
             [
              0.1111111111111111,
              "#46039f"
             ],
             [
              0.2222222222222222,
              "#7201a8"
             ],
             [
              0.3333333333333333,
              "#9c179e"
             ],
             [
              0.4444444444444444,
              "#bd3786"
             ],
             [
              0.5555555555555556,
              "#d8576b"
             ],
             [
              0.6666666666666666,
              "#ed7953"
             ],
             [
              0.7777777777777778,
              "#fb9f3a"
             ],
             [
              0.8888888888888888,
              "#fdca26"
             ],
             [
              1,
              "#f0f921"
             ]
            ],
            "type": "heatmapgl"
           }
          ],
          "histogram": [
           {
            "marker": {
             "pattern": {
              "fillmode": "overlay",
              "size": 10,
              "solidity": 0.2
             }
            },
            "type": "histogram"
           }
          ],
          "histogram2d": [
           {
            "colorbar": {
             "outlinewidth": 0,
             "ticks": ""
            },
            "colorscale": [
             [
              0,
              "#0d0887"
             ],
             [
              0.1111111111111111,
              "#46039f"
             ],
             [
              0.2222222222222222,
              "#7201a8"
             ],
             [
              0.3333333333333333,
              "#9c179e"
             ],
             [
              0.4444444444444444,
              "#bd3786"
             ],
             [
              0.5555555555555556,
              "#d8576b"
             ],
             [
              0.6666666666666666,
              "#ed7953"
             ],
             [
              0.7777777777777778,
              "#fb9f3a"
             ],
             [
              0.8888888888888888,
              "#fdca26"
             ],
             [
              1,
              "#f0f921"
             ]
            ],
            "type": "histogram2d"
           }
          ],
          "histogram2dcontour": [
           {
            "colorbar": {
             "outlinewidth": 0,
             "ticks": ""
            },
            "colorscale": [
             [
              0,
              "#0d0887"
             ],
             [
              0.1111111111111111,
              "#46039f"
             ],
             [
              0.2222222222222222,
              "#7201a8"
             ],
             [
              0.3333333333333333,
              "#9c179e"
             ],
             [
              0.4444444444444444,
              "#bd3786"
             ],
             [
              0.5555555555555556,
              "#d8576b"
             ],
             [
              0.6666666666666666,
              "#ed7953"
             ],
             [
              0.7777777777777778,
              "#fb9f3a"
             ],
             [
              0.8888888888888888,
              "#fdca26"
             ],
             [
              1,
              "#f0f921"
             ]
            ],
            "type": "histogram2dcontour"
           }
          ],
          "mesh3d": [
           {
            "colorbar": {
             "outlinewidth": 0,
             "ticks": ""
            },
            "type": "mesh3d"
           }
          ],
          "parcoords": [
           {
            "line": {
             "colorbar": {
              "outlinewidth": 0,
              "ticks": ""
             }
            },
            "type": "parcoords"
           }
          ],
          "pie": [
           {
            "automargin": true,
            "type": "pie"
           }
          ],
          "scatter": [
           {
            "fillpattern": {
             "fillmode": "overlay",
             "size": 10,
             "solidity": 0.2
            },
            "type": "scatter"
           }
          ],
          "scatter3d": [
           {
            "line": {
             "colorbar": {
              "outlinewidth": 0,
              "ticks": ""
             }
            },
            "marker": {
             "colorbar": {
              "outlinewidth": 0,
              "ticks": ""
             }
            },
            "type": "scatter3d"
           }
          ],
          "scattercarpet": [
           {
            "marker": {
             "colorbar": {
              "outlinewidth": 0,
              "ticks": ""
             }
            },
            "type": "scattercarpet"
           }
          ],
          "scattergeo": [
           {
            "marker": {
             "colorbar": {
              "outlinewidth": 0,
              "ticks": ""
             }
            },
            "type": "scattergeo"
           }
          ],
          "scattergl": [
           {
            "marker": {
             "colorbar": {
              "outlinewidth": 0,
              "ticks": ""
             }
            },
            "type": "scattergl"
           }
          ],
          "scattermapbox": [
           {
            "marker": {
             "colorbar": {
              "outlinewidth": 0,
              "ticks": ""
             }
            },
            "type": "scattermapbox"
           }
          ],
          "scatterpolar": [
           {
            "marker": {
             "colorbar": {
              "outlinewidth": 0,
              "ticks": ""
             }
            },
            "type": "scatterpolar"
           }
          ],
          "scatterpolargl": [
           {
            "marker": {
             "colorbar": {
              "outlinewidth": 0,
              "ticks": ""
             }
            },
            "type": "scatterpolargl"
           }
          ],
          "scatterternary": [
           {
            "marker": {
             "colorbar": {
              "outlinewidth": 0,
              "ticks": ""
             }
            },
            "type": "scatterternary"
           }
          ],
          "surface": [
           {
            "colorbar": {
             "outlinewidth": 0,
             "ticks": ""
            },
            "colorscale": [
             [
              0,
              "#0d0887"
             ],
             [
              0.1111111111111111,
              "#46039f"
             ],
             [
              0.2222222222222222,
              "#7201a8"
             ],
             [
              0.3333333333333333,
              "#9c179e"
             ],
             [
              0.4444444444444444,
              "#bd3786"
             ],
             [
              0.5555555555555556,
              "#d8576b"
             ],
             [
              0.6666666666666666,
              "#ed7953"
             ],
             [
              0.7777777777777778,
              "#fb9f3a"
             ],
             [
              0.8888888888888888,
              "#fdca26"
             ],
             [
              1,
              "#f0f921"
             ]
            ],
            "type": "surface"
           }
          ],
          "table": [
           {
            "cells": {
             "fill": {
              "color": "#EBF0F8"
             },
             "line": {
              "color": "white"
             }
            },
            "header": {
             "fill": {
              "color": "#C8D4E3"
             },
             "line": {
              "color": "white"
             }
            },
            "type": "table"
           }
          ]
         },
         "layout": {
          "annotationdefaults": {
           "arrowcolor": "#2a3f5f",
           "arrowhead": 0,
           "arrowwidth": 1
          },
          "autotypenumbers": "strict",
          "coloraxis": {
           "colorbar": {
            "outlinewidth": 0,
            "ticks": ""
           }
          },
          "colorscale": {
           "diverging": [
            [
             0,
             "#8e0152"
            ],
            [
             0.1,
             "#c51b7d"
            ],
            [
             0.2,
             "#de77ae"
            ],
            [
             0.3,
             "#f1b6da"
            ],
            [
             0.4,
             "#fde0ef"
            ],
            [
             0.5,
             "#f7f7f7"
            ],
            [
             0.6,
             "#e6f5d0"
            ],
            [
             0.7,
             "#b8e186"
            ],
            [
             0.8,
             "#7fbc41"
            ],
            [
             0.9,
             "#4d9221"
            ],
            [
             1,
             "#276419"
            ]
           ],
           "sequential": [
            [
             0,
             "#0d0887"
            ],
            [
             0.1111111111111111,
             "#46039f"
            ],
            [
             0.2222222222222222,
             "#7201a8"
            ],
            [
             0.3333333333333333,
             "#9c179e"
            ],
            [
             0.4444444444444444,
             "#bd3786"
            ],
            [
             0.5555555555555556,
             "#d8576b"
            ],
            [
             0.6666666666666666,
             "#ed7953"
            ],
            [
             0.7777777777777778,
             "#fb9f3a"
            ],
            [
             0.8888888888888888,
             "#fdca26"
            ],
            [
             1,
             "#f0f921"
            ]
           ],
           "sequentialminus": [
            [
             0,
             "#0d0887"
            ],
            [
             0.1111111111111111,
             "#46039f"
            ],
            [
             0.2222222222222222,
             "#7201a8"
            ],
            [
             0.3333333333333333,
             "#9c179e"
            ],
            [
             0.4444444444444444,
             "#bd3786"
            ],
            [
             0.5555555555555556,
             "#d8576b"
            ],
            [
             0.6666666666666666,
             "#ed7953"
            ],
            [
             0.7777777777777778,
             "#fb9f3a"
            ],
            [
             0.8888888888888888,
             "#fdca26"
            ],
            [
             1,
             "#f0f921"
            ]
           ]
          },
          "colorway": [
           "#636efa",
           "#EF553B",
           "#00cc96",
           "#ab63fa",
           "#FFA15A",
           "#19d3f3",
           "#FF6692",
           "#B6E880",
           "#FF97FF",
           "#FECB52"
          ],
          "font": {
           "color": "#2a3f5f"
          },
          "geo": {
           "bgcolor": "white",
           "lakecolor": "white",
           "landcolor": "white",
           "showlakes": true,
           "showland": true,
           "subunitcolor": "#C8D4E3"
          },
          "hoverlabel": {
           "align": "left"
          },
          "hovermode": "closest",
          "mapbox": {
           "style": "light"
          },
          "paper_bgcolor": "white",
          "plot_bgcolor": "white",
          "polar": {
           "angularaxis": {
            "gridcolor": "#EBF0F8",
            "linecolor": "#EBF0F8",
            "ticks": ""
           },
           "bgcolor": "white",
           "radialaxis": {
            "gridcolor": "#EBF0F8",
            "linecolor": "#EBF0F8",
            "ticks": ""
           }
          },
          "scene": {
           "xaxis": {
            "backgroundcolor": "white",
            "gridcolor": "#DFE8F3",
            "gridwidth": 2,
            "linecolor": "#EBF0F8",
            "showbackground": true,
            "ticks": "",
            "zerolinecolor": "#EBF0F8"
           },
           "yaxis": {
            "backgroundcolor": "white",
            "gridcolor": "#DFE8F3",
            "gridwidth": 2,
            "linecolor": "#EBF0F8",
            "showbackground": true,
            "ticks": "",
            "zerolinecolor": "#EBF0F8"
           },
           "zaxis": {
            "backgroundcolor": "white",
            "gridcolor": "#DFE8F3",
            "gridwidth": 2,
            "linecolor": "#EBF0F8",
            "showbackground": true,
            "ticks": "",
            "zerolinecolor": "#EBF0F8"
           }
          },
          "shapedefaults": {
           "line": {
            "color": "#2a3f5f"
           }
          },
          "ternary": {
           "aaxis": {
            "gridcolor": "#DFE8F3",
            "linecolor": "#A2B1C6",
            "ticks": ""
           },
           "baxis": {
            "gridcolor": "#DFE8F3",
            "linecolor": "#A2B1C6",
            "ticks": ""
           },
           "bgcolor": "white",
           "caxis": {
            "gridcolor": "#DFE8F3",
            "linecolor": "#A2B1C6",
            "ticks": ""
           }
          },
          "title": {
           "x": 0.05
          },
          "xaxis": {
           "automargin": true,
           "gridcolor": "#EBF0F8",
           "linecolor": "#EBF0F8",
           "ticks": "",
           "title": {
            "standoff": 15
           },
           "zerolinecolor": "#EBF0F8",
           "zerolinewidth": 2
          },
          "yaxis": {
           "automargin": true,
           "gridcolor": "#EBF0F8",
           "linecolor": "#EBF0F8",
           "ticks": "",
           "title": {
            "standoff": 15
           },
           "zerolinecolor": "#EBF0F8",
           "zerolinewidth": 2
          }
         }
        }
       }
      },
      "image/png": "[encoded data removed]",
      "text/html": [
       "<div>                            <div id=\"e8a781ee-6589-4837-ab97-5ffaa3f084ea\" class=\"plotly-graph-div\" style=\"height:525px; width:100%;\"></div>            <script type=\"text/javascript\">                require([\"plotly\"], function(Plotly) {                    window.PLOTLYENV=window.PLOTLYENV || {};                                    if (document.getElementById(\"e8a781ee-6589-4837-ab97-5ffaa3f084ea\")) {                    Plotly.newPlot(                        \"e8a781ee-6589-4837-ab97-5ffaa3f084ea\",                        [{\"hovertemplate\":\"\\ud3c9\\uade0\\uc18d\\ub825=\\ub9e4\\uc6b0\\ub290\\ub9bc\\u003cbr\\u003eid=id1891478\\u003cbr\\u003elatitude=%{lat}\\u003cbr\\u003elongitude=%{lon}\\u003cextra\\u003e\\u003c\\u002fextra\\u003e\",\"lat\":[40.75983047485352,40.75983047485352],\"legendgroup\":\"\\ub9e4\\uc6b0\\ub290\\ub9bc\",\"line\":{\"color\":\"#636efa\",\"width\":1},\"lon\":[-73.97090148925781,-73.97090148925781],\"mode\":\"lines\",\"name\":\"\\ub9e4\\uc6b0\\ub290\\ub9bc (pickup\\u002fdropoff)\",\"showlegend\":true,\"subplot\":\"mapbox\",\"type\":\"scattermapbox\",\"opacity\":0.8},{\"hovertemplate\":\"\\ud3c9\\uade0\\uc18d\\ub825=\\ub9e4\\uc6b0\\ub290\\ub9bc\\u003cbr\\u003eid=id1395947\\u003cbr\\u003elatitude=%{lat}\\u003cbr\\u003elongitude=%{lon}\\u003cextra\\u003e\\u003c\\u002fextra\\u003e\",\"lat\":[40.78168487548828,40.781299591064446],\"legendgroup\":\"\\ub9e4\\uc6b0\\ub290\\ub9bc\",\"line\":{\"color\":\"#636efa\",\"width\":1},\"lon\":[-73.98113250732422,-73.981201171875],\"mode\":\"lines\",\"name\":\"\\ub9e4\\uc6b0\\ub290\\ub9bc (pickup\\u002fdropoff)\",\"showlegend\":false,\"subplot\":\"mapbox\",\"type\":\"scattermapbox\",\"opacity\":0.8},{\"hovertemplate\":\"\\ud3c9\\uade0\\uc18d\\ub825=\\ub9e4\\uc6b0\\ub290\\ub9bc\\u003cbr\\u003eid=id0616736\\u003cbr\\u003elatitude=%{lat}\\u003cbr\\u003elongitude=%{lon}\\u003cextra\\u003e\\u003c\\u002fextra\\u003e\",\"lat\":[40.763519287109375,40.761749267578125],\"legendgroup\":\"\\ub9e4\\uc6b0\\ub290\\ub9bc\",\"line\":{\"color\":\"#636efa\",\"width\":1},\"lon\":[-73.96932220458984,-73.97138977050781],\"mode\":\"lines\",\"name\":\"\\ub9e4\\uc6b0\\ub290\\ub9bc (pickup\\u002fdropoff)\",\"showlegend\":false,\"subplot\":\"mapbox\",\"type\":\"scattermapbox\",\"opacity\":0.8},{\"hovertemplate\":\"\\ud3c9\\uade0\\uc18d\\ub825=\\ub9e4\\uc6b0\\ub290\\ub9bc\\u003cbr\\u003eid=id1509328\\u003cbr\\u003elatitude=%{lat}\\u003cbr\\u003elongitude=%{lon}\\u003cextra\\u003e\\u003c\\u002fextra\\u003e\",\"lat\":[40.74432373046875,40.74211883544922],\"legendgroup\":\"\\ub9e4\\uc6b0\\ub290\\ub9bc\",\"line\":{\"color\":\"#636efa\",\"width\":1},\"lon\":[-73.98423767089844,-73.97466278076173],\"mode\":\"lines\",\"name\":\"\\ub9e4\\uc6b0\\ub290\\ub9bc (pickup\\u002fdropoff)\",\"showlegend\":false,\"subplot\":\"mapbox\",\"type\":\"scattermapbox\",\"opacity\":0.8},{\"hovertemplate\":\"\\ud3c9\\uade0\\uc18d\\ub825=\\ub9e4\\uc6b0\\ub290\\ub9bc\\u003cbr\\u003eid=id3407848\\u003cbr\\u003elatitude=%{lat}\\u003cbr\\u003elongitude=%{lon}\\u003cextra\\u003e\\u003c\\u002fextra\\u003e\",\"lat\":[40.70718383789063,40.70901870727539],\"legendgroup\":\"\\ub9e4\\uc6b0\\ub290\\ub9bc\",\"line\":{\"color\":\"#636efa\",\"width\":1},\"lon\":[-74.01651763916014,-74.0118637084961],\"mode\":\"lines\",\"name\":\"\\ub9e4\\uc6b0\\ub290\\ub9bc (pickup\\u002fdropoff)\",\"showlegend\":false,\"subplot\":\"mapbox\",\"type\":\"scattermapbox\",\"opacity\":0.8},{\"hovertemplate\":\"\\ud3c9\\uade0\\uc18d\\ub825=\\ub9e4\\uc6b0\\ub290\\ub9bc\\u003cbr\\u003eid=id1485571\\u003cbr\\u003elatitude=%{lat}\\u003cbr\\u003elongitude=%{lon}\\u003cextra\\u003e\\u003c\\u002fextra\\u003e\",\"lat\":[40.77154159545898,40.77495956420898],\"legendgroup\":\"\\ub9e4\\uc6b0\\ub290\\ub9bc\",\"line\":{\"color\":\"#636efa\",\"width\":1},\"lon\":[-73.9818115234375,-73.98088073730467],\"mode\":\"lines\",\"name\":\"\\ub9e4\\uc6b0\\ub290\\ub9bc (pickup\\u002fdropoff)\",\"showlegend\":false,\"subplot\":\"mapbox\",\"type\":\"scattermapbox\",\"opacity\":0.8},{\"hovertemplate\":\"\\ud3c9\\uade0\\uc18d\\ub825=\\ub9e4\\uc6b0\\ub290\\ub9bc\\u003cbr\\u003eid=id0179765\\u003cbr\\u003elatitude=%{lat}\\u003cbr\\u003elongitude=%{lon}\\u003cextra\\u003e\\u003c\\u002fextra\\u003e\",\"lat\":[40.72530364990234,40.71965026855469],\"legendgroup\":\"\\ub9e4\\uc6b0\\ub290\\ub9bc\",\"line\":{\"color\":\"#636efa\",\"width\":1},\"lon\":[-73.9925537109375,-73.9946060180664],\"mode\":\"lines\",\"name\":\"\\ub9e4\\uc6b0\\ub290\\ub9bc (pickup\\u002fdropoff)\",\"showlegend\":false,\"subplot\":\"mapbox\",\"type\":\"scattermapbox\",\"opacity\":0.8},{\"hovertemplate\":\"\\ud3c9\\uade0\\uc18d\\ub825=\\ub9e4\\uc6b0\\ub290\\ub9bc\\u003cbr\\u003eid=id0500836\\u003cbr\\u003elatitude=%{lat}\\u003cbr\\u003elongitude=%{lon}\\u003cextra\\u003e\\u003c\\u002fextra\\u003e\",\"lat\":[40.75623321533203,40.734371185302734],\"legendgroup\":\"\\ub9e4\\uc6b0\\ub290\\ub9bc\",\"line\":{\"color\":\"#636efa\",\"width\":1},\"lon\":[-73.99331665039062,-73.98973846435547],\"mode\":\"lines\",\"name\":\"\\ub9e4\\uc6b0\\ub290\\ub9bc (pickup\\u002fdropoff)\",\"showlegend\":false,\"subplot\":\"mapbox\",\"type\":\"scattermapbox\",\"opacity\":0.8},{\"hovertemplate\":\"\\ud3c9\\uade0\\uc18d\\ub825=\\ub9e4\\uc6b0\\ub290\\ub9bc\\u003cbr\\u003eid=id1727712\\u003cbr\\u003elatitude=%{lat}\\u003cbr\\u003elongitude=%{lon}\\u003cextra\\u003e\\u003c\\u002fextra\\u003e\",\"lat\":[40.739540100097656,40.735721588134766],\"legendgroup\":\"\\ub9e4\\uc6b0\\ub290\\ub9bc\",\"line\":{\"color\":\"#636efa\",\"width\":1},\"lon\":[-73.98706817626953,-73.98265838623048],\"mode\":\"lines\",\"name\":\"\\ub9e4\\uc6b0\\ub290\\ub9bc (pickup\\u002fdropoff)\",\"showlegend\":false,\"subplot\":\"mapbox\",\"type\":\"scattermapbox\",\"opacity\":0.8},{\"hovertemplate\":\"\\ud3c9\\uade0\\uc18d\\ub825=\\ub9e4\\uc6b0\\ub290\\ub9bc\\u003cbr\\u003eid=id3810822\\u003cbr\\u003elatitude=%{lat}\\u003cbr\\u003elongitude=%{lon}\\u003cextra\\u003e\\u003c\\u002fextra\\u003e\",\"lat\":[40.73308181762695,40.730018615722656],\"legendgroup\":\"\\ub9e4\\uc6b0\\ub290\\ub9bc\",\"line\":{\"color\":\"#636efa\",\"width\":1},\"lon\":[-74.00662231445312,-74.00050354003906],\"mode\":\"lines\",\"name\":\"\\ub9e4\\uc6b0\\ub290\\ub9bc (pickup\\u002fdropoff)\",\"showlegend\":false,\"subplot\":\"mapbox\",\"type\":\"scattermapbox\",\"opacity\":0.8},{\"hovertemplate\":\"\\ud3c9\\uade0\\uc18d\\ub825=\\ub9e4\\uc6b0\\ub290\\ub9bc\\u003cbr\\u003eid=id3547943\\u003cbr\\u003elatitude=%{lat}\\u003cbr\\u003elongitude=%{lon}\\u003cextra\\u003e\\u003c\\u002fextra\\u003e\",\"lat\":[40.776123046875,40.77534103393555],\"legendgroup\":\"\\ub9e4\\uc6b0\\ub290\\ub9bc\",\"line\":{\"color\":\"#636efa\",\"width\":1},\"lon\":[-73.96235656738281,-73.96501922607422],\"mode\":\"lines\",\"name\":\"\\ub9e4\\uc6b0\\ub290\\ub9bc (pickup\\u002fdropoff)\",\"showlegend\":false,\"subplot\":\"mapbox\",\"type\":\"scattermapbox\",\"opacity\":0.8},{\"hovertemplate\":\"\\ud3c9\\uade0\\uc18d\\ub825=\\ub9e4\\uc6b0\\ub290\\ub9bc\\u003cbr\\u003eid=id2882780\\u003cbr\\u003elatitude=%{lat}\\u003cbr\\u003elongitude=%{lon}\\u003cextra\\u003e\\u003c\\u002fextra\\u003e\",\"lat\":[40.746826171875,40.777099609375],\"legendgroup\":\"\\ub9e4\\uc6b0\\ub290\\ub9bc\",\"line\":{\"color\":\"#636efa\",\"width\":1},\"lon\":[-73.99005889892578,-73.97775268554686],\"mode\":\"lines\",\"name\":\"\\ub9e4\\uc6b0\\ub290\\ub9bc (pickup\\u002fdropoff)\",\"showlegend\":false,\"subplot\":\"mapbox\",\"type\":\"scattermapbox\",\"opacity\":0.8},{\"hovertemplate\":\"\\ud3c9\\uade0\\uc18d\\ub825=\\ub9e4\\uc6b0\\ub290\\ub9bc\\u003cbr\\u003eid=id0092643\\u003cbr\\u003elatitude=%{lat}\\u003cbr\\u003elongitude=%{lon}\\u003cextra\\u003e\\u003c\\u002fextra\\u003e\",\"lat\":[40.74184036254882,40.74722671508789],\"legendgroup\":\"\\ub9e4\\uc6b0\\ub290\\ub9bc\",\"line\":{\"color\":\"#636efa\",\"width\":1},\"lon\":[-74.0008773803711,-73.9910430908203],\"mode\":\"lines\",\"name\":\"\\ub9e4\\uc6b0\\ub290\\ub9bc (pickup\\u002fdropoff)\",\"showlegend\":false,\"subplot\":\"mapbox\",\"type\":\"scattermapbox\",\"opacity\":0.8},{\"hovertemplate\":\"\\ud3c9\\uade0\\uc18d\\ub825=\\ub9e4\\uc6b0\\ub290\\ub9bc\\u003cbr\\u003eid=id0797253\\u003cbr\\u003elatitude=%{lat}\\u003cbr\\u003elongitude=%{lon}\\u003cextra\\u003e\\u003c\\u002fextra\\u003e\",\"lat\":[40.7467155456543,40.75249862670898],\"legendgroup\":\"\\ub9e4\\uc6b0\\ub290\\ub9bc\",\"line\":{\"color\":\"#636efa\",\"width\":1},\"lon\":[-73.98993682861328,-73.97853851318358],\"mode\":\"lines\",\"name\":\"\\ub9e4\\uc6b0\\ub290\\ub9bc (pickup\\u002fdropoff)\",\"showlegend\":false,\"subplot\":\"mapbox\",\"type\":\"scattermapbox\",\"opacity\":0.8},{\"hovertemplate\":\"\\ud3c9\\uade0\\uc18d\\ub825=\\ub9e4\\uc6b0\\ub290\\ub9bc\\u003cbr\\u003eid=id3758654\\u003cbr\\u003elatitude=%{lat}\\u003cbr\\u003elongitude=%{lon}\\u003cextra\\u003e\\u003c\\u002fextra\\u003e\",\"lat\":[40.72259521484375,40.72389602661133],\"legendgroup\":\"\\ub9e4\\uc6b0\\ub290\\ub9bc\",\"line\":{\"color\":\"#636efa\",\"width\":1},\"lon\":[-74.00528717041014,-74.00457000732422],\"mode\":\"lines\",\"name\":\"\\ub9e4\\uc6b0\\ub290\\ub9bc (pickup\\u002fdropoff)\",\"showlegend\":false,\"subplot\":\"mapbox\",\"type\":\"scattermapbox\",\"opacity\":0.8},{\"hovertemplate\":\"\\ud3c9\\uade0\\uc18d\\ub825=\\ub9e4\\uc6b0\\ub290\\ub9bc\\u003cbr\\u003eid=id3572411\\u003cbr\\u003elatitude=%{lat}\\u003cbr\\u003elongitude=%{lon}\\u003cextra\\u003e\\u003c\\u002fextra\\u003e\",\"lat\":[40.76140594482422,40.76454162597656],\"legendgroup\":\"\\ub9e4\\uc6b0\\ub290\\ub9bc\",\"line\":{\"color\":\"#636efa\",\"width\":1},\"lon\":[-73.97090911865233,-73.97366333007811],\"mode\":\"lines\",\"name\":\"\\ub9e4\\uc6b0\\ub290\\ub9bc (pickup\\u002fdropoff)\",\"showlegend\":false,\"subplot\":\"mapbox\",\"type\":\"scattermapbox\",\"opacity\":0.8},{\"hovertemplate\":\"\\ud3c9\\uade0\\uc18d\\ub825=\\ub9e4\\uc6b0\\ub290\\ub9bc\\u003cbr\\u003eid=id1710393\\u003cbr\\u003elatitude=%{lat}\\u003cbr\\u003elongitude=%{lon}\\u003cextra\\u003e\\u003c\\u002fextra\\u003e\",\"lat\":[40.744140625,40.74169921875],\"legendgroup\":\"\\ub9e4\\uc6b0\\ub290\\ub9bc\",\"line\":{\"color\":\"#636efa\",\"width\":1},\"lon\":[-73.97913360595702,-73.97492218017578],\"mode\":\"lines\",\"name\":\"\\ub9e4\\uc6b0\\ub290\\ub9bc (pickup\\u002fdropoff)\",\"showlegend\":false,\"subplot\":\"mapbox\",\"type\":\"scattermapbox\",\"opacity\":0.8},{\"hovertemplate\":\"\\ud3c9\\uade0\\uc18d\\ub825=\\ub9e4\\uc6b0\\ub290\\ub9bc\\u003cbr\\u003eid=id2113737\\u003cbr\\u003elatitude=%{lat}\\u003cbr\\u003elongitude=%{lon}\\u003cextra\\u003e\\u003c\\u002fextra\\u003e\",\"lat\":[40.78596115112305,40.77871322631836],\"legendgroup\":\"\\ub9e4\\uc6b0\\ub290\\ub9bc\",\"line\":{\"color\":\"#636efa\",\"width\":1},\"lon\":[-73.97699737548828,-73.9814453125],\"mode\":\"lines\",\"name\":\"\\ub9e4\\uc6b0\\ub290\\ub9bc (pickup\\u002fdropoff)\",\"showlegend\":false,\"subplot\":\"mapbox\",\"type\":\"scattermapbox\",\"opacity\":0.8},{\"hovertemplate\":\"\\ud3c9\\uade0\\uc18d\\ub825=\\ub9e4\\uc6b0\\ub290\\ub9bc\\u003cbr\\u003eid=id0297795\\u003cbr\\u003elatitude=%{lat}\\u003cbr\\u003elongitude=%{lon}\\u003cextra\\u003e\\u003c\\u002fextra\\u003e\",\"lat\":[40.794048309326165,40.79790878295898],\"legendgroup\":\"\\ub9e4\\uc6b0\\ub290\\ub9bc\",\"line\":{\"color\":\"#636efa\",\"width\":1},\"lon\":[-73.97196960449217,-73.97329711914062],\"mode\":\"lines\",\"name\":\"\\ub9e4\\uc6b0\\ub290\\ub9bc (pickup\\u002fdropoff)\",\"showlegend\":false,\"subplot\":\"mapbox\",\"type\":\"scattermapbox\",\"opacity\":0.8},{\"hovertemplate\":\"\\ud3c9\\uade0\\uc18d\\ub825=\\ub9e4\\uc6b0\\ub290\\ub9bc\\u003cbr\\u003eid=id1062824\\u003cbr\\u003elatitude=%{lat}\\u003cbr\\u003elongitude=%{lon}\\u003cextra\\u003e\\u003c\\u002fextra\\u003e\",\"lat\":[40.76639175415039,40.75261306762695],\"legendgroup\":\"\\ub9e4\\uc6b0\\ub290\\ub9bc\",\"line\":{\"color\":\"#636efa\",\"width\":1},\"lon\":[-73.96286010742188,-73.98545074462889],\"mode\":\"lines\",\"name\":\"\\ub9e4\\uc6b0\\ub290\\ub9bc (pickup\\u002fdropoff)\",\"showlegend\":false,\"subplot\":\"mapbox\",\"type\":\"scattermapbox\",\"opacity\":0.8},{\"hovertemplate\":\"\\ud3c9\\uade0\\uc18d\\ub825=\\ub9e4\\uc6b0\\ub290\\ub9bc\\u003cbr\\u003eid=id1625242\\u003cbr\\u003elatitude=%{lat}\\u003cbr\\u003elongitude=%{lon}\\u003cextra\\u003e\\u003c\\u002fextra\\u003e\",\"lat\":[40.73777770996094,40.74677658081056],\"legendgroup\":\"\\ub9e4\\uc6b0\\ub290\\ub9bc\",\"line\":{\"color\":\"#636efa\",\"width\":1},\"lon\":[-73.99762725830078,-74.00828552246092],\"mode\":\"lines\",\"name\":\"\\ub9e4\\uc6b0\\ub290\\ub9bc (pickup\\u002fdropoff)\",\"showlegend\":false,\"subplot\":\"mapbox\",\"type\":\"scattermapbox\",\"opacity\":0.8},{\"hovertemplate\":\"\\ud3c9\\uade0\\uc18d\\ub825=\\ub9e4\\uc6b0\\ub290\\ub9bc\\u003cbr\\u003eid=id3281834\\u003cbr\\u003elatitude=%{lat}\\u003cbr\\u003elongitude=%{lon}\\u003cextra\\u003e\\u003c\\u002fextra\\u003e\",\"lat\":[40.7393684387207,40.74413299560546],\"legendgroup\":\"\\ub9e4\\uc6b0\\ub290\\ub9bc\",\"line\":{\"color\":\"#636efa\",\"width\":1},\"lon\":[-74.00737762451173,-74.00689697265625],\"mode\":\"lines\",\"name\":\"\\ub9e4\\uc6b0\\ub290\\ub9bc (pickup\\u002fdropoff)\",\"showlegend\":false,\"subplot\":\"mapbox\",\"type\":\"scattermapbox\",\"opacity\":0.8},{\"hovertemplate\":\"\\ud3c9\\uade0\\uc18d\\ub825=\\ub9e4\\uc6b0\\ub290\\ub9bc\\u003cbr\\u003eid=id2916371\\u003cbr\\u003elatitude=%{lat}\\u003cbr\\u003elongitude=%{lon}\\u003cextra\\u003e\\u003c\\u002fextra\\u003e\",\"lat\":[40.7324447631836,40.7302360534668],\"legendgroup\":\"\\ub9e4\\uc6b0\\ub290\\ub9bc\",\"line\":{\"color\":\"#636efa\",\"width\":1},\"lon\":[-74.00647735595702,-73.99922180175781],\"mode\":\"lines\",\"name\":\"\\ub9e4\\uc6b0\\ub290\\ub9bc (pickup\\u002fdropoff)\",\"showlegend\":false,\"subplot\":\"mapbox\",\"type\":\"scattermapbox\",\"opacity\":0.8},{\"hovertemplate\":\"\\ud3c9\\uade0\\uc18d\\ub825=\\ub9e4\\uc6b0\\ub290\\ub9bc\\u003cbr\\u003eid=id0120497\\u003cbr\\u003elatitude=%{lat}\\u003cbr\\u003elongitude=%{lon}\\u003cextra\\u003e\\u003c\\u002fextra\\u003e\",\"lat\":[40.74240493774414,40.72117233276367],\"legendgroup\":\"\\ub9e4\\uc6b0\\ub290\\ub9bc\",\"line\":{\"color\":\"#636efa\",\"width\":1},\"lon\":[-74.00107574462889,-73.98760986328125],\"mode\":\"lines\",\"name\":\"\\ub9e4\\uc6b0\\ub290\\ub9bc (pickup\\u002fdropoff)\",\"showlegend\":false,\"subplot\":\"mapbox\",\"type\":\"scattermapbox\",\"opacity\":0.8},{\"hovertemplate\":\"\\ud3c9\\uade0\\uc18d\\ub825=\\ub9e4\\uc6b0\\ub290\\ub9bc\\u003cbr\\u003eid=id2054788\\u003cbr\\u003elatitude=%{lat}\\u003cbr\\u003elongitude=%{lon}\\u003cextra\\u003e\\u003c\\u002fextra\\u003e\",\"lat\":[40.76290130615234,40.74275970458984],\"legendgroup\":\"\\ub9e4\\uc6b0\\ub290\\ub9bc\",\"line\":{\"color\":\"#636efa\",\"width\":1},\"lon\":[-73.98320770263672,-73.97737884521484],\"mode\":\"lines\",\"name\":\"\\ub9e4\\uc6b0\\ub290\\ub9bc (pickup\\u002fdropoff)\",\"showlegend\":false,\"subplot\":\"mapbox\",\"type\":\"scattermapbox\",\"opacity\":0.8},{\"hovertemplate\":\"\\ud3c9\\uade0\\uc18d\\ub825=\\ub9e4\\uc6b0\\ub290\\ub9bc\\u003cbr\\u003eid=id3888107\\u003cbr\\u003elatitude=%{lat}\\u003cbr\\u003elongitude=%{lon}\\u003cextra\\u003e\\u003c\\u002fextra\\u003e\",\"lat\":[40.757469177246094,40.771968841552734],\"legendgroup\":\"\\ub9e4\\uc6b0\\ub290\\ub9bc\",\"line\":{\"color\":\"#636efa\",\"width\":1},\"lon\":[-73.96942901611328,-73.9827423095703],\"mode\":\"lines\",\"name\":\"\\ub9e4\\uc6b0\\ub290\\ub9bc (pickup\\u002fdropoff)\",\"showlegend\":false,\"subplot\":\"mapbox\",\"type\":\"scattermapbox\",\"opacity\":0.8},{\"hovertemplate\":\"\\ud3c9\\uade0\\uc18d\\ub825=\\ub9e4\\uc6b0\\ub290\\ub9bc\\u003cbr\\u003eid=id3094934\\u003cbr\\u003elatitude=%{lat}\\u003cbr\\u003elongitude=%{lon}\\u003cextra\\u003e\\u003c\\u002fextra\\u003e\",\"lat\":[40.72243118286133,40.76266860961913],\"legendgroup\":\"\\ub9e4\\uc6b0\\ub290\\ub9bc\",\"line\":{\"color\":\"#636efa\",\"width\":1},\"lon\":[-73.98615264892578,-73.98597717285155],\"mode\":\"lines\",\"name\":\"\\ub9e4\\uc6b0\\ub290\\ub9bc (pickup\\u002fdropoff)\",\"showlegend\":false,\"subplot\":\"mapbox\",\"type\":\"scattermapbox\",\"opacity\":0.8},{\"hovertemplate\":\"\\ud3c9\\uade0\\uc18d\\ub825=\\ub9e4\\uc6b0\\ub290\\ub9bc\\u003cbr\\u003eid=id0833022\\u003cbr\\u003elatitude=%{lat}\\u003cbr\\u003elongitude=%{lon}\\u003cextra\\u003e\\u003c\\u002fextra\\u003e\",\"lat\":[40.79840850830078,40.79058837890625],\"legendgroup\":\"\\ub9e4\\uc6b0\\ub290\\ub9bc\",\"line\":{\"color\":\"#636efa\",\"width\":1},\"lon\":[-73.95243072509764,-73.949951171875],\"mode\":\"lines\",\"name\":\"\\ub9e4\\uc6b0\\ub290\\ub9bc (pickup\\u002fdropoff)\",\"showlegend\":false,\"subplot\":\"mapbox\",\"type\":\"scattermapbox\",\"opacity\":0.8},{\"hovertemplate\":\"\\ud3c9\\uade0\\uc18d\\ub825=\\ub9e4\\uc6b0\\ub290\\ub9bc\\u003cbr\\u003eid=id3579875\\u003cbr\\u003elatitude=%{lat}\\u003cbr\\u003elongitude=%{lon}\\u003cextra\\u003e\\u003c\\u002fextra\\u003e\",\"lat\":[40.76341247558594,40.71963119506836],\"legendgroup\":\"\\ub9e4\\uc6b0\\ub290\\ub9bc\",\"line\":{\"color\":\"#636efa\",\"width\":1},\"lon\":[-73.98194122314453,-73.99542999267578],\"mode\":\"lines\",\"name\":\"\\ub9e4\\uc6b0\\ub290\\ub9bc (pickup\\u002fdropoff)\",\"showlegend\":false,\"subplot\":\"mapbox\",\"type\":\"scattermapbox\",\"opacity\":0.8},{\"hovertemplate\":\"\\ud3c9\\uade0\\uc18d\\ub825=\\ub9e4\\uc6b0\\ub290\\ub9bc\\u003cbr\\u003eid=id3508248\\u003cbr\\u003elatitude=%{lat}\\u003cbr\\u003elongitude=%{lon}\\u003cextra\\u003e\\u003c\\u002fextra\\u003e\",\"lat\":[40.74380493164063,40.75000762939453],\"legendgroup\":\"\\ub9e4\\uc6b0\\ub290\\ub9bc\",\"line\":{\"color\":\"#636efa\",\"width\":1},\"lon\":[-73.98795318603516,-73.99179077148438],\"mode\":\"lines\",\"name\":\"\\ub9e4\\uc6b0\\ub290\\ub9bc (pickup\\u002fdropoff)\",\"showlegend\":false,\"subplot\":\"mapbox\",\"type\":\"scattermapbox\",\"opacity\":0.8},{\"hovertemplate\":\"\\ud3c9\\uade0\\uc18d\\ub825=\\ub9e4\\uc6b0\\ub290\\ub9bc\\u003cbr\\u003eid=id1927858\\u003cbr\\u003elatitude=%{lat}\\u003cbr\\u003elongitude=%{lon}\\u003cextra\\u003e\\u003c\\u002fextra\\u003e\",\"lat\":[40.74729537963867,40.761695861816406],\"legendgroup\":\"\\ub9e4\\uc6b0\\ub290\\ub9bc\",\"line\":{\"color\":\"#636efa\",\"width\":1},\"lon\":[-73.98175048828125,-74.00177764892578],\"mode\":\"lines\",\"name\":\"\\ub9e4\\uc6b0\\ub290\\ub9bc (pickup\\u002fdropoff)\",\"showlegend\":false,\"subplot\":\"mapbox\",\"type\":\"scattermapbox\",\"opacity\":0.8},{\"hovertemplate\":\"\\ud3c9\\uade0\\uc18d\\ub825=\\ub9e4\\uc6b0\\ub290\\ub9bc\\u003cbr\\u003eid=id0833453\\u003cbr\\u003elatitude=%{lat}\\u003cbr\\u003elongitude=%{lon}\\u003cextra\\u003e\\u003c\\u002fextra\\u003e\",\"lat\":[40.72234725952149,40.74566268920898],\"legendgroup\":\"\\ub9e4\\uc6b0\\ub290\\ub9bc\",\"line\":{\"color\":\"#636efa\",\"width\":1},\"lon\":[-73.99722290039062,-73.98463439941406],\"mode\":\"lines\",\"name\":\"\\ub9e4\\uc6b0\\ub290\\ub9bc (pickup\\u002fdropoff)\",\"showlegend\":false,\"subplot\":\"mapbox\",\"type\":\"scattermapbox\",\"opacity\":0.8},{\"hovertemplate\":\"\\ud3c9\\uade0\\uc18d\\ub825=\\ub9e4\\uc6b0\\ub290\\ub9bc\\u003cbr\\u003eid=id0503659\\u003cbr\\u003elatitude=%{lat}\\u003cbr\\u003elongitude=%{lon}\\u003cextra\\u003e\\u003c\\u002fextra\\u003e\",\"lat\":[40.78450012207031,40.804832458496094],\"legendgroup\":\"\\ub9e4\\uc6b0\\ub290\\ub9bc\",\"line\":{\"color\":\"#636efa\",\"width\":1},\"lon\":[-73.95220947265625,-73.96610260009764],\"mode\":\"lines\",\"name\":\"\\ub9e4\\uc6b0\\ub290\\ub9bc (pickup\\u002fdropoff)\",\"showlegend\":false,\"subplot\":\"mapbox\",\"type\":\"scattermapbox\",\"opacity\":0.8},{\"hovertemplate\":\"\\ud3c9\\uade0\\uc18d\\ub825=\\ub9e4\\uc6b0\\ub290\\ub9bc\\u003cbr\\u003eid=id0261033\\u003cbr\\u003elatitude=%{lat}\\u003cbr\\u003elongitude=%{lon}\\u003cextra\\u003e\\u003c\\u002fextra\\u003e\",\"lat\":[40.773868560791016,40.75505065917969],\"legendgroup\":\"\\ub9e4\\uc6b0\\ub290\\ub9bc\",\"line\":{\"color\":\"#636efa\",\"width\":1},\"lon\":[-73.98236846923827,-73.97960662841797],\"mode\":\"lines\",\"name\":\"\\ub9e4\\uc6b0\\ub290\\ub9bc (pickup\\u002fdropoff)\",\"showlegend\":false,\"subplot\":\"mapbox\",\"type\":\"scattermapbox\",\"opacity\":0.8},{\"hovertemplate\":\"\\ud3c9\\uade0\\uc18d\\ub825=\\ub9e4\\uc6b0\\ub290\\ub9bc\\u003cbr\\u003eid=id2002463\\u003cbr\\u003elatitude=%{lat}\\u003cbr\\u003elongitude=%{lon}\\u003cextra\\u003e\\u003c\\u002fextra\\u003e\",\"lat\":[40.7683982849121,40.7793083190918],\"legendgroup\":\"\\ub9e4\\uc6b0\\ub290\\ub9bc\",\"line\":{\"color\":\"#636efa\",\"width\":1},\"lon\":[-73.9656524658203,-73.96006774902342],\"mode\":\"lines\",\"name\":\"\\ub9e4\\uc6b0\\ub290\\ub9bc (pickup\\u002fdropoff)\",\"showlegend\":false,\"subplot\":\"mapbox\",\"type\":\"scattermapbox\",\"opacity\":0.8},{\"hovertemplate\":\"\\ud3c9\\uade0\\uc18d\\ub825=\\ub9e4\\uc6b0\\ub290\\ub9bc\\u003cbr\\u003eid=id0660195\\u003cbr\\u003elatitude=%{lat}\\u003cbr\\u003elongitude=%{lon}\\u003cextra\\u003e\\u003c\\u002fextra\\u003e\",\"lat\":[40.77922821044922,40.746257781982415],\"legendgroup\":\"\\ub9e4\\uc6b0\\ub290\\ub9bc\",\"line\":{\"color\":\"#636efa\",\"width\":1},\"lon\":[-73.95587921142578,-73.98580169677734],\"mode\":\"lines\",\"name\":\"\\ub9e4\\uc6b0\\ub290\\ub9bc (pickup\\u002fdropoff)\",\"showlegend\":false,\"subplot\":\"mapbox\",\"type\":\"scattermapbox\",\"opacity\":0.8},{\"hovertemplate\":\"\\ud3c9\\uade0\\uc18d\\ub825=\\ub9e4\\uc6b0\\ub290\\ub9bc\\u003cbr\\u003eid=id1986470\\u003cbr\\u003elatitude=%{lat}\\u003cbr\\u003elongitude=%{lon}\\u003cextra\\u003e\\u003c\\u002fextra\\u003e\",\"lat\":[40.75796890258789,40.743770599365234],\"legendgroup\":\"\\ub9e4\\uc6b0\\ub290\\ub9bc\",\"line\":{\"color\":\"#636efa\",\"width\":1},\"lon\":[-73.98609161376953,-73.98335266113281],\"mode\":\"lines\",\"name\":\"\\ub9e4\\uc6b0\\ub290\\ub9bc (pickup\\u002fdropoff)\",\"showlegend\":false,\"subplot\":\"mapbox\",\"type\":\"scattermapbox\",\"opacity\":0.8},{\"hovertemplate\":\"\\ud3c9\\uade0\\uc18d\\ub825=\\uc870\\uae08\\ub290\\ub9bc\\u003cbr\\u003eid=id0767292\\u003cbr\\u003elatitude=%{lat}\\u003cbr\\u003elongitude=%{lon}\\u003cextra\\u003e\\u003c\\u002fextra\\u003e\",\"lat\":[40.74156188964844,40.75085067749024],\"legendgroup\":\"\\uc870\\uae08\\ub290\\ub9bc\",\"line\":{\"color\":\"#EF553B\",\"width\":1},\"lon\":[-73.993896484375,-73.97830963134764],\"mode\":\"lines\",\"name\":\"\\uc870\\uae08\\ub290\\ub9bc (pickup\\u002fdropoff)\",\"showlegend\":true,\"subplot\":\"mapbox\",\"type\":\"scattermapbox\",\"opacity\":0.8},{\"hovertemplate\":\"\\ud3c9\\uade0\\uc18d\\ub825=\\uc870\\uae08\\ub290\\ub9bc\\u003cbr\\u003eid=id0303696\\u003cbr\\u003elatitude=%{lat}\\u003cbr\\u003elongitude=%{lon}\\u003cextra\\u003e\\u003c\\u002fextra\\u003e\",\"lat\":[40.76424789428711,40.763145446777344],\"legendgroup\":\"\\uc870\\uae08\\ub290\\ub9bc\",\"line\":{\"color\":\"#EF553B\",\"width\":1},\"lon\":[-73.95646667480467,-73.96985626220702],\"mode\":\"lines\",\"name\":\"\\uc870\\uae08\\ub290\\ub9bc (pickup\\u002fdropoff)\",\"showlegend\":false,\"subplot\":\"mapbox\",\"type\":\"scattermapbox\",\"opacity\":0.8},{\"hovertemplate\":\"\\ud3c9\\uade0\\uc18d\\ub825=\\uc870\\uae08\\ub290\\ub9bc\\u003cbr\\u003eid=id1423063\\u003cbr\\u003elatitude=%{lat}\\u003cbr\\u003elongitude=%{lon}\\u003cextra\\u003e\\u003c\\u002fextra\\u003e\",\"lat\":[40.777053833007805,40.76767349243164],\"legendgroup\":\"\\uc870\\uae08\\ub290\\ub9bc\",\"line\":{\"color\":\"#EF553B\",\"width\":1},\"lon\":[-73.98257446289062,-73.98075866699219],\"mode\":\"lines\",\"name\":\"\\uc870\\uae08\\ub290\\ub9bc (pickup\\u002fdropoff)\",\"showlegend\":false,\"subplot\":\"mapbox\",\"type\":\"scattermapbox\",\"opacity\":0.8},{\"hovertemplate\":\"\\ud3c9\\uade0\\uc18d\\ub825=\\uc870\\uae08\\ub290\\ub9bc\\u003cbr\\u003eid=id2203238\\u003cbr\\u003elatitude=%{lat}\\u003cbr\\u003elongitude=%{lon}\\u003cextra\\u003e\\u003c\\u002fextra\\u003e\",\"lat\":[40.730010986328125,40.73989868164063],\"legendgroup\":\"\\uc870\\uae08\\ub290\\ub9bc\",\"line\":{\"color\":\"#EF553B\",\"width\":1},\"lon\":[-73.9792709350586,-73.98174285888672],\"mode\":\"lines\",\"name\":\"\\uc870\\uae08\\ub290\\ub9bc (pickup\\u002fdropoff)\",\"showlegend\":false,\"subplot\":\"mapbox\",\"type\":\"scattermapbox\",\"opacity\":0.8},{\"hovertemplate\":\"\\ud3c9\\uade0\\uc18d\\ub825=\\uc870\\uae08\\ub290\\ub9bc\\u003cbr\\u003eid=id3083921\\u003cbr\\u003elatitude=%{lat}\\u003cbr\\u003elongitude=%{lon}\\u003cextra\\u003e\\u003c\\u002fextra\\u003e\",\"lat\":[40.763973236083984,40.76081848144531],\"legendgroup\":\"\\uc870\\uae08\\ub290\\ub9bc\",\"line\":{\"color\":\"#EF553B\",\"width\":1},\"lon\":[-73.99028778076173,-73.97960662841797],\"mode\":\"lines\",\"name\":\"\\uc870\\uae08\\ub290\\ub9bc (pickup\\u002fdropoff)\",\"showlegend\":false,\"subplot\":\"mapbox\",\"type\":\"scattermapbox\",\"opacity\":0.8},{\"hovertemplate\":\"\\ud3c9\\uade0\\uc18d\\ub825=\\uc870\\uae08\\ub290\\ub9bc\\u003cbr\\u003eid=id0597402\\u003cbr\\u003elatitude=%{lat}\\u003cbr\\u003elongitude=%{lon}\\u003cextra\\u003e\\u003c\\u002fextra\\u003e\",\"lat\":[40.760250091552734,40.79518127441406],\"legendgroup\":\"\\uc870\\uae08\\ub290\\ub9bc\",\"line\":{\"color\":\"#EF553B\",\"width\":1},\"lon\":[-73.96861267089844,-73.96575927734375],\"mode\":\"lines\",\"name\":\"\\uc870\\uae08\\ub290\\ub9bc (pickup\\u002fdropoff)\",\"showlegend\":false,\"subplot\":\"mapbox\",\"type\":\"scattermapbox\",\"opacity\":0.8},{\"hovertemplate\":\"\\ud3c9\\uade0\\uc18d\\ub825=\\uc870\\uae08\\ub290\\ub9bc\\u003cbr\\u003eid=id1944291\\u003cbr\\u003elatitude=%{lat}\\u003cbr\\u003elongitude=%{lon}\\u003cextra\\u003e\\u003c\\u002fextra\\u003e\",\"lat\":[40.74981689453125,40.756885528564446],\"legendgroup\":\"\\uc870\\uae08\\ub290\\ub9bc\",\"line\":{\"color\":\"#EF553B\",\"width\":1},\"lon\":[-73.99140167236328,-73.9898910522461],\"mode\":\"lines\",\"name\":\"\\uc870\\uae08\\ub290\\ub9bc (pickup\\u002fdropoff)\",\"showlegend\":false,\"subplot\":\"mapbox\",\"type\":\"scattermapbox\",\"opacity\":0.8},{\"hovertemplate\":\"\\ud3c9\\uade0\\uc18d\\ub825=\\uc870\\uae08\\ub290\\ub9bc\\u003cbr\\u003eid=id2587483\\u003cbr\\u003elatitude=%{lat}\\u003cbr\\u003elongitude=%{lon}\\u003cextra\\u003e\\u003c\\u002fextra\\u003e\",\"lat\":[40.78707885742188,40.79246139526367],\"legendgroup\":\"\\uc870\\uae08\\ub290\\ub9bc\",\"line\":{\"color\":\"#EF553B\",\"width\":1},\"lon\":[-73.95390319824217,-73.94084167480467],\"mode\":\"lines\",\"name\":\"\\uc870\\uae08\\ub290\\ub9bc (pickup\\u002fdropoff)\",\"showlegend\":false,\"subplot\":\"mapbox\",\"type\":\"scattermapbox\",\"opacity\":0.8},{\"hovertemplate\":\"\\ud3c9\\uade0\\uc18d\\ub825=\\uc870\\uae08\\ub290\\ub9bc\\u003cbr\\u003eid=id3485263\\u003cbr\\u003elatitude=%{lat}\\u003cbr\\u003elongitude=%{lon}\\u003cextra\\u003e\\u003c\\u002fextra\\u003e\",\"lat\":[40.7226448059082,40.73473739624024],\"legendgroup\":\"\\uc870\\uae08\\ub290\\ub9bc\",\"line\":{\"color\":\"#EF553B\",\"width\":1},\"lon\":[-73.98736572265625,-74.0038833618164],\"mode\":\"lines\",\"name\":\"\\uc870\\uae08\\ub290\\ub9bc (pickup\\u002fdropoff)\",\"showlegend\":false,\"subplot\":\"mapbox\",\"type\":\"scattermapbox\",\"opacity\":0.8},{\"hovertemplate\":\"\\ud3c9\\uade0\\uc18d\\ub825=\\uc870\\uae08\\ub290\\ub9bc\\u003cbr\\u003eid=id2210145\\u003cbr\\u003elatitude=%{lat}\\u003cbr\\u003elongitude=%{lon}\\u003cextra\\u003e\\u003c\\u002fextra\\u003e\",\"lat\":[40.75053024291992,40.75751876831056],\"legendgroup\":\"\\uc870\\uae08\\ub290\\ub9bc\",\"line\":{\"color\":\"#EF553B\",\"width\":1},\"lon\":[-73.98738098144531,-73.98204803466798],\"mode\":\"lines\",\"name\":\"\\uc870\\uae08\\ub290\\ub9bc (pickup\\u002fdropoff)\",\"showlegend\":false,\"subplot\":\"mapbox\",\"type\":\"scattermapbox\",\"opacity\":0.8},{\"hovertemplate\":\"\\ud3c9\\uade0\\uc18d\\ub825=\\uc870\\uae08\\ub290\\ub9bc\\u003cbr\\u003eid=id3796079\\u003cbr\\u003elatitude=%{lat}\\u003cbr\\u003elongitude=%{lon}\\u003cextra\\u003e\\u003c\\u002fextra\\u003e\",\"lat\":[40.74673461914063,40.7509651184082],\"legendgroup\":\"\\uc870\\uae08\\ub290\\ub9bc\",\"line\":{\"color\":\"#EF553B\",\"width\":1},\"lon\":[-73.97140502929686,-73.97477722167967],\"mode\":\"lines\",\"name\":\"\\uc870\\uae08\\ub290\\ub9bc (pickup\\u002fdropoff)\",\"showlegend\":false,\"subplot\":\"mapbox\",\"type\":\"scattermapbox\",\"opacity\":0.8},{\"hovertemplate\":\"\\ud3c9\\uade0\\uc18d\\ub825=\\uc870\\uae08\\ub290\\ub9bc\\u003cbr\\u003eid=id2533481\\u003cbr\\u003elatitude=%{lat}\\u003cbr\\u003elongitude=%{lon}\\u003cextra\\u003e\\u003c\\u002fextra\\u003e\",\"lat\":[40.73553085327149,40.76554107666016],\"legendgroup\":\"\\uc870\\uae08\\ub290\\ub9bc\",\"line\":{\"color\":\"#EF553B\",\"width\":1},\"lon\":[-73.98988342285155,-73.97640228271484],\"mode\":\"lines\",\"name\":\"\\uc870\\uae08\\ub290\\ub9bc (pickup\\u002fdropoff)\",\"showlegend\":false,\"subplot\":\"mapbox\",\"type\":\"scattermapbox\",\"opacity\":0.8},{\"hovertemplate\":\"\\ud3c9\\uade0\\uc18d\\ub825=\\uc870\\uae08\\ub290\\ub9bc\\u003cbr\\u003eid=id2237068\\u003cbr\\u003elatitude=%{lat}\\u003cbr\\u003elongitude=%{lon}\\u003cextra\\u003e\\u003c\\u002fextra\\u003e\",\"lat\":[40.744510650634766,40.7564582824707],\"legendgroup\":\"\\uc870\\uae08\\ub290\\ub9bc\",\"line\":{\"color\":\"#EF553B\",\"width\":1},\"lon\":[-73.98111724853516,-74.00170135498048],\"mode\":\"lines\",\"name\":\"\\uc870\\uae08\\ub290\\ub9bc (pickup\\u002fdropoff)\",\"showlegend\":false,\"subplot\":\"mapbox\",\"type\":\"scattermapbox\",\"opacity\":0.8},{\"hovertemplate\":\"\\ud3c9\\uade0\\uc18d\\ub825=\\uc870\\uae08\\ub290\\ub9bc\\u003cbr\\u003eid=id1635353\\u003cbr\\u003elatitude=%{lat}\\u003cbr\\u003elongitude=%{lon}\\u003cextra\\u003e\\u003c\\u002fextra\\u003e\",\"lat\":[40.75918960571289,40.7098503112793],\"legendgroup\":\"\\uc870\\uae08\\ub290\\ub9bc\",\"line\":{\"color\":\"#EF553B\",\"width\":1},\"lon\":[-73.98509216308595,-73.96215057373048],\"mode\":\"lines\",\"name\":\"\\uc870\\uae08\\ub290\\ub9bc (pickup\\u002fdropoff)\",\"showlegend\":false,\"subplot\":\"mapbox\",\"type\":\"scattermapbox\",\"opacity\":0.8},{\"hovertemplate\":\"\\ud3c9\\uade0\\uc18d\\ub825=\\uc870\\uae08\\ub290\\ub9bc\\u003cbr\\u003eid=id1365460\\u003cbr\\u003elatitude=%{lat}\\u003cbr\\u003elongitude=%{lon}\\u003cextra\\u003e\\u003c\\u002fextra\\u003e\",\"lat\":[40.76905059814453,40.7630615234375],\"legendgroup\":\"\\uc870\\uae08\\ub290\\ub9bc\",\"line\":{\"color\":\"#EF553B\",\"width\":1},\"lon\":[-73.98491668701173,-73.97570037841797],\"mode\":\"lines\",\"name\":\"\\uc870\\uae08\\ub290\\ub9bc (pickup\\u002fdropoff)\",\"showlegend\":false,\"subplot\":\"mapbox\",\"type\":\"scattermapbox\",\"opacity\":0.8},{\"hovertemplate\":\"\\ud3c9\\uade0\\uc18d\\ub825=\\uc870\\uae08\\ub290\\ub9bc\\u003cbr\\u003eid=id3611226\\u003cbr\\u003elatitude=%{lat}\\u003cbr\\u003elongitude=%{lon}\\u003cextra\\u003e\\u003c\\u002fextra\\u003e\",\"lat\":[40.76215744018555,40.74748611450195],\"legendgroup\":\"\\uc870\\uae08\\ub290\\ub9bc\",\"line\":{\"color\":\"#EF553B\",\"width\":1},\"lon\":[-73.98597717285155,-73.97697448730467],\"mode\":\"lines\",\"name\":\"\\uc870\\uae08\\ub290\\ub9bc (pickup\\u002fdropoff)\",\"showlegend\":false,\"subplot\":\"mapbox\",\"type\":\"scattermapbox\",\"opacity\":0.8},{\"hovertemplate\":\"\\ud3c9\\uade0\\uc18d\\ub825=\\uc870\\uae08\\ub290\\ub9bc\\u003cbr\\u003eid=id1018348\\u003cbr\\u003elatitude=%{lat}\\u003cbr\\u003elongitude=%{lon}\\u003cextra\\u003e\\u003c\\u002fextra\\u003e\",\"lat\":[40.74530792236328,40.74227523803711],\"legendgroup\":\"\\uc870\\uae08\\ub290\\ub9bc\",\"line\":{\"color\":\"#EF553B\",\"width\":1},\"lon\":[-74.00784301757811,-73.98967742919923],\"mode\":\"lines\",\"name\":\"\\uc870\\uae08\\ub290\\ub9bc (pickup\\u002fdropoff)\",\"showlegend\":false,\"subplot\":\"mapbox\",\"type\":\"scattermapbox\",\"opacity\":0.8},{\"hovertemplate\":\"\\ud3c9\\uade0\\uc18d\\ub825=\\uc870\\uae08\\ub290\\ub9bc\\u003cbr\\u003eid=id1160561\\u003cbr\\u003elatitude=%{lat}\\u003cbr\\u003elongitude=%{lon}\\u003cextra\\u003e\\u003c\\u002fextra\\u003e\",\"lat\":[40.71868896484375,40.7457275390625],\"legendgroup\":\"\\uc870\\uae08\\ub290\\ub9bc\",\"line\":{\"color\":\"#EF553B\",\"width\":1},\"lon\":[-74.0053482055664,-73.9908905029297],\"mode\":\"lines\",\"name\":\"\\uc870\\uae08\\ub290\\ub9bc (pickup\\u002fdropoff)\",\"showlegend\":false,\"subplot\":\"mapbox\",\"type\":\"scattermapbox\",\"opacity\":0.8},{\"hovertemplate\":\"\\ud3c9\\uade0\\uc18d\\ub825=\\uc870\\uae08\\ub290\\ub9bc\\u003cbr\\u003eid=id2939661\\u003cbr\\u003elatitude=%{lat}\\u003cbr\\u003elongitude=%{lon}\\u003cextra\\u003e\\u003c\\u002fextra\\u003e\",\"lat\":[40.77298355102539,40.75412368774414],\"legendgroup\":\"\\uc870\\uae08\\ub290\\ub9bc\",\"line\":{\"color\":\"#EF553B\",\"width\":1},\"lon\":[-73.9782943725586,-73.97389221191406],\"mode\":\"lines\",\"name\":\"\\uc870\\uae08\\ub290\\ub9bc (pickup\\u002fdropoff)\",\"showlegend\":false,\"subplot\":\"mapbox\",\"type\":\"scattermapbox\",\"opacity\":0.8},{\"hovertemplate\":\"\\ud3c9\\uade0\\uc18d\\ub825=\\uc870\\uae08\\ub290\\ub9bc\\u003cbr\\u003eid=id3120328\\u003cbr\\u003elatitude=%{lat}\\u003cbr\\u003elongitude=%{lon}\\u003cextra\\u003e\\u003c\\u002fextra\\u003e\",\"lat\":[40.7714958190918,40.75320816040039],\"legendgroup\":\"\\uc870\\uae08\\ub290\\ub9bc\",\"line\":{\"color\":\"#EF553B\",\"width\":1},\"lon\":[-73.95969390869139,-73.98626708984375],\"mode\":\"lines\",\"name\":\"\\uc870\\uae08\\ub290\\ub9bc (pickup\\u002fdropoff)\",\"showlegend\":false,\"subplot\":\"mapbox\",\"type\":\"scattermapbox\",\"opacity\":0.8},{\"hovertemplate\":\"\\ud3c9\\uade0\\uc18d\\ub825=\\uc870\\uae08\\ub290\\ub9bc\\u003cbr\\u003eid=id1139183\\u003cbr\\u003elatitude=%{lat}\\u003cbr\\u003elongitude=%{lon}\\u003cextra\\u003e\\u003c\\u002fextra\\u003e\",\"lat\":[40.76704025268555,40.76899337768555],\"legendgroup\":\"\\uc870\\uae08\\ub290\\ub9bc\",\"line\":{\"color\":\"#EF553B\",\"width\":1},\"lon\":[-73.95381164550781,-73.96334075927734],\"mode\":\"lines\",\"name\":\"\\uc870\\uae08\\ub290\\ub9bc (pickup\\u002fdropoff)\",\"showlegend\":false,\"subplot\":\"mapbox\",\"type\":\"scattermapbox\",\"opacity\":0.8},{\"hovertemplate\":\"\\ud3c9\\uade0\\uc18d\\ub825=\\uc870\\uae08\\ub290\\ub9bc\\u003cbr\\u003eid=id1188146\\u003cbr\\u003elatitude=%{lat}\\u003cbr\\u003elongitude=%{lon}\\u003cextra\\u003e\\u003c\\u002fextra\\u003e\",\"lat\":[40.74298095703125,40.71076965332031],\"legendgroup\":\"\\uc870\\uae08\\ub290\\ub9bc\",\"line\":{\"color\":\"#EF553B\",\"width\":1},\"lon\":[-73.98845672607422,-74.01339721679686],\"mode\":\"lines\",\"name\":\"\\uc870\\uae08\\ub290\\ub9bc (pickup\\u002fdropoff)\",\"showlegend\":false,\"subplot\":\"mapbox\",\"type\":\"scattermapbox\",\"opacity\":0.8},{\"hovertemplate\":\"\\ud3c9\\uade0\\uc18d\\ub825=\\uc870\\uae08\\ub290\\ub9bc\\u003cbr\\u003eid=id0092139\\u003cbr\\u003elatitude=%{lat}\\u003cbr\\u003elongitude=%{lon}\\u003cextra\\u003e\\u003c\\u002fextra\\u003e\",\"lat\":[40.72407150268555,40.75766372680664],\"legendgroup\":\"\\uc870\\uae08\\ub290\\ub9bc\",\"line\":{\"color\":\"#EF553B\",\"width\":1},\"lon\":[-74.00241088867188,-73.98356628417967],\"mode\":\"lines\",\"name\":\"\\uc870\\uae08\\ub290\\ub9bc (pickup\\u002fdropoff)\",\"showlegend\":false,\"subplot\":\"mapbox\",\"type\":\"scattermapbox\",\"opacity\":0.8},{\"hovertemplate\":\"\\ud3c9\\uade0\\uc18d\\ub825=\\uc870\\uae08\\ub290\\ub9bc\\u003cbr\\u003eid=id3264393\\u003cbr\\u003elatitude=%{lat}\\u003cbr\\u003elongitude=%{lon}\\u003cextra\\u003e\\u003c\\u002fextra\\u003e\",\"lat\":[40.75624084472656,40.7665901184082],\"legendgroup\":\"\\uc870\\uae08\\ub290\\ub9bc\",\"line\":{\"color\":\"#EF553B\",\"width\":1},\"lon\":[-73.97042846679686,-73.98652648925781],\"mode\":\"lines\",\"name\":\"\\uc870\\uae08\\ub290\\ub9bc (pickup\\u002fdropoff)\",\"showlegend\":false,\"subplot\":\"mapbox\",\"type\":\"scattermapbox\",\"opacity\":0.8},{\"hovertemplate\":\"\\ud3c9\\uade0\\uc18d\\ub825=\\uc870\\uae08\\ub290\\ub9bc\\u003cbr\\u003eid=id0951142\\u003cbr\\u003elatitude=%{lat}\\u003cbr\\u003elongitude=%{lon}\\u003cextra\\u003e\\u003c\\u002fextra\\u003e\",\"lat\":[40.742500305175774,40.7463493347168],\"legendgroup\":\"\\uc870\\uae08\\ub290\\ub9bc\",\"line\":{\"color\":\"#EF553B\",\"width\":1},\"lon\":[-73.97420501708984,-73.97167205810547],\"mode\":\"lines\",\"name\":\"\\uc870\\uae08\\ub290\\ub9bc (pickup\\u002fdropoff)\",\"showlegend\":false,\"subplot\":\"mapbox\",\"type\":\"scattermapbox\",\"opacity\":0.8},{\"hovertemplate\":\"\\ud3c9\\uade0\\uc18d\\ub825=\\uc870\\uae08\\ub290\\ub9bc\\u003cbr\\u003eid=id2046505\\u003cbr\\u003elatitude=%{lat}\\u003cbr\\u003elongitude=%{lon}\\u003cextra\\u003e\\u003c\\u002fextra\\u003e\",\"lat\":[40.73820495605469,40.75112533569336],\"legendgroup\":\"\\uc870\\uae08\\ub290\\ub9bc\",\"line\":{\"color\":\"#EF553B\",\"width\":1},\"lon\":[-73.98540496826173,-73.97836303710938],\"mode\":\"lines\",\"name\":\"\\uc870\\uae08\\ub290\\ub9bc (pickup\\u002fdropoff)\",\"showlegend\":false,\"subplot\":\"mapbox\",\"type\":\"scattermapbox\",\"opacity\":0.8},{\"hovertemplate\":\"\\ud3c9\\uade0\\uc18d\\ub825=\\uc870\\uae08\\ub290\\ub9bc\\u003cbr\\u003eid=id1495346\\u003cbr\\u003elatitude=%{lat}\\u003cbr\\u003elongitude=%{lon}\\u003cextra\\u003e\\u003c\\u002fextra\\u003e\",\"lat\":[40.73915481567384,40.74427795410156],\"legendgroup\":\"\\uc870\\uae08\\ub290\\ub9bc\",\"line\":{\"color\":\"#EF553B\",\"width\":1},\"lon\":[-73.99610137939453,-73.98767852783203],\"mode\":\"lines\",\"name\":\"\\uc870\\uae08\\ub290\\ub9bc (pickup\\u002fdropoff)\",\"showlegend\":false,\"subplot\":\"mapbox\",\"type\":\"scattermapbox\",\"opacity\":0.8},{\"hovertemplate\":\"\\ud3c9\\uade0\\uc18d\\ub825=\\uc870\\uae08\\ub290\\ub9bc\\u003cbr\\u003eid=id0623536\\u003cbr\\u003elatitude=%{lat}\\u003cbr\\u003elongitude=%{lon}\\u003cextra\\u003e\\u003c\\u002fextra\\u003e\",\"lat\":[40.759124755859375,40.74463272094727],\"legendgroup\":\"\\uc870\\uae08\\ub290\\ub9bc\",\"line\":{\"color\":\"#EF553B\",\"width\":1},\"lon\":[-73.97645568847656,-73.97919464111328],\"mode\":\"lines\",\"name\":\"\\uc870\\uae08\\ub290\\ub9bc (pickup\\u002fdropoff)\",\"showlegend\":false,\"subplot\":\"mapbox\",\"type\":\"scattermapbox\",\"opacity\":0.8},{\"hovertemplate\":\"\\ud3c9\\uade0\\uc18d\\ub825=\\uc870\\uae08\\ub290\\ub9bc\\u003cbr\\u003eid=id3578000\\u003cbr\\u003elatitude=%{lat}\\u003cbr\\u003elongitude=%{lon}\\u003cextra\\u003e\\u003c\\u002fextra\\u003e\",\"lat\":[40.74143600463867,40.73919296264648],\"legendgroup\":\"\\uc870\\uae08\\ub290\\ub9bc\",\"line\":{\"color\":\"#EF553B\",\"width\":1},\"lon\":[-73.95230865478516,-73.98406982421875],\"mode\":\"lines\",\"name\":\"\\uc870\\uae08\\ub290\\ub9bc (pickup\\u002fdropoff)\",\"showlegend\":false,\"subplot\":\"mapbox\",\"type\":\"scattermapbox\",\"opacity\":0.8},{\"hovertemplate\":\"\\ud3c9\\uade0\\uc18d\\ub825=\\uc870\\uae08\\ub290\\ub9bc\\u003cbr\\u003eid=id1194222\\u003cbr\\u003elatitude=%{lat}\\u003cbr\\u003elongitude=%{lon}\\u003cextra\\u003e\\u003c\\u002fextra\\u003e\",\"lat\":[40.7253303527832,40.777881622314446],\"legendgroup\":\"\\uc870\\uae08\\ub290\\ub9bc\",\"line\":{\"color\":\"#EF553B\",\"width\":1},\"lon\":[-73.99237060546875,-73.98873138427734],\"mode\":\"lines\",\"name\":\"\\uc870\\uae08\\ub290\\ub9bc (pickup\\u002fdropoff)\",\"showlegend\":false,\"subplot\":\"mapbox\",\"type\":\"scattermapbox\",\"opacity\":0.8},{\"hovertemplate\":\"\\ud3c9\\uade0\\uc18d\\ub825=\\uc870\\uae08\\ub290\\ub9bc\\u003cbr\\u003eid=id0049607\\u003cbr\\u003elatitude=%{lat}\\u003cbr\\u003elongitude=%{lon}\\u003cextra\\u003e\\u003c\\u002fextra\\u003e\",\"lat\":[40.75419235229492,40.762859344482415],\"legendgroup\":\"\\uc870\\uae08\\ub290\\ub9bc\",\"line\":{\"color\":\"#EF553B\",\"width\":1},\"lon\":[-73.97592163085938,-73.98892211914062],\"mode\":\"lines\",\"name\":\"\\uc870\\uae08\\ub290\\ub9bc (pickup\\u002fdropoff)\",\"showlegend\":false,\"subplot\":\"mapbox\",\"type\":\"scattermapbox\",\"opacity\":0.8},{\"hovertemplate\":\"\\ud3c9\\uade0\\uc18d\\ub825=\\uc870\\uae08\\ub290\\ub9bc\\u003cbr\\u003eid=id0890358\\u003cbr\\u003elatitude=%{lat}\\u003cbr\\u003elongitude=%{lon}\\u003cextra\\u003e\\u003c\\u002fextra\\u003e\",\"lat\":[40.76359939575195,40.7617416381836],\"legendgroup\":\"\\uc870\\uae08\\ub290\\ub9bc\",\"line\":{\"color\":\"#EF553B\",\"width\":1},\"lon\":[-73.98738861083984,-73.96864318847656],\"mode\":\"lines\",\"name\":\"\\uc870\\uae08\\ub290\\ub9bc (pickup\\u002fdropoff)\",\"showlegend\":false,\"subplot\":\"mapbox\",\"type\":\"scattermapbox\",\"opacity\":0.8},{\"hovertemplate\":\"\\ud3c9\\uade0\\uc18d\\ub825=\\uc870\\uae08\\ub290\\ub9bc\\u003cbr\\u003eid=id3825370\\u003cbr\\u003elatitude=%{lat}\\u003cbr\\u003elongitude=%{lon}\\u003cextra\\u003e\\u003c\\u002fextra\\u003e\",\"lat\":[40.74908065795898,40.6697654724121],\"legendgroup\":\"\\uc870\\uae08\\ub290\\ub9bc\",\"line\":{\"color\":\"#EF553B\",\"width\":1},\"lon\":[-74.00839233398438,-73.97919464111328],\"mode\":\"lines\",\"name\":\"\\uc870\\uae08\\ub290\\ub9bc (pickup\\u002fdropoff)\",\"showlegend\":false,\"subplot\":\"mapbox\",\"type\":\"scattermapbox\",\"opacity\":0.8},{\"hovertemplate\":\"\\ud3c9\\uade0\\uc18d\\ub825=\\uc870\\uae08\\ub290\\ub9bc\\u003cbr\\u003eid=id1604579\\u003cbr\\u003elatitude=%{lat}\\u003cbr\\u003elongitude=%{lon}\\u003cextra\\u003e\\u003c\\u002fextra\\u003e\",\"lat\":[40.76555252075195,40.79889678955078],\"legendgroup\":\"\\uc870\\uae08\\ub290\\ub9bc\",\"line\":{\"color\":\"#EF553B\",\"width\":1},\"lon\":[-73.96790313720702,-73.96857452392578],\"mode\":\"lines\",\"name\":\"\\uc870\\uae08\\ub290\\ub9bc (pickup\\u002fdropoff)\",\"showlegend\":false,\"subplot\":\"mapbox\",\"type\":\"scattermapbox\",\"opacity\":0.8},{\"hovertemplate\":\"\\ud3c9\\uade0\\uc18d\\ub825=\\uc870\\uae08\\ub290\\ub9bc\\u003cbr\\u003eid=id0051866\\u003cbr\\u003elatitude=%{lat}\\u003cbr\\u003elongitude=%{lon}\\u003cextra\\u003e\\u003c\\u002fextra\\u003e\",\"lat\":[40.7724494934082,40.755836486816406],\"legendgroup\":\"\\uc870\\uae08\\ub290\\ub9bc\",\"line\":{\"color\":\"#EF553B\",\"width\":1},\"lon\":[-73.96265411376953,-73.9784927368164],\"mode\":\"lines\",\"name\":\"\\uc870\\uae08\\ub290\\ub9bc (pickup\\u002fdropoff)\",\"showlegend\":false,\"subplot\":\"mapbox\",\"type\":\"scattermapbox\",\"opacity\":0.8},{\"hovertemplate\":\"\\ud3c9\\uade0\\uc18d\\ub825=\\uc870\\uae08\\ub290\\ub9bc\\u003cbr\\u003eid=id0622637\\u003cbr\\u003elatitude=%{lat}\\u003cbr\\u003elongitude=%{lon}\\u003cextra\\u003e\\u003c\\u002fextra\\u003e\",\"lat\":[40.75054931640625,40.759868621826165],\"legendgroup\":\"\\uc870\\uae08\\ub290\\ub9bc\",\"line\":{\"color\":\"#EF553B\",\"width\":1},\"lon\":[-73.97480010986328,-73.96180725097656],\"mode\":\"lines\",\"name\":\"\\uc870\\uae08\\ub290\\ub9bc (pickup\\u002fdropoff)\",\"showlegend\":false,\"subplot\":\"mapbox\",\"type\":\"scattermapbox\",\"opacity\":0.8},{\"hovertemplate\":\"\\ud3c9\\uade0\\uc18d\\ub825=\\uc870\\uae08\\ube60\\ub984\\u003cbr\\u003eid=id1214191\\u003cbr\\u003elatitude=%{lat}\\u003cbr\\u003elongitude=%{lon}\\u003cextra\\u003e\\u003c\\u002fextra\\u003e\",\"lat\":[40.74464797973633,40.72493362426758],\"legendgroup\":\"\\uc870\\uae08\\ube60\\ub984\",\"line\":{\"color\":\"#00cc96\",\"width\":1},\"lon\":[-73.99140930175781,-73.9950942993164],\"mode\":\"lines\",\"name\":\"\\uc870\\uae08\\ube60\\ub984 (pickup\\u002fdropoff)\",\"showlegend\":true,\"subplot\":\"mapbox\",\"type\":\"scattermapbox\",\"opacity\":0.8},{\"hovertemplate\":\"\\ud3c9\\uade0\\uc18d\\ub825=\\uc870\\uae08\\ube60\\ub984\\u003cbr\\u003eid=id0213647\\u003cbr\\u003elatitude=%{lat}\\u003cbr\\u003elongitude=%{lon}\\u003cextra\\u003e\\u003c\\u002fextra\\u003e\",\"lat\":[40.75567626953125,40.72474670410156],\"legendgroup\":\"\\uc870\\uae08\\ube60\\ub984\",\"line\":{\"color\":\"#00cc96\",\"width\":1},\"lon\":[-73.96500396728516,-74.00196075439453],\"mode\":\"lines\",\"name\":\"\\uc870\\uae08\\ube60\\ub984 (pickup\\u002fdropoff)\",\"showlegend\":false,\"subplot\":\"mapbox\",\"type\":\"scattermapbox\",\"opacity\":0.8},{\"hovertemplate\":\"\\ud3c9\\uade0\\uc18d\\ub825=\\uc870\\uae08\\ube60\\ub984\\u003cbr\\u003eid=id0584615\\u003cbr\\u003elatitude=%{lat}\\u003cbr\\u003elongitude=%{lon}\\u003cextra\\u003e\\u003c\\u002fextra\\u003e\",\"lat\":[40.755126953125,40.74041366577149],\"legendgroup\":\"\\uc870\\uae08\\ube60\\ub984\",\"line\":{\"color\":\"#00cc96\",\"width\":1},\"lon\":[-73.9874267578125,-73.98683166503906],\"mode\":\"lines\",\"name\":\"\\uc870\\uae08\\ube60\\ub984 (pickup\\u002fdropoff)\",\"showlegend\":false,\"subplot\":\"mapbox\",\"type\":\"scattermapbox\",\"opacity\":0.8},{\"hovertemplate\":\"\\ud3c9\\uade0\\uc18d\\ub825=\\uc870\\uae08\\ube60\\ub984\\u003cbr\\u003eid=id0147704\\u003cbr\\u003elatitude=%{lat}\\u003cbr\\u003elongitude=%{lon}\\u003cextra\\u003e\\u003c\\u002fextra\\u003e\",\"lat\":[40.7249755859375,40.655078887939446],\"legendgroup\":\"\\uc870\\uae08\\ube60\\ub984\",\"line\":{\"color\":\"#00cc96\",\"width\":1},\"lon\":[-73.9844207763672,-73.955322265625],\"mode\":\"lines\",\"name\":\"\\uc870\\uae08\\ube60\\ub984 (pickup\\u002fdropoff)\",\"showlegend\":false,\"subplot\":\"mapbox\",\"type\":\"scattermapbox\",\"opacity\":0.8},{\"hovertemplate\":\"\\ud3c9\\uade0\\uc18d\\ub825=\\uc870\\uae08\\ube60\\ub984\\u003cbr\\u003eid=id3098811\\u003cbr\\u003elatitude=%{lat}\\u003cbr\\u003elongitude=%{lon}\\u003cextra\\u003e\\u003c\\u002fextra\\u003e\",\"lat\":[40.72565841674805,40.73714065551758],\"legendgroup\":\"\\uc870\\uae08\\ube60\\ub984\",\"line\":{\"color\":\"#00cc96\",\"width\":1},\"lon\":[-73.99471282958984,-73.99044036865233],\"mode\":\"lines\",\"name\":\"\\uc870\\uae08\\ube60\\ub984 (pickup\\u002fdropoff)\",\"showlegend\":false,\"subplot\":\"mapbox\",\"type\":\"scattermapbox\",\"opacity\":0.8},{\"hovertemplate\":\"\\ud3c9\\uade0\\uc18d\\ub825=\\uc870\\uae08\\ube60\\ub984\\u003cbr\\u003eid=id0255216\\u003cbr\\u003elatitude=%{lat}\\u003cbr\\u003elongitude=%{lon}\\u003cextra\\u003e\\u003c\\u002fextra\\u003e\",\"lat\":[40.75128173828125,40.76827239990234],\"legendgroup\":\"\\uc870\\uae08\\ube60\\ub984\",\"line\":{\"color\":\"#00cc96\",\"width\":1},\"lon\":[-73.93987274169923,-73.95292663574217],\"mode\":\"lines\",\"name\":\"\\uc870\\uae08\\ube60\\ub984 (pickup\\u002fdropoff)\",\"showlegend\":false,\"subplot\":\"mapbox\",\"type\":\"scattermapbox\",\"opacity\":0.8},{\"hovertemplate\":\"\\ud3c9\\uade0\\uc18d\\ub825=\\uc870\\uae08\\ube60\\ub984\\u003cbr\\u003eid=id1394748\\u003cbr\\u003elatitude=%{lat}\\u003cbr\\u003elongitude=%{lon}\\u003cextra\\u003e\\u003c\\u002fextra\\u003e\",\"lat\":[40.73410034179688,40.67301177978516],\"legendgroup\":\"\\uc870\\uae08\\ube60\\ub984\",\"line\":{\"color\":\"#00cc96\",\"width\":1},\"lon\":[-73.9994888305664,-73.96280670166014],\"mode\":\"lines\",\"name\":\"\\uc870\\uae08\\ube60\\ub984 (pickup\\u002fdropoff)\",\"showlegend\":false,\"subplot\":\"mapbox\",\"type\":\"scattermapbox\",\"opacity\":0.8},{\"hovertemplate\":\"\\ud3c9\\uade0\\uc18d\\ub825=\\uc870\\uae08\\ube60\\ub984\\u003cbr\\u003eid=id2875421\\u003cbr\\u003elatitude=%{lat}\\u003cbr\\u003elongitude=%{lon}\\u003cextra\\u003e\\u003c\\u002fextra\\u003e\",\"lat\":[40.76793670654297,40.765602111816406],\"legendgroup\":\"\\uc870\\uae08\\ube60\\ub984\",\"line\":{\"color\":\"#00cc96\",\"width\":1},\"lon\":[-73.98215484619139,-73.96463012695312],\"mode\":\"lines\",\"name\":\"\\uc870\\uae08\\ube60\\ub984 (pickup\\u002fdropoff)\",\"showlegend\":false,\"subplot\":\"mapbox\",\"type\":\"scattermapbox\",\"opacity\":0.8},{\"hovertemplate\":\"\\ud3c9\\uade0\\uc18d\\ub825=\\uc870\\uae08\\ube60\\ub984\\u003cbr\\u003eid=id2619890\\u003cbr\\u003elatitude=%{lat}\\u003cbr\\u003elongitude=%{lon}\\u003cextra\\u003e\\u003c\\u002fextra\\u003e\",\"lat\":[40.75857162475586,40.77785873413086],\"legendgroup\":\"\\uc870\\uae08\\ube60\\ub984\",\"line\":{\"color\":\"#00cc96\",\"width\":1},\"lon\":[-73.96356964111328,-73.94394683837889],\"mode\":\"lines\",\"name\":\"\\uc870\\uae08\\ube60\\ub984 (pickup\\u002fdropoff)\",\"showlegend\":false,\"subplot\":\"mapbox\",\"type\":\"scattermapbox\",\"opacity\":0.8},{\"hovertemplate\":\"\\ud3c9\\uade0\\uc18d\\ub825=\\uc870\\uae08\\ube60\\ub984\\u003cbr\\u003eid=id2003085\\u003cbr\\u003elatitude=%{lat}\\u003cbr\\u003elongitude=%{lon}\\u003cextra\\u003e\\u003c\\u002fextra\\u003e\",\"lat\":[40.75810241699219,40.790283203125],\"legendgroup\":\"\\uc870\\uae08\\ube60\\ub984\",\"line\":{\"color\":\"#00cc96\",\"width\":1},\"lon\":[-73.96311950683594,-73.96560668945312],\"mode\":\"lines\",\"name\":\"\\uc870\\uae08\\ube60\\ub984 (pickup\\u002fdropoff)\",\"showlegend\":false,\"subplot\":\"mapbox\",\"type\":\"scattermapbox\",\"opacity\":0.8},{\"hovertemplate\":\"\\ud3c9\\uade0\\uc18d\\ub825=\\uc870\\uae08\\ube60\\ub984\\u003cbr\\u003eid=id2966759\\u003cbr\\u003elatitude=%{lat}\\u003cbr\\u003elongitude=%{lon}\\u003cextra\\u003e\\u003c\\u002fextra\\u003e\",\"lat\":[40.752891540527344,40.739990234375],\"legendgroup\":\"\\uc870\\uae08\\ube60\\ub984\",\"line\":{\"color\":\"#00cc96\",\"width\":1},\"lon\":[-73.97013854980467,-73.98188781738281],\"mode\":\"lines\",\"name\":\"\\uc870\\uae08\\ube60\\ub984 (pickup\\u002fdropoff)\",\"showlegend\":false,\"subplot\":\"mapbox\",\"type\":\"scattermapbox\",\"opacity\":0.8},{\"hovertemplate\":\"\\ud3c9\\uade0\\uc18d\\ub825=\\uc870\\uae08\\ube60\\ub984\\u003cbr\\u003eid=id2673049\\u003cbr\\u003elatitude=%{lat}\\u003cbr\\u003elongitude=%{lon}\\u003cextra\\u003e\\u003c\\u002fextra\\u003e\",\"lat\":[40.789600372314446,40.71483612060546],\"legendgroup\":\"\\uc870\\uae08\\ube60\\ub984\",\"line\":{\"color\":\"#00cc96\",\"width\":1},\"lon\":[-73.97001647949219,-74.0139389038086],\"mode\":\"lines\",\"name\":\"\\uc870\\uae08\\ube60\\ub984 (pickup\\u002fdropoff)\",\"showlegend\":false,\"subplot\":\"mapbox\",\"type\":\"scattermapbox\",\"opacity\":0.8},{\"hovertemplate\":\"\\ud3c9\\uade0\\uc18d\\ub825=\\uc870\\uae08\\ube60\\ub984\\u003cbr\\u003eid=id0858054\\u003cbr\\u003elatitude=%{lat}\\u003cbr\\u003elongitude=%{lon}\\u003cextra\\u003e\\u003c\\u002fextra\\u003e\",\"lat\":[40.766788482666016,40.77115631103516],\"legendgroup\":\"\\uc870\\uae08\\ube60\\ub984\",\"line\":{\"color\":\"#00cc96\",\"width\":1},\"lon\":[-73.96295928955078,-73.98324584960938],\"mode\":\"lines\",\"name\":\"\\uc870\\uae08\\ube60\\ub984 (pickup\\u002fdropoff)\",\"showlegend\":false,\"subplot\":\"mapbox\",\"type\":\"scattermapbox\",\"opacity\":0.8},{\"hovertemplate\":\"\\ud3c9\\uade0\\uc18d\\ub825=\\uc870\\uae08\\ube60\\ub984\\u003cbr\\u003eid=id1049417\\u003cbr\\u003elatitude=%{lat}\\u003cbr\\u003elongitude=%{lon}\\u003cextra\\u003e\\u003c\\u002fextra\\u003e\",\"lat\":[40.794429779052734,40.7891731262207],\"legendgroup\":\"\\uc870\\uae08\\ube60\\ub984\",\"line\":{\"color\":\"#00cc96\",\"width\":1},\"lon\":[-73.97160339355469,-73.9527587890625],\"mode\":\"lines\",\"name\":\"\\uc870\\uae08\\ube60\\ub984 (pickup\\u002fdropoff)\",\"showlegend\":false,\"subplot\":\"mapbox\",\"type\":\"scattermapbox\",\"opacity\":0.8},{\"hovertemplate\":\"\\ud3c9\\uade0\\uc18d\\ub825=\\uc870\\uae08\\ube60\\ub984\\u003cbr\\u003eid=id0566979\\u003cbr\\u003elatitude=%{lat}\\u003cbr\\u003elongitude=%{lon}\\u003cextra\\u003e\\u003c\\u002fextra\\u003e\",\"lat\":[40.80135726928711,40.79747772216797],\"legendgroup\":\"\\uc870\\uae08\\ube60\\ub984\",\"line\":{\"color\":\"#00cc96\",\"width\":1},\"lon\":[-73.95948791503906,-73.96974182128906],\"mode\":\"lines\",\"name\":\"\\uc870\\uae08\\ube60\\ub984 (pickup\\u002fdropoff)\",\"showlegend\":false,\"subplot\":\"mapbox\",\"type\":\"scattermapbox\",\"opacity\":0.8},{\"hovertemplate\":\"\\ud3c9\\uade0\\uc18d\\ub825=\\uc870\\uae08\\ube60\\ub984\\u003cbr\\u003eid=id0434573\\u003cbr\\u003elatitude=%{lat}\\u003cbr\\u003elongitude=%{lon}\\u003cextra\\u003e\\u003c\\u002fextra\\u003e\",\"lat\":[40.64473342895508,40.782241821289055],\"legendgroup\":\"\\uc870\\uae08\\ube60\\ub984\",\"line\":{\"color\":\"#00cc96\",\"width\":1},\"lon\":[-73.78192138671875,-73.94640350341797],\"mode\":\"lines\",\"name\":\"\\uc870\\uae08\\ube60\\ub984 (pickup\\u002fdropoff)\",\"showlegend\":false,\"subplot\":\"mapbox\",\"type\":\"scattermapbox\",\"opacity\":0.8},{\"hovertemplate\":\"\\ud3c9\\uade0\\uc18d\\ub825=\\uc870\\uae08\\ube60\\ub984\\u003cbr\\u003eid=id0889544\\u003cbr\\u003elatitude=%{lat}\\u003cbr\\u003elongitude=%{lon}\\u003cextra\\u003e\\u003c\\u002fextra\\u003e\",\"lat\":[40.74057769775391,40.7554817199707],\"legendgroup\":\"\\uc870\\uae08\\ube60\\ub984\",\"line\":{\"color\":\"#00cc96\",\"width\":1},\"lon\":[-73.97972869873048,-73.97085571289062],\"mode\":\"lines\",\"name\":\"\\uc870\\uae08\\ube60\\ub984 (pickup\\u002fdropoff)\",\"showlegend\":false,\"subplot\":\"mapbox\",\"type\":\"scattermapbox\",\"opacity\":0.8},{\"hovertemplate\":\"\\ud3c9\\uade0\\uc18d\\ub825=\\uc870\\uae08\\ube60\\ub984\\u003cbr\\u003eid=id2357722\\u003cbr\\u003elatitude=%{lat}\\u003cbr\\u003elongitude=%{lon}\\u003cextra\\u003e\\u003c\\u002fextra\\u003e\",\"lat\":[40.709976196289055,40.69548034667969],\"legendgroup\":\"\\uc870\\uae08\\ube60\\ub984\",\"line\":{\"color\":\"#00cc96\",\"width\":1},\"lon\":[-74.00458526611328,-73.99742889404298],\"mode\":\"lines\",\"name\":\"\\uc870\\uae08\\ube60\\ub984 (pickup\\u002fdropoff)\",\"showlegend\":false,\"subplot\":\"mapbox\",\"type\":\"scattermapbox\",\"opacity\":0.8},{\"hovertemplate\":\"\\ud3c9\\uade0\\uc18d\\ub825=\\uc870\\uae08\\ube60\\ub984\\u003cbr\\u003eid=id3638105\\u003cbr\\u003elatitude=%{lat}\\u003cbr\\u003elongitude=%{lon}\\u003cextra\\u003e\\u003c\\u002fextra\\u003e\",\"lat\":[40.72257232666016,40.68634033203125],\"legendgroup\":\"\\uc870\\uae08\\ube60\\ub984\",\"line\":{\"color\":\"#00cc96\",\"width\":1},\"lon\":[-74.00359344482422,-73.97468566894531],\"mode\":\"lines\",\"name\":\"\\uc870\\uae08\\ube60\\ub984 (pickup\\u002fdropoff)\",\"showlegend\":false,\"subplot\":\"mapbox\",\"type\":\"scattermapbox\",\"opacity\":0.8},{\"hovertemplate\":\"\\ud3c9\\uade0\\uc18d\\ub825=\\uc870\\uae08\\ube60\\ub984\\u003cbr\\u003eid=id2322963\\u003cbr\\u003elatitude=%{lat}\\u003cbr\\u003elongitude=%{lon}\\u003cextra\\u003e\\u003c\\u002fextra\\u003e\",\"lat\":[40.734493255615234,40.78654861450195],\"legendgroup\":\"\\uc870\\uae08\\ube60\\ub984\",\"line\":{\"color\":\"#00cc96\",\"width\":1},\"lon\":[-74.00151824951173,-73.97239685058595],\"mode\":\"lines\",\"name\":\"\\uc870\\uae08\\ube60\\ub984 (pickup\\u002fdropoff)\",\"showlegend\":false,\"subplot\":\"mapbox\",\"type\":\"scattermapbox\",\"opacity\":0.8},{\"hovertemplate\":\"\\ud3c9\\uade0\\uc18d\\ub825=\\uc870\\uae08\\ube60\\ub984\\u003cbr\\u003eid=id0626677\\u003cbr\\u003elatitude=%{lat}\\u003cbr\\u003elongitude=%{lon}\\u003cextra\\u003e\\u003c\\u002fextra\\u003e\",\"lat\":[40.78641128540039,40.77379989624024],\"legendgroup\":\"\\uc870\\uae08\\ube60\\ub984\",\"line\":{\"color\":\"#00cc96\",\"width\":1},\"lon\":[-73.95282745361328,-73.97776794433594],\"mode\":\"lines\",\"name\":\"\\uc870\\uae08\\ube60\\ub984 (pickup\\u002fdropoff)\",\"showlegend\":false,\"subplot\":\"mapbox\",\"type\":\"scattermapbox\",\"opacity\":0.8},{\"hovertemplate\":\"\\ud3c9\\uade0\\uc18d\\ub825=\\uc870\\uae08\\ube60\\ub984\\u003cbr\\u003eid=id0372891\\u003cbr\\u003elatitude=%{lat}\\u003cbr\\u003elongitude=%{lon}\\u003cextra\\u003e\\u003c\\u002fextra\\u003e\",\"lat\":[40.78201675415039,40.77749633789063],\"legendgroup\":\"\\uc870\\uae08\\ube60\\ub984\",\"line\":{\"color\":\"#00cc96\",\"width\":1},\"lon\":[-73.97631072998048,-73.9781494140625],\"mode\":\"lines\",\"name\":\"\\uc870\\uae08\\ube60\\ub984 (pickup\\u002fdropoff)\",\"showlegend\":false,\"subplot\":\"mapbox\",\"type\":\"scattermapbox\",\"opacity\":0.8},{\"hovertemplate\":\"\\ud3c9\\uade0\\uc18d\\ub825=\\uc870\\uae08\\ube60\\ub984\\u003cbr\\u003eid=id1158393\\u003cbr\\u003elatitude=%{lat}\\u003cbr\\u003elongitude=%{lon}\\u003cextra\\u003e\\u003c\\u002fextra\\u003e\",\"lat\":[40.761756896972656,40.76946258544922],\"legendgroup\":\"\\uc870\\uae08\\ube60\\ub984\",\"line\":{\"color\":\"#00cc96\",\"width\":1},\"lon\":[-73.96741485595702,-73.92103576660156],\"mode\":\"lines\",\"name\":\"\\uc870\\uae08\\ube60\\ub984 (pickup\\u002fdropoff)\",\"showlegend\":false,\"subplot\":\"mapbox\",\"type\":\"scattermapbox\",\"opacity\":0.8},{\"hovertemplate\":\"\\ud3c9\\uade0\\uc18d\\ub825=\\uc870\\uae08\\ube60\\ub984\\u003cbr\\u003eid=id2529954\\u003cbr\\u003elatitude=%{lat}\\u003cbr\\u003elongitude=%{lon}\\u003cextra\\u003e\\u003c\\u002fextra\\u003e\",\"lat\":[40.7640037536621,40.76385116577149],\"legendgroup\":\"\\uc870\\uae08\\ube60\\ub984\",\"line\":{\"color\":\"#00cc96\",\"width\":1},\"lon\":[-73.97434234619139,-73.96236419677734],\"mode\":\"lines\",\"name\":\"\\uc870\\uae08\\ube60\\ub984 (pickup\\u002fdropoff)\",\"showlegend\":false,\"subplot\":\"mapbox\",\"type\":\"scattermapbox\",\"opacity\":0.8},{\"hovertemplate\":\"\\ud3c9\\uade0\\uc18d\\ub825=\\uc870\\uae08\\ube60\\ub984\\u003cbr\\u003eid=id1036174\\u003cbr\\u003elatitude=%{lat}\\u003cbr\\u003elongitude=%{lon}\\u003cextra\\u003e\\u003c\\u002fextra\\u003e\",\"lat\":[40.750431060791016,40.78049087524414],\"legendgroup\":\"\\uc870\\uae08\\ube60\\ub984\",\"line\":{\"color\":\"#00cc96\",\"width\":1},\"lon\":[-73.98802947998048,-73.94779968261719],\"mode\":\"lines\",\"name\":\"\\uc870\\uae08\\ube60\\ub984 (pickup\\u002fdropoff)\",\"showlegend\":false,\"subplot\":\"mapbox\",\"type\":\"scattermapbox\",\"opacity\":0.8},{\"hovertemplate\":\"\\ud3c9\\uade0\\uc18d\\ub825=\\uc870\\uae08\\ube60\\ub984\\u003cbr\\u003eid=id3572749\\u003cbr\\u003elatitude=%{lat}\\u003cbr\\u003elongitude=%{lon}\\u003cextra\\u003e\\u003c\\u002fextra\\u003e\",\"lat\":[40.770069122314446,40.78279113769531],\"legendgroup\":\"\\uc870\\uae08\\ube60\\ub984\",\"line\":{\"color\":\"#00cc96\",\"width\":1},\"lon\":[-73.98792266845702,-73.95319366455078],\"mode\":\"lines\",\"name\":\"\\uc870\\uae08\\ube60\\ub984 (pickup\\u002fdropoff)\",\"showlegend\":false,\"subplot\":\"mapbox\",\"type\":\"scattermapbox\",\"opacity\":0.8},{\"hovertemplate\":\"\\ud3c9\\uade0\\uc18d\\ub825=\\uc870\\uae08\\ube60\\ub984\\u003cbr\\u003eid=id3528412\\u003cbr\\u003elatitude=%{lat}\\u003cbr\\u003elongitude=%{lon}\\u003cextra\\u003e\\u003c\\u002fextra\\u003e\",\"lat\":[40.77674865722656,40.785789489746094],\"legendgroup\":\"\\uc870\\uae08\\ube60\\ub984\",\"line\":{\"color\":\"#00cc96\",\"width\":1},\"lon\":[-73.95974731445312,-73.9532470703125],\"mode\":\"lines\",\"name\":\"\\uc870\\uae08\\ube60\\ub984 (pickup\\u002fdropoff)\",\"showlegend\":false,\"subplot\":\"mapbox\",\"type\":\"scattermapbox\",\"opacity\":0.8},{\"hovertemplate\":\"\\ud3c9\\uade0\\uc18d\\ub825=\\uc870\\uae08\\ube60\\ub984\\u003cbr\\u003eid=id2302144\\u003cbr\\u003elatitude=%{lat}\\u003cbr\\u003elongitude=%{lon}\\u003cextra\\u003e\\u003c\\u002fextra\\u003e\",\"lat\":[40.862701416015625,40.831321716308594],\"legendgroup\":\"\\uc870\\uae08\\ube60\\ub984\",\"line\":{\"color\":\"#00cc96\",\"width\":1},\"lon\":[-73.90413665771484,-73.89300537109375],\"mode\":\"lines\",\"name\":\"\\uc870\\uae08\\ube60\\ub984 (pickup\\u002fdropoff)\",\"showlegend\":false,\"subplot\":\"mapbox\",\"type\":\"scattermapbox\",\"opacity\":0.8},{\"hovertemplate\":\"\\ud3c9\\uade0\\uc18d\\ub825=\\uc870\\uae08\\ube60\\ub984\\u003cbr\\u003eid=id3291602\\u003cbr\\u003elatitude=%{lat}\\u003cbr\\u003elongitude=%{lon}\\u003cextra\\u003e\\u003c\\u002fextra\\u003e\",\"lat\":[40.7334213256836,40.75713348388672],\"legendgroup\":\"\\uc870\\uae08\\ube60\\ub984\",\"line\":{\"color\":\"#00cc96\",\"width\":1},\"lon\":[-74.00246429443358,-73.9832763671875],\"mode\":\"lines\",\"name\":\"\\uc870\\uae08\\ube60\\ub984 (pickup\\u002fdropoff)\",\"showlegend\":false,\"subplot\":\"mapbox\",\"type\":\"scattermapbox\",\"opacity\":0.8},{\"hovertemplate\":\"\\ud3c9\\uade0\\uc18d\\ub825=\\uc870\\uae08\\ube60\\ub984\\u003cbr\\u003eid=id2438985\\u003cbr\\u003elatitude=%{lat}\\u003cbr\\u003elongitude=%{lon}\\u003cextra\\u003e\\u003c\\u002fextra\\u003e\",\"lat\":[40.78261184692384,40.76800155639648],\"legendgroup\":\"\\uc870\\uae08\\ube60\\ub984\",\"line\":{\"color\":\"#00cc96\",\"width\":1},\"lon\":[-73.95343017578125,-73.97037506103516],\"mode\":\"lines\",\"name\":\"\\uc870\\uae08\\ube60\\ub984 (pickup\\u002fdropoff)\",\"showlegend\":false,\"subplot\":\"mapbox\",\"type\":\"scattermapbox\",\"opacity\":0.8},{\"hovertemplate\":\"\\ud3c9\\uade0\\uc18d\\ub825=\\uc870\\uae08\\ube60\\ub984\\u003cbr\\u003eid=id2078977\\u003cbr\\u003elatitude=%{lat}\\u003cbr\\u003elongitude=%{lon}\\u003cextra\\u003e\\u003c\\u002fextra\\u003e\",\"lat\":[40.76673126220703,40.805000305175774],\"legendgroup\":\"\\uc870\\uae08\\ube60\\ub984\",\"line\":{\"color\":\"#00cc96\",\"width\":1},\"lon\":[-73.96306610107422,-73.93858337402342],\"mode\":\"lines\",\"name\":\"\\uc870\\uae08\\ube60\\ub984 (pickup\\u002fdropoff)\",\"showlegend\":false,\"subplot\":\"mapbox\",\"type\":\"scattermapbox\",\"opacity\":0.8},{\"hovertemplate\":\"\\ud3c9\\uade0\\uc18d\\ub825=\\uc870\\uae08\\ube60\\ub984\\u003cbr\\u003eid=id3730700\\u003cbr\\u003elatitude=%{lat}\\u003cbr\\u003elongitude=%{lon}\\u003cextra\\u003e\\u003c\\u002fextra\\u003e\",\"lat\":[40.74989700317384,40.73417663574219],\"legendgroup\":\"\\uc870\\uae08\\ube60\\ub984\",\"line\":{\"color\":\"#00cc96\",\"width\":1},\"lon\":[-73.99164581298828,-73.99500274658203],\"mode\":\"lines\",\"name\":\"\\uc870\\uae08\\ube60\\ub984 (pickup\\u002fdropoff)\",\"showlegend\":false,\"subplot\":\"mapbox\",\"type\":\"scattermapbox\",\"opacity\":0.8},{\"hovertemplate\":\"\\ud3c9\\uade0\\uc18d\\ub825=\\uc870\\uae08\\ube60\\ub984\\u003cbr\\u003eid=id3988208\\u003cbr\\u003elatitude=%{lat}\\u003cbr\\u003elongitude=%{lon}\\u003cextra\\u003e\\u003c\\u002fextra\\u003e\",\"lat\":[40.79740524291992,40.78954315185546],\"legendgroup\":\"\\uc870\\uae08\\ube60\\ub984\",\"line\":{\"color\":\"#00cc96\",\"width\":1},\"lon\":[-73.94892883300781,-73.96743774414062],\"mode\":\"lines\",\"name\":\"\\uc870\\uae08\\ube60\\ub984 (pickup\\u002fdropoff)\",\"showlegend\":false,\"subplot\":\"mapbox\",\"type\":\"scattermapbox\",\"opacity\":0.8},{\"hovertemplate\":\"\\ud3c9\\uade0\\uc18d\\ub825=\\uc870\\uae08\\ube60\\ub984\\u003cbr\\u003eid=id0243048\\u003cbr\\u003elatitude=%{lat}\\u003cbr\\u003elongitude=%{lon}\\u003cextra\\u003e\\u003c\\u002fextra\\u003e\",\"lat\":[40.81560134887695,40.79996109008789],\"legendgroup\":\"\\uc870\\uae08\\ube60\\ub984\",\"line\":{\"color\":\"#00cc96\",\"width\":1},\"lon\":[-73.93981170654298,-73.9586410522461],\"mode\":\"lines\",\"name\":\"\\uc870\\uae08\\ube60\\ub984 (pickup\\u002fdropoff)\",\"showlegend\":false,\"subplot\":\"mapbox\",\"type\":\"scattermapbox\",\"opacity\":0.8},{\"hovertemplate\":\"\\ud3c9\\uade0\\uc18d\\ub825=\\uc870\\uae08\\ube60\\ub984\\u003cbr\\u003eid=id2135926\\u003cbr\\u003elatitude=%{lat}\\u003cbr\\u003elongitude=%{lon}\\u003cextra\\u003e\\u003c\\u002fextra\\u003e\",\"lat\":[40.764122009277344,40.74626541137695],\"legendgroup\":\"\\uc870\\uae08\\ube60\\ub984\",\"line\":{\"color\":\"#00cc96\",\"width\":1},\"lon\":[-73.9558334350586,-73.97246551513672],\"mode\":\"lines\",\"name\":\"\\uc870\\uae08\\ube60\\ub984 (pickup\\u002fdropoff)\",\"showlegend\":false,\"subplot\":\"mapbox\",\"type\":\"scattermapbox\",\"opacity\":0.8},{\"hovertemplate\":\"\\ud3c9\\uade0\\uc18d\\ub825=\\uc870\\uae08\\ube60\\ub984\\u003cbr\\u003eid=id2700601\\u003cbr\\u003elatitude=%{lat}\\u003cbr\\u003elongitude=%{lon}\\u003cextra\\u003e\\u003c\\u002fextra\\u003e\",\"lat\":[40.749908447265625,40.75947952270508],\"legendgroup\":\"\\uc870\\uae08\\ube60\\ub984\",\"line\":{\"color\":\"#00cc96\",\"width\":1},\"lon\":[-73.9881591796875,-73.99555969238281],\"mode\":\"lines\",\"name\":\"\\uc870\\uae08\\ube60\\ub984 (pickup\\u002fdropoff)\",\"showlegend\":false,\"subplot\":\"mapbox\",\"type\":\"scattermapbox\",\"opacity\":0.8},{\"hovertemplate\":\"\\ud3c9\\uade0\\uc18d\\ub825=\\ub9e4\\uc6b0\\ube60\\ub984\\u003cbr\\u003eid=id1030598\\u003cbr\\u003elatitude=%{lat}\\u003cbr\\u003elongitude=%{lon}\\u003cextra\\u003e\\u003c\\u002fextra\\u003e\",\"lat\":[40.71914291381836,40.73513412475586],\"legendgroup\":\"\\ub9e4\\uc6b0\\ube60\\ub984\",\"line\":{\"color\":\"#ab63fa\",\"width\":1},\"lon\":[-74.00506591796875,-74.00606536865233],\"mode\":\"lines\",\"name\":\"\\ub9e4\\uc6b0\\ube60\\ub984 (pickup\\u002fdropoff)\",\"showlegend\":true,\"subplot\":\"mapbox\",\"type\":\"scattermapbox\",\"opacity\":0.8},{\"hovertemplate\":\"\\ud3c9\\uade0\\uc18d\\ub825=\\ub9e4\\uc6b0\\ube60\\ub984\\u003cbr\\u003eid=id3667993\\u003cbr\\u003elatitude=%{lat}\\u003cbr\\u003elongitude=%{lon}\\u003cextra\\u003e\\u003c\\u002fextra\\u003e\",\"lat\":[40.73052978515625,40.746219635009766],\"legendgroup\":\"\\ub9e4\\uc6b0\\ube60\\ub984\",\"line\":{\"color\":\"#ab63fa\",\"width\":1},\"lon\":[-73.98052215576173,-73.99799346923827],\"mode\":\"lines\",\"name\":\"\\ub9e4\\uc6b0\\ube60\\ub984 (pickup\\u002fdropoff)\",\"showlegend\":false,\"subplot\":\"mapbox\",\"type\":\"scattermapbox\",\"opacity\":0.8},{\"hovertemplate\":\"\\ud3c9\\uade0\\uc18d\\ub825=\\ub9e4\\uc6b0\\ube60\\ub984\\u003cbr\\u003eid=id3091695\\u003cbr\\u003elatitude=%{lat}\\u003cbr\\u003elongitude=%{lon}\\u003cextra\\u003e\\u003c\\u002fextra\\u003e\",\"lat\":[40.768253326416016,40.77399826049805],\"legendgroup\":\"\\ub9e4\\uc6b0\\ube60\\ub984\",\"line\":{\"color\":\"#ab63fa\",\"width\":1},\"lon\":[-73.98240661621094,-73.95751190185547],\"mode\":\"lines\",\"name\":\"\\ub9e4\\uc6b0\\ube60\\ub984 (pickup\\u002fdropoff)\",\"showlegend\":false,\"subplot\":\"mapbox\",\"type\":\"scattermapbox\",\"opacity\":0.8},{\"hovertemplate\":\"\\ud3c9\\uade0\\uc18d\\ub825=\\ub9e4\\uc6b0\\ube60\\ub984\\u003cbr\\u003eid=id3545382\\u003cbr\\u003elatitude=%{lat}\\u003cbr\\u003elongitude=%{lon}\\u003cextra\\u003e\\u003c\\u002fextra\\u003e\",\"lat\":[40.79136657714844,40.78382110595703],\"legendgroup\":\"\\ub9e4\\uc6b0\\ube60\\ub984\",\"line\":{\"color\":\"#ab63fa\",\"width\":1},\"lon\":[-73.97394561767578,-73.97989654541014],\"mode\":\"lines\",\"name\":\"\\ub9e4\\uc6b0\\ube60\\ub984 (pickup\\u002fdropoff)\",\"showlegend\":false,\"subplot\":\"mapbox\",\"type\":\"scattermapbox\",\"opacity\":0.8},{\"hovertemplate\":\"\\ud3c9\\uade0\\uc18d\\ub825=\\ub9e4\\uc6b0\\ube60\\ub984\\u003cbr\\u003eid=id0621879\\u003cbr\\u003elatitude=%{lat}\\u003cbr\\u003elongitude=%{lon}\\u003cextra\\u003e\\u003c\\u002fextra\\u003e\",\"lat\":[40.743614196777344,40.72272872924805],\"legendgroup\":\"\\ub9e4\\uc6b0\\ube60\\ub984\",\"line\":{\"color\":\"#ab63fa\",\"width\":1},\"lon\":[-73.95078277587889,-74.00621795654298],\"mode\":\"lines\",\"name\":\"\\ub9e4\\uc6b0\\ube60\\ub984 (pickup\\u002fdropoff)\",\"showlegend\":false,\"subplot\":\"mapbox\",\"type\":\"scattermapbox\",\"opacity\":0.8},{\"hovertemplate\":\"\\ud3c9\\uade0\\uc18d\\ub825=\\ub9e4\\uc6b0\\ube60\\ub984\\u003cbr\\u003eid=id2995326\\u003cbr\\u003elatitude=%{lat}\\u003cbr\\u003elongitude=%{lon}\\u003cextra\\u003e\\u003c\\u002fextra\\u003e\",\"lat\":[40.74108123779297,40.73556137084961],\"legendgroup\":\"\\ub9e4\\uc6b0\\ube60\\ub984\",\"line\":{\"color\":\"#ab63fa\",\"width\":1},\"lon\":[-74.00586700439453,-73.99239349365233],\"mode\":\"lines\",\"name\":\"\\ub9e4\\uc6b0\\ube60\\ub984 (pickup\\u002fdropoff)\",\"showlegend\":false,\"subplot\":\"mapbox\",\"type\":\"scattermapbox\",\"opacity\":0.8},{\"hovertemplate\":\"\\ud3c9\\uade0\\uc18d\\ub825=\\ub9e4\\uc6b0\\ube60\\ub984\\u003cbr\\u003eid=id2341955\\u003cbr\\u003elatitude=%{lat}\\u003cbr\\u003elongitude=%{lon}\\u003cextra\\u003e\\u003c\\u002fextra\\u003e\",\"lat\":[40.78915786743164,40.77948760986328],\"legendgroup\":\"\\ub9e4\\uc6b0\\ube60\\ub984\",\"line\":{\"color\":\"#ab63fa\",\"width\":1},\"lon\":[-73.94364166259764,-73.95057678222656],\"mode\":\"lines\",\"name\":\"\\ub9e4\\uc6b0\\ube60\\ub984 (pickup\\u002fdropoff)\",\"showlegend\":false,\"subplot\":\"mapbox\",\"type\":\"scattermapbox\",\"opacity\":0.8},{\"hovertemplate\":\"\\ud3c9\\uade0\\uc18d\\ub825=\\ub9e4\\uc6b0\\ube60\\ub984\\u003cbr\\u003eid=id1973100\\u003cbr\\u003elatitude=%{lat}\\u003cbr\\u003elongitude=%{lon}\\u003cextra\\u003e\\u003c\\u002fextra\\u003e\",\"lat\":[40.82606887817384,40.7630729675293],\"legendgroup\":\"\\ub9e4\\uc6b0\\ube60\\ub984\",\"line\":{\"color\":\"#ab63fa\",\"width\":1},\"lon\":[-73.94337463378906,-73.98128509521484],\"mode\":\"lines\",\"name\":\"\\ub9e4\\uc6b0\\ube60\\ub984 (pickup\\u002fdropoff)\",\"showlegend\":false,\"subplot\":\"mapbox\",\"type\":\"scattermapbox\",\"opacity\":0.8},{\"hovertemplate\":\"\\ud3c9\\uade0\\uc18d\\ub825=\\ub9e4\\uc6b0\\ube60\\ub984\\u003cbr\\u003eid=id0151990\\u003cbr\\u003elatitude=%{lat}\\u003cbr\\u003elongitude=%{lon}\\u003cextra\\u003e\\u003c\\u002fextra\\u003e\",\"lat\":[40.76192474365234,40.76654052734375],\"legendgroup\":\"\\ub9e4\\uc6b0\\ube60\\ub984\",\"line\":{\"color\":\"#ab63fa\",\"width\":1},\"lon\":[-73.97914123535155,-73.99016571044923],\"mode\":\"lines\",\"name\":\"\\ub9e4\\uc6b0\\ube60\\ub984 (pickup\\u002fdropoff)\",\"showlegend\":false,\"subplot\":\"mapbox\",\"type\":\"scattermapbox\",\"opacity\":0.8},{\"hovertemplate\":\"\\ud3c9\\uade0\\uc18d\\ub825=\\ub9e4\\uc6b0\\ube60\\ub984\\u003cbr\\u003eid=id1745148\\u003cbr\\u003elatitude=%{lat}\\u003cbr\\u003elongitude=%{lon}\\u003cextra\\u003e\\u003c\\u002fextra\\u003e\",\"lat\":[40.75484848022461,40.72767639160156],\"legendgroup\":\"\\ub9e4\\uc6b0\\ube60\\ub984\",\"line\":{\"color\":\"#ab63fa\",\"width\":1},\"lon\":[-73.98343658447266,-74.00334930419923],\"mode\":\"lines\",\"name\":\"\\ub9e4\\uc6b0\\ube60\\ub984 (pickup\\u002fdropoff)\",\"showlegend\":false,\"subplot\":\"mapbox\",\"type\":\"scattermapbox\",\"opacity\":0.8},{\"hovertemplate\":\"\\ud3c9\\uade0\\uc18d\\ub825=\\ub9e4\\uc6b0\\ube60\\ub984\\u003cbr\\u003eid=id1006263\\u003cbr\\u003elatitude=%{lat}\\u003cbr\\u003elongitude=%{lon}\\u003cextra\\u003e\\u003c\\u002fextra\\u003e\",\"lat\":[40.80709838867188,40.80038070678711],\"legendgroup\":\"\\ub9e4\\uc6b0\\ube60\\ub984\",\"line\":{\"color\":\"#ab63fa\",\"width\":1},\"lon\":[-73.95350646972656,-73.96750640869139],\"mode\":\"lines\",\"name\":\"\\ub9e4\\uc6b0\\ube60\\ub984 (pickup\\u002fdropoff)\",\"showlegend\":false,\"subplot\":\"mapbox\",\"type\":\"scattermapbox\",\"opacity\":0.8},{\"hovertemplate\":\"\\ud3c9\\uade0\\uc18d\\ub825=\\ub9e4\\uc6b0\\ube60\\ub984\\u003cbr\\u003eid=id3100200\\u003cbr\\u003elatitude=%{lat}\\u003cbr\\u003elongitude=%{lon}\\u003cextra\\u003e\\u003c\\u002fextra\\u003e\",\"lat\":[40.784122467041016,40.77589797973633],\"legendgroup\":\"\\ub9e4\\uc6b0\\ube60\\ub984\",\"line\":{\"color\":\"#ab63fa\",\"width\":1},\"lon\":[-73.9544906616211,-73.96086883544923],\"mode\":\"lines\",\"name\":\"\\ub9e4\\uc6b0\\ube60\\ub984 (pickup\\u002fdropoff)\",\"showlegend\":false,\"subplot\":\"mapbox\",\"type\":\"scattermapbox\",\"opacity\":0.8},{\"hovertemplate\":\"\\ud3c9\\uade0\\uc18d\\ub825=\\ub9e4\\uc6b0\\ube60\\ub984\\u003cbr\\u003eid=id2484944\\u003cbr\\u003elatitude=%{lat}\\u003cbr\\u003elongitude=%{lon}\\u003cextra\\u003e\\u003c\\u002fextra\\u003e\",\"lat\":[40.77938079833984,40.76678466796875],\"legendgroup\":\"\\ub9e4\\uc6b0\\ube60\\ub984\",\"line\":{\"color\":\"#ab63fa\",\"width\":1},\"lon\":[-73.94471740722656,-73.95954132080078],\"mode\":\"lines\",\"name\":\"\\ub9e4\\uc6b0\\ube60\\ub984 (pickup\\u002fdropoff)\",\"showlegend\":false,\"subplot\":\"mapbox\",\"type\":\"scattermapbox\",\"opacity\":0.8},{\"hovertemplate\":\"\\ud3c9\\uade0\\uc18d\\ub825=\\ub9e4\\uc6b0\\ube60\\ub984\\u003cbr\\u003eid=id0294070\\u003cbr\\u003elatitude=%{lat}\\u003cbr\\u003elongitude=%{lon}\\u003cextra\\u003e\\u003c\\u002fextra\\u003e\",\"lat\":[40.78065872192384,40.76536560058594],\"legendgroup\":\"\\ub9e4\\uc6b0\\ube60\\ub984\",\"line\":{\"color\":\"#ab63fa\",\"width\":1},\"lon\":[-73.98385620117188,-73.9659652709961],\"mode\":\"lines\",\"name\":\"\\ub9e4\\uc6b0\\ube60\\ub984 (pickup\\u002fdropoff)\",\"showlegend\":false,\"subplot\":\"mapbox\",\"type\":\"scattermapbox\",\"opacity\":0.8},{\"hovertemplate\":\"\\ud3c9\\uade0\\uc18d\\ub825=\\ub9e4\\uc6b0\\ube60\\ub984\\u003cbr\\u003eid=id3088186\\u003cbr\\u003elatitude=%{lat}\\u003cbr\\u003elongitude=%{lon}\\u003cextra\\u003e\\u003c\\u002fextra\\u003e\",\"lat\":[40.76067352294922,40.762725830078125],\"legendgroup\":\"\\ub9e4\\uc6b0\\ube60\\ub984\",\"line\":{\"color\":\"#ab63fa\",\"width\":1},\"lon\":[-73.98724365234375,-73.92682647705078],\"mode\":\"lines\",\"name\":\"\\ub9e4\\uc6b0\\ube60\\ub984 (pickup\\u002fdropoff)\",\"showlegend\":false,\"subplot\":\"mapbox\",\"type\":\"scattermapbox\",\"opacity\":0.8},{\"hovertemplate\":\"\\ud3c9\\uade0\\uc18d\\ub825=\\ub9e4\\uc6b0\\ube60\\ub984\\u003cbr\\u003eid=id0429106\\u003cbr\\u003elatitude=%{lat}\\u003cbr\\u003elongitude=%{lon}\\u003cextra\\u003e\\u003c\\u002fextra\\u003e\",\"lat\":[40.75823974609375,40.75593185424805],\"legendgroup\":\"\\ub9e4\\uc6b0\\ube60\\ub984\",\"line\":{\"color\":\"#ab63fa\",\"width\":1},\"lon\":[-73.98924255371094,-73.91887664794923],\"mode\":\"lines\",\"name\":\"\\ub9e4\\uc6b0\\ube60\\ub984 (pickup\\u002fdropoff)\",\"showlegend\":false,\"subplot\":\"mapbox\",\"type\":\"scattermapbox\",\"opacity\":0.8},{\"hovertemplate\":\"\\ud3c9\\uade0\\uc18d\\ub825=\\ub9e4\\uc6b0\\ube60\\ub984\\u003cbr\\u003eid=id2843597\\u003cbr\\u003elatitude=%{lat}\\u003cbr\\u003elongitude=%{lon}\\u003cextra\\u003e\\u003c\\u002fextra\\u003e\",\"lat\":[40.75821304321289,40.796680450439446],\"legendgroup\":\"\\ub9e4\\uc6b0\\ube60\\ub984\",\"line\":{\"color\":\"#ab63fa\",\"width\":1},\"lon\":[-73.98886108398438,-73.96269226074217],\"mode\":\"lines\",\"name\":\"\\ub9e4\\uc6b0\\ube60\\ub984 (pickup\\u002fdropoff)\",\"showlegend\":false,\"subplot\":\"mapbox\",\"type\":\"scattermapbox\",\"opacity\":0.8},{\"hovertemplate\":\"\\ud3c9\\uade0\\uc18d\\ub825=\\ub9e4\\uc6b0\\ube60\\ub984\\u003cbr\\u003eid=id2583198\\u003cbr\\u003elatitude=%{lat}\\u003cbr\\u003elongitude=%{lon}\\u003cextra\\u003e\\u003c\\u002fextra\\u003e\",\"lat\":[40.643508911132805,40.70578384399414],\"legendgroup\":\"\\ub9e4\\uc6b0\\ube60\\ub984\",\"line\":{\"color\":\"#ab63fa\",\"width\":1},\"lon\":[-73.79021453857422,-74.00952911376953],\"mode\":\"lines\",\"name\":\"\\ub9e4\\uc6b0\\ube60\\ub984 (pickup\\u002fdropoff)\",\"showlegend\":false,\"subplot\":\"mapbox\",\"type\":\"scattermapbox\",\"opacity\":0.8},{\"hovertemplate\":\"\\ud3c9\\uade0\\uc18d\\ub825=\\ub9e4\\uc6b0\\ube60\\ub984\\u003cbr\\u003eid=id1322047\\u003cbr\\u003elatitude=%{lat}\\u003cbr\\u003elongitude=%{lon}\\u003cextra\\u003e\\u003c\\u002fextra\\u003e\",\"lat\":[40.737281799316406,40.6446418762207],\"legendgroup\":\"\\ub9e4\\uc6b0\\ube60\\ub984\",\"line\":{\"color\":\"#ab63fa\",\"width\":1},\"lon\":[-74.00069427490233,-73.77690124511719],\"mode\":\"lines\",\"name\":\"\\ub9e4\\uc6b0\\ube60\\ub984 (pickup\\u002fdropoff)\",\"showlegend\":false,\"subplot\":\"mapbox\",\"type\":\"scattermapbox\",\"opacity\":0.8},{\"hovertemplate\":\"\\ud3c9\\uade0\\uc18d\\ub825=\\ub9e4\\uc6b0\\ube60\\ub984\\u003cbr\\u003eid=id3388355\\u003cbr\\u003elatitude=%{lat}\\u003cbr\\u003elongitude=%{lon}\\u003cextra\\u003e\\u003c\\u002fextra\\u003e\",\"lat\":[40.74114227294922,40.68381118774414],\"legendgroup\":\"\\ub9e4\\uc6b0\\ube60\\ub984\",\"line\":{\"color\":\"#ab63fa\",\"width\":1},\"lon\":[-73.99011993408203,-73.9951629638672],\"mode\":\"lines\",\"name\":\"\\ub9e4\\uc6b0\\ube60\\ub984 (pickup\\u002fdropoff)\",\"showlegend\":false,\"subplot\":\"mapbox\",\"type\":\"scattermapbox\",\"opacity\":0.8},{\"hovertemplate\":\"\\ud3c9\\uade0\\uc18d\\ub825=\\ub9e4\\uc6b0\\ube60\\ub984\\u003cbr\\u003eid=id1850636\\u003cbr\\u003elatitude=%{lat}\\u003cbr\\u003elongitude=%{lon}\\u003cextra\\u003e\\u003c\\u002fextra\\u003e\",\"lat\":[40.75043869018555,40.63109970092773],\"legendgroup\":\"\\ub9e4\\uc6b0\\ube60\\ub984\",\"line\":{\"color\":\"#ab63fa\",\"width\":1},\"lon\":[-73.99453735351561,-74.02571868896483],\"mode\":\"lines\",\"name\":\"\\ub9e4\\uc6b0\\ube60\\ub984 (pickup\\u002fdropoff)\",\"showlegend\":false,\"subplot\":\"mapbox\",\"type\":\"scattermapbox\",\"opacity\":0.8},{\"hovertemplate\":\"\\ud3c9\\uade0\\uc18d\\ub825=\\ub9e4\\uc6b0\\ube60\\ub984\\u003cbr\\u003eid=id0037819\\u003cbr\\u003elatitude=%{lat}\\u003cbr\\u003elongitude=%{lon}\\u003cextra\\u003e\\u003c\\u002fextra\\u003e\",\"lat\":[40.756568908691406,40.740058898925774],\"legendgroup\":\"\\ub9e4\\uc6b0\\ube60\\ub984\",\"line\":{\"color\":\"#ab63fa\",\"width\":1},\"lon\":[-73.98641967773438,-73.99530029296875],\"mode\":\"lines\",\"name\":\"\\ub9e4\\uc6b0\\ube60\\ub984 (pickup\\u002fdropoff)\",\"showlegend\":false,\"subplot\":\"mapbox\",\"type\":\"scattermapbox\",\"opacity\":0.8},{\"hovertemplate\":\"\\ud3c9\\uade0\\uc18d\\ub825=\\ub9e4\\uc6b0\\ube60\\ub984\\u003cbr\\u003eid=id3716633\\u003cbr\\u003elatitude=%{lat}\\u003cbr\\u003elongitude=%{lon}\\u003cextra\\u003e\\u003c\\u002fextra\\u003e\",\"lat\":[40.755401611328125,40.705509185791016],\"legendgroup\":\"\\ub9e4\\uc6b0\\ube60\\ub984\",\"line\":{\"color\":\"#ab63fa\",\"width\":1},\"lon\":[-73.96813201904298,-74.00707244873048],\"mode\":\"lines\",\"name\":\"\\ub9e4\\uc6b0\\ube60\\ub984 (pickup\\u002fdropoff)\",\"showlegend\":false,\"subplot\":\"mapbox\",\"type\":\"scattermapbox\",\"opacity\":0.8},{\"hovertemplate\":\"\\ud3c9\\uade0\\uc18d\\ub825=\\ub9e4\\uc6b0\\ube60\\ub984\\u003cbr\\u003eid=id3666656\\u003cbr\\u003elatitude=%{lat}\\u003cbr\\u003elongitude=%{lon}\\u003cextra\\u003e\\u003c\\u002fextra\\u003e\",\"lat\":[40.645286560058594,40.75309753417969],\"legendgroup\":\"\\ub9e4\\uc6b0\\ube60\\ub984\",\"line\":{\"color\":\"#ab63fa\",\"width\":1},\"lon\":[-73.7766876220703,-73.99340057373048],\"mode\":\"lines\",\"name\":\"\\ub9e4\\uc6b0\\ube60\\ub984 (pickup\\u002fdropoff)\",\"showlegend\":false,\"subplot\":\"mapbox\",\"type\":\"scattermapbox\",\"opacity\":0.8},{\"hovertemplate\":\"\\ud3c9\\uade0\\uc18d\\ub825=\\ub9e4\\uc6b0\\ube60\\ub984\\u003cbr\\u003eid=id0739381\\u003cbr\\u003elatitude=%{lat}\\u003cbr\\u003elongitude=%{lon}\\u003cextra\\u003e\\u003c\\u002fextra\\u003e\",\"lat\":[40.80809020996094,40.76717758178711],\"legendgroup\":\"\\ub9e4\\uc6b0\\ube60\\ub984\",\"line\":{\"color\":\"#ab63fa\",\"width\":1},\"lon\":[-73.9640121459961,-73.99046325683594],\"mode\":\"lines\",\"name\":\"\\ub9e4\\uc6b0\\ube60\\ub984 (pickup\\u002fdropoff)\",\"showlegend\":false,\"subplot\":\"mapbox\",\"type\":\"scattermapbox\",\"opacity\":0.8},{\"hovertemplate\":\"\\ud3c9\\uade0\\uc18d\\ub825=\\ub9e4\\uc6b0\\ube60\\ub984\\u003cbr\\u003eid=id0787873\\u003cbr\\u003elatitude=%{lat}\\u003cbr\\u003elongitude=%{lon}\\u003cextra\\u003e\\u003c\\u002fextra\\u003e\",\"lat\":[40.64693832397461,40.70998001098633],\"legendgroup\":\"\\ub9e4\\uc6b0\\ube60\\ub984\",\"line\":{\"color\":\"#ab63fa\",\"width\":1},\"lon\":[-73.78984832763672,-74.005126953125],\"mode\":\"lines\",\"name\":\"\\ub9e4\\uc6b0\\ube60\\ub984 (pickup\\u002fdropoff)\",\"showlegend\":false,\"subplot\":\"mapbox\",\"type\":\"scattermapbox\",\"opacity\":0.8},{\"hovertemplate\":\"\\ud3c9\\uade0\\uc18d\\ub825=\\ub9e4\\uc6b0\\ube60\\ub984\\u003cbr\\u003eid=id0419095\\u003cbr\\u003elatitude=%{lat}\\u003cbr\\u003elongitude=%{lon}\\u003cextra\\u003e\\u003c\\u002fextra\\u003e\",\"lat\":[40.768848419189446,40.744606018066406],\"legendgroup\":\"\\ub9e4\\uc6b0\\ube60\\ub984\",\"line\":{\"color\":\"#ab63fa\",\"width\":1},\"lon\":[-73.86279296875,-73.97144317626953],\"mode\":\"lines\",\"name\":\"\\ub9e4\\uc6b0\\ube60\\ub984 (pickup\\u002fdropoff)\",\"showlegend\":false,\"subplot\":\"mapbox\",\"type\":\"scattermapbox\",\"opacity\":0.8},{\"hovertemplate\":\"\\ud3c9\\uade0\\uc18d\\ub825=\\ub9e4\\uc6b0\\ube60\\ub984\\u003cbr\\u003eid=id0480924\\u003cbr\\u003elatitude=%{lat}\\u003cbr\\u003elongitude=%{lon}\\u003cextra\\u003e\\u003c\\u002fextra\\u003e\",\"lat\":[40.72843170166016,40.73809051513672],\"legendgroup\":\"\\ub9e4\\uc6b0\\ube60\\ub984\",\"line\":{\"color\":\"#ab63fa\",\"width\":1},\"lon\":[-73.99981689453125,-74.05081176757811],\"mode\":\"lines\",\"name\":\"\\ub9e4\\uc6b0\\ube60\\ub984 (pickup\\u002fdropoff)\",\"showlegend\":false,\"subplot\":\"mapbox\",\"type\":\"scattermapbox\",\"opacity\":0.8},{\"hovertemplate\":\"\\ud3c9\\uade0\\uc18d\\ub825=\\ub9e4\\uc6b0\\ube60\\ub984\\u003cbr\\u003eid=id0271875\\u003cbr\\u003elatitude=%{lat}\\u003cbr\\u003elongitude=%{lon}\\u003cextra\\u003e\\u003c\\u002fextra\\u003e\",\"lat\":[40.76412582397461,40.783740997314446],\"legendgroup\":\"\\ub9e4\\uc6b0\\ube60\\ub984\",\"line\":{\"color\":\"#ab63fa\",\"width\":1},\"lon\":[-73.97107696533203,-73.95669555664062],\"mode\":\"lines\",\"name\":\"\\ub9e4\\uc6b0\\ube60\\ub984 (pickup\\u002fdropoff)\",\"showlegend\":false,\"subplot\":\"mapbox\",\"type\":\"scattermapbox\",\"opacity\":0.8},{\"hovertemplate\":\"\\ud3c9\\uade0\\uc18d\\ub825=\\ub9e4\\uc6b0\\ube60\\ub984\\u003cbr\\u003eid=id2723141\\u003cbr\\u003elatitude=%{lat}\\u003cbr\\u003elongitude=%{lon}\\u003cextra\\u003e\\u003c\\u002fextra\\u003e\",\"lat\":[40.70758056640625,40.752979278564446],\"legendgroup\":\"\\ub9e4\\uc6b0\\ube60\\ub984\",\"line\":{\"color\":\"#ab63fa\",\"width\":1},\"lon\":[-74.00406646728516,-73.97933197021484],\"mode\":\"lines\",\"name\":\"\\ub9e4\\uc6b0\\ube60\\ub984 (pickup\\u002fdropoff)\",\"showlegend\":false,\"subplot\":\"mapbox\",\"type\":\"scattermapbox\",\"opacity\":0.8},{\"hovertemplate\":\"\\ud3c9\\uade0\\uc18d\\ub825=\\ub9e4\\uc6b0\\ube60\\ub984\\u003cbr\\u003eid=id3457947\\u003cbr\\u003elatitude=%{lat}\\u003cbr\\u003elongitude=%{lon}\\u003cextra\\u003e\\u003c\\u002fextra\\u003e\",\"lat\":[40.767120361328125,40.77658081054688],\"legendgroup\":\"\\ub9e4\\uc6b0\\ube60\\ub984\",\"line\":{\"color\":\"#ab63fa\",\"width\":1},\"lon\":[-73.9688720703125,-73.96205139160156],\"mode\":\"lines\",\"name\":\"\\ub9e4\\uc6b0\\ube60\\ub984 (pickup\\u002fdropoff)\",\"showlegend\":false,\"subplot\":\"mapbox\",\"type\":\"scattermapbox\",\"opacity\":0.8},{\"hovertemplate\":\"\\ud3c9\\uade0\\uc18d\\ub825=\\ub9e4\\uc6b0\\ube60\\ub984\\u003cbr\\u003eid=id2035188\\u003cbr\\u003elatitude=%{lat}\\u003cbr\\u003elongitude=%{lon}\\u003cextra\\u003e\\u003c\\u002fextra\\u003e\",\"lat\":[40.75527572631836,40.76887130737305],\"legendgroup\":\"\\ub9e4\\uc6b0\\ube60\\ub984\",\"line\":{\"color\":\"#ab63fa\",\"width\":1},\"lon\":[-73.96514892578125,-73.95445251464845],\"mode\":\"lines\",\"name\":\"\\ub9e4\\uc6b0\\ube60\\ub984 (pickup\\u002fdropoff)\",\"showlegend\":false,\"subplot\":\"mapbox\",\"type\":\"scattermapbox\",\"opacity\":0.8},{\"hovertemplate\":\"\\ud3c9\\uade0\\uc18d\\ub825=\\ub9e4\\uc6b0\\ube60\\ub984\\u003cbr\\u003eid=id0453108\\u003cbr\\u003elatitude=%{lat}\\u003cbr\\u003elongitude=%{lon}\\u003cextra\\u003e\\u003c\\u002fextra\\u003e\",\"lat\":[40.64477157592773,40.832279205322266],\"legendgroup\":\"\\ub9e4\\uc6b0\\ube60\\ub984\",\"line\":{\"color\":\"#ab63fa\",\"width\":1},\"lon\":[-73.78182983398438,-73.94233703613281],\"mode\":\"lines\",\"name\":\"\\ub9e4\\uc6b0\\ube60\\ub984 (pickup\\u002fdropoff)\",\"showlegend\":false,\"subplot\":\"mapbox\",\"type\":\"scattermapbox\",\"opacity\":0.8},{\"hovertemplate\":\"\\ud3c9\\uade0\\uc18d\\ub825=\\ub9e4\\uc6b0\\ube60\\ub984\\u003cbr\\u003eid=id3413834\\u003cbr\\u003elatitude=%{lat}\\u003cbr\\u003elongitude=%{lon}\\u003cextra\\u003e\\u003c\\u002fextra\\u003e\",\"lat\":[40.773601531982415,40.66177749633789],\"legendgroup\":\"\\ub9e4\\uc6b0\\ube60\\ub984\",\"line\":{\"color\":\"#ab63fa\",\"width\":1},\"lon\":[-73.87093353271484,-73.82536315917967],\"mode\":\"lines\",\"name\":\"\\ub9e4\\uc6b0\\ube60\\ub984 (pickup\\u002fdropoff)\",\"showlegend\":false,\"subplot\":\"mapbox\",\"type\":\"scattermapbox\",\"opacity\":0.8},{\"hovertemplate\":\"\\ud3c9\\uade0\\uc18d\\ub825=\\ub9e4\\uc6b0\\ube60\\ub984\\u003cbr\\u003eid=id3646444\\u003cbr\\u003elatitude=%{lat}\\u003cbr\\u003elongitude=%{lon}\\u003cextra\\u003e\\u003c\\u002fextra\\u003e\",\"lat\":[40.64687347412109,40.78129196166992],\"legendgroup\":\"\\ub9e4\\uc6b0\\ube60\\ub984\",\"line\":{\"color\":\"#ab63fa\",\"width\":1},\"lon\":[-73.79014587402342,-73.9521942138672],\"mode\":\"lines\",\"name\":\"\\ub9e4\\uc6b0\\ube60\\ub984 (pickup\\u002fdropoff)\",\"showlegend\":false,\"subplot\":\"mapbox\",\"type\":\"scattermapbox\",\"opacity\":0.8},{\"hovertemplate\":\"\\ud3c9\\uade0\\uc18d\\ub825=\\ub9e4\\uc6b0\\ube60\\ub984\\u003cbr\\u003eid=id0345371\\u003cbr\\u003elatitude=%{lat}\\u003cbr\\u003elongitude=%{lon}\\u003cextra\\u003e\\u003c\\u002fextra\\u003e\",\"lat\":[40.64469146728516,40.70872116088867],\"legendgroup\":\"\\ub9e4\\uc6b0\\ube60\\ub984\",\"line\":{\"color\":\"#ab63fa\",\"width\":1},\"lon\":[-73.78196716308595,-73.9399185180664],\"mode\":\"lines\",\"name\":\"\\ub9e4\\uc6b0\\ube60\\ub984 (pickup\\u002fdropoff)\",\"showlegend\":false,\"subplot\":\"mapbox\",\"type\":\"scattermapbox\",\"opacity\":0.8},{\"hovertemplate\":\"\\ud3c9\\uade0\\uc18d\\ub825=\\ub9e4\\uc6b0\\ube60\\ub984\\u003cbr\\u003eid=id2676557\\u003cbr\\u003elatitude=%{lat}\\u003cbr\\u003elongitude=%{lon}\\u003cextra\\u003e\\u003c\\u002fextra\\u003e\",\"lat\":[40.738807678222656,40.74818420410156],\"legendgroup\":\"\\ub9e4\\uc6b0\\ube60\\ub984\",\"line\":{\"color\":\"#ab63fa\",\"width\":1},\"lon\":[-73.98301696777342,-73.97811889648438],\"mode\":\"lines\",\"name\":\"\\ub9e4\\uc6b0\\ube60\\ub984 (pickup\\u002fdropoff)\",\"showlegend\":false,\"subplot\":\"mapbox\",\"type\":\"scattermapbox\",\"opacity\":0.8},{\"hovertemplate\":\"\\ud3c9\\uade0\\uc18d\\ub825=\\ub9e4\\uc6b0\\ub290\\ub9bc\\u003cbr\\u003epassenger_count=%{marker.size}\\u003cbr\\u003elatitude=%{lat}\\u003cbr\\u003elongitude=%{lon}\\u003cextra\\u003e\\u003c\\u002fextra\\u003e\",\"lat\":[40.75983047485352,40.75983047485352,40.78168487548828,40.781299591064446,40.763519287109375,40.761749267578125,40.74432373046875,40.74211883544922,40.70718383789063,40.70901870727539,40.77154159545898,40.77495956420898,40.72530364990234,40.71965026855469,40.75623321533203,40.734371185302734,40.739540100097656,40.735721588134766,40.73308181762695,40.730018615722656,40.776123046875,40.77534103393555,40.746826171875,40.777099609375,40.74184036254882,40.74722671508789,40.7467155456543,40.75249862670898,40.72259521484375,40.72389602661133,40.76140594482422,40.76454162597656,40.744140625,40.74169921875,40.78596115112305,40.77871322631836,40.794048309326165,40.79790878295898,40.76639175415039,40.75261306762695,40.73777770996094,40.74677658081056,40.7393684387207,40.74413299560546,40.7324447631836,40.7302360534668,40.74240493774414,40.72117233276367,40.76290130615234,40.74275970458984,40.757469177246094,40.771968841552734,40.72243118286133,40.76266860961913,40.79840850830078,40.79058837890625,40.76341247558594,40.71963119506836,40.74380493164063,40.75000762939453,40.74729537963867,40.761695861816406,40.72234725952149,40.74566268920898,40.78450012207031,40.804832458496094,40.773868560791016,40.75505065917969,40.7683982849121,40.7793083190918,40.77922821044922,40.746257781982415,40.75796890258789,40.743770599365234],\"legendgroup\":\"\\ub9e4\\uc6b0\\ub290\\ub9bc\",\"lon\":[-73.97090148925781,-73.97090148925781,-73.98113250732422,-73.981201171875,-73.96932220458984,-73.97138977050781,-73.98423767089844,-73.97466278076173,-74.01651763916014,-74.0118637084961,-73.9818115234375,-73.98088073730467,-73.9925537109375,-73.9946060180664,-73.99331665039062,-73.98973846435547,-73.98706817626953,-73.98265838623048,-74.00662231445312,-74.00050354003906,-73.96235656738281,-73.96501922607422,-73.99005889892578,-73.97775268554686,-74.0008773803711,-73.9910430908203,-73.98993682861328,-73.97853851318358,-74.00528717041014,-74.00457000732422,-73.97090911865233,-73.97366333007811,-73.97913360595702,-73.97492218017578,-73.97699737548828,-73.9814453125,-73.97196960449217,-73.97329711914062,-73.96286010742188,-73.98545074462889,-73.99762725830078,-74.00828552246092,-74.00737762451173,-74.00689697265625,-74.00647735595702,-73.99922180175781,-74.00107574462889,-73.98760986328125,-73.98320770263672,-73.97737884521484,-73.96942901611328,-73.9827423095703,-73.98615264892578,-73.98597717285155,-73.95243072509764,-73.949951171875,-73.98194122314453,-73.99542999267578,-73.98795318603516,-73.99179077148438,-73.98175048828125,-74.00177764892578,-73.99722290039062,-73.98463439941406,-73.95220947265625,-73.96610260009764,-73.98236846923827,-73.97960662841797,-73.9656524658203,-73.96006774902342,-73.95587921142578,-73.98580169677734,-73.98609161376953,-73.98335266113281],\"marker\":{\"color\":\"#636efa\",\"size\":[2,2,1,1,2,2,2,2,1,1,2,2,2,2,1,1,1,1,1,1,1,1,1,1,2,2,1,1,1,1,1,1,1,1,1,1,1,1,1,1,1,1,1,1,1,1,1,1,1,1,1,1,1,1,1,1,1,1,1,1,1,1,2,2,2,2,4,4,1,1,5,5,1,1],\"sizemode\":\"area\",\"sizeref\":0.06},\"mode\":\"markers\",\"name\":\"\\ub9e4\\uc6b0\\ub290\\ub9bc(path)\",\"showlegend\":true,\"subplot\":\"mapbox\",\"type\":\"scattermapbox\",\"line\":{\"width\":1},\"opacity\":0.8},{\"hovertemplate\":\"\\ud3c9\\uade0\\uc18d\\ub825=\\uc870\\uae08\\ub290\\ub9bc\\u003cbr\\u003epassenger_count=%{marker.size}\\u003cbr\\u003elatitude=%{lat}\\u003cbr\\u003elongitude=%{lon}\\u003cextra\\u003e\\u003c\\u002fextra\\u003e\",\"lat\":[40.74156188964844,40.75085067749024,40.76424789428711,40.763145446777344,40.777053833007805,40.76767349243164,40.730010986328125,40.73989868164063,40.763973236083984,40.76081848144531,40.760250091552734,40.79518127441406,40.74981689453125,40.756885528564446,40.78707885742188,40.79246139526367,40.7226448059082,40.73473739624024,40.75053024291992,40.75751876831056,40.74673461914063,40.7509651184082,40.73553085327149,40.76554107666016,40.744510650634766,40.7564582824707,40.75918960571289,40.7098503112793,40.76905059814453,40.7630615234375,40.76215744018555,40.74748611450195,40.74530792236328,40.74227523803711,40.71868896484375,40.7457275390625,40.77298355102539,40.75412368774414,40.7714958190918,40.75320816040039,40.76704025268555,40.76899337768555,40.74298095703125,40.71076965332031,40.72407150268555,40.75766372680664,40.75624084472656,40.7665901184082,40.742500305175774,40.7463493347168,40.73820495605469,40.75112533569336,40.73915481567384,40.74427795410156,40.759124755859375,40.74463272094727,40.74143600463867,40.73919296264648,40.7253303527832,40.777881622314446,40.75419235229492,40.762859344482415,40.76359939575195,40.7617416381836,40.74908065795898,40.6697654724121,40.76555252075195,40.79889678955078,40.7724494934082,40.755836486816406,40.75054931640625,40.759868621826165],\"legendgroup\":\"\\uc870\\uae08\\ub290\\ub9bc\",\"lon\":[-73.993896484375,-73.97830963134764,-73.95646667480467,-73.96985626220702,-73.98257446289062,-73.98075866699219,-73.9792709350586,-73.98174285888672,-73.99028778076173,-73.97960662841797,-73.96861267089844,-73.96575927734375,-73.99140167236328,-73.9898910522461,-73.95390319824217,-73.94084167480467,-73.98736572265625,-74.0038833618164,-73.98738098144531,-73.98204803466798,-73.97140502929686,-73.97477722167967,-73.98988342285155,-73.97640228271484,-73.98111724853516,-74.00170135498048,-73.98509216308595,-73.96215057373048,-73.98491668701173,-73.97570037841797,-73.98597717285155,-73.97697448730467,-74.00784301757811,-73.98967742919923,-74.0053482055664,-73.9908905029297,-73.9782943725586,-73.97389221191406,-73.95969390869139,-73.98626708984375,-73.95381164550781,-73.96334075927734,-73.98845672607422,-74.01339721679686,-74.00241088867188,-73.98356628417967,-73.97042846679686,-73.98652648925781,-73.97420501708984,-73.97167205810547,-73.98540496826173,-73.97836303710938,-73.99610137939453,-73.98767852783203,-73.97645568847656,-73.97919464111328,-73.95230865478516,-73.98406982421875,-73.99237060546875,-73.98873138427734,-73.97592163085938,-73.98892211914062,-73.98738861083984,-73.96864318847656,-74.00839233398438,-73.97919464111328,-73.96790313720702,-73.96857452392578,-73.96265411376953,-73.9784927368164,-73.97480010986328,-73.96180725097656],\"marker\":{\"color\":\"#EF553B\",\"size\":[1,1,4,4,1,1,2,2,2,2,2,2,1,1,2,2,1,1,2,2,1,1,3,3,2,2,5,5,1,1,1,1,2,2,1,1,1,1,1,1,1,1,4,4,1,1,2,2,1,1,5,5,1,1,2,2,1,1,1,1,2,2,1,1,4,4,1,1,1,1,5,5],\"sizemode\":\"area\",\"sizeref\":0.06},\"mode\":\"markers\",\"name\":\"\\uc870\\uae08\\ub290\\ub9bc(path)\",\"showlegend\":true,\"subplot\":\"mapbox\",\"type\":\"scattermapbox\",\"line\":{\"width\":1},\"opacity\":0.8},{\"hovertemplate\":\"\\ud3c9\\uade0\\uc18d\\ub825=\\uc870\\uae08\\ube60\\ub984\\u003cbr\\u003epassenger_count=%{marker.size}\\u003cbr\\u003elatitude=%{lat}\\u003cbr\\u003elongitude=%{lon}\\u003cextra\\u003e\\u003c\\u002fextra\\u003e\",\"lat\":[40.74464797973633,40.72493362426758,40.75567626953125,40.72474670410156,40.755126953125,40.74041366577149,40.7249755859375,40.655078887939446,40.72565841674805,40.73714065551758,40.75128173828125,40.76827239990234,40.73410034179688,40.67301177978516,40.76793670654297,40.765602111816406,40.75857162475586,40.77785873413086,40.75810241699219,40.790283203125,40.752891540527344,40.739990234375,40.789600372314446,40.71483612060546,40.766788482666016,40.77115631103516,40.794429779052734,40.7891731262207,40.80135726928711,40.79747772216797,40.64473342895508,40.782241821289055,40.74057769775391,40.7554817199707,40.709976196289055,40.69548034667969,40.72257232666016,40.68634033203125,40.734493255615234,40.78654861450195,40.78641128540039,40.77379989624024,40.78201675415039,40.77749633789063,40.761756896972656,40.76946258544922,40.7640037536621,40.76385116577149,40.750431060791016,40.78049087524414,40.770069122314446,40.78279113769531,40.77674865722656,40.785789489746094,40.862701416015625,40.831321716308594,40.7334213256836,40.75713348388672,40.78261184692384,40.76800155639648,40.76673126220703,40.805000305175774,40.74989700317384,40.73417663574219,40.79740524291992,40.78954315185546,40.81560134887695,40.79996109008789,40.764122009277344,40.74626541137695,40.749908447265625,40.75947952270508],\"legendgroup\":\"\\uc870\\uae08\\ube60\\ub984\",\"lon\":[-73.99140930175781,-73.9950942993164,-73.96500396728516,-74.00196075439453,-73.9874267578125,-73.98683166503906,-73.9844207763672,-73.955322265625,-73.99471282958984,-73.99044036865233,-73.93987274169923,-73.95292663574217,-73.9994888305664,-73.96280670166014,-73.98215484619139,-73.96463012695312,-73.96356964111328,-73.94394683837889,-73.96311950683594,-73.96560668945312,-73.97013854980467,-73.98188781738281,-73.97001647949219,-74.0139389038086,-73.96295928955078,-73.98324584960938,-73.97160339355469,-73.9527587890625,-73.95948791503906,-73.96974182128906,-73.78192138671875,-73.94640350341797,-73.97972869873048,-73.97085571289062,-74.00458526611328,-73.99742889404298,-74.00359344482422,-73.97468566894531,-74.00151824951173,-73.97239685058595,-73.95282745361328,-73.97776794433594,-73.97631072998048,-73.9781494140625,-73.96741485595702,-73.92103576660156,-73.97434234619139,-73.96236419677734,-73.98802947998048,-73.94779968261719,-73.98792266845702,-73.95319366455078,-73.95974731445312,-73.9532470703125,-73.90413665771484,-73.89300537109375,-74.00246429443358,-73.9832763671875,-73.95343017578125,-73.97037506103516,-73.96306610107422,-73.93858337402342,-73.99164581298828,-73.99500274658203,-73.94892883300781,-73.96743774414062,-73.93981170654298,-73.9586410522461,-73.9558334350586,-73.97246551513672,-73.9881591796875,-73.99555969238281],\"marker\":{\"color\":\"#00cc96\",\"size\":[4,4,6,6,2,2,1,1,2,2,1,1,3,3,1,1,1,1,2,2,1,1,2,2,1,1,6,6,1,1,3,3,6,6,2,2,1,1,3,3,1,1,1,1,1,1,3,3,2,2,1,1,1,1,1,1,1,1,1,1,1,1,1,1,1,1,1,1,1,1,1,1],\"sizemode\":\"area\",\"sizeref\":0.06},\"mode\":\"markers\",\"name\":\"\\uc870\\uae08\\ube60\\ub984(path)\",\"showlegend\":true,\"subplot\":\"mapbox\",\"type\":\"scattermapbox\",\"line\":{\"width\":1},\"opacity\":0.8},{\"hovertemplate\":\"\\ud3c9\\uade0\\uc18d\\ub825=\\ub9e4\\uc6b0\\ube60\\ub984\\u003cbr\\u003epassenger_count=%{marker.size}\\u003cbr\\u003elatitude=%{lat}\\u003cbr\\u003elongitude=%{lon}\\u003cextra\\u003e\\u003c\\u002fextra\\u003e\",\"lat\":[40.71914291381836,40.73513412475586,40.73052978515625,40.746219635009766,40.768253326416016,40.77399826049805,40.79136657714844,40.78382110595703,40.743614196777344,40.72272872924805,40.74108123779297,40.73556137084961,40.78915786743164,40.77948760986328,40.82606887817384,40.7630729675293,40.76192474365234,40.76654052734375,40.75484848022461,40.72767639160156,40.80709838867188,40.80038070678711,40.784122467041016,40.77589797973633,40.77938079833984,40.76678466796875,40.78065872192384,40.76536560058594,40.76067352294922,40.762725830078125,40.75823974609375,40.75593185424805,40.75821304321289,40.796680450439446,40.643508911132805,40.70578384399414,40.737281799316406,40.6446418762207,40.74114227294922,40.68381118774414,40.75043869018555,40.63109970092773,40.756568908691406,40.740058898925774,40.755401611328125,40.705509185791016,40.645286560058594,40.75309753417969,40.80809020996094,40.76717758178711,40.64693832397461,40.70998001098633,40.768848419189446,40.744606018066406,40.72843170166016,40.73809051513672,40.76412582397461,40.783740997314446,40.70758056640625,40.752979278564446,40.767120361328125,40.77658081054688,40.75527572631836,40.76887130737305,40.64477157592773,40.832279205322266,40.773601531982415,40.66177749633789,40.64687347412109,40.78129196166992,40.64469146728516,40.70872116088867,40.738807678222656,40.74818420410156],\"legendgroup\":\"\\ub9e4\\uc6b0\\ube60\\ub984\",\"lon\":[-74.00506591796875,-74.00606536865233,-73.98052215576173,-73.99799346923827,-73.98240661621094,-73.95751190185547,-73.97394561767578,-73.97989654541014,-73.95078277587889,-74.00621795654298,-74.00586700439453,-73.99239349365233,-73.94364166259764,-73.95057678222656,-73.94337463378906,-73.98128509521484,-73.97914123535155,-73.99016571044923,-73.98343658447266,-74.00334930419923,-73.95350646972656,-73.96750640869139,-73.9544906616211,-73.96086883544923,-73.94471740722656,-73.95954132080078,-73.98385620117188,-73.9659652709961,-73.98724365234375,-73.92682647705078,-73.98924255371094,-73.91887664794923,-73.98886108398438,-73.96269226074217,-73.79021453857422,-74.00952911376953,-74.00069427490233,-73.77690124511719,-73.99011993408203,-73.9951629638672,-73.99453735351561,-74.02571868896483,-73.98641967773438,-73.99530029296875,-73.96813201904298,-74.00707244873048,-73.7766876220703,-73.99340057373048,-73.9640121459961,-73.99046325683594,-73.78984832763672,-74.005126953125,-73.86279296875,-73.97144317626953,-73.99981689453125,-74.05081176757811,-73.97107696533203,-73.95669555664062,-74.00406646728516,-73.97933197021484,-73.9688720703125,-73.96205139160156,-73.96514892578125,-73.95445251464845,-73.78182983398438,-73.94233703613281,-73.87093353271484,-73.82536315917967,-73.79014587402342,-73.9521942138672,-73.78196716308595,-73.9399185180664,-73.98301696777342,-73.97811889648438],\"marker\":{\"color\":\"#ab63fa\",\"size\":[1,1,1,1,2,2,1,1,1,1,1,1,1,1,1,1,1,1,1,1,1,1,1,1,1,1,1,1,1,1,1,1,1,1,1,1,1,1,1,1,1,1,6,6,1,1,2,2,6,6,1,1,1,1,1,1,5,5,1,1,1,1,1,1,1,1,2,2,1,1,2,2,1,1],\"sizemode\":\"area\",\"sizeref\":0.06},\"mode\":\"markers\",\"name\":\"\\ub9e4\\uc6b0\\ube60\\ub984(path)\",\"showlegend\":true,\"subplot\":\"mapbox\",\"type\":\"scattermapbox\",\"line\":{\"width\":1},\"opacity\":0.8}],                        {\"template\":{\"data\":{\"histogram2dcontour\":[{\"type\":\"histogram2dcontour\",\"colorbar\":{\"outlinewidth\":0,\"ticks\":\"\"},\"colorscale\":[[0.0,\"#0d0887\"],[0.1111111111111111,\"#46039f\"],[0.2222222222222222,\"#7201a8\"],[0.3333333333333333,\"#9c179e\"],[0.4444444444444444,\"#bd3786\"],[0.5555555555555556,\"#d8576b\"],[0.6666666666666666,\"#ed7953\"],[0.7777777777777778,\"#fb9f3a\"],[0.8888888888888888,\"#fdca26\"],[1.0,\"#f0f921\"]]}],\"choropleth\":[{\"type\":\"choropleth\",\"colorbar\":{\"outlinewidth\":0,\"ticks\":\"\"}}],\"histogram2d\":[{\"type\":\"histogram2d\",\"colorbar\":{\"outlinewidth\":0,\"ticks\":\"\"},\"colorscale\":[[0.0,\"#0d0887\"],[0.1111111111111111,\"#46039f\"],[0.2222222222222222,\"#7201a8\"],[0.3333333333333333,\"#9c179e\"],[0.4444444444444444,\"#bd3786\"],[0.5555555555555556,\"#d8576b\"],[0.6666666666666666,\"#ed7953\"],[0.7777777777777778,\"#fb9f3a\"],[0.8888888888888888,\"#fdca26\"],[1.0,\"#f0f921\"]]}],\"heatmap\":[{\"type\":\"heatmap\",\"colorbar\":{\"outlinewidth\":0,\"ticks\":\"\"},\"colorscale\":[[0.0,\"#0d0887\"],[0.1111111111111111,\"#46039f\"],[0.2222222222222222,\"#7201a8\"],[0.3333333333333333,\"#9c179e\"],[0.4444444444444444,\"#bd3786\"],[0.5555555555555556,\"#d8576b\"],[0.6666666666666666,\"#ed7953\"],[0.7777777777777778,\"#fb9f3a\"],[0.8888888888888888,\"#fdca26\"],[1.0,\"#f0f921\"]]}],\"heatmapgl\":[{\"type\":\"heatmapgl\",\"colorbar\":{\"outlinewidth\":0,\"ticks\":\"\"},\"colorscale\":[[0.0,\"#0d0887\"],[0.1111111111111111,\"#46039f\"],[0.2222222222222222,\"#7201a8\"],[0.3333333333333333,\"#9c179e\"],[0.4444444444444444,\"#bd3786\"],[0.5555555555555556,\"#d8576b\"],[0.6666666666666666,\"#ed7953\"],[0.7777777777777778,\"#fb9f3a\"],[0.8888888888888888,\"#fdca26\"],[1.0,\"#f0f921\"]]}],\"contourcarpet\":[{\"type\":\"contourcarpet\",\"colorbar\":{\"outlinewidth\":0,\"ticks\":\"\"}}],\"contour\":[{\"type\":\"contour\",\"colorbar\":{\"outlinewidth\":0,\"ticks\":\"\"},\"colorscale\":[[0.0,\"#0d0887\"],[0.1111111111111111,\"#46039f\"],[0.2222222222222222,\"#7201a8\"],[0.3333333333333333,\"#9c179e\"],[0.4444444444444444,\"#bd3786\"],[0.5555555555555556,\"#d8576b\"],[0.6666666666666666,\"#ed7953\"],[0.7777777777777778,\"#fb9f3a\"],[0.8888888888888888,\"#fdca26\"],[1.0,\"#f0f921\"]]}],\"surface\":[{\"type\":\"surface\",\"colorbar\":{\"outlinewidth\":0,\"ticks\":\"\"},\"colorscale\":[[0.0,\"#0d0887\"],[0.1111111111111111,\"#46039f\"],[0.2222222222222222,\"#7201a8\"],[0.3333333333333333,\"#9c179e\"],[0.4444444444444444,\"#bd3786\"],[0.5555555555555556,\"#d8576b\"],[0.6666666666666666,\"#ed7953\"],[0.7777777777777778,\"#fb9f3a\"],[0.8888888888888888,\"#fdca26\"],[1.0,\"#f0f921\"]]}],\"mesh3d\":[{\"type\":\"mesh3d\",\"colorbar\":{\"outlinewidth\":0,\"ticks\":\"\"}}],\"scatter\":[{\"fillpattern\":{\"fillmode\":\"overlay\",\"size\":10,\"solidity\":0.2},\"type\":\"scatter\"}],\"parcoords\":[{\"type\":\"parcoords\",\"line\":{\"colorbar\":{\"outlinewidth\":0,\"ticks\":\"\"}}}],\"scatterpolargl\":[{\"type\":\"scatterpolargl\",\"marker\":{\"colorbar\":{\"outlinewidth\":0,\"ticks\":\"\"}}}],\"bar\":[{\"error_x\":{\"color\":\"#2a3f5f\"},\"error_y\":{\"color\":\"#2a3f5f\"},\"marker\":{\"line\":{\"color\":\"white\",\"width\":0.5},\"pattern\":{\"fillmode\":\"overlay\",\"size\":10,\"solidity\":0.2}},\"type\":\"bar\"}],\"scattergeo\":[{\"type\":\"scattergeo\",\"marker\":{\"colorbar\":{\"outlinewidth\":0,\"ticks\":\"\"}}}],\"scatterpolar\":[{\"type\":\"scatterpolar\",\"marker\":{\"colorbar\":{\"outlinewidth\":0,\"ticks\":\"\"}}}],\"histogram\":[{\"marker\":{\"pattern\":{\"fillmode\":\"overlay\",\"size\":10,\"solidity\":0.2}},\"type\":\"histogram\"}],\"scattergl\":[{\"type\":\"scattergl\",\"marker\":{\"colorbar\":{\"outlinewidth\":0,\"ticks\":\"\"}}}],\"scatter3d\":[{\"type\":\"scatter3d\",\"line\":{\"colorbar\":{\"outlinewidth\":0,\"ticks\":\"\"}},\"marker\":{\"colorbar\":{\"outlinewidth\":0,\"ticks\":\"\"}}}],\"scattermapbox\":[{\"type\":\"scattermapbox\",\"marker\":{\"colorbar\":{\"outlinewidth\":0,\"ticks\":\"\"}}}],\"scatterternary\":[{\"type\":\"scatterternary\",\"marker\":{\"colorbar\":{\"outlinewidth\":0,\"ticks\":\"\"}}}],\"scattercarpet\":[{\"type\":\"scattercarpet\",\"marker\":{\"colorbar\":{\"outlinewidth\":0,\"ticks\":\"\"}}}],\"carpet\":[{\"aaxis\":{\"endlinecolor\":\"#2a3f5f\",\"gridcolor\":\"#C8D4E3\",\"linecolor\":\"#C8D4E3\",\"minorgridcolor\":\"#C8D4E3\",\"startlinecolor\":\"#2a3f5f\"},\"baxis\":{\"endlinecolor\":\"#2a3f5f\",\"gridcolor\":\"#C8D4E3\",\"linecolor\":\"#C8D4E3\",\"minorgridcolor\":\"#C8D4E3\",\"startlinecolor\":\"#2a3f5f\"},\"type\":\"carpet\"}],\"table\":[{\"cells\":{\"fill\":{\"color\":\"#EBF0F8\"},\"line\":{\"color\":\"white\"}},\"header\":{\"fill\":{\"color\":\"#C8D4E3\"},\"line\":{\"color\":\"white\"}},\"type\":\"table\"}],\"barpolar\":[{\"marker\":{\"line\":{\"color\":\"white\",\"width\":0.5},\"pattern\":{\"fillmode\":\"overlay\",\"size\":10,\"solidity\":0.2}},\"type\":\"barpolar\"}],\"pie\":[{\"automargin\":true,\"type\":\"pie\"}]},\"layout\":{\"autotypenumbers\":\"strict\",\"colorway\":[\"#636efa\",\"#EF553B\",\"#00cc96\",\"#ab63fa\",\"#FFA15A\",\"#19d3f3\",\"#FF6692\",\"#B6E880\",\"#FF97FF\",\"#FECB52\"],\"font\":{\"color\":\"#2a3f5f\"},\"hovermode\":\"closest\",\"hoverlabel\":{\"align\":\"left\"},\"paper_bgcolor\":\"white\",\"plot_bgcolor\":\"white\",\"polar\":{\"bgcolor\":\"white\",\"angularaxis\":{\"gridcolor\":\"#EBF0F8\",\"linecolor\":\"#EBF0F8\",\"ticks\":\"\"},\"radialaxis\":{\"gridcolor\":\"#EBF0F8\",\"linecolor\":\"#EBF0F8\",\"ticks\":\"\"}},\"ternary\":{\"bgcolor\":\"white\",\"aaxis\":{\"gridcolor\":\"#DFE8F3\",\"linecolor\":\"#A2B1C6\",\"ticks\":\"\"},\"baxis\":{\"gridcolor\":\"#DFE8F3\",\"linecolor\":\"#A2B1C6\",\"ticks\":\"\"},\"caxis\":{\"gridcolor\":\"#DFE8F3\",\"linecolor\":\"#A2B1C6\",\"ticks\":\"\"}},\"coloraxis\":{\"colorbar\":{\"outlinewidth\":0,\"ticks\":\"\"}},\"colorscale\":{\"sequential\":[[0.0,\"#0d0887\"],[0.1111111111111111,\"#46039f\"],[0.2222222222222222,\"#7201a8\"],[0.3333333333333333,\"#9c179e\"],[0.4444444444444444,\"#bd3786\"],[0.5555555555555556,\"#d8576b\"],[0.6666666666666666,\"#ed7953\"],[0.7777777777777778,\"#fb9f3a\"],[0.8888888888888888,\"#fdca26\"],[1.0,\"#f0f921\"]],\"sequentialminus\":[[0.0,\"#0d0887\"],[0.1111111111111111,\"#46039f\"],[0.2222222222222222,\"#7201a8\"],[0.3333333333333333,\"#9c179e\"],[0.4444444444444444,\"#bd3786\"],[0.5555555555555556,\"#d8576b\"],[0.6666666666666666,\"#ed7953\"],[0.7777777777777778,\"#fb9f3a\"],[0.8888888888888888,\"#fdca26\"],[1.0,\"#f0f921\"]],\"diverging\":[[0,\"#8e0152\"],[0.1,\"#c51b7d\"],[0.2,\"#de77ae\"],[0.3,\"#f1b6da\"],[0.4,\"#fde0ef\"],[0.5,\"#f7f7f7\"],[0.6,\"#e6f5d0\"],[0.7,\"#b8e186\"],[0.8,\"#7fbc41\"],[0.9,\"#4d9221\"],[1,\"#276419\"]]},\"xaxis\":{\"gridcolor\":\"#EBF0F8\",\"linecolor\":\"#EBF0F8\",\"ticks\":\"\",\"title\":{\"standoff\":15},\"zerolinecolor\":\"#EBF0F8\",\"automargin\":true,\"zerolinewidth\":2},\"yaxis\":{\"gridcolor\":\"#EBF0F8\",\"linecolor\":\"#EBF0F8\",\"ticks\":\"\",\"title\":{\"standoff\":15},\"zerolinecolor\":\"#EBF0F8\",\"automargin\":true,\"zerolinewidth\":2},\"scene\":{\"xaxis\":{\"backgroundcolor\":\"white\",\"gridcolor\":\"#DFE8F3\",\"linecolor\":\"#EBF0F8\",\"showbackground\":true,\"ticks\":\"\",\"zerolinecolor\":\"#EBF0F8\",\"gridwidth\":2},\"yaxis\":{\"backgroundcolor\":\"white\",\"gridcolor\":\"#DFE8F3\",\"linecolor\":\"#EBF0F8\",\"showbackground\":true,\"ticks\":\"\",\"zerolinecolor\":\"#EBF0F8\",\"gridwidth\":2},\"zaxis\":{\"backgroundcolor\":\"white\",\"gridcolor\":\"#DFE8F3\",\"linecolor\":\"#EBF0F8\",\"showbackground\":true,\"ticks\":\"\",\"zerolinecolor\":\"#EBF0F8\",\"gridwidth\":2}},\"shapedefaults\":{\"line\":{\"color\":\"#2a3f5f\"}},\"annotationdefaults\":{\"arrowcolor\":\"#2a3f5f\",\"arrowhead\":0,\"arrowwidth\":1},\"geo\":{\"bgcolor\":\"white\",\"landcolor\":\"white\",\"subunitcolor\":\"#C8D4E3\",\"showland\":true,\"showlakes\":true,\"lakecolor\":\"white\"},\"title\":{\"x\":0.05},\"mapbox\":{\"style\":\"light\"}}},\"mapbox\":{\"domain\":{\"x\":[0.0,1.0],\"y\":[0.0,1.0]},\"center\":{\"lat\":40.752367045781384,\"lon\":-73.97151947021484},\"zoom\":11,\"style\":\"carto-positron\"},\"legend\":{\"title\":{\"text\":\"\\ud3c9\\uade0\\uc18d\\ub825\"},\"tracegroupgap\":0},\"margin\":{\"t\":60}},                        {\"responsive\": true}                    ).then(function(){\n",
       "                            \n",
       "var gd = document.getElementById('e8a781ee-6589-4837-ab97-5ffaa3f084ea');\n",
       "var x = new MutationObserver(function (mutations, observer) {{\n",
       "        var display = window.getComputedStyle(gd).display;\n",
       "        if (!display || display === 'none') {{\n",
       "            console.log([gd, 'removed!']);\n",
       "            Plotly.purge(gd);\n",
       "            observer.disconnect();\n",
       "        }}\n",
       "}});\n",
       "\n",
       "// Listen for the removal of the full notebook cells\n",
       "var notebookContainer = gd.closest('#notebook-container');\n",
       "if (notebookContainer) {{\n",
       "    x.observe(notebookContainer, {childList: true});\n",
       "}}\n",
       "\n",
       "// Listen for the clearing of the current output cell\n",
       "var outputEl = gd.closest('.output');\n",
       "if (outputEl) {{\n",
       "    x.observe(outputEl, {childList: true});\n",
       "}}\n",
       "\n",
       "                        })                };                });            </script>        </div>"
      ]
     },
     "metadata": {},
     "output_type": "display_data"
    }
   ],
   "source": [
    "\n",
    "# 평균속력을 4개의 범주로 나누고 데이터를 속도 순으로 정렬\n",
    "smalldf = df_small.assign(\n",
    "    평균속력=pd.qcut(df_small.speed, 4, labels=['매우느림', '조금느림', '조금빠름', '매우빠름'])\n",
    ").sort_values('speed', ascending=True)\n",
    "\n",
    "# 픽업과 드롭오프 관련 열\n",
    "pcol = ['pickup_datetime', 'pickup_longitude', 'pickup_latitude', 'pickup_hour']\n",
    "dcol = ['dropoff_datetime', 'dropoff_longitude', 'dropoff_latitude', 'dropoff_hour']\n",
    "\n",
    "# 데이터 변환 함수\n",
    "def transform(smalldf):\n",
    "    pickup = smalldf.loc[:, ['id'] + pcol].set_axis(['id', 'datetime', 'longitude', 'latitude', 'hour'], axis=1).assign(type='pickup')\n",
    "    dropoff = smalldf.loc[:, ['id'] + dcol].set_axis(['id', 'datetime', 'longitude', 'latitude', 'hour'], axis=1).assign(type='dropoff')\n",
    "    return pd.concat([pickup, dropoff], axis=0)\n",
    "\n",
    "# 데이터 변환과 병합\n",
    "df_left = smalldf.drop(pcol + dcol, axis=1)\n",
    "df_right = pd.concat([transform(df) for i, df in smalldf.groupby('id')]).reset_index(drop=True)\n",
    "smalldf2 = df_left.merge(df_right, on='id')\n",
    "\n",
    "# 시각화 데이터 준비\n",
    "tidydata = smalldf2\n",
    "\n",
    "# 선형 지도 시각화\n",
    "fig3 = px.line_mapbox(\n",
    "    data_frame=tidydata,\n",
    "    lat='latitude',\n",
    "    lon='longitude',\n",
    "    color='평균속력',\n",
    "    line_group='id',\n",
    "    mapbox_style='carto-positron',\n",
    "    zoom=11\n",
    ")\n",
    "\n",
    "# 범례 이름 변경\n",
    "fig3.for_each_trace(lambda t: t.update(name=t.name.replace('매우빠름', '매우빠름 (pickup/dropoff)')))\n",
    "fig3.for_each_trace(lambda t: t.update(name=t.name.replace('조금빠름', '조금빠름 (pickup/dropoff)')))\n",
    "fig3.for_each_trace(lambda t: t.update(name=t.name.replace('조금느림', '조금느림 (pickup/dropoff)')))\n",
    "fig3.for_each_trace(lambda t: t.update(name=t.name.replace('매우느림', '매우느림 (pickup/dropoff)')))\n",
    "\n",
    "# 산점도 데이터\n",
    "scatter_data = px.scatter_mapbox(\n",
    "    data_frame=tidydata,\n",
    "    lat='latitude',\n",
    "    lon='longitude',\n",
    "    color='평균속력',\n",
    "    size='passenger_count',\n",
    "    size_max=10,\n",
    "    mapbox_style='carto-positron',\n",
    "    zoom=11\n",
    ").for_each_trace(lambda t: t.update(name=t.name.replace('매우빠름', '매우빠름(path)')))\\\n",
    ".for_each_trace(lambda t: t.update(name=t.name.replace('조금빠름', '조금빠름(path)')))\\\n",
    ".for_each_trace(lambda t: t.update(name=t.name.replace('조금느림', '조금느림(path)')))\\\n",
    ".for_each_trace(lambda t: t.update(name=t.name.replace('매우느림', '매우느림(path)'))).data\n",
    "\n",
    "# 산점도 데이터를 선형 지도 시각화에 추가\n",
    "for sd in scatter_data:\n",
    "    fig3.add_trace(sd)\n",
    "\n",
    "# 트레이스 속성 업데이트\n",
    "fig3.update_traces(\n",
    "    line={'width': 1},\n",
    "    opacity=0.8,\n",
    ")\n",
    "\n",
    "# 시각화 표시\n",
    "fig3.show()\n",
    "\n"
   ]
  },
  {
   "cell_type": "code",
   "execution_count": null,
   "id": "835b4bc9-21b7-4176-aa00-4c36a97c23b1",
   "metadata": {},
   "outputs": [],
   "source": []
  },
  {
   "cell_type": "code",
   "execution_count": null,
   "id": "0d955831-9cff-47e3-b63d-0ad98ea01740",
   "metadata": {},
   "outputs": [],
   "source": []
  },
  {
   "cell_type": "code",
   "execution_count": null,
   "id": "c4812fe9-a1ca-4c6f-bab7-a64f83f9d4d0",
   "metadata": {},
   "outputs": [],
   "source": []
  },
  {
   "cell_type": "code",
   "execution_count": null,
   "id": "0c6270fa-5135-479a-baca-a7c8ff0af98d",
   "metadata": {},
   "outputs": [],
   "source": []
  },
  {
   "cell_type": "code",
   "execution_count": null,
   "id": "f72e853a-4cf9-4c41-9ea5-335966ed7b32",
   "metadata": {},
   "outputs": [],
   "source": []
  }
 ],
 "metadata": {
  "kernelspec": {
   "display_name": "Python 3 (ipykernel)",
   "language": "python",
   "name": "python3"
  },
  "language_info": {
   "codemirror_mode": {
    "name": "ipython",
    "version": 3
   },
   "file_extension": ".py",
   "mimetype": "text/x-python",
   "name": "python",
   "nbconvert_exporter": "python",
   "pygments_lexer": "ipython3",
   "version": "3.10.13"
  }
 },
 "nbformat": 4,
 "nbformat_minor": 5
}
